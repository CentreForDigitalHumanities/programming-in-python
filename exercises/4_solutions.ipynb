{
  "nbformat": 4,
  "nbformat_minor": 0,
  "metadata": {
    "colab": {
      "name": "Exercise4-answer.ipynb",
      "provenance": [],
      "collapsed_sections": []
    },
    "kernelspec": {
      "name": "python3",
      "display_name": "Python 3"
    },
    "language_info": {
      "name": "python"
    }
  },
  "cells": [
    {
      "cell_type": "markdown",
      "metadata": {
        "id": "bVfoqS2eXjOV"
      },
      "source": [
        "# Exercise 4\n",
        "\n",
        "This is the fourth hands-on exercise of the 2021 CDH entry level Python course at Utrecht University.\n",
        "\n",
        "The following program takes in a binary string of ones and zeros. It returns `True` if all bits are ones and `False` otherwise. However, there is a bug in the program. In the example below, the program returns `True` while there is clearly a zero in the string.\n",
        "\n",
        "1. Insert a breakpoint and step through the program to find out what is going wrong. Step multiple times through the program if necessary and do not stop until you fully understand what is going on.\n",
        "2. Try to think of at least two ways in which you might solve the problem. Which is the safest way to be *very* sure that the problem will *never* happen again?\n",
        "\n",
        "If you have written a program with a bug during exercise 2 or 3, you may choose to use that program for this exercise instead."
      ]
    },
    {
      "cell_type": "code",
      "metadata": {
        "id": "3N0mSvSyXWe4"
      },
      "source": [
        "def only_ones(binary_string):\n",
        "    import pdb; pdb.set_trace()\n",
        "    for bit in binary_string:\n",
        "        if bit is '0':\n",
        "            return False\n",
        "    return True\n",
        "\n",
        "only_ones('1O1')"
      ],
      "execution_count": null,
      "outputs": []
    },
    {
      "cell_type": "markdown",
      "metadata": {
        "id": "M0OZwOYEb2S1"
      },
      "source": [
        "## Answer\n",
        "\n",
        "The problem is that the string contains the capital letter `'O'` instead of the digit `'0'`. Stepping with the debugger, you would eventually be at the line\n",
        "\n",
        "```python\n",
        "        if bit is '0':\n",
        "```\n",
        "\n",
        "and running the command `p bit`, you would find that it prints `'O'`. At this point, you *might* notice that `bit` looks slightly different from the character in the condition.\n",
        "\n",
        "Otherwise, after going over this line a couple of times and starting to doubt yourself, you might try `p bit is '0'` and you would find that it prints `False`. At this point, you would certainly conclude that the string does not contain a zero, but something that looks similar to a zero.\n",
        "\n",
        "A solution that might quickly come to mind, is to fix the string. After all, a binary string of ones and zeros is not supposed to contain a capital letter `'O'`. This is indeed a mistake that needs to be fixed.\n",
        "\n",
        "However, this is not a complete solution. Next time somebody calls `only_ones`, they might again mistakenly include a character other than `'1'` or `'0'`, and the function would give the wrong answer again. This can be prevented by changing the condition:\n",
        "\n",
        "```python\n",
        "        if bit is not '1':\n",
        "```\n",
        "\n",
        "Now, if the string contains *anything* other than a `'1'`, whether it's a `'0'` or something else, it will always returns `False`, as it should."
      ]
    }
  ]
}