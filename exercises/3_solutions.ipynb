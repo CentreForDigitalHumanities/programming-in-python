{
  "nbformat": 4,
  "nbformat_minor": 0,
  "metadata": {
    "colab": {
      "name": "Exercise3-answer.ipynb",
      "provenance": [],
      "collapsed_sections": []
    },
    "kernelspec": {
      "name": "python3",
      "display_name": "Python 3"
    },
    "language_info": {
      "name": "python"
    }
  },
  "cells": [
    {
      "cell_type": "markdown",
      "metadata": {
        "id": "Fj68DvsUltDP"
      },
      "source": [
        "# Exercise 3\n",
        "\n",
        "This is the third hands-on exercise of the 2021 CDH entry level Python course at Utrecht University.\n",
        "\n",
        "For this exercise, you may choose whether you use your own code from exercise 2, or the code below. The exercise consists of two parts:\n",
        "\n",
        "1. Refactor the code into functions, so that the logic is reusable and non-repetitive and the purpose of each line of code is clear.\n",
        "2. Identify any hard-coded parameters and replace them by constants that you define at the top.\n",
        "\n",
        "Good luck!"
      ]
    },
    {
      "cell_type": "code",
      "metadata": {
        "colab": {
          "base_uri": "https://localhost:8080/"
        },
        "id": "--nCEHqYlmKw",
        "outputId": "e1294fd0-7353-4205-e887-f21e6a82719b"
      },
      "source": [
        "name = 'Python' # could be your own name\n",
        "print('We have a: ' + name[0])\n",
        "print('We have a: ' + name[1])\n",
        "print('We have a: ' + name[2])\n",
        "print('We have a: ' + name[3])\n",
        "print('We have a: ' + name[4])\n",
        "print('We have a: ' + name[5])\n",
        "print('Go go ' + name.upper() + '!!!')"
      ],
      "execution_count": null,
      "outputs": [
        {
          "output_type": "stream",
          "name": "stdout",
          "text": [
            "We have a: P\n",
            "We have a: y\n",
            "We have a: t\n",
            "We have a: h\n",
            "We have a: o\n",
            "We have a: n\n",
            "Go go PYTHON!!!\n"
          ]
        }
      ]
    },
    {
      "cell_type": "code",
      "metadata": {
        "colab": {
          "base_uri": "https://localhost:8080/"
        },
        "id": "sc8aY_ZrT-Gh",
        "outputId": "4b53cf51-4124-495a-e498-2bdb97079f4e"
      },
      "source": [
        "ANNOUNCE_START = 'We have a: '\n",
        "YELL_START = 'Go go '\n",
        "YELL_END = '!!!'\n",
        "\n",
        "def announce(letter):\n",
        "    return ANNOUNCE_START + letter\n",
        "\n",
        "def yell(name):\n",
        "    return YELL_START + name + YELL_END\n",
        "\n",
        "def cheerlead(name):\n",
        "    lines = []\n",
        "    for letter in name:\n",
        "        lines.append(announce(letter))\n",
        "    lines.append(yell(name))\n",
        "    return '\\n'.join(lines)\n",
        "\n",
        "print(cheerlead('Python'))"
      ],
      "execution_count": null,
      "outputs": [
        {
          "output_type": "stream",
          "name": "stdout",
          "text": [
            "We have a: P\n",
            "We have a: y\n",
            "We have a: t\n",
            "We have a: h\n",
            "We have a: o\n",
            "We have a: n\n",
            "Go go Python!!!\n"
          ]
        }
      ]
    }
  ]
}