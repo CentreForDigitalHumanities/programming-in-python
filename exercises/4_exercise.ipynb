{
  "nbformat": 4,
  "nbformat_minor": 0,
  "metadata": {
    "colab": {
      "name": "Exercise4.ipynb",
      "provenance": []
    },
    "kernelspec": {
      "name": "python3",
      "display_name": "Python 3"
    },
    "language_info": {
      "name": "python"
    }
  },
  "cells": [
    {
      "cell_type": "markdown",
      "metadata": {
        "id": "bVfoqS2eXjOV"
      },
      "source": [
        "# Exercise 4\n",
        "\n",
        "This is the fourth hands-on exercise of the 2021 CDH entry level Python course at Utrecht University.\n",
        "\n",
        "The following program takes in a binary string of ones and zeros. It returns `True` if all bits are ones and `False` otherwise. However, there is a bug in the program. In the example below, the program returns `True` while there is clearly a zero in the string.\n",
        "\n",
        "1. Insert a breakpoint and step through the program to find out what is going wrong. Step multiple times through the program if necessary and do not stop until you fully understand what is going on.\n",
        "2. Try to think of at least two ways in which you might solve the problem. Which is the safest way to be *very* sure that the problem will *never* happen again?\n",
        "\n",
        "If you have written a program with a bug during exercise 2 or 3, you may choose to use that program for this exercise instead."
      ]
    },
    {
      "cell_type": "code",
      "metadata": {
        "id": "3N0mSvSyXWe4",
        "colab": {
          "base_uri": "https://localhost:8080/"
        },
        "outputId": "f0c90396-c2e0-45ed-d502-73b8e59f16e4"
      },
      "source": [
        "def only_ones(binary_string):\n",
        "    for bit in binary_string:\n",
        "        if bit is '0':\n",
        "            return False\n",
        "    return True\n",
        "\n",
        "only_ones('1O1')"
      ],
      "execution_count": null,
      "outputs": [
        {
          "output_type": "execute_result",
          "data": {
            "text/plain": [
              "True"
            ]
          },
          "metadata": {},
          "execution_count": 1
        }
      ]
    }
  ]
}