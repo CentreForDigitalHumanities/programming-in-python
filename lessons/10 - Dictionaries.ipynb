{
 "cells": [
  {
   "cell_type": "markdown",
   "metadata": {
    "id": "kjdcNtg3k8Aa"
   },
   "source": [
    "# Dictionaries\n",
    "\n",
    "### CDH course \"Programming in Python\"\n",
    "\n",
    "[index](https://colab.research.google.com/drive/1kFvnhumJ0tOTzDVJnIvvMDRRJ19yk9ZS)\n",
    "\n",
    "Previous module: [9. String manipulation](https://colab.research.google.com/drive/19yTpFfp9uhBb-kAuOmSQY8_LrMtj8Goq#scrollTo=y5FcFvgypMfE)\n",
    "\n",
    "### This module\n",
    "\n",
    "- Learn about _dictionaries_, a useful way of storing and looking up data"
   ]
  },
  {
   "cell_type": "markdown",
   "metadata": {
    "id": "CtgPyDQ6lkT4"
   },
   "source": [
    "## What are dictionaries?\n",
    "\n",
    "We have already seen one type of data structure, the _list_. Lists store values in a specific _order_, and we can retrieve values by their position in the list."
   ]
  },
  {
   "cell_type": "code",
   "execution_count": null,
   "metadata": {
    "id": "OKs8GP5zk9bM"
   },
   "outputs": [],
   "source": [
    "fruits = ['apple', 'banana', 'orange']\n",
    "\n",
    "assert fruits is not ['banana', 'apple', 'orange'] # order matters!\n",
    "\n",
    "print(fruits[1])"
   ]
  },
  {
   "cell_type": "markdown",
   "metadata": {
    "id": "OOyTxS6_mv2o"
   },
   "source": [
    "What if we want to store some extra information about each type of fruit? That is where dictionaries come in handy. Here I save the colour of each fruit."
   ]
  },
  {
   "cell_type": "code",
   "execution_count": null,
   "metadata": {
    "id": "d0SFY-fil7-l"
   },
   "outputs": [],
   "source": [
    "fruit_colors = {'apple': 'red', 'banana': 'yellow', 'orange': 'orange'}"
   ]
  },
  {
   "cell_type": "markdown",
   "metadata": {
    "id": "RiNPElB7nj2F"
   },
   "source": [
    "Some vocabulary: `'apple'`, `'banana'` and `'orange'` are _keys_ of the dictionary, while `'red'`, `'yellow'` and `'orange'` are _values_. Keys and values come in pairs: `'red'` is the value for the key `'apple'`. We'll see what we can do with this in a bit.\n",
    "\n",
    "Dictionaries need not contain strings. The values of a dictionary can be anything you want. The keys are a bit more restricted: strings, numbers, and tuples are fine, but complex data structures like lists and other dictionaries are not."
   ]
  },
  {
   "cell_type": "code",
   "execution_count": null,
   "metadata": {
    "id": "ao56gCSxnhkS"
   },
   "outputs": [],
   "source": [
    "students_by_year = {2021: ['Julian', 'Jelte'], 2022: ['Julian', 'Jelte', 'Berit']}\n",
    "\n",
    "years_per_student = {'Jelte': [2021, 2022], 'Julian': [2021, 2022], 'Berit': 2022}\n",
    "\n",
    "# long dictionaries can be written on multiple lines, to keep it readable\n",
    "dictionaries_by_topic = {\n",
    "    'fruit': fruit_colors,\n",
    "    'python course': [students_by_year, years_per_student]\n",
    "}"
   ]
  },
  {
   "cell_type": "code",
   "execution_count": null,
   "metadata": {
    "id": "JgfCNNoHn3uR"
   },
   "outputs": [],
   "source": [
    "# this will be rejected\n",
    "shared_interests = {['Julian', 'Jelte']: ['cats', 'programming'],\n",
    "                    ['Jelte', 'Berit']: 'music'}"
   ]
  },
  {
   "cell_type": "markdown",
   "metadata": {
    "id": "1tYs_3xBqx2e"
   },
   "source": [
    "The keys of a dictionary should be **unique**. If you try to write something with a key that already exists, it will overwrite the old value."
   ]
  },
  {
   "cell_type": "code",
   "execution_count": null,
   "metadata": {
    "id": "TykfEB8iq4MQ"
   },
   "outputs": [],
   "source": [
    "unambiguous_colors = {'apple': 'red', 'banana': 'yellow', 'orange': 'orange'}\n",
    "ambiguous_colors = {'apple': 'green', 'apple': 'red', 'banana': 'yellow', 'orange': 'orange'}\n",
    "assert ambiguous_colors == unambiguous_colors\n",
    "\n",
    "print(ambiguous_colors)"
   ]
  },
  {
   "cell_type": "markdown",
   "metadata": {
    "id": "_3J4oaBAsTGa"
   },
   "source": [
    "Order does not matter for dictionaries!"
   ]
  },
  {
   "cell_type": "code",
   "execution_count": null,
   "metadata": {
    "id": "pK0eYwsasBJ9"
   },
   "outputs": [],
   "source": [
    "fruit_colors = {'apple': 'red', 'banana': 'yellow', 'orange': 'orange'}\n",
    "fruit_colors_2 = {'banana': 'yellow',  'apple': 'red', 'orange': 'orange'}\n",
    "\n",
    "assert fruit_colors == fruit_colors_2"
   ]
  },
  {
   "cell_type": "markdown",
   "metadata": {
    "id": "L56hdp03r9Q6"
   },
   "source": [
    "You can make emtpy dictionaries too."
   ]
  },
  {
   "cell_type": "code",
   "execution_count": null,
   "metadata": {
    "id": "da-Re3sPsyYS"
   },
   "outputs": [],
   "source": [
    "empty = {} # a dictionary with no keys / values\n",
    "\n",
    "new_dict = dict() # constructor function"
   ]
  },
  {
   "cell_type": "markdown",
   "metadata": {
    "id": "nksJpi6mqgXY"
   },
   "source": [
    "### Accessing\n",
    "\n",
    "With lists and tuples, we access elements with the index number. In dictionaries we access them by the key."
   ]
  },
  {
   "cell_type": "code",
   "execution_count": null,
   "metadata": {
    "id": "SzxfzTANsjGN"
   },
   "outputs": [],
   "source": [
    "fruit_colors = {'apple': 'red', 'banana': 'yellow', 'orange': 'orange'}\n",
    "students_by_year = {2021: ['Julian', 'Jelte'], 2022: ['Julian', 'Jelte', 'Berit']}\n",
    "\n",
    "print(fruit_colors['apple'])\n",
    "print(students_by_year[2021])"
   ]
  },
  {
   "cell_type": "markdown",
   "metadata": {
    "id": "yL7NrEzwtm_r"
   },
   "source": [
    "### Assiging / reassigning\n",
    "\n",
    "You can also assign or reassign values by the key. If the key is _not_ in the dictionary yet, it creates the key-value pair."
   ]
  },
  {
   "cell_type": "code",
   "execution_count": null,
   "metadata": {
    "id": "HEOgD62xtPQj"
   },
   "outputs": [],
   "source": [
    "fruit_colors = {'apple': 'red', 'banana': 'yellow', 'orange': 'orange'}\n",
    "fruit_colors['apple'] = 'red or green'\n",
    "print(fruit_colors)\n",
    "\n",
    "fruit_colors['kiwi'] = 'green'\n",
    "print(fruit_colors)\n",
    "\n",
    "# be aware that misspelling a key creates a new entry\n",
    "fruit_colors['bnaana'] = 'yellwo'\n",
    "print(fruit_colors)"
   ]
  },
  {
   "cell_type": "markdown",
   "metadata": {
    "id": "zeJU8wt9uY2V"
   },
   "source": [
    "### Updating\n",
    "Dictionaries can be *updated* with another dictionary. This is a way to quickly add multiple key-value pairs:\n",
    "\n",
    "- `dictionary.update(other_dictionary)`\n",
    "- this happens *in-place*, the function doesn't return anything"
   ]
  },
  {
   "cell_type": "code",
   "execution_count": null,
   "metadata": {
    "id": "pyxjqy31uWEs"
   },
   "outputs": [],
   "source": [
    "students_by_year = {2021: ['Julian', 'Jelte'], 2022: ['Julian', 'Jelte', 'Berit']}\n",
    "more_students = {2023: ['Sheean', 'Mees', 'Luka'], 2024: ['Hopefully a lot']}\n",
    "\n",
    "print(students_by_year.update(more_students))\n",
    "print(students_by_year)"
   ]
  },
  {
   "cell_type": "markdown",
   "metadata": {
    "id": "FvGfwcVjuwIY"
   },
   "source": [
    "### Deleting\n",
    "To delete a key-value pair: `del dictionary[key]`"
   ]
  },
  {
   "cell_type": "code",
   "execution_count": null,
   "metadata": {
    "id": "72V_U4tUupnw"
   },
   "outputs": [],
   "source": [
    "fruit_colors = {'apple': 'red', 'banana': 'yellow', 'orange': 'orange'}\n",
    "del fruit_colors['orange']\n",
    "print(fruit_colors)"
   ]
  },
  {
   "cell_type": "markdown",
   "metadata": {
    "id": "-kH7Vw3WvgFj"
   },
   "source": [
    "### Iterables\n",
    "Dictionaries have a few useful functions:\n",
    "- `dictionary.keys()` returns a list of all keys\n",
    "- `dictionary.values()` returns a list of all values\n",
    "- `dictionary.items()` returns a list of tuples: `(key, value)`"
   ]
  },
  {
   "cell_type": "code",
   "execution_count": null,
   "metadata": {
    "id": "sNwzKYOAvk-d"
   },
   "outputs": [],
   "source": [
    "fruit_colors = {'apple': 'red', 'banana': 'yellow', 'orange': 'orange'}\n",
    "\n",
    "# which types of fruit do we have information about?\n",
    "print(fruit_colors.keys())\n",
    "\n",
    "# which colors do we have?\n",
    "print(fruit_colors.values())\n",
    "\n",
    "# what's in the dictionary?\n",
    "print(fruit_colors.items())"
   ]
  },
  {
   "cell_type": "markdown",
   "metadata": {
    "id": "3oBW4bxgv5JV"
   },
   "source": [
    "### Checking contents\n",
    "We can use the iterables above to check the contents of a dictionary."
   ]
  },
  {
   "cell_type": "code",
   "execution_count": null,
   "metadata": {
    "id": "ESzsmJCXv7pl"
   },
   "outputs": [],
   "source": [
    "fruit_colors = {'apple': 'red', 'banana': 'yellow', 'orange': 'orange'}\n",
    "\n",
    "print('banana' in fruit_colors.keys())\n",
    "print('yellow' in fruit_colors.values())\n",
    "\n",
    "# shortcut for checking key:\n",
    "print('banana' in fruit_colors)\n",
    "\n",
    "# check an entire key-value pair:\n",
    "print(('banana', 'yellow') in fruit_colors.items())"
   ]
  },
  {
   "cell_type": "markdown",
   "metadata": {
    "id": "x2nJsta6wRGQ"
   },
   "source": [
    "### Alternative ways to access elements\n",
    "- `dictionary.get(key)` returns value at key\n",
    "    - returns `None` if they key does not exist\n",
    "    - optional parameter: default return value\n",
    "- `dictionary.pop(key)` returns value of key, and deletes key.\n",
    "    - raises an error if the key does not exist\n",
    "    - optional parameter: default return value"
   ]
  },
  {
   "cell_type": "code",
   "execution_count": null,
   "metadata": {
    "id": "11lfiYMiwTct"
   },
   "outputs": [],
   "source": [
    "fruit_colors = {'apple': 'red', 'banana': 'yellow', 'orange': 'orange'}\n",
    "\n",
    "print(fruit_colors.get('banana'))\n",
    "print(fruit_colors.get('bnaana'))\n",
    "print(fruit_colors.get('bnaana', 'yellow?'))\n",
    "\n",
    "print(fruit_colors.pop('banana'))\n",
    "print(fruit_colors)\n",
    "print(fruit_colors.pop('banana', 'wait, what was banana again?'))"
   ]
  },
  {
   "cell_type": "markdown",
   "metadata": {
    "id": "1ezL-XhlvHBq"
   },
   "source": [
    "## Exercise 10.1: Dictionaries"
   ]
  },
  {
   "cell_type": "markdown",
   "metadata": {
    "id": "xrw8tjm9WqEb"
   },
   "source": [
    "1. In each of the code blocks below, try to predict what will be printed, then run the code. If your guess was incorrect, try to figure out why the result is different. If your guess was correct, celebrate!"
   ]
  },
  {
   "cell_type": "code",
   "execution_count": null,
   "metadata": {
    "id": "JpVUxXa8W-yN"
   },
   "outputs": [],
   "source": [
    "{0: 0}"
   ]
  },
  {
   "cell_type": "code",
   "execution_count": null,
   "metadata": {
    "id": "62bKQZhpXQOA"
   },
   "outputs": [],
   "source": [
    "{'0': 0}"
   ]
  },
  {
   "cell_type": "code",
   "execution_count": null,
   "metadata": {
    "id": "FW2sYBJdXXWl"
   },
   "outputs": [],
   "source": [
    "{1 + 2: 3 * 4}"
   ]
  },
  {
   "cell_type": "code",
   "execution_count": null,
   "metadata": {
    "id": "KFOPs4O7Xf9a"
   },
   "outputs": [],
   "source": [
    "{'1' + '2': {3: 'Hooray!'}}"
   ]
  },
  {
   "cell_type": "code",
   "execution_count": null,
   "metadata": {
    "id": "PkuZzIm1XngU"
   },
   "outputs": [],
   "source": [
    "programming_languages = {\n",
    "    'Fortran': 1957,\n",
    "    'Algol 60': 1960,\n",
    "    'C': 1972,\n",
    "    'Perl': 1987,\n",
    "    'Python': 1991,\n",
    "    'Julia': 2012,\n",
    "    'Mojo': 2023,\n",
    "}"
   ]
  },
  {
   "cell_type": "code",
   "execution_count": null,
   "metadata": {
    "id": "j20ZYa6bbSpq"
   },
   "outputs": [],
   "source": [
    "programming_languages[Perl]"
   ]
  },
  {
   "cell_type": "code",
   "execution_count": null,
   "metadata": {
    "id": "sZC-YucJaXCa"
   },
   "outputs": [],
   "source": [
    "programming_languages[1960]"
   ]
  },
  {
   "cell_type": "code",
   "execution_count": null,
   "metadata": {
    "id": "jlTtefX6aKii"
   },
   "outputs": [],
   "source": [
    "programming_languages['Perl']"
   ]
  },
  {
   "cell_type": "code",
   "execution_count": null,
   "metadata": {
    "id": "Y-7am56bacgD"
   },
   "outputs": [],
   "source": [
    "{None: None}[None]"
   ]
  },
  {
   "cell_type": "code",
   "execution_count": null,
   "metadata": {
    "id": "SFgsCOnpapTp"
   },
   "outputs": [],
   "source": [
    "programming_languages.get('Per1', 2125)"
   ]
  },
  {
   "cell_type": "code",
   "execution_count": null,
   "metadata": {
    "id": "bx0WNXq2a7K1"
   },
   "outputs": [],
   "source": [
    "programming_languages.get('Per1')"
   ]
  },
  {
   "cell_type": "code",
   "execution_count": null,
   "metadata": {
    "id": "9dqApt0ObCuz"
   },
   "outputs": [],
   "source": [
    "programming_languages.get('Python', None)"
   ]
  },
  {
   "cell_type": "code",
   "execution_count": null,
   "metadata": {
    "id": "msMNmeGWbKRS"
   },
   "outputs": [],
   "source": [
    "programming_languages.get('Python')"
   ]
  },
  {
   "cell_type": "code",
   "execution_count": null,
   "metadata": {
    "id": "_tzsbkN5bbi0"
   },
   "outputs": [],
   "source": [
    "'Per1' in programming_languages"
   ]
  },
  {
   "cell_type": "code",
   "execution_count": null,
   "metadata": {
    "id": "6JEZlfkPbhP9"
   },
   "outputs": [],
   "source": [
    "'Fortran' in programming_languages"
   ]
  },
  {
   "cell_type": "code",
   "execution_count": null,
   "metadata": {
    "id": "dOIxLmPqbvDA"
   },
   "outputs": [],
   "source": [
    "2012 in programming_languages"
   ]
  },
  {
   "cell_type": "code",
   "execution_count": null,
   "metadata": {
    "id": "bv1WFXRab0Bv"
   },
   "outputs": [],
   "source": [
    "programming_languages.update({'Per1': 2125, 'Raku': 2015})"
   ]
  },
  {
   "cell_type": "code",
   "execution_count": null,
   "metadata": {
    "id": "idVFrA21cLc5"
   },
   "outputs": [],
   "source": [
    "2012 in programming_languages.values()"
   ]
  },
  {
   "cell_type": "code",
   "execution_count": null,
   "metadata": {
    "id": "i07oWzu5cScu"
   },
   "outputs": [],
   "source": [
    "('Per1', 'Perl') in programming_languages.items()"
   ]
  },
  {
   "cell_type": "code",
   "execution_count": null,
   "metadata": {
    "id": "xatUSQBPcr4x"
   },
   "outputs": [],
   "source": [
    "del programming_languages[2012]\n",
    "\n",
    "for language, year in programming_languages.items():\n",
    "    print(f'{language} first appeared in {year}')"
   ]
  },
  {
   "cell_type": "markdown",
   "metadata": {
    "id": "gw7W_KMcdVqD"
   },
   "source": [
    "2. The code below attempts to count the frequencies of the individual characters in our party invitation from module 6. There is a bug which prevents it from working. Fix the bug."
   ]
  },
  {
   "cell_type": "code",
   "execution_count": null,
   "metadata": {
    "id": "s_OeNugZfG4J"
   },
   "outputs": [],
   "source": [
    "invitation = '''\n",
    "    Dear Sheean,\n",
    "\n",
    "    I hereby invite you for my Python party on the 11th of April.\n",
    "    The bar will open at 2 PM. 🍸 Please bring pseudocode.\n",
    "\n",
    "    Yours sincerely,\n",
    "    Julian\n",
    "'''\n",
    "\n",
    "frequencies = {}\n",
    "for character in invitation:\n",
    "    count = frequencies.get(character, 0)\n",
    "    frequencies.set(character, count + 1)\n",
    "print(frequencies)"
   ]
  },
  {
   "cell_type": "markdown",
   "metadata": {
    "id": "rxcz60KQximW"
   },
   "source": [
    "3 . Below are two dictionaries containing information about different types of fruit. Print a nice message about each fruit stating its colour and price. For example, _An apple is red and costs € 2.50_, etc."
   ]
  },
  {
   "cell_type": "code",
   "execution_count": null,
   "metadata": {
    "id": "yn89oAAZu33C"
   },
   "outputs": [],
   "source": [
    "fruit_colors = {'apple': 'red', 'banana': 'yellow', 'orange': 'orange'}\n",
    "fruit_prices = {'apple': 2.50, 'banana': 2.10, 'orange': 1.50}\n",
    "\n",
    "# your code here..."
   ]
  },
  {
   "cell_type": "markdown",
   "metadata": {
    "id": "Gtp5V9dE0LxK"
   },
   "source": [
    "4 . Here is a longer lists of fruit colours. Write a function `count_fruits` which gets a colour as input and returns the number of fruits that have that colour (according to `lots_of_fruit`)."
   ]
  },
  {
   "cell_type": "code",
   "execution_count": null,
   "metadata": {
    "id": "S7gCNyLCxdrO"
   },
   "outputs": [],
   "source": [
    "# run this first!\n",
    "lots_of_fruit = {'apple': 'red', 'banana': 'yellow', 'orange': 'orange',\n",
    "                 'cucumber': 'green', 'kiwi': 'green', 'strawberry': 'red',\n",
    "                 'pineapple': 'yellow','blackberry': 'black', 'cherry': 'red',\n",
    "                 'gooseberry': 'green', 'raspberry': 'red', 'mandarin': 'orange',\n",
    "                 'lemon': 'yellow', 'lime': 'green'}"
   ]
  },
  {
   "cell_type": "code",
   "execution_count": null,
   "metadata": {
    "id": "nScDQipK35qN"
   },
   "outputs": [],
   "source": [
    "\n",
    "# your code here...\n",
    "\n",
    "# let's see if it works!\n",
    "assert count_fruits('red') == 4\n",
    "assert count_fruits('lavender') == 0"
   ]
  },
  {
   "cell_type": "markdown",
   "metadata": {
    "id": "-Qp6R3Kp3GId"
   },
   "source": [
    "5 . The list `fruit_basket` contains a bunch of fruits. Can you make a dictionary `fruit_counts` which gives the amount for each fruit in `fruit_basket`? (Do not count the fruits by hand!)"
   ]
  },
  {
   "cell_type": "code",
   "execution_count": null,
   "metadata": {
    "id": "awf-lLQO3N1U"
   },
   "outputs": [],
   "source": [
    "fruit_basket = ['apple', 'banana', 'banana', 'banana', 'apple', 'orange',\n",
    "                'orange', 'grape', 'grape', 'grape', 'grape', 'grape', 'grape',\n",
    "                'grape', 'grape', 'grape', 'pear', 'apple', 'strawberry',\n",
    "                'strawberry', 'strawberry', 'orange']"
   ]
  },
  {
   "cell_type": "code",
   "execution_count": null,
   "metadata": {
    "id": "MDpIZpbm3-BG"
   },
   "outputs": [],
   "source": [
    "# your code here..\n",
    "\n",
    "\n",
    "# let's see if it works!\n",
    "assert fruit_counts['apple'] == 3\n"
   ]
  },
  {
   "cell_type": "markdown",
   "metadata": {
    "id": "h-kJhTO951pc"
   },
   "source": [
    "6 . Here is a different list, which contains the words in a sentence. Can you use your code above to make a dictionary `word_counts` telling us how often each word occurs? (Tip: if you need to do very similar tasks, make a function!)\n",
    "\n",
    "Write a function that takes a dictionary like `word_counts` tells us the most commonly occuring item and the count. Note that there can be multiple items that occurred the most."
   ]
  },
  {
   "cell_type": "code",
   "execution_count": null,
   "metadata": {
    "id": "mdNug4ct5645"
   },
   "outputs": [],
   "source": [
    "# the variable sent0 contains the first sentence of The Catcher in the Rye\n",
    "# split into single words\n",
    "sent0 = ['If', 'you', 'really', 'want', 'to', 'hear', 'about', 'it,', 'the',\n",
    "         'first', 'thing', 'you’ll', 'probably', 'want', 'to', 'know', 'is',\n",
    "         'where', 'I', 'was', 'born,', 'and', 'what', 'my', 'lousy', 'childhood',\n",
    "         'was', 'like,', 'and', 'how', 'my', 'parents', 'were', 'occupied',\n",
    "         'and', 'all', 'before', 'they', 'had', 'me,', 'and', 'all', 'that',\n",
    "         'David', 'Copperfield', 'kind', 'of', 'crap,', 'but', 'I', 'don’t',\n",
    "         'feel', 'like', 'going', 'into', 'it,', 'if', 'you', 'want',\n",
    "         'to', 'know', 'the', 'truth.']"
   ]
  },
  {
   "cell_type": "code",
   "execution_count": null,
   "metadata": {
    "id": "XGY3qSEk6B9j"
   },
   "outputs": [],
   "source": [
    "# your code here..."
   ]
  },
  {
   "cell_type": "markdown",
   "metadata": {
    "id": "y5FcFvgypMfE"
   },
   "source": [
    "## Next module\n",
    "\n",
    "[11 - Working with files](https://colab.research.google.com/drive/1KsFZV-jmfaQnCFevSxIZrd7chm3Z5CJo)"
   ]
  }
 ],
 "metadata": {
  "colab": {
   "provenance": [],
   "toc_visible": true
  },
  "kernelspec": {
   "display_name": "Python 3",
   "name": "python3"
  },
  "language_info": {
   "name": "python"
  }
 },
 "nbformat": 4,
 "nbformat_minor": 0
}
