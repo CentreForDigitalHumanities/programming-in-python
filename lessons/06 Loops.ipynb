{
 "cells": [
  {
   "cell_type": "markdown",
   "id": "d46f2a50",
   "metadata": {
    "id": "fqMJHzNk5yXQ"
   },
   "source": [
    "# Module 6: Loops\n",
    "\n",
    "### CDH course \"Programming in Python\"\n",
    "\n",
    "[index](https://colab.research.google.com/github/CentreForDigitalHumanities/programming-in-python/blob/main/lessons/00%20index.ipynb)\n",
    "\n",
    "Previous module: [5. Assertions](https://colab.research.google.com/github/CentreForDigitalHumanities/programming-in-python/blob/main/lessons/05%20assertions.ipynb)"
   ]
  },
  {
   "cell_type": "markdown",
   "id": "74533a48",
   "metadata": {
    "id": "mzWET4w4lAr4"
   },
   "source": [
    "# 1. Loops\n",
    "\n",
    "Loops are the most primitive way to run code *repeatedly*. For example:\n",
    "\n",
    "- Run some lines of code for each word in a text.\n",
    "- Run some lines of code for each number in a list.\n",
    "- Run some lines of code until you have found the answer to a question.\n",
    "\n",
    "There are \"smarter\" ways to repeat code that we will cover later in the course."
   ]
  },
  {
   "cell_type": "markdown",
   "id": "9719108c",
   "metadata": {
    "id": "d7GJLYfEXwfs"
   },
   "source": [
    "## `while` loops\n",
    "\n",
    "A `while` loop looks like an `if` statement, but it repeats as long as the condition is `True`:"
   ]
  },
  {
   "cell_type": "code",
   "execution_count": null,
   "id": "d9382e70",
   "metadata": {
    "id": "Fnut4-DIYmb8"
   },
   "outputs": [],
   "source": [
    "name = 'Julian'\n",
    "while len(name) < 10:\n",
    "    name = name + '!'\n",
    "print(name)"
   ]
  },
  {
   "cell_type": "markdown",
   "id": "604c78a3",
   "metadata": {
    "id": "p9-je4X0zkhq"
   },
   "source": [
    "`while` loops are impractical if you want to repeat something for every element of an iterable, such as a list."
   ]
  },
  {
   "cell_type": "markdown",
   "id": "67359e6b",
   "metadata": {
    "id": "BDCe1ux90B7r"
   },
   "source": [
    "## `for` loops over lists\n",
    "\n",
    "For loops do something for every element in a list, so the length of the list is the number of iterations. What is especially useful about for-loops is that for every iteration, the item in the list can be used in the indented code block. This means that you can do a certain action for each item in the list without having to provide the index for that item. For example:"
   ]
  },
  {
   "cell_type": "code",
   "execution_count": null,
   "id": "8dfb1e03",
   "metadata": {
    "id": "O0XEpRMI0WG2"
   },
   "outputs": [],
   "source": [
    "the_list = [1, 'hello', True]\n",
    "\n",
    "for element in the_list:\n",
    "    print(element)"
   ]
  },
  {
   "cell_type": "markdown",
   "id": "9ff81802",
   "metadata": {
    "id": "gdd6v6LU1DlK"
   },
   "source": [
    "The body of the loop is an *indented block*, just like in an `if` or `while` statement. You can have multiple lines that repeat together:"
   ]
  },
  {
   "cell_type": "code",
   "execution_count": null,
   "id": "f8ed3898",
   "metadata": {
    "id": "dpqb0qFc1u0s"
   },
   "outputs": [],
   "source": [
    "words = ['A', 'very', 'short', 'sentence']\n",
    "full_text = ''\n",
    "\n",
    "for word in words:\n",
    "    full_text = full_text + word + ' '\n",
    "    print(word)\n",
    "    print(full_text)"
   ]
  },
  {
   "cell_type": "markdown",
   "id": "366c5aea",
   "metadata": {
    "id": "vDU53qkB2zo4"
   },
   "source": [
    "The loop ends when the indentation ends. Here, we calculate the sum of a list of numbers, and print the sum only at the end:"
   ]
  },
  {
   "cell_type": "code",
   "execution_count": null,
   "id": "f03a59ac",
   "metadata": {
    "id": "q6ucnoqeUnlI"
   },
   "outputs": [],
   "source": [
    "numbers = [9, 9, 4, 7, 6]\n",
    "sum = 0\n",
    "\n",
    "for number in numbers:\n",
    "    sum = sum + number\n",
    "print(sum)"
   ]
  },
  {
   "cell_type": "markdown",
   "id": "6f8fa307",
   "metadata": {
    "id": "0Gun_3cX1ey8"
   },
   "source": [
    "## Exercise 1: basic `for` loops\n",
    "\n",
    "1. Make a small change to the following code block (copied from above), so that it prints the `full_text` only at the end, when it is complete."
   ]
  },
  {
   "cell_type": "code",
   "execution_count": null,
   "id": "2a9a2744",
   "metadata": {
    "id": "nMF8WE3F19HC"
   },
   "outputs": [],
   "source": [
    "words = ['A', 'very', 'short', 'sentence']\n",
    "full_text = ''\n",
    "\n",
    "for word in words:\n",
    "    full_text = full_text + word + ' '\n",
    "    print(word)\n",
    "    print(full_text)"
   ]
  },
  {
   "cell_type": "markdown",
   "id": "3283b9b6",
   "metadata": {
    "id": "8zB10pLC2ZaT"
   },
   "source": [
    "2. Using a `for` loop, create a copy of the list of fruits below that has the fruits in the reverse order. Change the contents of the list on the first line to check that your solution is general."
   ]
  },
  {
   "cell_type": "code",
   "execution_count": null,
   "id": "fdae4ce4",
   "metadata": {
    "id": "bAwZ_ipU28AY",
    "lines_to_next_cell": 2
   },
   "outputs": [],
   "source": [
    "fruits = ['apricot', 'banana', 'cherry', 'date']\n",
    "\n",
    "# insert your code here\n",
    "# SHOULD output ['date', 'cherry', 'banana', 'apricot']"
   ]
  },
  {
   "cell_type": "markdown",
   "id": "bb9d819a",
   "metadata": {
    "id": "DATxv0pM2gQc"
   },
   "source": [
    "## Variations on loops\n",
    "\n",
    "All of the following variations can also be combined."
   ]
  },
  {
   "cell_type": "markdown",
   "id": "13c6ea76",
   "metadata": {
    "id": "MVcUZD4T7j4h"
   },
   "source": [
    "### Infinite loop"
   ]
  },
  {
   "cell_type": "code",
   "execution_count": null,
   "id": "9ef4f2c8",
   "metadata": {
    "id": "l40DJzDx2nCz"
   },
   "outputs": [],
   "source": [
    "while True:\n",
    "    print('Hello, living lab!')"
   ]
  },
  {
   "cell_type": "markdown",
   "id": "505e67f6",
   "metadata": {
    "id": "0axR682t-ub4"
   },
   "source": [
    "Generally something to avoid, but sometimes useful with `break`."
   ]
  },
  {
   "cell_type": "markdown",
   "id": "c0afc1d2",
   "metadata": {
    "id": "2xzzyBX43Rbq"
   },
   "source": [
    "### Breaking out of a loop\n",
    "You can break out of a loop by using the `break` statement, like shown here:"
   ]
  },
  {
   "cell_type": "code",
   "execution_count": null,
   "id": "851b51dc",
   "metadata": {
    "id": "kbbKDHwd4Eiq"
   },
   "outputs": [],
   "source": [
    "basket = ['apricot', 'banana', 'cherry', 'date']\n",
    "\n",
    "for fruit in basket:\n",
    "    print(fruit)\n",
    "    if fruit == 'elderberry':\n",
    "        print('Yay, this basket has elderberry! 🤤')\n",
    "        break\n",
    "else:\n",
    "    print('Aww no elderberry. 😞')"
   ]
  },
  {
   "cell_type": "markdown",
   "id": "fc4b675c",
   "metadata": {
    "id": "3C9WlDSd-8zw"
   },
   "source": [
    "`break`/`else` can be used both with `for` and `while` loops. The `else` is not required though, you can have an `if` statement without it, in which case nothing will happen if the `if` statement returns `False`."
   ]
  },
  {
   "cell_type": "markdown",
   "id": "b01fde1b",
   "metadata": {
    "id": "ZZGIvGNg673Z"
   },
   "source": [
    "### Skipping to the next iteration"
   ]
  },
  {
   "cell_type": "code",
   "execution_count": null,
   "id": "6258d3d2",
   "metadata": {
    "id": "AyVZVJtL7nMJ"
   },
   "outputs": [],
   "source": [
    "chores = ['dishwashing', 'vacuum cleaning', 'laundry']\n",
    "\n",
    "for task in chores:\n",
    "    # I really hate vacuum cleaning\n",
    "    if task == 'vacuum cleaning':\n",
    "        continue\n",
    "    print(task)"
   ]
  },
  {
   "cell_type": "markdown",
   "id": "f12eabe5",
   "metadata": {
    "id": "3fs83n3H_J_j"
   },
   "source": [
    "Works both in `for` and `while` loops."
   ]
  },
  {
   "cell_type": "markdown",
   "id": "831fd690",
   "metadata": {
    "id": "FHf46PtqBvVb"
   },
   "source": [
    "### Nested loops\n",
    "\n",
    "Nesting loops is **allowed**, to arbitrary depth. `for` and `while` can be mixed. However, nesting loops has a big **disadvantage**: your code quickly becomes less readable.\n",
    "\n",
    "Below, we use nested loops to iterate over nested lists."
   ]
  },
  {
   "cell_type": "code",
   "execution_count": null,
   "id": "f1ee1dd3",
   "metadata": {
    "id": "WffnwizrCvPw"
   },
   "outputs": [],
   "source": [
    "table = [\n",
    "    ['bread', 'fluffy', 'light brown'],\n",
    "    ['olives', 'savory', 'dark green'],\n",
    "    ['grapes', 'sweet', 'shiny red'],\n",
    "]\n",
    "\n",
    "for row in table:\n",
    "    print('new row:')\n",
    "    for cell in row:\n",
    "        print(cell, end='; ') # does not finish with a linebreak\n",
    "    print() # puts a linebreak"
   ]
  },
  {
   "cell_type": "markdown",
   "id": "4f7e0923",
   "metadata": {
    "id": "DZVVVSYy8HGd"
   },
   "source": [
    "### Iterating over a string\n",
    "Note here that when you iterate over a string, python treats the string as if it were a list with characters, including whitespaces. If you want to iterate over the words in a string, you can use the `.split()` function to split the string into a list of strings where each item is one word (separated by whitespace in the original string)."
   ]
  },
  {
   "cell_type": "code",
   "execution_count": null,
   "id": "032340d6",
   "metadata": {
    "id": "14DRs2jK8Po7"
   },
   "outputs": [],
   "source": [
    "invitation = '''\n",
    "    Dear Sheean,\n",
    "\n",
    "    I hereby invite you for my Python party on the 11th of April.\n",
    "    The bar will open at 2 PM. 🍸 Please bring pseudocode.\n",
    "\n",
    "    Yours sincerely,\n",
    "    Julian\n",
    "'''\n",
    "\n",
    "lowercase = 0\n",
    "uppercase = 0\n",
    "other = 0\n",
    "for character in invitation:\n",
    "    if 'a' <= character <= 'z':\n",
    "        lowercase = lowercase + 1\n",
    "    elif 'A' <= character <= 'Z':\n",
    "        uppercase = uppercase + 1\n",
    "    else:\n",
    "        other = other + 1\n",
    "\n",
    "print(lowercase, 'lowercase,', uppercase, 'uppercase and', other, 'other.')\n",
    "\n",
    "long_words = 0\n",
    "short_words = 0\n",
    "for word in invitation.split():\n",
    "    if len(word) > 5:\n",
    "      long_words = long_words + 1\n",
    "    else:\n",
    "      short_words = short_words + 1\n",
    "print(short_words, 'short words', long_words, 'long words')"
   ]
  },
  {
   "cell_type": "markdown",
   "id": "864e5f82",
   "metadata": {
    "id": "HrfN3OhbELuM"
   },
   "source": [
    "### Iterating over generated sequences\n",
    "\n",
    "*Generators* are iterables that produce one value at a time, so they do not need to store all their values at the same time.\n",
    "\n",
    "`range` creates a generator that produces consecutive numbers."
   ]
  },
  {
   "cell_type": "code",
   "execution_count": null,
   "id": "a2210956",
   "metadata": {
    "id": "iqNQLZVcHYRX"
   },
   "outputs": [],
   "source": [
    "for number in range(5):\n",
    "    print(number)"
   ]
  },
  {
   "cell_type": "markdown",
   "id": "832aacdb",
   "metadata": {
    "id": "9GySTLd_Hq9l"
   },
   "source": [
    "`enumerate` creates a new iterable based on another iterable, so you get not only the values but also their indices."
   ]
  },
  {
   "cell_type": "code",
   "execution_count": null,
   "id": "23cc9206",
   "metadata": {
    "id": "MIyn99IxH74D"
   },
   "outputs": [],
   "source": [
    "basket = ['apricot', 'banana', 'cherry', 'date']\n",
    "\n",
    "for index, fruit in enumerate(basket):\n",
    "    print('Fruit number', index, 'is', fruit)"
   ]
  },
  {
   "cell_type": "markdown",
   "id": "4bcde570",
   "metadata": {
    "id": "WGlaXiuxISRX"
   },
   "source": [
    "There are many more ways to create generators, and many more ways to use them as well. We will see more of them later on in the course."
   ]
  },
  {
   "cell_type": "markdown",
   "id": "3d9e96f7",
   "metadata": {
    "id": "-K0CvNkOLEYE"
   },
   "source": [
    "## Exercise 2: more loops\n",
    "\n",
    "1. The code block below is written to help you explore what kind of \"stuff\" comes out of `range` and `enumerate`. Read the code from top to bottom. What stands out to you? Why do you think it was written this way?\n",
    "\n",
    "2. Run the code block for each example value of `miracle`. Based on the results, describe in your own words what `range` and `enumerate` do."
   ]
  },
  {
   "cell_type": "code",
   "execution_count": null,
   "id": "00087b0d",
   "metadata": {
    "id": "7gappYcLOrsu"
   },
   "outputs": [],
   "source": [
    "basket = ['apricot', 'banana', 'cherry', 'date']\n",
    "\n",
    "miracle = range(10)\n",
    "# miracle = range(2, 11)\n",
    "# miracle = range(2, 11, 3)\n",
    "# miracle = range(11, 2, -2)\n",
    "# miracle = range(0.1, 1.0, 0.1)\n",
    "# miracle = enumerate(basket)\n",
    "# miracle = enumerate('pirate')\n",
    "# miracle = enumerate(range(10))\n",
    "\n",
    "print('type of miracle:', type(miracle))\n",
    "\n",
    "iteration_count = 0\n",
    "for value in miracle:\n",
    "    iteration_count = iteration_count + 1\n",
    "    if iteration_count > 2:\n",
    "        continue\n",
    "    elif iteration_count == 1:\n",
    "        print('type of first iteration:', type(value))\n",
    "    print('value of current iteration:', value)\n",
    "\n",
    "print('number of iterations:', iteration_count)"
   ]
  },
  {
   "cell_type": "markdown",
   "id": "a63fdb81",
   "metadata": {
    "id": "2Haq4E95bN6T"
   },
   "source": [
    "3. The `input` function, demonstrated below, lets you ask the human user for a string and then store it in a variable. Write a program that keeps asking the user for words until the word is `'stop'`. For each word, report to the user how many characters it contains."
   ]
  },
  {
   "cell_type": "code",
   "execution_count": null,
   "id": "7a502a6c",
   "metadata": {
    "id": "0k_YQbBccyC_",
    "lines_to_next_cell": 2
   },
   "outputs": [],
   "source": [
    "word = input('Please give me a word: ')\n",
    "print('you wrote', word)"
   ]
  },
  {
   "cell_type": "markdown",
   "id": "d7547841",
   "metadata": {
    "id": "uyqbuhKsUlhG"
   },
   "source": [
    "4. *FizzBuzz part 2* (advanced). Look back at your solution to exercise 3.2 (*FizzBuzz part 1*). Now write a program that does the following: for each integer from `1` up to and including `100`, print `Fizz`, `Buzz`, `FizzBuzz` or the number itself, following the same rules as before. Separate the words and numbers by commas. Add a newline after every tenth number, so you print ten lines in total. The first line should start like `1, 2, Fizz, 4, Buzz, Fizz, ...` and the last line should be `91, 92, Fizz, 94, Buzz, Fizz, 97, 98, Fizz, Buzz, `."
   ]
  },
  {
   "cell_type": "code",
   "execution_count": null,
   "id": "69bece35",
   "metadata": {
    "id": "BUeMXIQXaKna",
    "lines_to_next_cell": 2
   },
   "outputs": [],
   "source": [
    "# the end=', ' argument will help you:\n",
    "print('this prints with a comma instead of a newline', end=', ')\n",
    "print('this as well', end=', ')\n",
    "# empty print() adds a newline:\n",
    "print()\n",
    "print('next line for illustration')"
   ]
  },
  {
   "cell_type": "markdown",
   "id": "6887bff1",
   "metadata": {
    "id": "0eGibfk04LI0"
   },
   "source": [
    "## Next module\n",
    "\n",
    "[7. Functions](https://colab.research.google.com/github/CentreForDigitalHumanities/programming-in-python/blob/main/lessons/07%20Functions.ipynb)"
   ]
  }
 ],
 "metadata": {
  "jupytext": {
   "cell_metadata_filter": "-all",
   "main_language": "python"
  },
  "kernelspec": {
   "display_name": "Python 3",
   "name": "python3"
  }
 },
 "nbformat": 4,
 "nbformat_minor": 5
}
