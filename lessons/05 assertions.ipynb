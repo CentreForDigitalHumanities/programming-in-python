{
 "cells": [
  {
   "cell_type": "markdown",
   "id": "d1e288dd",
   "metadata": {
    "id": "fqMJHzNk5yXQ"
   },
   "source": [
    "# Module 5: Assertions\n",
    "\n",
    "### Exercise solutions\n",
    "\n",
    "### CDH course \"Programming in Python\"\n",
    "\n",
    "[index](https://colab.research.google.com/drive/1YgmnpA7tRylvGBpp2PTFGvSV2P8tw5jl)\n",
    "\n",
    "Previous module: [4. Datastructures](https://colab.research.google.com/drive/1CS9CxET2V1j0FQzy82AWBZZCbc8M_qWt)\n",
    "\n",
    "### This module\n",
    "\n",
    "- Interrupting the program if something isn't right, with useful output."
   ]
  },
  {
   "cell_type": "markdown",
   "id": "5733668f",
   "metadata": {
    "id": "bxJaE7DE4ig4"
   },
   "source": [
    "## `assert`\n",
    "\n",
    "With an assertion, you tell Python that you want something to be `True`. This is an easy way to insert sanity checks in your code."
   ]
  },
  {
   "cell_type": "code",
   "execution_count": null,
   "id": "ccbed536",
   "metadata": {
    "id": "PzRUSOI54_Zq"
   },
   "outputs": [],
   "source": [
    "assert 2 < 3"
   ]
  },
  {
   "cell_type": "markdown",
   "id": "c91fb5c1",
   "metadata": {
    "id": "tPPNPy2q5hAU"
   },
   "source": [
    "For clarity, you can describe the expectation."
   ]
  },
  {
   "cell_type": "code",
   "execution_count": null,
   "id": "d592292d",
   "metadata": {
    "id": "58Pa2nRq5x8R"
   },
   "outputs": [],
   "source": [
    "sky = 'red'\n",
    "\n",
    "assert sky == 'blue', 'We expect to be on Earth'"
   ]
  },
  {
   "cell_type": "markdown",
   "id": "ddbea610",
   "metadata": {
    "id": "aLDwedXecSLp"
   },
   "source": [
    "You can use `assert` statements to:\n",
    "- provide a sanity check, make sure something is true at some point in the code\n",
    "- provide test conditions for your code, make sure what you programmed actually behaves the way you wish"
   ]
  },
  {
   "cell_type": "markdown",
   "id": "5e733cff",
   "metadata": {
    "id": "m_FYfvXbbZXe"
   },
   "source": [
    "## Exercise 5.1: Assertions\n",
    "In each of the code blocks below, try to predict what will be the output, then run the code. If your guess was incorrect, try to figure out why the result is different. If your guess was correct, celebrate!"
   ]
  },
  {
   "cell_type": "code",
   "execution_count": null,
   "id": "48bac916",
   "metadata": {
    "id": "ztDylwg9biL5"
   },
   "outputs": [],
   "source": [
    "assert True"
   ]
  },
  {
   "cell_type": "code",
   "execution_count": null,
   "id": "bd02bdd8",
   "metadata": {
    "id": "0Uk4w2DBbxfD"
   },
   "outputs": [],
   "source": [
    "assert False, \"The assertion fails because the value is False\""
   ]
  },
  {
   "cell_type": "code",
   "execution_count": null,
   "id": "72ac17b4",
   "metadata": {
    "id": "orOWCpWVbzKf"
   },
   "outputs": [],
   "source": [
    "assert \"True\""
   ]
  },
  {
   "cell_type": "code",
   "execution_count": null,
   "id": "8adc5e1e",
   "metadata": {
    "id": "F6NjZ7gOb05u"
   },
   "outputs": [],
   "source": [
    "assert \"False\", \"The assertion fails because the value is False\""
   ]
  },
  {
   "cell_type": "code",
   "execution_count": null,
   "id": "7eb92f3e",
   "metadata": {
    "id": "KB_YkNSIb2KT"
   },
   "outputs": [],
   "source": [
    "assert 1"
   ]
  },
  {
   "cell_type": "code",
   "execution_count": null,
   "id": "5e924dc4",
   "metadata": {
    "id": "1iUK81Nvb3Ri"
   },
   "outputs": [],
   "source": [
    "assert 1 == True, \"The number 1 is not True\""
   ]
  },
  {
   "cell_type": "code",
   "execution_count": null,
   "id": "45e4b599",
   "metadata": {
    "id": "Tje6e-Jgb4rn"
   },
   "outputs": [],
   "source": [
    "assert 0"
   ]
  },
  {
   "cell_type": "markdown",
   "id": "18b221d7",
   "metadata": {
    "id": "xgqh3r7Bcj_F"
   },
   "source": [
    "## Exercise 5.2: Bonus - Test-driven development\n",
    "[Test-driven development](https://en.wikipedia.org/wiki/Test-driven_development) is a proccess where you **first** write some test conditions, and then write the code that should satisfy these conditions.\n",
    "Implement the following programs in these steps:\n",
    "1. Create multiple test conditions using `assert`\n",
    "2. Run the cell, the tests should fail (output `AssertionError`)\n",
    "3. Write the code that satisfies the conditions\n",
    "4. The cell should complete succesfully\n",
    "\n",
    "We have already implemented step 1 for these exercises."
   ]
  },
  {
   "cell_type": "markdown",
   "id": "45e33773",
   "metadata": {
    "id": "TMWSMWg7dQqB"
   },
   "source": [
    "In the code block below, change the value for `b`, and create an expression for `c` using `a` and `b` so that the assert statements succeed.\n"
   ]
  },
  {
   "cell_type": "code",
   "execution_count": null,
   "id": "38a894f2",
   "metadata": {
    "id": "Q_yIUKSRdVjF"
   },
   "outputs": [],
   "source": [
    "a = 12\n",
    "\n",
    "# Change the value for b\n",
    "b = 0\n",
    "\n",
    "# Write an expression for c using a and b\n",
    "c = 0\n",
    "\n",
    "assert a < b, 'a should be less than b'\n",
    "assert a != b, 'a and b should not be equal'\n",
    "assert c == 18, 'c should be 18'"
   ]
  },
  {
   "cell_type": "markdown",
   "id": "fdff394a",
   "metadata": {
    "id": "1u_bBUpSfQr5"
   },
   "source": [
    "In the code block below, change `students` so that it satisfies the `assert` statements. Also, add messages to the assert statements that explain what they test (in human language)."
   ]
  },
  {
   "cell_type": "code",
   "execution_count": null,
   "id": "f2b9aa4b",
   "metadata": {
    "id": "UOp8NFVOfR6Z"
   },
   "outputs": [],
   "source": [
    "students = ['ernie', 'bert']\n",
    "\n",
    "assert len(students) == 3\n",
    "assert students[0] < students[1] < students[2]"
   ]
  },
  {
   "cell_type": "markdown",
   "id": "ff59d4d7",
   "metadata": {
    "id": "JaaguG-D3k_i"
   },
   "source": [
    "## Next module\n",
    "\n",
    "[6. Loops](https://colab.research.google.com/drive/14qxBVO9t3w-pFFnMuS_yhggUmM5S0BnZ)"
   ]
  }
 ],
 "metadata": {
  "jupytext": {
   "main_language": "python"
  },
  "kernelspec": {
   "display_name": "Python 3",
   "name": "python3"
  }
 },
 "nbformat": 4,
 "nbformat_minor": 5
}
