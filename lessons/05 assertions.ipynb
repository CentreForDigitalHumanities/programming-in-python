{
 "cells": [
  {
   "cell_type": "markdown",
   "id": "13c5797f",
   "metadata": {
    "id": "fqMJHzNk5yXQ"
   },
   "source": [
    "# Module 5: Assertions\n",
    "\n",
    "### Exercise solutions\n",
    "\n",
    "### CDH course \"Programming in Python\"\n",
    "\n",
    "[index](https://colab.research.google.com/github/CentreForDigitalHumanities/programming-in-python/blob/main/lessons/00%20index.ipynb)\n",
    "\n",
    "Previous module: [4. Datastructures](https://colab.research.google.com/github/CentreForDigitalHumanities/programming-in-python/blob/main/lessons/04%20datastructures.ipynb)\n",
    "\n",
    "### This module\n",
    "\n",
    "- Interrupting the program if something isn't right, with useful output."
   ]
  },
  {
   "cell_type": "markdown",
   "id": "e5ce6490",
   "metadata": {
    "id": "bxJaE7DE4ig4"
   },
   "source": [
    "## `assert`\n",
    "\n",
    "With an assertion, you tell Python that you want something to be `True`. This is an easy way to insert sanity checks in your code."
   ]
  },
  {
   "cell_type": "code",
   "execution_count": null,
   "id": "bea9de7c",
   "metadata": {
    "id": "PzRUSOI54_Zq"
   },
   "outputs": [],
   "source": [
    "assert 2 < 3"
   ]
  },
  {
   "cell_type": "markdown",
   "id": "8c321715",
   "metadata": {
    "id": "tPPNPy2q5hAU"
   },
   "source": [
    "For clarity, you can describe the expectation."
   ]
  },
  {
   "cell_type": "code",
   "execution_count": null,
   "id": "cad24d3d",
   "metadata": {
    "id": "58Pa2nRq5x8R"
   },
   "outputs": [],
   "source": [
    "sky = 'red'\n",
    "\n",
    "assert sky == 'blue', 'We expect to be on Earth'"
   ]
  },
  {
   "cell_type": "markdown",
   "id": "38f94420",
   "metadata": {
    "id": "aLDwedXecSLp"
   },
   "source": [
    "You can use `assert` statements to:\n",
    "- provide a sanity check, make sure something is true at some point in the code\n",
    "- provide test conditions for your code, make sure what you programmed actually behaves the way you wish"
   ]
  },
  {
   "cell_type": "markdown",
   "id": "e35a2fe2",
   "metadata": {
    "id": "m_FYfvXbbZXe"
   },
   "source": [
    "## Exercise 5.1: Assertions\n",
    "In each of the code blocks below, try to predict what will be the output, then run the code. If your guess was incorrect, try to figure out why the result is different. If your guess was correct, celebrate!"
   ]
  },
  {
   "cell_type": "code",
   "execution_count": null,
   "id": "b3d6b00b",
   "metadata": {
    "id": "ztDylwg9biL5"
   },
   "outputs": [],
   "source": [
    "assert True"
   ]
  },
  {
   "cell_type": "code",
   "execution_count": null,
   "id": "83aaebc0",
   "metadata": {
    "id": "0Uk4w2DBbxfD"
   },
   "outputs": [],
   "source": [
    "assert False, \"The assertion fails because the value is False\""
   ]
  },
  {
   "cell_type": "code",
   "execution_count": null,
   "id": "17b54de9",
   "metadata": {
    "id": "orOWCpWVbzKf"
   },
   "outputs": [],
   "source": [
    "assert \"True\""
   ]
  },
  {
   "cell_type": "code",
   "execution_count": null,
   "id": "b056e835",
   "metadata": {
    "id": "F6NjZ7gOb05u"
   },
   "outputs": [],
   "source": [
    "assert \"False\", \"The assertion fails because the value is False\""
   ]
  },
  {
   "cell_type": "code",
   "execution_count": null,
   "id": "4b53baa8",
   "metadata": {
    "id": "KB_YkNSIb2KT"
   },
   "outputs": [],
   "source": [
    "assert 1"
   ]
  },
  {
   "cell_type": "code",
   "execution_count": null,
   "id": "918cea3c",
   "metadata": {
    "id": "1iUK81Nvb3Ri"
   },
   "outputs": [],
   "source": [
    "assert 1 == True, \"The number 1 is not True\""
   ]
  },
  {
   "cell_type": "code",
   "execution_count": null,
   "id": "2d945d8f",
   "metadata": {
    "id": "Tje6e-Jgb4rn"
   },
   "outputs": [],
   "source": [
    "assert 0"
   ]
  },
  {
   "cell_type": "markdown",
   "id": "56cb3164",
   "metadata": {
    "id": "xgqh3r7Bcj_F"
   },
   "source": [
    "## Exercise 5.2: Bonus - Test-driven development\n",
    "[Test-driven development](https://en.wikipedia.org/wiki/Test-driven_development) is a proccess where you **first** write some test conditions, and then write the code that should satisfy these conditions.\n",
    "Implement the following programs in these steps:\n",
    "1. Create multiple test conditions using `assert`\n",
    "2. Run the cell, the tests should fail (output `AssertionError`)\n",
    "3. Write the code that satisfies the conditions\n",
    "4. The cell should complete succesfully\n",
    "\n",
    "We have already implemented step 1 for these exercises."
   ]
  },
  {
   "cell_type": "markdown",
   "id": "13045521",
   "metadata": {
    "id": "TMWSMWg7dQqB"
   },
   "source": [
    "In the code block below, change the value for `b`, and create an expression for `c` using `a` and `b` so that the assert statements succeed.\n"
   ]
  },
  {
   "cell_type": "code",
   "execution_count": null,
   "id": "7efb4f03",
   "metadata": {
    "id": "Q_yIUKSRdVjF"
   },
   "outputs": [],
   "source": [
    "a = 12\n",
    "\n",
    "# Change the value for b\n",
    "b = 0\n",
    "\n",
    "# Write an expression for c using a and b\n",
    "c = 0\n",
    "\n",
    "assert a < b, 'a should be less than b'\n",
    "assert a != b, 'a and b should not be equal'\n",
    "assert c == 18, 'c should be 18'"
   ]
  },
  {
   "cell_type": "markdown",
   "id": "62412745",
   "metadata": {
    "id": "1u_bBUpSfQr5"
   },
   "source": [
    "In the code block below, change `students` so that it satisfies the `assert` statements. Also, add messages to the assert statements that explain what they test (in human language)."
   ]
  },
  {
   "cell_type": "code",
   "execution_count": null,
   "id": "22d0d9df",
   "metadata": {
    "id": "UOp8NFVOfR6Z"
   },
   "outputs": [],
   "source": [
    "students = ['ernie', 'bert']\n",
    "\n",
    "assert len(students) == 3\n",
    "assert students[0] < students[1] < students[2]"
   ]
  },
  {
   "cell_type": "markdown",
   "id": "3a24d27a",
   "metadata": {
    "id": "JaaguG-D3k_i"
   },
   "source": [
    "## Next module\n",
    "\n",
    "[6. Loops](https://colab.research.google.com/github/CentreForDigitalHumanities/programming-in-python/blob/main/lessons/06%20Loops.ipynb)"
   ]
  }
 ],
 "metadata": {
  "jupytext": {
   "main_language": "python"
  },
  "kernelspec": {
   "display_name": "Python 3",
   "name": "python3"
  }
 },
 "nbformat": 4,
 "nbformat_minor": 5
}
