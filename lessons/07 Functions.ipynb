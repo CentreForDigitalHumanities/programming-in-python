{
 "cells": [
  {
   "cell_type": "markdown",
   "id": "f771138e",
   "metadata": {
    "id": "fqMJHzNk5yXQ"
   },
   "source": [
    "# Module 7: Functions\n",
    "\n",
    "### CDH course \"Programming in Python\"\n",
    "\n",
    "[index](https://colab.research.google.com/github/CentreForDigitalHumanities/programming-in-python/blob/main/lessons/00%20index.ipynb)\n",
    "\n",
    "Previous module: [6. Loops](https://colab.research.google.com/github/CentreForDigitalHumanities/programming-in-python/blob/main/lessons/06%20Loops.ipynb)\n",
    "\n",
    "### This module\n",
    "\n",
    "- Storing code in a variable so you can reuse it.\n",
    "- Being explicit about the purpose of your code."
   ]
  },
  {
   "cell_type": "markdown",
   "id": "6a311924",
   "metadata": {
    "id": "mnc8HshNPLte"
   },
   "source": [
    "## (Re)Introducing functions\n",
    "\n",
    "A function is a reusable piece of code, stored in a variable. You *call* a function by passing it a list of *arguments* between parentheses. The function *returns* a value, which you can then use in an expression or store in another variable. We have already seen several functions:"
   ]
  },
  {
   "cell_type": "code",
   "execution_count": null,
   "id": "d20f9145",
   "metadata": {
    "id": "IP2mOWYgR-QA"
   },
   "outputs": [],
   "source": [
    "result = ord('🎵')\n",
    "print(type(result), result)\n",
    "\n",
    "result = len([1, 2, 3])\n",
    "print(type(result), result)\n",
    "\n",
    "result = str(ord)\n",
    "print(type(result), result)"
   ]
  },
  {
   "cell_type": "markdown",
   "id": "0c981e6a",
   "metadata": {
    "id": "u_YUDiccZKwh"
   },
   "source": [
    "The fact that functions are variables, is illustrated by the fact that you can store them in variables and even reassign them:"
   ]
  },
  {
   "cell_type": "code",
   "execution_count": null,
   "id": "da1046e6",
   "metadata": {
    "id": "Mct6Hy3HZa5H"
   },
   "outputs": [],
   "source": [
    "my_ord = ord\n",
    "print(my_ord('a'))\n",
    "ord = chr\n",
    "print(ord(97))\n",
    "\n",
    "# don't do this with 'list'!!!!!\n",
    "\n",
    "# back to sanity!\n",
    "ord = my_ord\n",
    "\n",
    "# this can also restore sanity\n",
    "%reset_selective ord\n",
    "\n",
    "# reset resets everything\n",
    "%reset\n",
    "\n",
    "ord('a')"
   ]
  },
  {
   "cell_type": "markdown",
   "id": "425b1ccb",
   "metadata": {
    "id": "hBgqVL7sSyFx"
   },
   "source": [
    "The list of arguments may be empty. For example, if you pass no arguments to `list`, it returns an empty list:"
   ]
  },
  {
   "cell_type": "code",
   "execution_count": null,
   "id": "9d6791ff",
   "metadata": {
    "colab": {
     "base_uri": "https://localhost:8080/"
    },
    "executionInfo": {
     "elapsed": 5,
     "status": "ok",
     "timestamp": 1715765148268,
     "user": {
      "displayName": "Sheean Spoel",
      "userId": "10710218289228113472"
     },
     "user_tz": -120
    },
    "id": "wb98z1kBS9tm",
    "outputId": "1570596d-607d-483b-cad3-44a490cab0ee"
   },
   "outputs": [],
   "source": [
    "result = list()\n",
    "print(result)"
   ]
  },
  {
   "cell_type": "markdown",
   "id": "6275f54c",
   "metadata": {
    "id": "Byutz190TEH-"
   },
   "source": [
    "You can also pass multiple arguments (depending on the function)."
   ]
  },
  {
   "cell_type": "code",
   "execution_count": null,
   "id": "97044194",
   "metadata": {
    "id": "N7YW9_X_UOuB"
   },
   "outputs": [],
   "source": [
    "result = max(3, 4, 5)\n",
    "print(result)"
   ]
  },
  {
   "cell_type": "markdown",
   "id": "f4b4f4c8",
   "metadata": {
    "id": "H0SocqBbXQ6f"
   },
   "source": [
    "A *named argument* or *keyword argument*, prefixed with `name=`, makes the purpose of the argument explicit. Below, the argument with the name `end` has the value `' '`."
   ]
  },
  {
   "cell_type": "code",
   "execution_count": null,
   "id": "ed6e9ed9",
   "metadata": {
    "id": "uTk4InjdXg5g"
   },
   "outputs": [],
   "source": [
    "print('one', end=' ')\n",
    "print('two')"
   ]
  },
  {
   "cell_type": "markdown",
   "id": "72c94699",
   "metadata": {
    "id": "dCUHGgepctcp"
   },
   "source": [
    "Arguments *without* a name are called *positional* arguments, because their roles are determined by the order in which they are supplied.\n",
    "\n",
    "In our example of `max(3, 4, 5)` above, `3`, `4`, and `5` are positional arguments. In this case, the order of the numbers does not actually matter (the maximum is the same, no matter what).\n",
    "\n",
    "However, for most functions, order does matter! An example you have already seen is `range`: the first argument is the _start_ and the second argument is the _stop_."
   ]
  },
  {
   "cell_type": "code",
   "execution_count": null,
   "id": "169a0a9a",
   "metadata": {
    "id": "yCyPbsvAd5PB"
   },
   "outputs": [],
   "source": [
    "assert max(3, 4, 5) is max(4, 3, 5)\n",
    "\n",
    "assert range(1, 5) is not range(5, 1)"
   ]
  },
  {
   "cell_type": "markdown",
   "id": "5b030a90",
   "metadata": {
    "id": "ECGJttnRUX_J"
   },
   "source": [
    "A function may return \"nothing\", i.e., `None`."
   ]
  },
  {
   "cell_type": "code",
   "execution_count": null,
   "id": "699a39c7",
   "metadata": {
    "id": "gAMO-QD4Uuxe"
   },
   "outputs": [],
   "source": [
    "result = print('hello')\n",
    "print(result)"
   ]
  },
  {
   "cell_type": "markdown",
   "id": "7ebcee97",
   "metadata": {
    "id": "Bj4diwbcU1Q7"
   },
   "source": [
    "A function may even return multiple results, i.e., a tuple. We can *unpack* those directly into multiple variables, but we can also store the whole tuple in a single variable."
   ]
  },
  {
   "cell_type": "code",
   "execution_count": null,
   "id": "582dc4b5",
   "metadata": {
    "id": "yYRQIGnoVHWA"
   },
   "outputs": [],
   "source": [
    "my_tuple = tuple(['Jelte', 'Julian'])\n",
    "result1, result2 = my_tuple\n",
    "print(my_tuple)\n",
    "print(result1)\n",
    "print(result2)"
   ]
  },
  {
   "cell_type": "markdown",
   "id": "3ba93ac0",
   "metadata": {
    "id": "xMHYhvPhVXet"
   },
   "source": [
    "Some functions have *side effects*: apart from taking arguments and returning results, they also have some other external effect."
   ]
  },
  {
   "cell_type": "code",
   "execution_count": null,
   "id": "144515de",
   "metadata": {
    "id": "OKEha-rwVo99"
   },
   "outputs": [],
   "source": [
    "result1 = input('Please enter PIN: ') # returns input from user\n",
    "result2 = print(result1) # returns nothing\n",
    "print(result2)\n",
    "print(result1)"
   ]
  },
  {
   "cell_type": "markdown",
   "id": "c6facba2",
   "metadata": {
    "id": "emAs76qOagVF"
   },
   "source": [
    "## Functions are awesome!\n",
    "\n",
    "The following code, which does *not* use enough functions, is **bad**:"
   ]
  },
  {
   "cell_type": "code",
   "execution_count": null,
   "id": "31892b14",
   "metadata": {
    "id": "n0UOjklcbEHQ"
   },
   "outputs": [],
   "source": [
    "print('\"banana\" has 6 characters and starts with a lowercase')\n",
    "print('\"Ada\" has 3 characters and starts with an uppercase')\n",
    "print('\"epigraph\" has 8 characters and starts with a lowercase')"
   ]
  },
  {
   "cell_type": "markdown",
   "id": "e6083eeb",
   "metadata": {
    "id": "vAt_0PfecAGK"
   },
   "source": [
    "Problems:\n",
    "\n",
    "- repetitive\n",
    "- not explicit\n",
    "- unmaintainable\n",
    "\n",
    "To some extent, we can address these problems with a loop:"
   ]
  },
  {
   "cell_type": "code",
   "execution_count": null,
   "id": "a8ec69be",
   "metadata": {
    "id": "MeUnr3KNcaVZ"
   },
   "outputs": [],
   "source": [
    "words = ['banana', 'Ada', 'epigraph']\n",
    "\n",
    "for word in words:\n",
    "    quoted = '\"' + word + '\"'\n",
    "    length = len(word)\n",
    "    first_character = word[0]\n",
    "    if 'A' <= first_character <= 'Z':\n",
    "        initial = 'an uppercase'\n",
    "    else:\n",
    "        initial = 'a lowercase'\n",
    "    print(quoted, 'has', length, 'characters and starts with', initial)"
   ]
  },
  {
   "cell_type": "markdown",
   "id": "f951b8fd",
   "metadata": {
    "id": "FL0w8VMkeLm7"
   },
   "source": [
    "BUT\n",
    "\n",
    "- still not explicit\n",
    "- still repetitive, need to repeat the loop if I want to do this elsewhere"
   ]
  },
  {
   "cell_type": "markdown",
   "id": "f098b414",
   "metadata": {
    "id": "bBiz8La8jv81"
   },
   "source": [
    "Functions let us solve all problems!"
   ]
  },
  {
   "cell_type": "code",
   "execution_count": null,
   "id": "377f5904",
   "metadata": {
    "id": "HOjpPJBNiSvr"
   },
   "outputs": [],
   "source": [
    "def describe(word):\n",
    "    quoted = '\"' + word + '\"'\n",
    "    length = str(len(word))\n",
    "    first_character = word[0]\n",
    "    if 'A' <= first_character <= 'Z':\n",
    "        initial = 'an uppercase'\n",
    "    else:\n",
    "        initial = 'a lowercase'\n",
    "    return quoted + ' has ' + length + ' characters and starts with ' + initial\n",
    "\n",
    "words = ['banana', 'Ada', 'epigraph']\n",
    "\n",
    "for word in words:\n",
    "    print(describe(word))"
   ]
  },
  {
   "cell_type": "markdown",
   "id": "8543c84a",
   "metadata": {
    "id": "y77LwKKjk-2D"
   },
   "source": [
    "## Basic function definitions\n",
    "\n",
    "At a minimum, you need the keyword `def`, a name, a pair of parentheses, a colon, and an indented block. The indented block is called the *function body*. It can contain anything!"
   ]
  },
  {
   "cell_type": "code",
   "execution_count": null,
   "id": "71b50905",
   "metadata": {
    "id": "Ph3RsaBbllvB"
   },
   "outputs": [],
   "source": [
    "# Defining the function with the name \"example\"\n",
    "def example():\n",
    "    pass # ah, that placeholder again\n",
    "\n",
    "# Calling the function with the name \"example\"\n",
    "result = example()\n",
    "print(result)"
   ]
  },
  {
   "cell_type": "markdown",
   "id": "5fe1b048",
   "metadata": {
    "id": "6Esxqtn0y1Ai"
   },
   "source": [
    "Keep in mind that a function *definition* only stores the code of the function body inside a variable with the name of the function. The code **does not run** until you *call* the function."
   ]
  },
  {
   "cell_type": "code",
   "execution_count": null,
   "id": "e240e244",
   "metadata": {
    "id": "vBfiX0-WzWQg"
   },
   "outputs": [],
   "source": [
    "def example():\n",
    "    # Don't call print inside a function!\n",
    "    # We only do this here for demonstration purposes.\n",
    "    print('Hello, world!')\n",
    "\n",
    "print(type(example), example)"
   ]
  },
  {
   "cell_type": "markdown",
   "id": "ca833fe8",
   "metadata": {
    "id": "S3cY2mRgl9z8"
   },
   "source": [
    "Between the parentheses, we list the *parameters*, the \"slots\" that can be filled by passing arguments when calling the function.\n",
    "\n",
    "The parameters (and any new variables that you make within the function body) have limited _scope_: they only live within the body of the function."
   ]
  },
  {
   "cell_type": "code",
   "execution_count": null,
   "id": "9b5c8b38",
   "metadata": {
    "id": "fWAzMGqfnC8p"
   },
   "outputs": [],
   "source": [
    "def example(name, age):\n",
    "    print(name)\n",
    "    print(age)\n",
    "\n",
    "name = 'Sheean'\n",
    "age = 36\n",
    "\n",
    "print(name)\n",
    "print(age)\n",
    "\n",
    "result = example('Julian', 35)\n",
    "print(result)\n",
    "\n",
    "print(name)\n",
    "print(age)"
   ]
  },
  {
   "cell_type": "markdown",
   "id": "4dd59c88",
   "metadata": {
    "id": "J5Pd_TjZqnwj"
   },
   "source": [
    "At the end of the function body, a function will implicitly return `None`. The `return` keyword lets you return a different value, return before the end of the body, or both. You can use the keyword multiple times, but **a function can return only once**, so an early return will skip the remainder of the function body."
   ]
  },
  {
   "cell_type": "code",
   "execution_count": null,
   "id": "59d93cbc",
   "metadata": {
    "id": "48ARWWmvrgjz"
   },
   "outputs": [],
   "source": [
    "def heaviness(item, weight):\n",
    "    if type(weight) not in (int, float):\n",
    "        # early return, implicit None\n",
    "        return\n",
    "    if weight >= 5:\n",
    "        # early return, different value\n",
    "        return 'heavy'\n",
    "    # final return, different value\n",
    "    return 'light'\n",
    "\n",
    "result = heaviness('letter', 'paper weight')\n",
    "print(result)\n",
    "\n",
    "result = heaviness('feather', 0.01)\n",
    "print(result)\n",
    "\n",
    "result = heaviness('bowling ball', 8)\n",
    "print(result)"
   ]
  },
  {
   "cell_type": "markdown",
   "id": "34794621",
   "metadata": {
    "id": "kOlF8tonzwZr"
   },
   "source": [
    "Functions should **not** have side effects unless that is the very purpose of the function (like with `print` and `input`). Most functions should return a value rather than printing something to the screen!"
   ]
  },
  {
   "cell_type": "code",
   "execution_count": null,
   "id": "d1feb82d",
   "metadata": {
    "id": "EHX1V-E71EkI"
   },
   "outputs": [],
   "source": [
    "# GOOD: function returns a value\n",
    "def exclaim(text):\n",
    "    return text + '!'\n",
    "\n",
    "value = exclaim('Julian')\n",
    "print(value)\n",
    "\n",
    "# BAD: function prints to the screen\n",
    "def exclaim(text):\n",
    "    print(text + '!')\n",
    "\n",
    "value = exclaim('Julian')\n",
    "print(value)\n",
    "\n",
    "# OK: function is intended as a special print wrapper\n",
    "def fancy_print(text):\n",
    "    print('>>>', text, '<<<')\n",
    "\n",
    "fancy_print('Julian')"
   ]
  },
  {
   "cell_type": "markdown",
   "id": "940a2773",
   "metadata": {
    "id": "spLYBkqtvDmF"
   },
   "source": [
    "It is a good habit to start a function with a *documentation string*, **docstring** for short. A docstring should explain the parameters and possible return values of the function, as well as any rules or side effects that apply.\n",
    "\n",
    "A docstring should start with a short description of the function that fits on a single line. If there is more to explain, add the rest after a blank line.\n",
    "\n",
    "By convention, docstrings use three double quotes."
   ]
  },
  {
   "cell_type": "code",
   "execution_count": null,
   "id": "a650e15c",
   "metadata": {
    "id": "DR6t3PCCvSEX"
   },
   "outputs": [],
   "source": [
    "def heaviness(item, weight):\n",
    "    \"\"\"\n",
    "    Given the name of an item and its weight in kg, classify its heaviness.\n",
    "\n",
    "    If the weight is not a number, it cannot be classified. Otherwise, the\n",
    "    classification is returned as a string: either 'light' or 'heavy'.\n",
    "    \"\"\"\n",
    "    if type(weight) not in (int, float):\n",
    "        return\n",
    "    if weight >= 5:\n",
    "        return 'heavy'\n",
    "    return 'light'\n",
    "\n",
    "print(heaviness.__doc__)\n",
    "\n",
    "print(len.__doc__)\n",
    "print(ord.__doc__)\n",
    "print(print.__doc__)"
   ]
  },
  {
   "cell_type": "markdown",
   "id": "dbcac5e6",
   "metadata": {
    "id": "aPFGhEVz40JP"
   },
   "source": [
    "## Exercise 7.1: functions"
   ]
  },
  {
   "cell_type": "markdown",
   "id": "2cde616e",
   "metadata": {
    "id": "hfcz-cSEKZWW"
   },
   "source": [
    "1. We have seen several standard functions during the course, such as `ord` and `len`. List as many as you can from memory. Try to list the types of the parameters and return values of each function as well. Do any of these functions have side effects?"
   ]
  },
  {
   "cell_type": "markdown",
   "id": "567b1dee",
   "metadata": {
    "id": "BUnMsiUzKbws"
   },
   "source": [
    "2. For exercise purposes, code in the following blocks may call `print` inside a function and omit a docstring. Predict the output, then run the code to see whether your prediction was right. Try to explain any discrepancies."
   ]
  },
  {
   "cell_type": "code",
   "execution_count": null,
   "id": "dfe79790",
   "metadata": {
    "id": "_3va9jT5O0H7"
   },
   "outputs": [],
   "source": [
    "def greet(name):\n",
    "    return 'Hello, ' + name + '!'\n",
    "\n",
    "print(greet('Berit'))"
   ]
  },
  {
   "cell_type": "code",
   "execution_count": null,
   "id": "78f004d3",
   "metadata": {
    "id": "vdTIwoGxM_JV"
   },
   "outputs": [],
   "source": [
    "name = 'Luka'\n",
    "\n",
    "def exclaim(name):\n",
    "    print(name + '!')"
   ]
  },
  {
   "cell_type": "code",
   "execution_count": null,
   "id": "5cf89330",
   "metadata": {
    "id": "30fv8SAMOblV"
   },
   "outputs": [],
   "source": [
    "def false():\n",
    "    return True\n",
    "\n",
    "print(False)"
   ]
  },
  {
   "cell_type": "code",
   "execution_count": null,
   "id": "68cc088a",
   "metadata": {
    "id": "ongrNaZFNNmV"
   },
   "outputs": [],
   "source": [
    "length = 5\n",
    "width = 2\n",
    "\n",
    "def calculate_area():\n",
    "    area = length * width\n",
    "\n",
    "print(calculate_area())"
   ]
  },
  {
   "cell_type": "code",
   "execution_count": null,
   "id": "33dc0bc6",
   "metadata": {
    "id": "MSkOCMMyNoUO"
   },
   "outputs": [],
   "source": [
    "def question(name):\n",
    "    return 'Who is ' + name + '?'\n",
    "\n",
    "question('Sheean')"
   ]
  },
  {
   "cell_type": "code",
   "execution_count": null,
   "id": "7b1dd76a",
   "metadata": {
    "id": "72DDRhD5OQ0g"
   },
   "outputs": [],
   "source": [
    "def add(left, right):\n",
    "    return left + right\n",
    "\n",
    "print(add('sweet', 'addition') * add(1, 1))"
   ]
  },
  {
   "cell_type": "code",
   "execution_count": null,
   "id": "8a408219",
   "metadata": {
    "id": "L0GlJecf8ntf"
   },
   "outputs": [],
   "source": [
    "name = 'Julian'\n",
    "age = 36\n",
    "\n",
    "print(name)\n",
    "\n",
    "def example(name):\n",
    "    print(name)\n",
    "    name = 'Berit'\n",
    "    print(name)\n",
    "    print(age)\n",
    "\n",
    "print(name)\n",
    "print(example)\n",
    "print(name)\n",
    "example('Jelte')\n",
    "print(name)\n",
    "print(age)"
   ]
  },
  {
   "cell_type": "markdown",
   "id": "b924149e",
   "metadata": {
    "id": "Rwvwlpp0-Hrt"
   },
   "source": [
    "3. In each of the following code blocks, write a docstring for the function, then add assertions and run the block to check that your documentation is correct."
   ]
  },
  {
   "cell_type": "code",
   "execution_count": null,
   "id": "a1e76d2d",
   "metadata": {
    "id": "ajcRnvzQQ9c5"
   },
   "outputs": [],
   "source": [
    "def odd(number):\n",
    "    return number % 2 == 1"
   ]
  },
  {
   "cell_type": "code",
   "execution_count": null,
   "id": "6815bbce",
   "metadata": {
    "id": "giU_bIKrRME4"
   },
   "outputs": [],
   "source": [
    "def magic(word):\n",
    "    if not word or type(word) != str:\n",
    "        return False\n",
    "    if 'A' <= word[0] <= 'Z':\n",
    "        return True\n",
    "    return False"
   ]
  },
  {
   "cell_type": "code",
   "execution_count": null,
   "id": "17e739c4",
   "metadata": {
    "id": "pAChbRWn-SKS"
   },
   "outputs": [],
   "source": [
    "def join_commas(words):\n",
    "    first, *rest = list(words)\n",
    "    text = first\n",
    "    for word in rest:\n",
    "        text = text + ', ' + word\n",
    "    return text"
   ]
  },
  {
   "cell_type": "markdown",
   "id": "5d1991dd",
   "metadata": {
    "id": "mc9RtAeATiHw"
   },
   "source": [
    "4. Write a function `is_number` that takes one argument. If the argument is a number, it should return `True`; otherwise, it should return `False`. Make sure to include a docstring!"
   ]
  },
  {
   "cell_type": "code",
   "execution_count": null,
   "id": "f08059ae",
   "metadata": {
    "id": "Ap33-rF-UbsB"
   },
   "outputs": [],
   "source": [
    "# Your definition of is_number here\n",
    "\n",
    "# The following lines will check your solution (no output is good)\n",
    "assert is_number(0)\n",
    "assert is_number(10)\n",
    "assert is_number(0.5)\n",
    "assert is_number(8 / 5)\n",
    "assert not is_number(None)\n",
    "assert not is_number('dear')\n",
    "assert not is_number('123')"
   ]
  },
  {
   "cell_type": "markdown",
   "id": "d8c49102",
   "metadata": {
    "id": "apA7o120TYRl"
   },
   "source": [
    "## Exercise 7.2: bonus"
   ]
  },
  {
   "cell_type": "markdown",
   "id": "0d509a0b",
   "metadata": {
    "id": "nM43w3VlB3-O"
   },
   "source": [
    "1. Write a function `last_a_index` that, given a string, returns the **last** index of the letter `'a'` in the string. If there is no `'a'` in the string, the function should return `None`."
   ]
  },
  {
   "cell_type": "code",
   "execution_count": null,
   "id": "1fc7a8a2",
   "metadata": {
    "id": "I5s4_a53ENJC"
   },
   "outputs": [],
   "source": [
    "# Define last_a_index here\n",
    "\n",
    "assert last_a_index('banana') == 5\n",
    "assert last_a_index('cherry') == None\n",
    "assert last_a_index('Once upon a time, there was a dragon') == 32"
   ]
  },
  {
   "cell_type": "markdown",
   "id": "7bf124ce",
   "metadata": {
    "id": "z4z3-dOaVROx"
   },
   "source": [
    "2. Write a function `replace` with three string arguments: `text`, `query` and `replacement`. It should return a copy of `text` in which all occurrences of `query` are replaced by `replacement`. For example, `replace('small', 'a', 'e')` should return `'smell'`. You may assume that `query` is always a single character. For an additional challenge, you can try to also handle multi-character query strings. For ultimate challenge, try to think of a way to handle the empty string!"
   ]
  },
  {
   "cell_type": "code",
   "execution_count": null,
   "id": "f2251b58",
   "metadata": {
    "id": "kyQwfz-mYvfW"
   },
   "outputs": [],
   "source": [
    "# Define replace here\n",
    "\n",
    "assert replace('small', 'a', 'e') == 'smell'\n",
    "assert replace('banana', 'a', 'o') == 'bonono'\n",
    "assert replace('cherry', 'a', 'x') == 'cherry'"
   ]
  },
  {
   "cell_type": "markdown",
   "id": "e5bb67d3",
   "metadata": {
    "id": "Dntbbioh29xm"
   },
   "source": [
    "## Next module\n",
    "[8. Debugging](https://colab.research.google.com/github/CentreForDigitalHumanities/programming-in-python/blob/main/lessons/08%20debugging.ipynb)"
   ]
  }
 ],
 "metadata": {
  "jupytext": {
   "cell_metadata_filter": "-all",
   "main_language": "python"
  },
  "kernelspec": {
   "display_name": "Python 3",
   "name": "python3"
  }
 },
 "nbformat": 4,
 "nbformat_minor": 5
}
