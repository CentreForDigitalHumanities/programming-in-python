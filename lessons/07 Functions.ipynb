{
 "cells": [
  {
   "cell_type": "markdown",
   "id": "7ef4bb3d",
   "metadata": {
    "id": "fqMJHzNk5yXQ"
   },
   "source": [
    "# Module 7: Functions\n",
    "\n",
    "### CDH course \"Programming in Python\"\n",
    "\n",
    "[index](https://colab.research.google.com/drive/1YgmnpA7tRylvGBpp2PTFGvSV2P8tw5jl)\n",
    "\n",
    "Previous module: [6. Loops](https://colab.research.google.com/drive/14qxBVO9t3w-pFFnMuS_yhggUmM5S0BnZ)\n",
    "\n",
    "### This module\n",
    "\n",
    "- Storing code in a variable so you can reuse it.\n",
    "- Being explicit about the purpose of your code."
   ]
  },
  {
   "cell_type": "markdown",
   "id": "bfbecacc",
   "metadata": {
    "id": "mnc8HshNPLte"
   },
   "source": [
    "## (Re)Introducing functions\n",
    "\n",
    "A function is a reusable piece of code, stored in a variable. You *call* a function by passing it a list of *arguments* between parentheses. The function *returns* a value, which you can then use in an expression or store in another variable. We have already seen several functions:"
   ]
  },
  {
   "cell_type": "code",
   "execution_count": null,
   "id": "26cbac9a",
   "metadata": {
    "id": "IP2mOWYgR-QA"
   },
   "outputs": [],
   "source": [
    "result = ord('🎵')\n",
    "print(type(result), result)\n",
    "\n",
    "result = len([1, 2, 3])\n",
    "print(type(result), result)\n",
    "\n",
    "result = str(ord)\n",
    "print(type(result), result)"
   ]
  },
  {
   "cell_type": "markdown",
   "id": "17475452",
   "metadata": {
    "id": "u_YUDiccZKwh"
   },
   "source": [
    "The fact that functions are variables, is illustrated by the fact that you can store them in variables and even reassign them:"
   ]
  },
  {
   "cell_type": "code",
   "execution_count": null,
   "id": "693c105d",
   "metadata": {
    "id": "Mct6Hy3HZa5H"
   },
   "outputs": [],
   "source": [
    "my_ord = ord\n",
    "print(my_ord('a'))\n",
    "ord = chr\n",
    "print(ord(97))\n",
    "\n",
    "# don't do this with 'list'!!!!!\n",
    "\n",
    "# back to sanity!\n",
    "ord = my_ord\n",
    "\n",
    "# this can also restore sanity\n",
    "%reset_selective ord\n",
    "\n",
    "# reset resets everything\n",
    "%reset\n",
    "\n",
    "ord('a')"
   ]
  },
  {
   "cell_type": "markdown",
   "id": "997e0c1e",
   "metadata": {
    "id": "hBgqVL7sSyFx"
   },
   "source": [
    "The list of arguments may be empty. For example, if you pass no arguments to `list`, it returns an empty list:"
   ]
  },
  {
   "cell_type": "code",
   "execution_count": null,
   "id": "e1f3c94e",
   "metadata": {
    "id": "wb98z1kBS9tm"
   },
   "outputs": [],
   "source": [
    "result = list()\n",
    "print(result)"
   ]
  },
  {
   "cell_type": "markdown",
   "id": "cb919d2a",
   "metadata": {
    "id": "Byutz190TEH-"
   },
   "source": [
    "You can also pass multiple arguments (depending on the function)."
   ]
  },
  {
   "cell_type": "code",
   "execution_count": null,
   "id": "d2e3bbf3",
   "metadata": {
    "id": "N7YW9_X_UOuB"
   },
   "outputs": [],
   "source": [
    "result = max(3, 4, 5)\n",
    "print(result)"
   ]
  },
  {
   "cell_type": "markdown",
   "id": "473fd45c",
   "metadata": {
    "id": "H0SocqBbXQ6f"
   },
   "source": [
    "A *named argument* or *keyword argument*, prefixed with `name=`, makes the purpose of the argument explicit. Below, the argument with the name `end` has the value `' '`."
   ]
  },
  {
   "cell_type": "code",
   "execution_count": null,
   "id": "089b5b9b",
   "metadata": {
    "id": "uTk4InjdXg5g"
   },
   "outputs": [],
   "source": [
    "print('one', end=' ')\n",
    "print('two')"
   ]
  },
  {
   "cell_type": "markdown",
   "id": "b077caa1",
   "metadata": {
    "id": "dCUHGgepctcp"
   },
   "source": [
    "Arguments *without* a name are called *positional* arguments, because their roles are determined by the order in which they are supplied.\n",
    "\n",
    "In our example of `max(3, 4, 5)` above, `3`, `4`, and `5` are positional arguments. In this case, the order of the numbers does not actually matter (the maximum is the same, no matter what).\n",
    "\n",
    "However, for most functions, order does matter! An example you have already seen is `range`: the first argument is the _start_ and the second argument is the _stop_."
   ]
  },
  {
   "cell_type": "code",
   "execution_count": null,
   "id": "d39807ca",
   "metadata": {
    "id": "yCyPbsvAd5PB"
   },
   "outputs": [],
   "source": [
    "assert max(3, 4, 5) is max(4, 3, 5)\n",
    "\n",
    "assert range(1, 5) is not range(5, 1)"
   ]
  },
  {
   "cell_type": "markdown",
   "id": "f57e1316",
   "metadata": {
    "id": "ECGJttnRUX_J"
   },
   "source": [
    "A function may return \"nothing\", i.e., `None`."
   ]
  },
  {
   "cell_type": "code",
   "execution_count": null,
   "id": "c1ad6e1a",
   "metadata": {
    "id": "gAMO-QD4Uuxe"
   },
   "outputs": [],
   "source": [
    "result = print('hello')\n",
    "print(result)"
   ]
  },
  {
   "cell_type": "markdown",
   "id": "30c3a6c3",
   "metadata": {
    "id": "Bj4diwbcU1Q7"
   },
   "source": [
    "A function may even return multiple results, i.e., a tuple. We can *unpack* those directly into multiple variables, but we can also store the whole tuple in a single variable."
   ]
  },
  {
   "cell_type": "code",
   "execution_count": null,
   "id": "eac6375d",
   "metadata": {
    "id": "yYRQIGnoVHWA"
   },
   "outputs": [],
   "source": [
    "my_tuple = tuple(['Jelte', 'Julian'])\n",
    "result1, result2 = my_tuple\n",
    "print(my_tuple)\n",
    "print(result1)\n",
    "print(result2)"
   ]
  },
  {
   "cell_type": "markdown",
   "id": "9e0cf320",
   "metadata": {
    "id": "xMHYhvPhVXet"
   },
   "source": [
    "Some functions have *side effects*: apart from taking arguments and returning results, they also have some other external effect."
   ]
  },
  {
   "cell_type": "code",
   "execution_count": null,
   "id": "474d9ff2",
   "metadata": {
    "id": "OKEha-rwVo99"
   },
   "outputs": [],
   "source": [
    "result1 = input('Please enter PIN: ') # returns input from user\n",
    "result2 = print(result1) # returns nothing\n",
    "print(result2)\n",
    "print(result1)"
   ]
  },
  {
   "cell_type": "markdown",
   "id": "f6d8d9cd",
   "metadata": {
    "id": "emAs76qOagVF"
   },
   "source": [
    "## Functions are awesome!\n",
    "\n",
    "The following code, which does *not* use enough functions, is **bad**:"
   ]
  },
  {
   "cell_type": "code",
   "execution_count": null,
   "id": "4e525baf",
   "metadata": {
    "id": "n0UOjklcbEHQ"
   },
   "outputs": [],
   "source": [
    "print('\"banana\" has 6 characters and starts with a lowercase')\n",
    "print('\"Ada\" has 3 characters and starts with an uppercase')\n",
    "print('\"epigraph\" has 8 characters and starts with a lowercase')"
   ]
  },
  {
   "cell_type": "markdown",
   "id": "57c11c3e",
   "metadata": {
    "id": "vAt_0PfecAGK"
   },
   "source": [
    "Problems:\n",
    "\n",
    "- repetitive\n",
    "- not explicit\n",
    "- unmaintainable\n",
    "\n",
    "To some extent, we can address these problems with a loop:"
   ]
  },
  {
   "cell_type": "code",
   "execution_count": null,
   "id": "b8b4acaf",
   "metadata": {
    "id": "MeUnr3KNcaVZ"
   },
   "outputs": [],
   "source": [
    "words = ['banana', 'Ada', 'epigraph']\n",
    "\n",
    "for word in words:\n",
    "    quoted = '\"' + word + '\"'\n",
    "    length = len(word)\n",
    "    first_character = word[0]\n",
    "    if 'A' <= first_character <= 'Z':\n",
    "        initial = 'an uppercase'\n",
    "    else:\n",
    "        initial = 'a lowercase'\n",
    "    print(quoted, 'has', length, 'characters and starts with', initial)"
   ]
  },
  {
   "cell_type": "markdown",
   "id": "c5d585d9",
   "metadata": {
    "id": "FL0w8VMkeLm7"
   },
   "source": [
    "BUT\n",
    "\n",
    "- still not explicit\n",
    "- still repetitive, need to repeat the loop if I want to do this elsewhere"
   ]
  },
  {
   "cell_type": "markdown",
   "id": "1d52c384",
   "metadata": {
    "id": "bBiz8La8jv81"
   },
   "source": [
    "Functions let us solve all problems!"
   ]
  },
  {
   "cell_type": "code",
   "execution_count": null,
   "id": "79e4ea5d",
   "metadata": {
    "id": "HOjpPJBNiSvr"
   },
   "outputs": [],
   "source": [
    "def describe(word):\n",
    "    quoted = '\"' + word + '\"'\n",
    "    length = str(len(word))\n",
    "    first_character = word[0]\n",
    "    if 'A' <= first_character <= 'Z':\n",
    "        initial = 'an uppercase'\n",
    "    else:\n",
    "        initial = 'a lowercase'\n",
    "    return quoted + ' has ' + length + ' characters and starts with ' + initial\n",
    "\n",
    "words = ['banana', 'Ada', 'epigraph']\n",
    "\n",
    "for word in words:\n",
    "    print(describe(word))"
   ]
  },
  {
   "cell_type": "markdown",
   "id": "0515caad",
   "metadata": {
    "id": "y77LwKKjk-2D"
   },
   "source": [
    "## Basic function definitions\n",
    "\n",
    "At a minimum, you need the keyword `def`, a name, a pair of parentheses, a colon, and an indented block. The indented block is called the *function body*. It can contain anything!"
   ]
  },
  {
   "cell_type": "code",
   "execution_count": null,
   "id": "e863579e",
   "metadata": {
    "id": "Ph3RsaBbllvB"
   },
   "outputs": [],
   "source": [
    "# Defining the function with the name \"example\"\n",
    "def example():\n",
    "    pass # ah, that placeholder again\n",
    "\n",
    "# Calling the function with the name \"example\"\n",
    "result = example()\n",
    "print(result)"
   ]
  },
  {
   "cell_type": "markdown",
   "id": "d855f610",
   "metadata": {
    "id": "6Esxqtn0y1Ai"
   },
   "source": [
    "Keep in mind that a function *definition* only stores the code of the function body inside a variable with the name of the function. The code **does not run** until you *call* the function."
   ]
  },
  {
   "cell_type": "code",
   "execution_count": null,
   "id": "4d56a7ca",
   "metadata": {
    "id": "vBfiX0-WzWQg"
   },
   "outputs": [],
   "source": [
    "def example():\n",
    "    # Don't call print inside a function!\n",
    "    # We only do this here for demonstration purposes.\n",
    "    print('Hello, world!')\n",
    "\n",
    "print(type(example), example)"
   ]
  },
  {
   "cell_type": "markdown",
   "id": "06d60a1c",
   "metadata": {
    "id": "S3cY2mRgl9z8"
   },
   "source": [
    "Between the parentheses, we list the *parameters*, the \"slots\" that can be filled by passing arguments when calling the function.\n",
    "\n",
    "The parameters (and any new variables that you make within the function body) have limited _scope_: they only live within the body of the function."
   ]
  },
  {
   "cell_type": "code",
   "execution_count": null,
   "id": "f5bce85d",
   "metadata": {
    "id": "fWAzMGqfnC8p"
   },
   "outputs": [],
   "source": [
    "def example(name, age):\n",
    "    print(name)\n",
    "    print(age)\n",
    "\n",
    "name = 'Sheean'\n",
    "age = 36\n",
    "\n",
    "print(name)\n",
    "print(age)\n",
    "\n",
    "result = example('Julian', 35)\n",
    "print(result)\n",
    "\n",
    "print(name)\n",
    "print(age)"
   ]
  },
  {
   "cell_type": "markdown",
   "id": "9b578065",
   "metadata": {
    "id": "J5Pd_TjZqnwj"
   },
   "source": [
    "At the end of the function body, a function will implicitly return `None`. The `return` keyword lets you return a different value, return before the end of the body, or both. You can use the keyword multiple times, but **a function can return only once**, so an early return will skip the remainder of the function body."
   ]
  },
  {
   "cell_type": "code",
   "execution_count": null,
   "id": "5df84dc6",
   "metadata": {
    "id": "48ARWWmvrgjz"
   },
   "outputs": [],
   "source": [
    "def heaviness(item, weight):\n",
    "    if type(weight) not in (int, float):\n",
    "        # early return, implicit None\n",
    "        return\n",
    "    if weight >= 5:\n",
    "        # early return, different value\n",
    "        return 'heavy'\n",
    "    # final return, different value\n",
    "    return 'light'\n",
    "\n",
    "result = heaviness('letter', 'paper weight')\n",
    "print(result)\n",
    "\n",
    "result = heaviness('feather', 0.01)\n",
    "print(result)\n",
    "\n",
    "result = heaviness('bowling ball', 8)\n",
    "print(result)"
   ]
  },
  {
   "cell_type": "markdown",
   "id": "2880a62b",
   "metadata": {
    "id": "kOlF8tonzwZr"
   },
   "source": [
    "Functions should **not** have side effects unless that is the very purpose of the function (like with `print` and `input`). Most functions should return a value rather than printing something to the screen!"
   ]
  },
  {
   "cell_type": "code",
   "execution_count": null,
   "id": "96e3f1d5",
   "metadata": {
    "id": "EHX1V-E71EkI"
   },
   "outputs": [],
   "source": [
    "# GOOD: function returns a value\n",
    "def exclaim(text):\n",
    "    return text + '!'\n",
    "\n",
    "value = exclaim('Julian')\n",
    "print(value)\n",
    "\n",
    "# BAD: function prints to the screen\n",
    "def exclaim(text):\n",
    "    print(text + '!')\n",
    "\n",
    "value = exclaim('Julian')\n",
    "print(value)\n",
    "\n",
    "# OK: function is intended as a special print wrapper\n",
    "def fancy_print(text):\n",
    "    print('>>>', text, '<<<')\n",
    "\n",
    "fancy_print('Julian')"
   ]
  },
  {
   "cell_type": "markdown",
   "id": "34abfa63",
   "metadata": {
    "id": "spLYBkqtvDmF"
   },
   "source": [
    "It is a good habit to start a function with a *documentation string*, **docstring** for short. A docstring should explain the parameters and possible return values of the function, as well as any rules or side effects that apply.\n",
    "\n",
    "A docstring should start with a short description of the function that fits on a single line. If there is more to explain, add the rest after a blank line.\n",
    "\n",
    "By convention, docstrings use three double quotes."
   ]
  },
  {
   "cell_type": "code",
   "execution_count": null,
   "id": "1f36a7f6",
   "metadata": {
    "id": "DR6t3PCCvSEX"
   },
   "outputs": [],
   "source": [
    "def heaviness(item, weight):\n",
    "    \"\"\"\n",
    "    Given the name of an item and its weight in kg, classify its heaviness.\n",
    "\n",
    "    If the weight is not a number, it cannot be classified. Otherwise, the\n",
    "    classification is returned as a string: either 'light' or 'heavy'.\n",
    "    \"\"\"\n",
    "    if type(weight) not in (int, float):\n",
    "        return\n",
    "    if weight >= 5:\n",
    "        return 'heavy'\n",
    "    return 'light'\n",
    "\n",
    "print(heaviness.__doc__)\n",
    "\n",
    "print(len.__doc__)\n",
    "print(ord.__doc__)\n",
    "print(print.__doc__)"
   ]
  },
  {
   "cell_type": "markdown",
   "id": "1499789a",
   "metadata": {
    "id": "aPFGhEVz40JP"
   },
   "source": [
    "## Exercise 7.1: functions"
   ]
  },
  {
   "cell_type": "markdown",
   "id": "68437417",
   "metadata": {
    "id": "hfcz-cSEKZWW"
   },
   "source": [
    "1. We have seen several standard functions during the course, such as `ord` and `len`. List as many as you can from memory. Try to list the types of the parameters and return values of each function as well. Do any of these functions have side effects?"
   ]
  },
  {
   "cell_type": "markdown",
   "id": "ec608c6a",
   "metadata": {
    "id": "BUnMsiUzKbws"
   },
   "source": [
    "2. For exercise purposes, code in the following blocks may call `print` inside a function and omit a docstring. Predict the output, then run the code to see whether your prediction was right. Try to explain any discrepancies."
   ]
  },
  {
   "cell_type": "code",
   "execution_count": null,
   "id": "be5d14b3",
   "metadata": {
    "id": "_3va9jT5O0H7"
   },
   "outputs": [],
   "source": [
    "def greet(name):\n",
    "    return 'Hello, ' + name + '!'\n",
    "\n",
    "print(greet('Berit'))"
   ]
  },
  {
   "cell_type": "code",
   "execution_count": null,
   "id": "099b3c37",
   "metadata": {
    "id": "vdTIwoGxM_JV"
   },
   "outputs": [],
   "source": [
    "name = 'Luka'\n",
    "\n",
    "def exclaim(name):\n",
    "    print(name + '!')"
   ]
  },
  {
   "cell_type": "code",
   "execution_count": null,
   "id": "eed178f4",
   "metadata": {
    "id": "30fv8SAMOblV"
   },
   "outputs": [],
   "source": [
    "def false():\n",
    "    return True\n",
    "\n",
    "print(False)"
   ]
  },
  {
   "cell_type": "code",
   "execution_count": null,
   "id": "5e5a3440",
   "metadata": {
    "id": "ongrNaZFNNmV"
   },
   "outputs": [],
   "source": [
    "length = 5\n",
    "width = 2\n",
    "\n",
    "def calculate_area():\n",
    "    area = length * width\n",
    "\n",
    "print(calculate_area())"
   ]
  },
  {
   "cell_type": "code",
   "execution_count": null,
   "id": "b3d0f9d7",
   "metadata": {
    "id": "MSkOCMMyNoUO"
   },
   "outputs": [],
   "source": [
    "def question(name):\n",
    "    return 'Who is ' + name + '?'\n",
    "\n",
    "question('Sheean')"
   ]
  },
  {
   "cell_type": "code",
   "execution_count": null,
   "id": "64a5721a",
   "metadata": {
    "id": "72DDRhD5OQ0g"
   },
   "outputs": [],
   "source": [
    "def add(left, right):\n",
    "    return left + right\n",
    "\n",
    "print(add('sweet', 'addition') * add(1, 1))"
   ]
  },
  {
   "cell_type": "code",
   "execution_count": null,
   "id": "0e071c7c",
   "metadata": {
    "id": "L0GlJecf8ntf"
   },
   "outputs": [],
   "source": [
    "name = 'Julian'\n",
    "age = 36\n",
    "\n",
    "print(name)\n",
    "\n",
    "def example(name):\n",
    "    print(name)\n",
    "    name = 'Berit'\n",
    "    print(name)\n",
    "    print(age)\n",
    "\n",
    "print(name)\n",
    "print(example)\n",
    "print(name)\n",
    "example('Jelte')\n",
    "print(name)\n",
    "print(age)"
   ]
  },
  {
   "cell_type": "markdown",
   "id": "b11d180c",
   "metadata": {
    "id": "Rwvwlpp0-Hrt"
   },
   "source": [
    "3. In each of the following code blocks, write a docstring for the function, then add assertions and run the block to check that your documentation is correct."
   ]
  },
  {
   "cell_type": "code",
   "execution_count": null,
   "id": "8d927c60",
   "metadata": {
    "id": "ajcRnvzQQ9c5"
   },
   "outputs": [],
   "source": [
    "def odd(number):\n",
    "    return number % 2 == 1"
   ]
  },
  {
   "cell_type": "code",
   "execution_count": null,
   "id": "2299c11a",
   "metadata": {
    "id": "giU_bIKrRME4"
   },
   "outputs": [],
   "source": [
    "def magic(word):\n",
    "    if not word or type(word) != str:\n",
    "        return False\n",
    "    if 'A' <= word[0] <= 'Z':\n",
    "        return True\n",
    "    return False"
   ]
  },
  {
   "cell_type": "code",
   "execution_count": null,
   "id": "c8957be5",
   "metadata": {
    "id": "pAChbRWn-SKS"
   },
   "outputs": [],
   "source": [
    "def join_commas(words):\n",
    "    first, *rest = list(words)\n",
    "    text = first\n",
    "    for word in rest:\n",
    "        text = text + ', ' + word\n",
    "    return text"
   ]
  },
  {
   "cell_type": "markdown",
   "id": "36f5df19",
   "metadata": {
    "id": "mc9RtAeATiHw"
   },
   "source": [
    "4. Write a function `is_number` that takes one argument. If the argument is a number, it should return `True`; otherwise, it should return `False`. Make sure to include a docstring!"
   ]
  },
  {
   "cell_type": "code",
   "execution_count": null,
   "id": "2682588f",
   "metadata": {
    "id": "Ap33-rF-UbsB"
   },
   "outputs": [],
   "source": [
    "# Your definition of is_number here\n",
    "\n",
    "# The following lines will check your solution (no output is good)\n",
    "assert is_number(0)\n",
    "assert is_number(10)\n",
    "assert is_number(0.5)\n",
    "assert is_number(8 / 5)\n",
    "assert not is_number(None)\n",
    "assert not is_number('dear')\n",
    "assert not is_number('123')"
   ]
  },
  {
   "cell_type": "markdown",
   "id": "b6a4832a",
   "metadata": {
    "id": "apA7o120TYRl"
   },
   "source": [
    "## Exercise 7.2: bonus"
   ]
  },
  {
   "cell_type": "markdown",
   "id": "6fc69624",
   "metadata": {
    "id": "nM43w3VlB3-O"
   },
   "source": [
    "1. Write a function `last_a_index` that, given a string, returns the **last** index of the letter `'a'` in the string. If there is no `'a'` in the string, the function should return `None`."
   ]
  },
  {
   "cell_type": "code",
   "execution_count": null,
   "id": "f9d01f5f",
   "metadata": {
    "id": "I5s4_a53ENJC"
   },
   "outputs": [],
   "source": [
    "# Define last_a_index here\n",
    "\n",
    "assert last_a_index('banana') == 5\n",
    "assert last_a_index('cherry') == None\n",
    "assert last_a_index('Once upon a time, there was a dragon') == 32"
   ]
  },
  {
   "cell_type": "markdown",
   "id": "7484dff6",
   "metadata": {
    "id": "z4z3-dOaVROx"
   },
   "source": [
    "2. Write a function `replace` with three string arguments: `text`, `query` and `replacement`. It should return a copy of `text` in which all occurrences of `query` are replaced by `replacement`. For example, `replace('small', 'a', 'e')` should return `'smell'`. You may assume that `query` is always a single character. For an additional challenge, you can try to also handle multi-character query strings. For ultimate challenge, try to think of a way to handle the empty string!"
   ]
  },
  {
   "cell_type": "code",
   "execution_count": null,
   "id": "db1bc544",
   "metadata": {
    "id": "kyQwfz-mYvfW"
   },
   "outputs": [],
   "source": [
    "# Define replace here\n",
    "\n",
    "assert replace('small', 'a', 'e') == 'smell'\n",
    "assert replace('banana', 'a', 'o') == 'bonono'\n",
    "assert replace('cherry', 'a', 'x') == 'cherry'"
   ]
  },
  {
   "cell_type": "markdown",
   "id": "4c28344b",
   "metadata": {
    "id": "3Lx61L5B0Zqe"
   },
   "source": [
    "## Refining parameters and return values"
   ]
  },
  {
   "cell_type": "markdown",
   "id": "226154d8",
   "metadata": {
    "id": "gRae5PaguhV9"
   },
   "source": [
    "### Returning multiple values (in a tuple)"
   ]
  },
  {
   "cell_type": "code",
   "execution_count": null,
   "id": "0d823d80",
   "metadata": {
    "id": "MJqHyAI31FLZ"
   },
   "outputs": [],
   "source": [
    "def word_statistics(word):\n",
    "    \"\"\" Given a string, return its length and the case of its first letter. \"\"\"\n",
    "    if 'A' <= word[0] <= 'Z':\n",
    "        casing = 'upper'\n",
    "    else:\n",
    "        casing = 'lower'\n",
    "    return len(word), casing\n",
    "\n",
    "size, initial = word_statistics('Sheean')\n",
    "print(size)\n",
    "print(initial)"
   ]
  },
  {
   "cell_type": "markdown",
   "id": "b9d46cac",
   "metadata": {
    "id": "1ORLASkU2Uga"
   },
   "source": [
    "### Optional parameters\n",
    "\n",
    "Parameters can be made *optional* by using the notation `=None` in the parameter list."
   ]
  },
  {
   "cell_type": "code",
   "execution_count": null,
   "id": "1772b766",
   "metadata": {
    "id": "IuDsXgrK3rK8"
   },
   "outputs": [],
   "source": [
    "def emphasize(word, emphasis=None):\n",
    "    \"\"\"\n",
    "    Given a string, return a version with an exclamation mark appended.\n",
    "\n",
    "    The exclamation mark can be replaced by passing the override in a\n",
    "    second argument.\n",
    "    \"\"\"\n",
    "    if emphasis == None:\n",
    "        return word + '!'\n",
    "    return word + emphasis\n",
    "\n",
    "print(emphasize('Julian'))\n",
    "print(emphasize('Julian', '!!!'))"
   ]
  },
  {
   "cell_type": "markdown",
   "id": "3427f6b8",
   "metadata": {
    "id": "2gPmuYUe1nyO"
   },
   "source": [
    "### Parameters with default values\n",
    "\n",
    "The notation `=None` is actually a special case. You can use any value as a default for a parameter. However, it is easy to make mistakes in this way. In case of doubt, just use `None` and add a check inside the function body, as demonstrated above."
   ]
  },
  {
   "cell_type": "code",
   "execution_count": null,
   "id": "48f6299f",
   "metadata": {
    "id": "IqabfNzi2-XV"
   },
   "outputs": [],
   "source": [
    "# Literal strings, numbers and booleans are safe\n",
    "def default_string(value='hello'):\n",
    "    return value\n",
    "\n",
    "def default_int(value=10):\n",
    "    return value\n",
    "\n",
    "def default_bool(value=True):\n",
    "    return value\n",
    "\n",
    "# Do not use variables as default values!\n",
    "name = 'Julian'\n",
    "def default_name(value=name):\n",
    "    return value\n",
    "\n",
    "name = 'Sheean'\n",
    "print(default_name())\n",
    "\n",
    "# Do not use data structures as default values!\n",
    "def append_list(container=[], value=1):\n",
    "    container.append(value)\n",
    "    return container\n",
    "\n",
    "print(append_list())\n",
    "print(append_list())"
   ]
  },
  {
   "cell_type": "markdown",
   "id": "b152fb06",
   "metadata": {
    "id": "_mTHAoog6glc"
   },
   "source": [
    "### Mixing positional and named arguments\n",
    "\n",
    "So far, we demonstrated functions where every parameter has its own unique name. With such parameters, the caller is free to choose between positional arguments and named arguments. The order of named arguments can be freely chosen, but they must come after all positional arguments."
   ]
  },
  {
   "cell_type": "code",
   "execution_count": null,
   "id": "6a1c3167",
   "metadata": {
    "id": "ETGRDi8J7cyP"
   },
   "outputs": [],
   "source": [
    "def tax_rate(income, entrepreneur):\n",
    "    \"\"\" Determine tax rate, given income and whether payer is entrepreneur. \"\"\"\n",
    "    if entrepreneur:\n",
    "        return 20\n",
    "    first_bracket = min(income, 50000)\n",
    "    second_bracket = income - first_bracket\n",
    "    return (first_bracket * 30 + second_bracket * 40) / income\n",
    "\n",
    "print(tax_rate(40000, True))\n",
    "print(tax_rate(40000, entrepreneur=True))\n",
    "print(tax_rate(income=40000, entrepreneur=True))\n",
    "print(tax_rate(entrepreneur=True, income=40000))\n",
    "print(tax_rate(True, income=40000))\n",
    "print(tax_rate(income=40000, True))"
   ]
  },
  {
   "cell_type": "markdown",
   "id": "f740f8fb",
   "metadata": {
    "id": "1jWzKu5omWUV"
   },
   "source": [
    "## Functions as first-class citizens\n",
    "\n",
    "As mentioned previously, a function is just a value. That means you can do the same things with it as with other values. For example, you can pass a function as an argument to another function:"
   ]
  },
  {
   "cell_type": "code",
   "execution_count": null,
   "id": "5ad91e96",
   "metadata": {
    "id": "ukVglqcwsAdT"
   },
   "outputs": [],
   "source": [
    "def exclaim(text):\n",
    "    return text + '!'\n",
    "\n",
    "fruits = ['apricot', 'banana', 'cherry']\n",
    "\n",
    "exclaimed_fruits = map(exclaim, fruits)\n",
    "\n",
    "print(type(exclaimed_fruits), exclaimed_fruits)\n",
    "\n",
    "list(exclaimed_fruits)"
   ]
  },
  {
   "cell_type": "markdown",
   "id": "403ef5cb",
   "metadata": {
    "id": "l4dAFklEvdhZ"
   },
   "source": [
    "What is going on inside `map`? Something like this:"
   ]
  },
  {
   "cell_type": "code",
   "execution_count": null,
   "id": "d4b26453",
   "metadata": {
    "id": "V2-kY5O6xHRo"
   },
   "outputs": [],
   "source": [
    "def my_map(function, values):\n",
    "    \"\"\" Repeat `function` for every value in `values`. \"\"\"\n",
    "    for value in values:\n",
    "        result = function(value)\n",
    "        # there is an additional step that we will cover later"
   ]
  },
  {
   "cell_type": "markdown",
   "id": "9a56f2c3",
   "metadata": {
    "id": "TZXA2q46taZi"
   },
   "source": [
    "Also, a function can define another function inside its body and then use and/or return it:"
   ]
  },
  {
   "cell_type": "code",
   "execution_count": null,
   "id": "2af0bcac",
   "metadata": {
    "id": "fG6-q8EatpRz"
   },
   "outputs": [],
   "source": [
    "def make_greeter(prefix, suffix):\n",
    "    \"\"\" Create a function that greets a person with the given phrasing. \"\"\"\n",
    "    def greeter(name):\n",
    "        \"\"\" Wrap the given name in a greeting. \"\"\"\n",
    "        return prefix + ', ' + name + suffix\n",
    "    return greeter\n",
    "\n",
    "greet_british = make_greeter('How do you do', '?')\n",
    "greet_american = make_greeter('Hi there', '!')\n",
    "\n",
    "print(greet_british('Sheean'))\n",
    "print(greet_british('Julian'))\n",
    "print(greet_american('Sheean'))\n",
    "print(greet_american('Julian'))"
   ]
  },
  {
   "cell_type": "markdown",
   "id": "94e09dd5",
   "metadata": {
    "id": "1xUD2ZNjcqEZ"
   },
   "source": [
    "## Exercise 7.3: function tricks"
   ]
  },
  {
   "cell_type": "markdown",
   "id": "0ff27a16",
   "metadata": {
    "id": "hxRC5Nx-cyM4"
   },
   "source": [
    "1. In each of the code blocks below, predict the output, check your prediction by running the code, and try to explain any surprises."
   ]
  },
  {
   "cell_type": "code",
   "execution_count": null,
   "id": "745408a4",
   "metadata": {
    "id": "HPxio0q6c-M9"
   },
   "outputs": [],
   "source": [
    "def welcome(name=None):\n",
    "    if name is None:\n",
    "        return 'Welcome to my office. How can I help you?'\n",
    "    return 'Please make yourself at home, ' + name + '!'\n",
    "\n",
    "print(welcome())\n",
    "print(welcome('Sheean'))"
   ]
  },
  {
   "cell_type": "code",
   "execution_count": null,
   "id": "ebfaa0b6",
   "metadata": {
    "id": "NxXqK4ROdxva"
   },
   "outputs": [],
   "source": [
    "def table(number):\n",
    "    return number, number * 2, number * 3\n",
    "\n",
    "first, second, third = table(5)\n",
    "\n",
    "print(third)"
   ]
  },
  {
   "cell_type": "code",
   "execution_count": null,
   "id": "5f09cfeb",
   "metadata": {
    "id": "EVCf3w9qfBCU"
   },
   "outputs": [],
   "source": [
    "def contact(name, job):\n",
    "    return 'For ' + job + ', contact ' + name + '.'\n",
    "\n",
    "contact_line = contact(job='naming', name='Job')\n",
    "print(contact_line)"
   ]
  },
  {
   "cell_type": "code",
   "execution_count": null,
   "id": "323ad959",
   "metadata": {
    "id": "OUSpe-hPl6-G"
   },
   "outputs": [],
   "source": [
    "def exclaim(name):\n",
    "    return name + '!'\n",
    "\n",
    "def request(name):\n",
    "    return name + '?'\n",
    "\n",
    "def tell(how):\n",
    "    return 'As my mother would say: ' + how('Julian')\n",
    "\n",
    "print(tell(request))"
   ]
  },
  {
   "cell_type": "code",
   "execution_count": null,
   "id": "a1f1c865",
   "metadata": {
    "id": "uSN17qnvmoWv"
   },
   "outputs": [],
   "source": [
    "def make_enumerate(separator):\n",
    "    def enumerate(items):\n",
    "        if not len(items):\n",
    "            return ''\n",
    "        result = items[0]\n",
    "        for item in items[1:]:\n",
    "            result = result + separator + item\n",
    "        return result\n",
    "    return enumerate\n",
    "\n",
    "with_semicolon = make_enumerate('; ')\n",
    "fruits = with_semicolon(['apricot', 'banana', 'cherry'])\n",
    "print(fruits)"
   ]
  },
  {
   "cell_type": "markdown",
   "id": "91aad969",
   "metadata": {
    "id": "CKma4p6Egkwb"
   },
   "source": [
    "2. In each of the following code blocks, something is missing in the function definition. Add the missing element."
   ]
  },
  {
   "cell_type": "code",
   "execution_count": null,
   "id": "f4b9e958",
   "metadata": {
    "id": "SaygnjMygwNF"
   },
   "outputs": [],
   "source": [
    "def combine(left, right):\n",
    "    \"\"\" Compute the sum and the product of the arguments. \"\"\"\n",
    "    sum = left + right\n",
    "    product = left * right\n",
    "    return product\n",
    "\n",
    "assert combine(2, 3) == (5, 6)"
   ]
  },
  {
   "cell_type": "code",
   "execution_count": null,
   "id": "ba8dffda",
   "metadata": {
    "id": "GqIgTcG6hMuG"
   },
   "outputs": [],
   "source": [
    "def announce_time(hour, minute):\n",
    "    \"\"\" Announce the time in a speaking clock manner. \"\"\"\n",
    "    if minute < 10:\n",
    "        minute = '0' + str(minute)\n",
    "    time = str(hour) + ':' + str(minute)\n",
    "    return 'At the next beep, the time will be ' + time + '. BEEP!'\n",
    "\n",
    "assert announce_time(12) == 'At the next beep, the time will be 12:00. BEEP!'"
   ]
  },
  {
   "cell_type": "code",
   "execution_count": null,
   "id": "76dc71c5",
   "metadata": {
    "id": "nH77gJdOkS5b"
   },
   "outputs": [],
   "source": [
    "def echo(value):\n",
    "    print(value)\n",
    "    return value\n",
    "\n",
    "assert echo('holiday') == 'holiday'"
   ]
  },
  {
   "cell_type": "markdown",
   "id": "9aae5c87",
   "metadata": {
    "id": "YG5XrO1PoIJx"
   },
   "source": [
    "3. In the following code block, write a function `month`, which returns a string name for given numeric month. Month `1` is `'January'` and month `12` is `December`. When no argument is passed, it should default to the current month. **Tip:** you can avoid writing a big `if`/`elif`/`else` tree by using a list of month names and using the month number as a list index."
   ]
  },
  {
   "cell_type": "code",
   "execution_count": null,
   "id": "bee865ee",
   "metadata": {
    "id": "TnuU_I0Tq9wQ"
   },
   "outputs": [],
   "source": [
    "# You may pretend that it is forever November\n",
    "current_month = 11\n",
    "\n",
    "# Your definition of month here\n",
    "\n",
    "assert month(3) == 'March'\n",
    "assert month(4) == 'April'\n",
    "assert month(11) == 'November'\n",
    "assert month() == 'November'"
   ]
  },
  {
   "cell_type": "markdown",
   "id": "0aa13173",
   "metadata": {
    "id": "WuRrElhUsD40"
   },
   "source": [
    "4. In the following code block, write a function `weekday`, which is analogous to `month` in the previous exercise. Day `1` is `'Monday'` while day `0` and day `7` are both `'Sunday'`. Can you avoid writing the string `'Sunday'` twice in your code?"
   ]
  },
  {
   "cell_type": "code",
   "execution_count": null,
   "id": "9162cf92",
   "metadata": {
    "id": "WUGQqmJysrqS"
   },
   "outputs": [],
   "source": [
    "# You may pretend it is forever Wednesday\n",
    "current_weekday = 3\n",
    "\n",
    "# Your definition of weekday here\n",
    "\n",
    "assert weekday() == 'Wednesday'\n",
    "assert weekday(0) == 'Sunday'\n",
    "assert weekday(7) == 'Sunday'\n",
    "assert weekday(4) == 'Thursday'"
   ]
  },
  {
   "cell_type": "markdown",
   "id": "528a25ae",
   "metadata": {
    "id": "ZvfEq3NctoOo"
   },
   "source": [
    "## Exercise 7.4: bonus"
   ]
  },
  {
   "cell_type": "markdown",
   "id": "52f4370b",
   "metadata": {
    "id": "8au2fNRutw8i"
   },
   "source": [
    "1. In exercises 7.3.4 and 7.3.5, where you just implemented `month` and `weekday`, your code was likely very similar. How could you implement both functions without repeating yourself? Check your solution with assertions."
   ]
  },
  {
   "cell_type": "code",
   "execution_count": null,
   "id": "f88ff676",
   "metadata": {
    "id": "JFhOX_Z5uVfC"
   },
   "outputs": [],
   "source": []
  },
  {
   "cell_type": "markdown",
   "id": "decdbb41",
   "metadata": {
    "id": "Gx54DrgJuWKg"
   },
   "source": [
    "2. Write a function `create_date_format`, which takes two arguments that determine how a date should be displayed. The first argument is function that transforms a weekday number to a string suitable for display, the second argument is a function that transforms a month number. Both arguments default to just displaying the number as-is. `create_date_format` returns a new function. The latter function takes any date defined by a year, month, day and weekday, and returns a string suitable for displaying that date as a whole."
   ]
  },
  {
   "cell_type": "code",
   "execution_count": null,
   "id": "e1eda263",
   "metadata": {
    "id": "0KyXFHEWwZ45"
   },
   "outputs": [],
   "source": [
    "# For this code block, you need to have `month` and `weekday`\n",
    "# in your runtime from previous exercises.\n",
    "\n",
    "# Your definition of create_date_format here\n",
    "\n",
    "wordy_format = create_date_format(weekday, month)\n",
    "cryptic_format = create_date_format()\n",
    "\n",
    "assert wordy_format(2023, 4, 11, 2) == 'Tuesday, April 11, 2023'\n",
    "assert cryptic_format(2023, 4, 11, 2) == '2, 4 11, 2023'"
   ]
  },
  {
   "cell_type": "markdown",
   "id": "d4a16fdb",
   "metadata": {
    "id": "b-p6Ct5_0I-x"
   },
   "source": [
    "## Exercise 7.5: ultimate FizzBuzz (more bonus)\n",
    "\n",
    "1. Write two functions `fizz(number)` and `buzz(number)`. If `number` is divisible by 3, `fizz` should return the string `'Fizz'`; otherwise, it should return the empty string `''`. `buzz` should work like `fizz`, but for divisibility by 5 and the string `'Buzz'`."
   ]
  },
  {
   "cell_type": "code",
   "execution_count": null,
   "id": "1def7f03",
   "metadata": {
    "id": "407dPPK966R9"
   },
   "outputs": [],
   "source": [
    "# Your solution here\n",
    "\n",
    "for number in [1, 2, 4, 5, 7, 8, 10, 11, 13, 14]:\n",
    "    assert fizz(number) == '', str(number) + ' is not divisible by 3'\n",
    "for number in [3, 6, 9, 12, 15, 18, 21, 24, 27]:\n",
    "    assert fizz(number) == 'Fizz', str(number) + ' is divisible by 3'\n",
    "for number in [1, 2, 3, 4, 6, 7, 8, 9, 11, 12, 13, 14]:\n",
    "    assert buzz(number) == '', str(number) + ' is not divisible by 5'\n",
    "for number in [5, 10, 15, 20, 25, 30, 35, 40]:\n",
    "    assert buzz(number) == 'Buzz', str(number) + ' is divisible by 5'"
   ]
  },
  {
   "cell_type": "markdown",
   "id": "5790aaa4",
   "metadata": {
    "id": "QCKc52-r9DrX"
   },
   "source": [
    "2. Using your functions `fizz` and `buzz` from step 1, write the function `fizzbuzz(number)`, which implements the well-known rules from before, but with a slight **twist**:\n",
    "    - If the number is divisible by 3 and 5, return `'FizzBuzz'`.\n",
    "    - If the number is divisible by 3 but not by 5, return `'Fizz'`.\n",
    "    - If the number is divisible by 5 but not by 3, return `'Buzz'`.\n",
    "    - In all other cases, return the number itself **as a string**."
   ]
  },
  {
   "cell_type": "code",
   "execution_count": null,
   "id": "50dc3ade",
   "metadata": {
    "id": "NFADyIW3-7qt"
   },
   "outputs": [],
   "source": [
    "# Your solution here\n",
    "\n",
    "for number in [1, 2, 4, 7, 8, 11, 13, 14]:\n",
    "    assert fizzbuzz(number) == str(number), str(number)\n",
    "for number in [3, 6, 9, 12, 18, 21, 24, 27]:\n",
    "    assert fizzbuzz(number) == 'Fizz', str(number)\n",
    "for number in [5, 10, 20, 25, 35, 40]:\n",
    "    assert fizzbuzz(number) == 'Buzz', str(number)\n",
    "for number in [15, 30, 45, 60, 75]:\n",
    "    assert fizzbuzz(number) == 'FizzBuzz', str(number)"
   ]
  },
  {
   "cell_type": "markdown",
   "id": "97d6fe94",
   "metadata": {
    "id": "o_3wq4agCCZH"
   },
   "source": [
    "3. Write a function `chunk10(sequence)` that takes an iterable `sequence` and returns a list of lists: the first sublist contains the first ten elements of `sequence`, the second sublist contains the next ten elements of `sequence`, and so on. You may assume that the number of values in `sequence` is an exact multiple of 10."
   ]
  },
  {
   "cell_type": "code",
   "execution_count": null,
   "id": "ed2af6ca",
   "metadata": {
    "id": "4c0A4kMfDdvt"
   },
   "outputs": [],
   "source": [
    "# Your solution here\n",
    "\n",
    "assert chunk10('Sheean!!!!!') == [list('Sheean!!!!!')]\n",
    "assert chunk10('Hey Julian, let us have lunch!') == [\n",
    "    list('Hey Julian'),\n",
    "    list(', let us h'),\n",
    "    list('ave lunch!'),\n",
    "]\n",
    "assert chunk10(range(20)) == [list(range(10)), list(range(10, 20))]"
   ]
  },
  {
   "cell_type": "markdown",
   "id": "8fede2b3",
   "metadata": {
    "id": "HBA4z4yVIhsn"
   },
   "source": [
    "4. In step 1, you may have written definitions for `fizz` and `buzz` that look very similar to each other. Can you think of a way to avoid repeating the common elements?"
   ]
  },
  {
   "cell_type": "code",
   "execution_count": null,
   "id": "a3197599",
   "metadata": {
    "id": "5g4BRdpLJLIc"
   },
   "outputs": [],
   "source": [
    "# Your solution here\n",
    "\n",
    "for number in [1, 2, 4, 5, 7, 8, 10, 11, 13, 14]:\n",
    "    assert fizz(number) == '', str(number) + ' is not divisible by 3'\n",
    "for number in [3, 6, 9, 12, 15, 18, 21, 24, 27]:\n",
    "    assert fizz(number) == 'Fizz', str(number) + ' is divisible by 3'\n",
    "for number in [1, 2, 3, 4, 6, 7, 8, 9, 11, 12, 13, 14]:\n",
    "    assert buzz(number) == '', str(number) + ' is not divisible by 5'\n",
    "for number in [5, 10, 15, 20, 25, 30, 35, 40]:\n",
    "    assert buzz(number) == 'Buzz', str(number) + ' is divisible by 5'"
   ]
  },
  {
   "cell_type": "markdown",
   "id": "add10079",
   "metadata": {
    "id": "BXzFYNGmPeO6"
   },
   "source": [
    "5. In exercise 7.1.3, you documented the function `join_commas`. We did not actually need to write that function, because it is built into Python, although it goes by the name `', '.join`. That notation also works with other strings, as we demonstrate below. We also remind you of `map`, which appeared in the lecture.<br><br>\n",
    "Using these functions, as well as your own `fizzbuzz` from step 2 and your own `chunk10` from step 3, try to recreate (roughly) the same `FizzBuzz` output for the numbers 1 through 100 as in [exercise 6.2.4](https://colab.research.google.com/drive/14qxBVO9t3w-pFFnMuS_yhggUmM5S0BnZ#scrollTo=uyqbuhKsUlhG), in as little code as you can."
   ]
  },
  {
   "cell_type": "code",
   "execution_count": null,
   "id": "01d87452",
   "metadata": {
    "id": "nDGUS26IMApD"
   },
   "outputs": [],
   "source": [
    "# The following code is just for illustration.\n",
    "# You do not need it in your solution.\n",
    "fruits = ['apricot', 'banana', 'cherry']\n",
    "print(', '.join(fruits))\n",
    "print('\\n'.join(fruits))\n",
    "numbers = list(range(10))\n",
    "print(numbers)\n",
    "strings = map(str, numbers)\n",
    "print(list(strings))"
   ]
  },
  {
   "cell_type": "markdown",
   "id": "97473e99",
   "metadata": {
    "id": "Dntbbioh29xm"
   },
   "source": [
    "## Next module\n",
    "\n",
    "[8. Debugging](https://colab.research.google.com/drive/1r6wuOuEHabI0vmBg15HVFBLiNKRb-jnS)"
   ]
  }
 ],
 "metadata": {
  "jupytext": {
   "main_language": "python"
  },
  "kernelspec": {
   "display_name": "Python 3",
   "name": "python3"
  }
 },
 "nbformat": 4,
 "nbformat_minor": 5
}
