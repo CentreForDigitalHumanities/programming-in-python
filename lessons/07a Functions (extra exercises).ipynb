{
 "cells": [
  {
   "cell_type": "markdown",
   "id": "0ed7eab1",
   "metadata": {
    "id": "q2_7oxCuwonl"
   },
   "source": [
    "# 7a - Functions (extra exercises)\n",
    "\n",
    "This notebook contains extra exercises to help you get more familiar with writing python code, and especially making functions. It contains no new theory.\n",
    "\n",
    "There are a lot of exercises, and they can be very similar. Don't feel like you have to do everything: if the exercises start to feel repetitive, you're ready to move on to the next section."
   ]
  },
  {
   "cell_type": "markdown",
   "id": "713c9b78",
   "metadata": {
    "id": "KoEzBrcFxk8T"
   },
   "source": [
    "## 1. Writing functions\n",
    "\n",
    "In these exercises, the instructions describe a function that you need to make. Each code block also has some assert statements that try to use your function, which you can use to verify your solution."
   ]
  },
  {
   "cell_type": "markdown",
   "id": "3867759f",
   "metadata": {
    "id": "DxKNUR11yfvL"
   },
   "source": [
    "1.1: Write a function `first`, which returns the first item in a list. The function should take one argument (a list).\n",
    "\n",
    "If the list if empty, `first` should return `None`."
   ]
  },
  {
   "cell_type": "code",
   "execution_count": null,
   "id": "8044e752",
   "metadata": {
    "id": "YtJmU-K0woBC"
   },
   "outputs": [],
   "source": [
    "# your code here...\n",
    "\n",
    "# check your function\n",
    "assert first(['apple', 'banana', 'orange']) == 'apple'\n",
    "assert first(['just one item']) == 'just one item'\n",
    "assert first([]) == None"
   ]
  },
  {
   "cell_type": "markdown",
   "id": "c9d2a678",
   "metadata": {
    "id": "jgxg9ecn0GkZ"
   },
   "source": [
    "1.2: Write a function `check_wallet` which takes a list of items as its argument. If the list includes `'wallet'`, it should return the list as-is. If it doesn't, it should add `'wallet'` to the end of list."
   ]
  },
  {
   "cell_type": "code",
   "execution_count": null,
   "id": "797d52e9",
   "metadata": {
    "id": "Z2Xa8C6z0BrI"
   },
   "outputs": [],
   "source": [
    "# your code here...\n",
    "\n",
    "# check your function\n",
    "assert check_wallet(['keys',  'wallet', 'phone', 'gloves']) == ['keys',  'wallet', 'phone', 'gloves']\n",
    "assert check_wallet(['keys', 'phone']) == ['keys', 'phone', 'wallet']\n",
    "assert check_wallet([]) == ['wallet']"
   ]
  },
  {
   "cell_type": "markdown",
   "id": "ca51c01e",
   "metadata": {
    "id": "Zx9RsFoY2o5M"
   },
   "source": [
    "1.3: Write a function `round_to_10` which takes a number as its argument and returns a new number: the input rounded to the nearest multiple of 10."
   ]
  },
  {
   "cell_type": "code",
   "execution_count": null,
   "id": "90732060",
   "metadata": {
    "id": "Y8M_CCuCcVZm"
   },
   "outputs": [],
   "source": [
    "# your code here...\n",
    "\n",
    "# check your function\n",
    "assert round_to_10(8) == 10\n",
    "assert round_to_10(22.1) == 20\n",
    "assert round_to_10(40) == 40\n",
    "assert round_to_10(55) == 60"
   ]
  },
  {
   "cell_type": "markdown",
   "id": "d4fd2315",
   "metadata": {
    "id": "YKRA2X94dmfm"
   },
   "source": [
    "1.4: Let's make our rounding function a bit more generic. Make a new function `round_to_n` which takes two arguments: the number that you want to round, and the unit that you want to round to. `round_to_n(35, 50)` will round 35 to the nearest multiple of 50."
   ]
  },
  {
   "cell_type": "code",
   "execution_count": null,
   "id": "d7e52250",
   "metadata": {
    "id": "CFukYZRFeMMr"
   },
   "outputs": [],
   "source": [
    "# your code here\n",
    "\n",
    "\n",
    "# check your function\n",
    "assert round_to_n(8, 10) == 10\n",
    "assert round_to_n(8, 20) == 0\n",
    "assert round_to_n(24.3, 20) == 20"
   ]
  },
  {
   "cell_type": "markdown",
   "id": "acdfae1a",
   "metadata": {
    "id": "9C8cDTS3e62p"
   },
   "source": [
    "1.5: Write a function `in_alphabet` that takes a character (a string of length 1) as a parameter. It should return `True` if the character is one of the 26 letters in the latin alphabet. Uppercase and lowercase characters should both return `True`. Otherwise, the function should return `False`."
   ]
  },
  {
   "cell_type": "code",
   "execution_count": null,
   "id": "3caf1e72",
   "metadata": {
    "id": "X9kXxwe3fD7P"
   },
   "outputs": [],
   "source": [
    "# your code here\n",
    "\n",
    "# check your function\n",
    "assert in_alphabet('a') == True\n",
    "assert in_alphabet('f') == True\n",
    "assert in_alphabet('A') == True\n",
    "assert in_alphabet('1') == False\n",
    "assert in_alphabet('✨') == False"
   ]
  },
  {
   "cell_type": "markdown",
   "id": "e921b5de",
   "metadata": {
    "id": "lXc43yNgicoA"
   },
   "source": [
    "1.6: Use your function `in_alphabet` to write a new function `clean_text`. It should take one parameter, which is a string. It should return a new string, which is like the old one but leaves out any characters that are not in the latin alphabet or the space `' '`."
   ]
  },
  {
   "cell_type": "code",
   "execution_count": null,
   "id": "8616d2d3",
   "metadata": {
    "id": "YOqKnf7rjpvW"
   },
   "outputs": [],
   "source": [
    "# your code here...\n",
    "\n",
    "# check your function\n",
    "assert clean_text('Hello, how are you?') == 'Hello how are you'\n",
    "assert clean_text('Hooray! Hooray! Hooray!') == 'Hooray Hooray Hooray'\n",
    "assert clean_text('Yummy!! 😋') == 'Yummy '"
   ]
  },
  {
   "cell_type": "markdown",
   "id": "5435b8d8",
   "metadata": {
    "id": "mzKQAJxNLUgV"
   },
   "source": [
    "1.7: Write a function `travel_time` that estimates the travel time for a journey. It takes 3 named arguments:\n",
    "- `car`: the distance traversed by car\n",
    "- `bike`: the distance traversed by bike\n",
    "- `walk`: the distance traversed on foot\n",
    "\n",
    "Each of these will be a number (distance in km), and the default value is `0`. Calculate the travel time, assuming that:\n",
    "\n",
    "- Cars have an average speed of 80 km/h\n",
    "- Bikes have an average speed of 16 km/h\n",
    "- Walking has an average speed of 4 km/h\n",
    "\n",
    "Your function should return the travel time in hours."
   ]
  },
  {
   "cell_type": "code",
   "execution_count": null,
   "id": "b5ec1d0d",
   "metadata": {
    "id": "XDVlkfHyMIfE"
   },
   "outputs": [],
   "source": [
    "# your code here...\n",
    "\n",
    "# check your function\n",
    "assert travel_time(car=10, walk=0.1) == 0.15\n",
    "assert travel_time(bike=10, walk=0.1) == 0.65\n",
    "assert travel_time(car=55, bike=3, walk=0.3) == 0.95"
   ]
  },
  {
   "cell_type": "markdown",
   "id": "9256e274",
   "metadata": {
    "id": "SQHPePrYxdnG"
   },
   "source": [
    "1.8: Write a function `to_time` which takes a decimal number of hours (like the output of `travel time`) and converts it to hours, minutes, and seconds. For example, 1.5 hours is 1 hours, 30 minutes and 0 seconds.\n",
    "\n",
    "The input should be a single `float` or `int`, and the output should be three numbers: hours, minutes, and seconds. The output should be given in whole numbers (`int`, not `float`)."
   ]
  },
  {
   "cell_type": "code",
   "execution_count": null,
   "id": "9f854789",
   "metadata": {
    "id": "5cdwImkNUGcc"
   },
   "outputs": [],
   "source": [
    "# your code here...\n",
    "\n",
    "# check your function\n",
    "assert to_time(1.5) == (1, 30, 0)\n",
    "assert to_time(3.6532) == (3, 39, 55)\n",
    "assert to_time(0) == (0, 0, 0)"
   ]
  },
  {
   "cell_type": "markdown",
   "id": "8c8a4cb4",
   "metadata": {
    "id": "shtLjnOGxen9"
   },
   "source": [
    "1.9: Write a function `mean` which takes one argument, a list of numbers, as input. It should return the mean value of the list (a single number)."
   ]
  },
  {
   "cell_type": "code",
   "execution_count": null,
   "id": "4e4fa3bb",
   "metadata": {
    "id": "xJ_XTebzxfCs"
   },
   "outputs": [],
   "source": [
    "# your code here...\n",
    "\n",
    "# check your function\n",
    "assert mean([1, 2, 7 , 2]) == 3.0\n",
    "assert mean([3.2, 4.5, 0.0, 2.5]) == 2.55\n",
    "assert mean([0.0]) == 0.0"
   ]
  },
  {
   "cell_type": "markdown",
   "id": "72488451",
   "metadata": {
    "id": "p1NF-Tbpxfs1"
   },
   "source": [
    "1.10: Write a function `is_number` that checks if a string describes a number. It takes one argument (a string).\n",
    "\n",
    "It should return `True` if:\n",
    "- Every character in the string is either a digit (0-9) or a decimal point `'.'`)\n",
    "- If there is a decimal point, it should not be more than one.\n",
    "\n",
    "Otherwise, the function should return `False`."
   ]
  },
  {
   "cell_type": "code",
   "execution_count": null,
   "id": "4b52d8c7",
   "metadata": {
    "id": "LsA_B5iPxgEE"
   },
   "outputs": [],
   "source": [
    "# your code here...\n",
    " \n",
    "# check your function.\n",
    "assert is_number('12') == True\n",
    "assert is_number('0.5') == True\n",
    "assert is_number('two') == False\n",
    "assert is_number('1.2.3') == False"
   ]
  },
  {
   "cell_type": "markdown",
   "id": "bbeb32c5",
   "metadata": {
    "id": "o55Hp9SomntG"
   },
   "source": [
    "## 2. Writing `assert` checks\n",
    "\n",
    "The code blocks below contain a function definition, but are missing some `assert` statements to check if everything works. Read the docstring and try to think of some assertions you could use to check the function.\n",
    "\n",
    "Not all of these functions work as intended! For some functions, you should be able to find assert statements that should succeed, but fail.\n",
    "\n",
    "You do not have to correct the functions (but you can if you want to)."
   ]
  },
  {
   "cell_type": "code",
   "execution_count": null,
   "id": "5086339a",
   "metadata": {
    "id": "aqngxSucow39"
   },
   "outputs": [],
   "source": [
    "def distance(a, b):\n",
    "    '''\n",
    "    Gives the distance between two numbers.\n",
    "\n",
    "    Distance is absolute, i.e. always positive.\n",
    "    '''\n",
    "\n",
    "    if a <= b:\n",
    "        return b - a\n",
    "    else:\n",
    "        return a - b\n",
    "\n",
    "# write some checks!"
   ]
  },
  {
   "cell_type": "code",
   "execution_count": null,
   "id": "1dc6c3b2",
   "metadata": {
    "id": "khwUSdMWn1CR"
   },
   "outputs": [],
   "source": [
    "def reverse(word):\n",
    "    '''\n",
    "    Reverses a string\n",
    "\n",
    "    Input must be a string. Output is the same string in reverse order.\n",
    "    '''\n",
    "\n",
    "    new_word = ''\n",
    "\n",
    "    for character in word:\n",
    "        new_word = character + new_word\n",
    "    \n",
    "    return new_word\n",
    "\n",
    "# write some checks!"
   ]
  },
  {
   "cell_type": "code",
   "execution_count": null,
   "id": "beec0a48",
   "metadata": {
    "id": "nkpyPnDgoxKf"
   },
   "outputs": [],
   "source": [
    "def exclude_short_words(words, min_length=5):\n",
    "    '''\n",
    "    Filters all short words (shorter than min_length) out of a list\n",
    "\n",
    "    Input should be a list of words (strings). Returns a new list\n",
    "    with only the words longer than min_length.\n",
    "    '''\n",
    "\n",
    "    long_words = []\n",
    "\n",
    "    for word in words:\n",
    "        if len(word) < 5:\n",
    "            long_words.append(word)\n",
    "    \n",
    "    return long_words\n",
    "\n",
    "# write some checks!"
   ]
  },
  {
   "cell_type": "code",
   "execution_count": null,
   "id": "03b6d542",
   "metadata": {
    "id": "yQ_-_xnuoyZ9"
   },
   "outputs": [],
   "source": [
    "def every_third_item(items):\n",
    "    '''\n",
    "    Returns every third item in a list.\n",
    "\n",
    "    Input should be a list, the output is a new list. Always returns the first\n",
    "    item - after that, returns every third item.\n",
    "    '''\n",
    "\n",
    "    result = []\n",
    "\n",
    "    for index in range(0, len(items), 3):\n",
    "        result.append(items[index])\n",
    "    \n",
    "    return result\n",
    "\n",
    "# write some checks!"
   ]
  },
  {
   "cell_type": "code",
   "execution_count": null,
   "id": "a16021e4",
   "metadata": {
    "id": "ArwDSoguox2j"
   },
   "outputs": [],
   "source": [
    "def grade(score):\n",
    "    '''\n",
    "    Gives a letter grade (F, D, C, B, A) based on a score from 0-100.\n",
    "\n",
    "    Scores over 60 get grade D, scores over 70 get grade C, etc.\n",
    "    '''\n",
    "    if score >= 60:\n",
    "        return 'D'\n",
    "    elif score >= 70:\n",
    "        return 'C'\n",
    "    elif score >= 80:\n",
    "        return 'B'\n",
    "    elif score >= 90:\n",
    "        return 'A'\n",
    "    else:\n",
    "        return 'F'\n",
    "\n",
    "# write some checks!"
   ]
  },
  {
   "cell_type": "code",
   "execution_count": null,
   "id": "24450d61",
   "metadata": {
    "id": "hMIpfW_lMK0l"
   },
   "outputs": [],
   "source": [
    "def is_prime(number):\n",
    "    '''\n",
    "    Checks if a int is a prime number.\n",
    "\n",
    "    Prime numbers are numbers that are NOT the product\n",
    "    of two smaller numbers (2, 3, 5, 7, 11, are prime numbers)\n",
    "    '''\n",
    "\n",
    "    for smaller_number in range(2, number):\n",
    "        if number % smaller_number == 0:\n",
    "            return False\n",
    "\n",
    "    return True    \n",
    "\n",
    "# write some checks!"
   ]
  },
  {
   "cell_type": "markdown",
   "id": "7eb3efbb",
   "metadata": {
    "id": "aKgZVXZXoF3g"
   },
   "source": [
    "## 3. Writing functions with checks\n",
    "\n",
    "For the functions in section 1, we provided some assert statements, but when you write your own programs, you usually don't have those. Instead, you have _something you want to do_, and it is up to you to make your own `assert` checks.\n",
    "\n",
    "For the exercises below, we describe what your function should do. It is up to you to make both the function and the assert statements.\n",
    "\n",
    "For each exercise, consider the following:\n",
    "\n",
    "- What should the function be callled?\n",
    "- What are the input parameters? What type should they be?\n",
    "- What is the output? What type should the output be?\n",
    "- What are some checks you could write?\n",
    "- What should be in the body of the function? How does it work?"
   ]
  },
  {
   "cell_type": "markdown",
   "id": "0c0f86ba",
   "metadata": {
    "id": "EXgk0_mjoukf"
   },
   "source": [
    "3.1: Write a function that turns a sentence into a question. The input should be a string. If the last character in the string is a `.` or `!`, it should be replaced with a `?`. Otherwise, we just want to add `?` to the end of the string (without replacing anything)."
   ]
  },
  {
   "cell_type": "code",
   "execution_count": null,
   "id": "a49ace30",
   "metadata": {
    "id": "ExH64Sbgovw0"
   },
   "outputs": [],
   "source": []
  },
  {
   "cell_type": "markdown",
   "id": "aad7ea7a",
   "metadata": {
    "id": "uA4PQxchxUrT"
   },
   "source": [
    "3.2: Write a function that takes a year as input and tells you whether or not that year is a leap year.\n",
    "\n",
    "From [wikipedia](https://en.wikipedia.org/wiki/Leap_year):\n",
    "\n",
    "> Every year that is exactly divisible by four is a leap year, except for years that are exactly divisible by 100, but these centurial years are leap years if they are exactly divisible by 400. For example, the years 1700, 1800, and 1900 are not leap years, but the years 1600 and 2000 are."
   ]
  },
  {
   "cell_type": "code",
   "execution_count": null,
   "id": "de3579e3",
   "metadata": {
    "id": "VIYiW1OCxVEo"
   },
   "outputs": [],
   "source": []
  },
  {
   "cell_type": "markdown",
   "id": "89fd889b",
   "metadata": {
    "id": "QzewFsCJomVB"
   },
   "source": [
    "3.3: Write a function to calculate the area of a circle based on the diameter.\n",
    "\n",
    "- The _area_ is equal the _radius_ of the circle, squared, multiplied by pi. In a formula: $A = r^2 \\times \\pi$. \n",
    "- The radius of a circle is half its diameter.\n",
    "- You can assume that pi is equal to 3.14"
   ]
  },
  {
   "cell_type": "code",
   "execution_count": null,
   "id": "dd767961",
   "metadata": {
    "id": "oCID8txRotb-"
   },
   "outputs": [],
   "source": []
  },
  {
   "cell_type": "markdown",
   "id": "ba62c8dd",
   "metadata": {
    "id": "SoO0C4pyxSjO"
   },
   "source": [
    "3.4: We want to calculate prices for an online store. Prices are calculated as follows:\n",
    "- An order will include one or more items, each with their own price. You can just represent the order as a list of prices, e.g. `[15.00, 4.40, 31.50]`\n",
    "- Customers may have a coupon that gives them 10% off all the items in their basket.\n",
    "- If the total of the order (including the coupon discount) is under € 20.00, customers need to pay € 2.00 shipping.\n",
    "\n",
    "Write a function that calculates the total of an order."
   ]
  },
  {
   "cell_type": "code",
   "execution_count": null,
   "id": "a539d146",
   "metadata": {
    "id": "ddWh7EWCxS6M"
   },
   "outputs": [],
   "source": []
  },
  {
   "cell_type": "markdown",
   "id": "168a0b20",
   "metadata": {
    "id": "m1bBl0RvxXe-"
   },
   "source": [
    "3.5: Write a function that counts how often a string occurs within another string."
   ]
  },
  {
   "cell_type": "code",
   "execution_count": null,
   "id": "686a5a52",
   "metadata": {
    "id": "GKRKIpKgxXwV"
   },
   "outputs": [],
   "source": []
  },
  {
   "cell_type": "markdown",
   "id": "3600e798",
   "metadata": {
    "id": "NPXFJd95o3Ei"
   },
   "source": [
    "## 4. Don't repeat yourself\n",
    "\n",
    "An important use for functions is to avoid unnecessary repetition in code. When you write two pieces of very similar code, it's often convenient to make a single function.\n",
    "\n",
    "Each of the code blocks below contains two things:\n",
    "- A section of code that has some repetition\n",
    "- Some assert statements that check if the code works as intended.\n",
    "\n",
    "For each block:\n",
    "- Try to understand what the code does, and identify the repetition.\n",
    "- At the top of the code block, add a definition for a function (or several), that can handle the shared functionality.\n",
    "- Use your functions(s) in the code, and check that everything still works."
   ]
  },
  {
   "cell_type": "code",
   "execution_count": null,
   "id": "87183539",
   "metadata": {
    "id": "JFc_E5sF5rt1"
   },
   "outputs": [],
   "source": [
    "small_pizza_price = 9.00\n",
    "small_pizza_slices = 6\n",
    "\n",
    "small_pizza_price_per_slice = small_pizza_price / small_pizza_slices\n",
    "print('The small pizza costs €', small_pizza_price_per_slice, 'per slice')\n",
    "\n",
    "medium_pizza_price = 12.00\n",
    "medium_pizza_slices = 8\n",
    "\n",
    "medium_pizza_price_per_slice = medium_pizza_price / medium_pizza_slices\n",
    "print('The medium pizza costs €', medium_pizza_price_per_slice, 'per slice')\n",
    "\n",
    "large_pizza_price = 16.00\n",
    "large_pizza_slices = 8\n",
    "\n",
    "large_pizza_price_per_slice = large_pizza_price / large_pizza_slices\n",
    "print('The large pizza costs €', large_pizza_price_per_slice, 'per slice')\n",
    "\n",
    "# check if everything works\n",
    "assert small_pizza_price_per_slice == 1.5\n",
    "assert medium_pizza_price_per_slice == 1.5\n",
    "assert large_pizza_price_per_slice == 2.0"
   ]
  },
  {
   "cell_type": "code",
   "execution_count": null,
   "id": "7c474033",
   "metadata": {
    "id": "lirYtOcWpJ6m"
   },
   "outputs": [],
   "source": [
    "fruit_basket = ['apple', 'banana', 'banana', 'banana', 'apple', 'orange',\n",
    "                'orange', 'grape', 'grape', 'grape', 'grape', 'grape', 'grape',\n",
    "                'grape', 'grape', 'grape', 'pear', 'apple', 'strawberry',\n",
    "                'strawberry', 'strawberry', 'orange']\n",
    "\n",
    "apples = 0\n",
    "for fruit in fruit_basket:\n",
    "    if fruit == 'apple':\n",
    "        apples += 1\n",
    "\n",
    "oranges = 0\n",
    "for fruit in fruit_basket:\n",
    "    if fruit == 'orange':\n",
    "        oranges += 1\n",
    "\n",
    "apples_to_oranges = apples / oranges\n",
    "\n",
    "# check if everything works\n",
    "assert apples_to_oranges == 1"
   ]
  },
  {
   "cell_type": "code",
   "execution_count": null,
   "id": "354f695c",
   "metadata": {
    "id": "mdNug4ct5645",
    "lines_to_next_cell": 2
   },
   "outputs": [],
   "source": [
    "weather_this_month = ['rain', 'rain', 'sun', 'sun', 'cloudy', 'cloudy', 'rain',\n",
    "    'cloudy', 'rain', 'rain', 'cloudy', 'sun', 'cloudy', 'sun', 'sun', 'sun',\n",
    "    'rain', 'cloudy', 'cloudy', 'sun', 'cloudy', 'rain', 'rain', 'cloudy',\n",
    "    'cloudy', 'cloudy', 'sun', 'cloudy', 'sun', 'sun']\n",
    "\n",
    "rain_followed_by_sun = 0\n",
    "rain_followed_by_cloudy = 0\n",
    "rain_followed_by_rain = 0\n",
    "\n",
    "for index, weather in enumerate(weather_this_month):\n",
    "    not_last = index < len(weather_this_month) - 1\n",
    "    if weather == 'rain' and not_last:\n",
    "        weather_next_day = weather_this_month[index + 1]\n",
    "        if weather_next_day == 'sun':\n",
    "            rain_followed_by_sun += 1\n",
    "        elif weather_next_day == 'cloudy':\n",
    "            rain_followed_by_cloudy += 1\n",
    "        else:\n",
    "            rain_followed_by_rain += 1\n",
    "\n",
    "print('Days with rain were followed by:')\n",
    "print('Sun:', rain_followed_by_sun, 'times')\n",
    "print('Clouds:', rain_followed_by_cloudy, 'times')\n",
    "print('Rain:', rain_followed_by_rain, 'times')\n",
    "print()\n",
    "\n",
    "sun_followed_by_sun = 0\n",
    "sun_followed_by_cloudy = 0\n",
    "sun_followed_by_rain = 0\n",
    "\n",
    "for index, weather in enumerate(weather_this_month):\n",
    "    not_last = index < len(weather_this_month) - 1\n",
    "    if weather == 'sun' and not_last:\n",
    "        weather_next_day = weather_this_month[index + 1]\n",
    "        if weather_next_day == 'sun':\n",
    "            sun_followed_by_sun += 1\n",
    "        elif weather_next_day == 'cloudy':\n",
    "            sun_followed_by_cloudy += 1\n",
    "        else:\n",
    "            sun_followed_by_rain += 1\n",
    "\n",
    "print('Days with sun were followed by:')\n",
    "print('Sun:', sun_followed_by_sun, 'times')\n",
    "print('Clouds:', sun_followed_by_cloudy, 'times')\n",
    "print('Rain:', sun_followed_by_rain, 'times')\n",
    "print()\n",
    "\n",
    "sun_preceded_by_sun = 0\n",
    "sun_preceded_by_cloudy = 0\n",
    "sun_preceded_by_rain = 0\n",
    "\n",
    "\n",
    "for index, weather in enumerate(weather_this_month):\n",
    "    not_first = index > 0\n",
    "    if weather == 'sun' and not_first:\n",
    "        weather_prev_day = weather_this_month[index - 1]\n",
    "        if weather_prev_day == 'sun':\n",
    "            sun_preceded_by_sun += 1\n",
    "        elif weather_prev_day == 'cloudy':\n",
    "            sun_preceded_by_cloudy += 1\n",
    "        else:\n",
    "            sun_preceded_by_rain += 1\n",
    "\n",
    "print('Days with sun were preceded by:')\n",
    "print('Sun:', sun_preceded_by_sun, 'times')\n",
    "print('Clouds:', sun_preceded_by_cloudy, 'times')\n",
    "print('Rain:', sun_preceded_by_rain, 'times')\n",
    "print()\n",
    "\n",
    "# check if everything works\n",
    "assert rain_followed_by_sun == 1\n",
    "assert rain_followed_by_cloudy == 4\n",
    "assert rain_followed_by_rain\n",
    "\n",
    "assert sun_followed_by_sun == 4\n",
    "assert sun_followed_by_cloudy == 4\n",
    "assert sun_followed_by_rain == 1\n",
    "\n",
    "assert sun_preceded_by_sun == 4\n",
    "assert sun_preceded_by_cloudy == 5\n",
    "assert sun_preceded_by_rain == 1"
   ]
  }
 ],
 "metadata": {
  "jupytext": {
   "main_language": "python"
  },
  "kernelspec": {
   "display_name": "Python 3",
   "name": "python3"
  }
 },
 "nbformat": 4,
 "nbformat_minor": 5
}
