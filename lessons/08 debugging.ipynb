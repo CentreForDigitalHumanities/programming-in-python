{
 "cells": [
  {
   "cell_type": "markdown",
   "id": "df9f86d0",
   "metadata": {
    "id": "fBBVyNmi8Fo0"
   },
   "source": [
    "# Module 8: Debugging\n",
    "\n",
    "### CDH course \"Programming in Python\"\n",
    "\n",
    "[index](https://colab.research.google.com/drive/1YgmnpA7tRylvGBpp2PTFGvSV2P8tw5jl)\n",
    "\n",
    "Previous module: [7. Functions](https://colab.research.google.com/drive/146De3ZjgWYldNBmKkDyu8-m_jkzUTrGg)\n",
    "\n",
    "### This module\n",
    "\n",
    "- How to see exactly what is going on in your program.\n",
    "- Using this to solve problems with code."
   ]
  },
  {
   "cell_type": "markdown",
   "id": "c5bbc4c9",
   "metadata": {
    "id": "y0FX-JxubjAb"
   },
   "source": [
    "## Stepping with the debugger\n",
    "\n",
    "The following \"magic line\", which you can insert anywhere in your code (preferably inside a function), will create a *breakpoint*:\n",
    "\n",
    "```py\n",
    "import pdb; pdb.set_trace()\n",
    "```\n",
    "\n",
    "> ⚠️ In notebooks, you *need* to put the breakpoint inside a function. Standalone Python also allows them outside of functions.\n",
    "\n",
    "> 💡 There exist other ways to set breakpoints, some of which look less like magic. The one shown here works in all situations.\n",
    "\n",
    "When Python encounters a breakpoint, it pauses execution of the program and hands control to you. You \"enter the debugger\". This enables you to see what is going on inside the program. Some useful commands to remember:\n",
    "\n",
    "- `l` or `list`: show the code around the current line.\n",
    "- `p <name>` or `print <name>`: show the value of the variable with the given `<name>`.\n",
    "- `pp <name>`: *pretty* print a value (nice for long strings and for data structures).\n",
    "- `n` or `next`: execute the current line and stop at the next line.\n",
    "- `s` or `step`: step into the next function call and stop at its first line.\n",
    "- `r` or `return`: finish executing the current function and stop at the line after its call.\n",
    "- `c` or `cont` or `continue`: resume the program until the next breakpoint, or until the end.\n",
    "- `help`: show the list with available commands.\n",
    "\n",
    "Demonstration below!"
   ]
  },
  {
   "cell_type": "code",
   "execution_count": null,
   "id": "4b7eb5bb",
   "metadata": {
    "id": "rDx9b5MJhR7X"
   },
   "outputs": [],
   "source": [
    "def scream(name):\n",
    "    \"\"\" Using at least one bang (!), make `name` at least 10 chars long. \"\"\"\n",
    "    # import pdb; pdb.set_trace()\n",
    "    name = name + '!'\n",
    "    while len(name) < 10:\n",
    "        name = name + '!'\n",
    "    return name\n",
    "\n",
    "name = 'Julian'\n",
    "exclamation = scream(name)\n",
    "print(exclamation)"
   ]
  },
  {
   "cell_type": "markdown",
   "id": "d69ac43d",
   "metadata": {
    "id": "V5a4AtnAAMc2"
   },
   "source": [
    "## Exercise 8.1: Debugging"
   ]
  },
  {
   "cell_type": "markdown",
   "id": "bb17f738",
   "metadata": {
    "id": "5fI43xswHUXJ"
   },
   "source": [
    "### 1. Building muscle memory\n",
    "\n",
    "In the definition of `scream` above, uncomment the breakpoint and step through the code. Make the debugger print two different values of `name`, then allow it to complete the program until the end."
   ]
  },
  {
   "cell_type": "markdown",
   "id": "5c4cdd94",
   "metadata": {
    "id": "6OXyDh8tASN_"
   },
   "source": [
    "### 2. Known bugs\n",
    "\n",
    "Each of the code blocks below has a function, a `print` statement and an assertion. The assertion should pass, but it fails because of a bug in the function. For each code block, take the following steps:\n",
    "\n",
    "1. Read the code. Can you predict what will be printed and why the assertion will fail?\n",
    "2. Run the code. Are you surprised? Can you explain the result?\n",
    "3. Uncomment the breakpoint. Step through the code and make very sure that you understand what is going wrong.\n",
    "4. Fix the broken function and check that the assertion now passes."
   ]
  },
  {
   "cell_type": "code",
   "execution_count": null,
   "id": "3e6fba6d",
   "metadata": {
    "id": "Z_oXfbLeI6mK"
   },
   "outputs": [],
   "source": [
    "def echo(word):\n",
    "    \"\"\" Make the given word sound like an echo. \"\"\"\n",
    "    # import pdb; pdb.set_trace()\n",
    "    repeated = word + ',' + word\n",
    "    tail_off = repeated + '...'\n",
    "    return tail_off\n",
    "\n",
    "my_echo = echo('Mees')\n",
    "print(my_echo)\n",
    "assert my_echo == 'Mees, Mees...'"
   ]
  },
  {
   "cell_type": "code",
   "execution_count": null,
   "id": "251ae90a",
   "metadata": {
    "id": "mxcdaX6SNFdl"
   },
   "outputs": [],
   "source": [
    "# Remember that letters have a numeric ordinal?\n",
    "# We can use these to convert a lowercase to\n",
    "# uppercase and vice versa!\n",
    "uppercase_offset = ord('A') - ord('a')\n",
    "\n",
    "def uppercase(lowercase_letter):\n",
    "    \"\"\" Convert a lowercase letter to uppercase. \"\"\"\n",
    "    # import pdb; pdb.set_trace()\n",
    "    lowercase_ordinal = ord(lowercase_letter)\n",
    "    uppercase_ordinal = lowercase_ordinal - uppercase_offset\n",
    "    uppercase_letter = chr(uppercase_ordinal)\n",
    "    return uppercase_letter\n",
    "\n",
    "upper_a = uppercase('a')\n",
    "print(upper_a)\n",
    "assert upper_a == 'A'"
   ]
  },
  {
   "cell_type": "markdown",
   "id": "db1c9290",
   "metadata": {
    "id": "CqsSkFb_H7Sk"
   },
   "source": [
    "### 3. Unknown bugs\n",
    "\n",
    "Like in the previous exercises, the following code blocks have a function with a bug and an assertion. However, the assertion passes, because it does not demonstrate the bug. For each code block, take the following steps:\n",
    "\n",
    "1. Run the code and see for yourself that the assertion passes.\n",
    "2. Read the code. Do you have any suspicion of what might be wrong? Do not change the code yet.\n",
    "3. Add more assertions until you discover one that should pass, but doesn't. If you had a suspicion in step 2, try to confirm it with your new assertions. If you had no suspicion yet (or if you cannot comfirm it), it is also fine to \"blind guess\".\n",
    "4. Once you have found an assertion that fails, comment out all other assertions, so only the problematic one will run.\n",
    "5. By your own judgment, insert a breakpoint in the code that should help you to diagnose the bug. Step through the code with the debugger until you fully understand the bug.\n",
    "6. Outcomment your breakpoint and fix the bug. **Tip:** you may reuse code from previous exercises, if you think this would be useful.\n",
    "7. Uncomment all assertions that you previously outcommented, so that all assertions are checked when you run the code block.\n",
    "8. Run the code block and verify that your fixed version of the function passes all the assertions."
   ]
  },
  {
   "cell_type": "code",
   "execution_count": null,
   "id": "e0383d79",
   "metadata": {
    "id": "6Nm0bcBINyNk",
    "lines_to_next_cell": 2
   },
   "outputs": [],
   "source": [
    "# Python has a built-in function for reversing strings,\n",
    "# so normally you would not need to write it yourself.\n",
    "\n",
    "def reverse_string(text):\n",
    "    \"\"\" Given any string, return a reversed copy. \"\"\"\n",
    "    reversed = text[0]\n",
    "    for next_letter in text[1:]:\n",
    "        reversed = next_letter + reversed\n",
    "    return reversed\n",
    "\n",
    "assert reverse_string('abc') == 'cba'"
   ]
  },
  {
   "cell_type": "code",
   "execution_count": null,
   "id": "9917e908",
   "metadata": {
    "id": "vooRS00TQNSP"
   },
   "outputs": [],
   "source": [
    "vowels = 'aeiouy'\n",
    "\n",
    "def count_vowels(text):\n",
    "    \"\"\" Given any string, return the number of vowels. \"\"\"\n",
    "    count = 0\n",
    "    for character in text:\n",
    "        if character in vowels:\n",
    "            count = count + 1\n",
    "    return count\n",
    "\n",
    "assert count_vowels('The quick fox jumps over the lazy dog.') == 11"
   ]
  },
  {
   "cell_type": "markdown",
   "id": "3b35d769",
   "metadata": {
    "id": "O0Piet3Y-T6B"
   },
   "source": [
    "## Exercise 8.2: Bonus"
   ]
  },
  {
   "cell_type": "markdown",
   "id": "7fab6f47",
   "metadata": {
    "id": "833NNleFrsro"
   },
   "source": [
    "### 1. Gnome sort\n",
    "\n",
    "Gnome sort is possibly the simplest way to sort a list. It can be understood by imagining that a gnome (indicated below by the `^`) is standing next to the list.\n",
    "\n",
    "```\n",
    "-------------\n",
    "| 2 | 3 | 1 |\n",
    "-------------\n",
    "  ^\n",
    "```\n",
    "\n",
    "The gnome looks at the element closest to herself, as well as at the element to the right of it (here `2` and `3`). When those elements are already sorted, the gnome walks one element to the right and looks again:\n",
    "\n",
    "```\n",
    "-------------\n",
    "| 2 | 3 | 1 |\n",
    "-------------\n",
    "      ^\n",
    "```\n",
    "\n",
    "When the current element and the one right of it are *not* sorted, like here, the gnome swaps those elements and walks one place to the left:\n",
    "\n",
    "```\n",
    "-------------\n",
    "| 2 | 1 | 3 |\n",
    "-------------\n",
    "  ^\n",
    "```\n",
    "\n",
    "The gnome continues doing this, taking care not to walk off the left edge of the list:\n",
    "\n",
    "```\n",
    "-------------\n",
    "| 1 | 2 | 3 |\n",
    "-------------\n",
    "  ^\n",
    "```\n",
    "\n",
    "```\n",
    "-------------\n",
    "| 1 | 2 | 3 |\n",
    "-------------\n",
    "      ^\n",
    "```\n",
    "\n",
    "```\n",
    "-------------\n",
    "| 1 | 2 | 3 |\n",
    "-------------\n",
    "          ^\n",
    "```\n",
    "\n",
    "When there is no more element to the right, the gnome stops. If we make sure to start the gnome at the leftmost element of the list, this will sort the entire list.\n",
    "\n",
    "Below, we implemented gnome sort in Python, but we made one mistake. The program never finishes. Step with the debugger to find the mistake.\n",
    "\n",
    "> ⚠️ If you need to sort something \"for real\", Python has ready-to-use solutions, so you do not normally need to write your own sorting code!"
   ]
  },
  {
   "cell_type": "code",
   "execution_count": null,
   "id": "3cb015a3",
   "metadata": {
    "id": "TcfxzJ_Bn971"
   },
   "outputs": [],
   "source": [
    "shuffled = ['banana', 'apricot', 'date', 'cherry', 'date']\n",
    "alphabetical = ['apricot', 'banana', 'cherry', 'date', 'date']\n",
    "\n",
    "def gnome_sort(items):\n",
    "    \"\"\" Sort `items` by changing the list in place. Not efficient. \"\"\"\n",
    "    stop = len(items) - 1\n",
    "    index = 0\n",
    "    while index < stop:\n",
    "        here = items[index]\n",
    "        right = items[index + 1]\n",
    "        if here < right:\n",
    "            index = index + 1\n",
    "        else:\n",
    "            items[index:(index + 2)] = [right, here]\n",
    "            index = max(0, index - 1)\n",
    "\n",
    "gnome_sort(shuffled)\n",
    "\n",
    "print(shuffled)\n",
    "assert shuffled == alphabetical"
   ]
  },
  {
   "cell_type": "markdown",
   "id": "0463e8dc",
   "metadata": {
    "id": "bDpSj4jmTe-G"
   },
   "source": [
    "### 2. Debugging your own algorithm\n",
    "\n",
    "Write a completely new function (or multiple) that does something useful. For inspiration, here are some suggestions:\n",
    "\n",
    "- Compute the average word length in a text.\n",
    "- Given a string, return `True` if it is a palindrome and `False` otherwise. A palindrome is a string that reads the same if you reverse it. For example, `'abcba'` and `'ab cc ba'` are palindromes, `'abcabc'` is not.\n",
    "- In a list of strings, find the first one that does not contain the word `'the'`.\n",
    "\n",
    "If you feel these examples are too complicated, a simpler algorithm is also fine.\n",
    "\n",
    "Once you have written your function(s), add multiple assertions to check that your code works as you intended. Run your code and see whether you have any failing assertions.\n",
    "\n",
    "If all of your assertions pass, try adding more assertions and see whether you can still find a bug. It is very uncommon for new code to work correctly on the first try! If it seems you have written perfect code on the first try, give yourself a pat on the shoulder, then pick a more complicated algorithm. You need to create code with a bug!\n",
    "\n",
    "Once you have written code with a failing assertion, step with the debugger to understand why the assertion is failing. Fix the bug only after you fully understand the cause. Finally, check that all your assertions pass after the fix. If you still have failing assertions, step with the debugger again. Repeat until all assertions pass."
   ]
  },
  {
   "cell_type": "code",
   "execution_count": null,
   "id": "1b616166",
   "metadata": {
    "id": "TjsG6HmVanqq"
   },
   "outputs": [],
   "source": [
    "# maybe some test data here\n",
    "\n",
    "# your own function(s) here\n",
    "\n",
    "# your own assertions here"
   ]
  },
  {
   "cell_type": "markdown",
   "id": "004a87ff",
   "metadata": {
    "id": "QBPQVbY_aoLt"
   },
   "source": [
    "## Next module\n",
    "\n",
    "[9. String manipulation](https://colab.research.google.com/drive/15djL6RWOHmSo7rpQMOLE1ga9bICxBLmm)"
   ]
  }
 ],
 "metadata": {
  "jupytext": {
   "main_language": "python"
  },
  "kernelspec": {
   "display_name": "Python 3",
   "name": "python3"
  }
 },
 "nbformat": 4,
 "nbformat_minor": 5
}
