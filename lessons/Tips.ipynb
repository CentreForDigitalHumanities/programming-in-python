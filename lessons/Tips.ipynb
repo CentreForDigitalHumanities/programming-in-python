{
 "cells": [
  {
   "cell_type": "markdown",
   "metadata": {
    "id": "eL_rkx7cIm77"
   },
   "source": [
    "# Tips\n",
    "\n",
    "This notebook contains tips for the final exercise of the CDH entry level Python course at Utrecht University. Participants were asked to think of an analysis that they might want to perform and to submit a description of this analysis in advance of the course. The tips in this notebook were chosen based on those submissions.\n",
    "\n",
    "There is some overlap with the material that was already discussed during the lectures.\n",
    "\n",
    "While the notebook is written such that you can read it top to bottom, you are welcome to cherry-pick the topics that interest you. There is a table of contents in the left margin. Some sections contain internal links to other sections.\n",
    "\n",
    "As a general tip, you can get a complete overview of the Python standard library [over here][python-libs].\n",
    "\n",
    "[python-libs]: https://docs.python.org/3/library/index.html"
   ]
  },
  {
   "cell_type": "markdown",
   "metadata": {
    "id": "wBOMsp2twgbB"
   },
   "source": [
    "## Converting between types\n",
    "\n",
    "String to int:"
   ]
  },
  {
   "cell_type": "code",
   "execution_count": null,
   "metadata": {
    "id": "1aU45qPvwntM"
   },
   "outputs": [],
   "source": [
    "int('123')"
   ]
  },
  {
   "cell_type": "markdown",
   "metadata": {
    "id": "cfrMiRd3wy9d"
   },
   "source": [
    "Integer to string:"
   ]
  },
  {
   "cell_type": "code",
   "execution_count": null,
   "metadata": {
    "id": "LNJEIXCtw6rq"
   },
   "outputs": [],
   "source": [
    "str(123)"
   ]
  },
  {
   "cell_type": "markdown",
   "metadata": {
    "id": "RtGlRbICxf__"
   },
   "source": [
    "Float to string:"
   ]
  },
  {
   "cell_type": "code",
   "execution_count": null,
   "metadata": {
    "id": "ejGhZs8SxjUN"
   },
   "outputs": [],
   "source": [
    "str(0.5)"
   ]
  },
  {
   "cell_type": "markdown",
   "metadata": {
    "id": "TdaVUNpBxmQ8"
   },
   "source": [
    "String to float:"
   ]
  },
  {
   "cell_type": "code",
   "execution_count": null,
   "metadata": {
    "id": "Nwk3D9VExoU_"
   },
   "outputs": [],
   "source": [
    "float('0.5')"
   ]
  },
  {
   "cell_type": "markdown",
   "metadata": {
    "id": "6CYPccQYxwCm"
   },
   "source": [
    "Boolean to string:"
   ]
  },
  {
   "cell_type": "code",
   "execution_count": null,
   "metadata": {
    "id": "JJf6fjNGxzvC"
   },
   "outputs": [],
   "source": [
    "str(True)"
   ]
  },
  {
   "cell_type": "markdown",
   "metadata": {
    "id": "LV7o-rkDx3MY"
   },
   "source": [
    "String to boolean:"
   ]
  },
  {
   "cell_type": "code",
   "execution_count": null,
   "metadata": {
    "id": "UUPNXO4mx5eb"
   },
   "outputs": [],
   "source": [
    "print('Direct boolean from string does not work:', bool('False'))\n",
    "\n",
    "# So we have to write a function.\n",
    "def boolean_from_string(string):\n",
    "    if string == 'False':\n",
    "        return False\n",
    "    else:\n",
    "        return True\n",
    "\n",
    "print(boolean_from_string('True'))\n",
    "print(boolean_from_string('False'))"
   ]
  },
  {
   "cell_type": "markdown",
   "metadata": {
    "id": "CfnNAUKmyhOj"
   },
   "source": [
    "Integer to float:"
   ]
  },
  {
   "cell_type": "code",
   "execution_count": null,
   "metadata": {
    "id": "st9vZgf0yixm"
   },
   "outputs": [],
   "source": [
    "float(123)"
   ]
  },
  {
   "cell_type": "markdown",
   "metadata": {
    "id": "Gmw_vdGoyl3c"
   },
   "source": [
    "Float to integer:"
   ]
  },
  {
   "cell_type": "code",
   "execution_count": null,
   "metadata": {
    "id": "JZ_l3IdhynF-"
   },
   "outputs": [],
   "source": [
    "int(0.5)"
   ]
  },
  {
   "cell_type": "markdown",
   "metadata": {
    "id": "97z6FUGz8uAS"
   },
   "source": [
    "## Strings\n",
    "\n",
    "Strings have a couple of tricks that may be useful for the final exercise. We illustrate them quickly below. A complete overview of all string methods can be found [here](https://docs.python.org/3/library/stdtypes.html#text-sequence-type-str).\n",
    "\n",
    "[`str.startswith`](https://docs.python.org/3/library/stdtypes.html#str.startswith) and [`str.endswith`](https://docs.python.org/3/library/stdtypes.html#str.endswith) will tell you whether a string begins or ends with a particular other string, respectively."
   ]
  },
  {
   "cell_type": "code",
   "execution_count": null,
   "metadata": {
    "id": "07ik0vd2-6tQ"
   },
   "outputs": [],
   "source": [
    "for word in ['magazine', 'kangaroo', 'rooster', 'broom']:\n",
    "    if word.startswith('roo'):\n",
    "        print('\"' + word + '\" starts with \"roo\"')\n",
    "    if word.endswith('roo'):\n",
    "        print('\"' + word + '\" ends with \"roo\"')"
   ]
  },
  {
   "cell_type": "markdown",
   "metadata": {
    "id": "TyjWFAWR_0Dp"
   },
   "source": [
    "[`str.join`](https://docs.python.org/3/library/stdtypes.html#str.join) can glue a sequence of strings together, as we have seen in [9. String manipulation](https://colab.research.google.com/drive/19yTpFfp9uhBb-kAuOmSQY8_LrMtj8Goq#scrollTo=Join_an_iterable_into_a_string)."
   ]
  },
  {
   "cell_type": "code",
   "execution_count": null,
   "metadata": {
    "id": "JlqAc5N8AQPu"
   },
   "outputs": [],
   "source": [
    "print(' + '.join(['1', '2', '3', '4']))\n",
    "print(', '.join(['do', 're', 'mi', 'fa', 'sol', 'la', 'ti', 'do']))"
   ]
  },
  {
   "cell_type": "markdown",
   "metadata": {
    "id": "g0x1VvE5B71w"
   },
   "source": [
    "[`str.split`](https://docs.python.org/3/library/stdtypes.html#str.split) is the opposite of `str.join`: it will split a string by a given separator and return a list with the fragments. If you don't specify a separator, it will split by whitespace."
   ]
  },
  {
   "cell_type": "code",
   "execution_count": null,
   "metadata": {
    "colab": {
     "base_uri": "https://localhost:8080/"
    },
    "id": "R11wYmWFCVdb",
    "outputId": "ca8804e9-80a5-4771-e3f0-1adee880f66b"
   },
   "outputs": [
    {
     "name": "stdout",
     "output_type": "stream",
     "text": [
      "['1', '2', '3', '4']\n",
      "['1 ', ' 2 ', ' 3 ', ' 4']\n",
      "['1', '+', '2', '+', '3', '+', '4']\n",
      "['1', '2', '3', '4']\n"
     ]
    }
   ],
   "source": [
    "print('1 + 2 + 3 + 4'.split(' + '))\n",
    "print('1 + 2 + 3 + 4'.split('+'))\n",
    "print('1 + 2 + 3 + 4'.split())\n",
    "print('1   2   3   4'.split())"
   ]
  },
  {
   "cell_type": "markdown",
   "metadata": {
    "id": "0csn-TVPC8qG"
   },
   "source": [
    "[`str.splitlines`](https://docs.python.org/3/library/stdtypes.html#str.splitlines) is basically `str.split('\\n')`, but it cleverly recognizes many types of line endings (which might differ between platforms) and it has an option to keep the line endings in the resulting fragments."
   ]
  },
  {
   "cell_type": "markdown",
   "metadata": {
    "id": "k1xy1XmaED7X"
   },
   "source": [
    "[`str.strip`](https://docs.python.org/3/library/stdtypes.html#str.strip) will return a new string with the whitespace removed from the beginning and end. You can also specify a different set of characters that should be removed. The default mode of removing whitespace is useful for cleaning up text that was downloaded from the internet or that was copypasted from some kind of document."
   ]
  },
  {
   "cell_type": "code",
   "execution_count": null,
   "metadata": {
    "id": "djsFEC5DE6md"
   },
   "outputs": [],
   "source": [
    "\"  This string isn't very tidy. \".strip()"
   ]
  },
  {
   "cell_type": "markdown",
   "metadata": {
    "id": "G4tC_OiFFth3"
   },
   "source": [
    "### Escapes\n",
    "\n",
    "There are some characters that normally aren't allowed to appear in a literal string. We can shoehorn them in anyway by placing a backslash `\\` in front of the character, or another letter that acts as a placeholder. This is called *escaping* the character. The combination of the backslash and the following character is called an *escape sequence*. Python also uses these escape sequences when echoing raw strings back at us. The following escape sequences occur often:\n",
    "\n",
    "`\\n` - linefeed (\"newline\") character.\n",
    "\n",
    "`\\r\\n` - carriage return plus linefeed. For archeological reasons I will not go into, these two characters together count as a single line separator in Microsoft Windows. So you are likely to find it in files that were created in Windows.\n",
    "\n",
    "`\\t` - tab character.\n",
    "\n",
    "`\\'` - straight single quote (escape not needed in strings delimited by double quotes).\n",
    "\n",
    "`\\\"` - straight double quote (escape not needed in strings delimited by single quotes).\n",
    "\n",
    "`\\\\` - the backslash itself.\n",
    "\n",
    "You can get a complete overview of escape sequences if you scroll down from [here](https://docs.python.org/3/reference/lexical_analysis.html#string-and-bytes-literals)."
   ]
  },
  {
   "cell_type": "markdown",
   "metadata": {
    "id": "5BlYPydVDvWt"
   },
   "source": [
    "### Searching for substrings\n",
    "\n",
    "Searching for a substring within a larger string is a common task, especially in the humanities. [`str.find`](https://docs.python.org/3/library/stdtypes.html#str.find) will tell us the first position in the large string at which the substring is found, or `-1` if it is not found:"
   ]
  },
  {
   "cell_type": "code",
   "execution_count": null,
   "metadata": {
    "id": "kxLt4yApEtpV"
   },
   "outputs": [],
   "source": [
    "print('kangaroo'.find('roo'))\n",
    "print('kangaroo'.find('skip'))"
   ]
  },
  {
   "cell_type": "markdown",
   "metadata": {
    "id": "_SmGTTzwFAFj"
   },
   "source": [
    "`str.find` accepts an optional second argument, which lets us specify the position from which to start searching. We can use this to continue searching for more occurrences after the first match. For example, the following function returns *all* positions of the substring `needle` within the larger string `haystack`:"
   ]
  },
  {
   "cell_type": "code",
   "execution_count": null,
   "metadata": {
    "id": "lAlw_L-sFikq"
   },
   "outputs": [],
   "source": [
    "def str_find_all(haystack, needle):\n",
    "    results = []\n",
    "    position = -1\n",
    "    # while True lets you repeat the same code \"forever\"\n",
    "    while True:\n",
    "        position = haystack.find(needle, position + 1)\n",
    "        if position is -1:\n",
    "            # break lets you \"break out\" of the infinite loop\n",
    "            break\n",
    "        else:\n",
    "            results.append(position)\n",
    "    return results\n",
    "\n",
    "str_find_all('Colorless green ideas sleep furiously', 'e')"
   ]
  },
  {
   "cell_type": "markdown",
   "metadata": {
    "id": "_U9XtQyTLQyC"
   },
   "source": [
    "With the optional third argument, we can also make `str.find` *stop* searching at a given position. In the example below, `'roo'` is not found in the first four characters of `'kangaroo'`."
   ]
  },
  {
   "cell_type": "code",
   "execution_count": null,
   "metadata": {
    "id": "jL0nWgb4LivF"
   },
   "outputs": [],
   "source": [
    "print('kangaroo'.find('roo', 0, 4))"
   ]
  },
  {
   "cell_type": "markdown",
   "metadata": {
    "id": "lVzhE5VuMQdZ"
   },
   "source": [
    "During the lectures, we mentioned a simpler way to search for a substring that only tells you whether the substring appears at all:"
   ]
  },
  {
   "cell_type": "code",
   "execution_count": null,
   "metadata": {
    "id": "KfieQsYOMkK7"
   },
   "outputs": [],
   "source": [
    "'roo' in 'kangaroo'"
   ]
  },
  {
   "cell_type": "markdown",
   "metadata": {
    "id": "LhCDt6xTMq2i"
   },
   "source": [
    "### Regular expressions\n",
    "\n",
    "If you need pattern-based search, [regular expressions](https://docs.python.org/3/library/re.html) are the tool of choice. A regular expression lets you describe a set of similar strings with a single pattern. For example, the following notation will match all occurrences of the word \"colour\" in a text, even if it is capitalized or spelled \"color\":\n",
    "\n",
    "```\n",
    "[Cc]olou?r\n",
    "```\n",
    "\n",
    "The `search` function from the standard module `re` (described by the above link) lets us use such patterns to search through a string:"
   ]
  },
  {
   "cell_type": "code",
   "execution_count": null,
   "metadata": {
    "id": "jOJl_23IOvyG"
   },
   "outputs": [],
   "source": [
    "import re\n",
    "\n",
    "re.search('[Cc]olou?r', 'Colorless green ideas sleep furiously')"
   ]
  },
  {
   "cell_type": "markdown",
   "metadata": {
    "id": "Me7D092xO-u0"
   },
   "source": [
    "Regular expressions are a powerful tool and the `re` module has many bells and whistles. Please refer to [the documentation](https://docs.python.org/3/library/re.html) for the details."
   ]
  },
  {
   "cell_type": "markdown",
   "metadata": {
    "id": "mUmNSdNzMq_M"
   },
   "source": [
    "### Format strings\n",
    "\n",
    "A format string is a perfectly normal string that contains some special notation, i.e., pairs of braces `{}`. While the presence of those braces does not oblige us to anything, we *can* use their presence (and insert them on purpose) in order to benefit from the [`str.format`](https://docs.python.org/3/library/stdtypes.html#str.format) method. For example, if I have the following string,\n",
    "\n",
    "```python\n",
    "'Ta-da!'\n",
    "```\n",
    "\n",
    "I can turn it into a format string simply by inserting a pair of braces, anywhere I like:\n",
    "\n",
    "```python\n",
    "'Ta-da: {}'\n",
    "```\n",
    "\n",
    "If I call `str.format` on a format string, it will interpret pairs of braces as placeholders and replace them by any arguments that I pass."
   ]
  },
  {
   "cell_type": "code",
   "execution_count": null,
   "metadata": {
    "colab": {
     "base_uri": "https://localhost:8080/",
     "height": 37
    },
    "id": "NQmg3z2cPPFW",
    "outputId": "c6647728-a0ac-4f50-e5ed-36e9b0c94cbf"
   },
   "outputs": [
    {
     "data": {
      "application/vnd.google.colaboratory.intrinsic+json": {
       "type": "string"
      },
      "text/plain": [
       "'Ta-da: this is Python!'"
      ]
     },
     "execution_count": 29,
     "metadata": {},
     "output_type": "execute_result"
    }
   ],
   "source": [
    "'Ta-da: {}'.format('this is Python!')"
   ]
  },
  {
   "cell_type": "markdown",
   "metadata": {
    "id": "ZtwiQhMJPcAd"
   },
   "source": [
    "You can insert as many placeholders and pass as many arguments as you like, as long as there are at least as many arguments as placeholders. Of course, you usually want the number of arguments to exactly match the number of placeholders in the format string, but `str.format` will simply skip any arguments that remain."
   ]
  },
  {
   "cell_type": "code",
   "execution_count": null,
   "metadata": {
    "id": "x_f2iRsQQNqr"
   },
   "outputs": [],
   "source": [
    "print('Ta-da: {}'.format(1, 2, 3))\n",
    "print('Ta{}da{} {}'.format('-', ':', 'success!'))"
   ]
  },
  {
   "cell_type": "markdown",
   "metadata": {
    "id": "7GOzHkgLRGYi"
   },
   "source": [
    "Format strings are a great way to compose strings out of some fixed parts and some variable parts, especially if the fixed parts aren't entirely regular. Consider the following code:"
   ]
  },
  {
   "cell_type": "code",
   "execution_count": null,
   "metadata": {
    "id": "mTVp_EOmR_nm"
   },
   "outputs": [],
   "source": [
    "YELL_START = 'Go go '\n",
    "YELL_END = '!!!'\n",
    "\n",
    "def yell(name):\n",
    "    return YELL_START + name + YELL_END\n",
    "\n",
    "yell('Jelte')"
   ]
  },
  {
   "cell_type": "markdown",
   "metadata": {
    "id": "fwTdCa4QSOuv"
   },
   "source": [
    "Using a format string, this code would be a bit more explicit and a bit easier to read and write as well:"
   ]
  },
  {
   "cell_type": "code",
   "execution_count": null,
   "metadata": {
    "id": "KvbXfNykSmiB"
   },
   "outputs": [],
   "source": [
    "YELL_FORMAT = 'Go go {}!!!'\n",
    "\n",
    "def yell(name):\n",
    "    return YELL_FORMAT.format(name)\n",
    "\n",
    "yell('Jelte')"
   ]
  },
  {
   "cell_type": "markdown",
   "metadata": {
    "id": "TbnEKRdlTGTj"
   },
   "source": [
    "The above discussion addresses about 90% of all string formatting needs, but for the remaining 10%, `str.format` is chock-full of bells and whistles. You can use named arguments, reuse the same argument in multiple places, align placeholders to a particular width with filler characters of choice, specify how to format numbers, and so forth and so on. You can read all about it [here](https://docs.python.org/3/library/string.html#formatstrings)."
   ]
  },
  {
   "cell_type": "markdown",
   "metadata": {
    "id": "0FJ_vXwlwT_5"
   },
   "source": [
    "### Cross-platform file paths\n",
    "\n",
    "Consider the location of the current notebook (`Tips.ipynb`). It is located inside a folder called `Colab Notebooks`, which is inside a folder called `My Drive`, which is inside my Google Drive account. In Windows, we write such paths as follows:\n",
    "\n",
    "    My Drive\\Colab Notebooks\\Tips.ipynb\n",
    "\n",
    "In macOS and Linux, on the other hand, we separate the path components with forward slashes:\n",
    "\n",
    "    My Drive/Colab Notebooks/Tips.ipynb\n",
    "\n",
    "In Python, we often need to create a string with a file path, which would be different depending on whether the code is running on Windows or elsewhere (backslashes appear twice because they need to be [escaped](#scrollTo=Escapes)):\n",
    "\n",
    "```py\n",
    "windows_path = 'My Drive\\\\Colab Notebooks\\\\Tips.ipynb'\n",
    "maclinux_path = 'My Drive/Colab Notebooks/Tips.ipynb'\n",
    "```\n",
    "\n",
    "We generally want our code to work on all platforms, without having to change the path notation or having to introduce `if`/`else` statements everywhere to choose between alternative file paths. This is where the standard module [`os.path`][os.path] comes to our rescue. It provides a function called `join`, which glues the path components together with the separator that is appropriate for whatever platform the code is running on:\n",
    "\n",
    "```py\n",
    "import os.path as op\n",
    "\n",
    "crossplatform_path = op.join('My Drive', 'Colab Notebooks', 'Tips.ipynb')\n",
    "```\n",
    "\n",
    "The above snippet is repeated in the code cell below. If you run it, you will see that Google Colab runs on a system that uses the same path convention as macOS and Linux.\n",
    "\n",
    "Besides glueing path components together, [`os.path`][os.path] also provides tools for taking paths apart again and for converting back and forth between absolute and relative paths.\n",
    "\n",
    "[os.path]: https://docs.python.org/3/library/os.path.html"
   ]
  },
  {
   "cell_type": "code",
   "execution_count": null,
   "metadata": {
    "colab": {
     "base_uri": "https://localhost:8080/"
    },
    "id": "AfuPbq5iwRsR",
    "outputId": "48cb5576-1a6d-4b82-fcb2-46c76c0bbb3d"
   },
   "outputs": [
    {
     "name": "stdout",
     "output_type": "stream",
     "text": [
      "My Drive/Colab Notebooks/Tips.ipynb\n"
     ]
    }
   ],
   "source": [
    "import os.path as op\n",
    "\n",
    "crossplatform_path = op.join('My Drive', 'Colab Notebooks', 'Tips.ipynb')\n",
    "\n",
    "print(crossplatform_path)"
   ]
  },
  {
   "cell_type": "markdown",
   "metadata": {
    "id": "hhu9T00mFSHd"
   },
   "source": [
    "## Iterables"
   ]
  },
  {
   "cell_type": "markdown",
   "metadata": {
    "id": "X6KSp6FbMPRP"
   },
   "source": [
    "Python's `for` loop knows how to take one value at a time out of a generator, just like it knows how to take one value at a time out of a list. We call the more general class of things that `for` can loop over *iterables*. There are many more types of iterables besides lists and generators (including tuples and dictionaries) and `for` is able to deal with all of them, because all iterables follow the same **iterator convention**.\n",
    "\n",
    "In fact, this convention is not restricted to `for`. Most functions in the Python standard library that work with sequences, accept not just lists but any iterable. We have already seen this in action when we did `list(range(0, 101))`: `list` accepted an iterable, `range(0, 101)`, took out its values one by one, stored all of them in a list, and finally returned that list to you.\n",
    "\n",
    "Since generators don't store all of their values at the same time and we might not always need all values in a sequence, they are potentially more efficient than lists. For this reason, many standard library functions also *return* generators rather than lists.\n",
    "\n",
    "By combining functions that consume and return iterables, we can often replace loops by shorter expressions. In the next few subsections, we illustrate the most important functions on iterables.\n",
    "\n",
    "[range]: https://docs.python.org/3/library/functions.html#func-range"
   ]
  },
  {
   "cell_type": "markdown",
   "metadata": {
    "id": "vX59S1uDaBLI"
   },
   "source": [
    "### `filter`\n",
    "\n",
    "The built-in [`filter`][filter] accepts a function and an iterable. It passes each value in the iterable to the function in a separate call. It returns a generator with only the values in the input sequence for which the function returned `True`.\n",
    "\n",
    "[filter]: https://docs.python.org/3/library/functions.html#filter"
   ]
  },
  {
   "cell_type": "code",
   "execution_count": null,
   "metadata": {
    "id": "YgQ2RCRbbJDY"
   },
   "outputs": [],
   "source": [
    "def odd(number):\n",
    "    return number % 2 == 1\n",
    "\n",
    "fibonacci_10 = [1, 1, 2, 3, 5, 8, 13, 21, 34, 55]\n",
    "\n",
    "list(filter(odd, fibonacci_10))"
   ]
  },
  {
   "cell_type": "markdown",
   "metadata": {
    "id": "30NBqwSZbqee"
   },
   "source": [
    "For comparison, this is what the last line would look like without `filter`:"
   ]
  },
  {
   "cell_type": "code",
   "execution_count": null,
   "metadata": {
    "id": "UuzJGcjOcOL8"
   },
   "outputs": [],
   "source": [
    "result_list = []\n",
    "for number in fibonacci_10:\n",
    "    if odd(number):\n",
    "        result_list.append(number)\n",
    "result_list"
   ]
  },
  {
   "cell_type": "markdown",
   "metadata": {
    "id": "81vNGdqgc1PI"
   },
   "source": [
    "### `map`\n",
    "\n",
    "The built-in [`map`][map] accepts a function and an iterable. It passes each value in the iterable as the first argument to the function in a separate call. It returns a generator with the return values of each of those calls.\n",
    "\n",
    "[map]: https://docs.python.org/3/library/functions.html#map"
   ]
  },
  {
   "cell_type": "code",
   "execution_count": null,
   "metadata": {
    "id": "Gdw4kFoCeQ4x"
   },
   "outputs": [],
   "source": [
    "def square(number):\n",
    "    return number ** 2\n",
    "\n",
    "list(map(square, range(10)))"
   ]
  },
  {
   "cell_type": "markdown",
   "metadata": {
    "id": "CMWKdfZued1f"
   },
   "source": [
    "For comparison, code without `map` that produces the same output as the last line:"
   ]
  },
  {
   "cell_type": "code",
   "execution_count": null,
   "metadata": {
    "id": "I13FNH_ZeptA"
   },
   "outputs": [],
   "source": [
    "result_list = []\n",
    "for number in range(10):\n",
    "    result_list.append(square(number))\n",
    "result_list"
   ]
  },
  {
   "cell_type": "markdown",
   "metadata": {
    "id": "S5NtKmJ21L_u"
   },
   "source": [
    "You can also pass multiple iterables to `map`. In that case, `map` will take one value from each iterable per iteration and pass the value from the first iterable as the first argument to the function, the corresponding value from the second iterable as the second argument, and so on. In the following example, we use a [format string](#scrollTo=Format_strings)."
   ]
  },
  {
   "cell_type": "code",
   "execution_count": null,
   "metadata": {
    "id": "5W6NwA8D2Kz3"
   },
   "outputs": [],
   "source": [
    "sentence = '{} {} {} {}.'.format\n",
    "\n",
    "# The following lists have been shuffled.\n",
    "# For fun, you can try reordering them so the correct words\n",
    "# from each list match up again. :-)\n",
    "# (But run the code first so you know what it does.)\n",
    "properties = ['Gentle', 'Playful', 'Stubborn', 'Thirsty']\n",
    "people = ['camels', 'plumbers', 'giants', 'children']\n",
    "verbs = ['tighten', 'devour', 'ruin', 'capture']\n",
    "objects = ['nightmares', 'massage chairs', 'cactuses', 'rusty fittings']\n",
    "\n",
    "phrases = map(sentence, properties, people, verbs, objects)\n",
    "for phrase in phrases:\n",
    "    print(phrase)"
   ]
  },
  {
   "cell_type": "markdown",
   "metadata": {
    "id": "G7fup_SyBode"
   },
   "source": [
    "Without `map` (and without `enumerate` or `range`), the last loop would have looked like this instead:"
   ]
  },
  {
   "cell_type": "code",
   "execution_count": null,
   "metadata": {
    "id": "9a1XKPuFBtpF"
   },
   "outputs": [],
   "source": [
    "index = 0\n",
    "for prop in properties:\n",
    "    group = people[index]\n",
    "    verb = verbs[index]\n",
    "    obj = objects[index]\n",
    "    print(sentence(prop, group, verb, obj))\n",
    "    index = index + 1"
   ]
  },
  {
   "cell_type": "markdown",
   "metadata": {
    "id": "9DCBUR61DNRr"
   },
   "source": [
    "If you pass iterables of unequal lengths, `map` will stop at the end of the shortest iterable. In the next subsection, we will take a quick look at how this can sometimes be useful."
   ]
  },
  {
   "cell_type": "code",
   "execution_count": null,
   "metadata": {
    "id": "pR-4fFPZDMOi"
   },
   "outputs": [],
   "source": [
    "# operator.mul is a function that multiplies two numbers. It\n",
    "# does exactly the same thing as the `*` operator, but as a\n",
    "# function so you can pass it as an argument to other functions.\n",
    "# More about the operator module in the next subsection.\n",
    "from operator import mul\n",
    "\n",
    "small = [1, 2, 3]\n",
    "large = [5, 7, 11, 13, 17, 19, 23, 29]\n",
    "\n",
    "list(map(mul, small, large))"
   ]
  },
  {
   "cell_type": "markdown",
   "metadata": {
    "id": "yBYdJR9VHLQU"
   },
   "source": [
    "### More built-in functions\n",
    "\n",
    "`range`, `enumerate`, `filter` and especially `map` are the functions on iterables that you'll be using the most. There are however more built-in functions on iterables worth knowing about. Below, we briefly mention a few.\n",
    "\n",
    "- [`all`](https://docs.python.org/3/library/functions.html#all) consumes an iterable. If the sequence contains at least one `False` value, it returns `False`. Otherwise it returns `True` (including when it is empty). It's like the `and` operator, but operating on an arbitrary number of operands instead of exactly two.\n",
    "- [`any`](https://docs.python.org/3/library/functions.html#any) is the exact opposite of `all`: it returns `True` if the sequence contains at least one `True` value, otherwise `False`. Can be thought of as the \"long form\" of the `or` operator.\n",
    "- [`len`](https://docs.python.org/3/library/functions.html#len) can tell you the length of lists, strings, and some other iterables that can \"know\" their size in advance, including `range`.\n",
    "- [`list`](https://docs.python.org/3/library/functions.html#func-list), as we have seen in previous examples, can store the values from any iterable into a list.\n",
    "- [`max`](https://docs.python.org/3/library/functions.html#max) can be passed a single iterable argument, in which case it will return the maximum value of the sequence. You can however also pass multiple arguments, in which case it will simply compare them directly (e.g. `max(range(10))` will return `9` and `max(3, 4)` will return `4`). Likewise for [`min`](https://docs.python.org/3/library/functions.html#min).\n",
    "- [`str.join`](https://docs.python.org/3/library/stdtypes.html#str.join), which I covered in more detail in [Strings](#scrollTo=Strings), can take the strings that it will glue together from any iterable sequence.\n",
    "- [`sum`](https://docs.python.org/3/library/functions.html#sum), as the name suggests, will return the sum of all values in an iterable sequence."
   ]
  },
  {
   "cell_type": "markdown",
   "metadata": {
    "id": "LugfHklV0b4C"
   },
   "source": [
    "### Operators\n",
    "\n",
    "Given two lists of numbers, we might want to create a third list where each element is the sum of the correponding elements of the first two lists. We cannot pass the `+` operator to `map`, because the `+` operator is not a function:"
   ]
  },
  {
   "cell_type": "code",
   "execution_count": null,
   "metadata": {
    "id": "ddcs1QaK1APC"
   },
   "outputs": [],
   "source": [
    "first_list = [1, 2, 3]\n",
    "second_list = [7, 7, 5]\n",
    "\n",
    "list(map(+, first_list, second_list))"
   ]
  },
  {
   "cell_type": "markdown",
   "metadata": {
    "id": "Ix-TPRvY1Pc-"
   },
   "source": [
    "Fortunately, the [`operator`](https://docs.python.org/3/library/operator.html) standard module exports function versions of most operators, so we can do this instead:"
   ]
  },
  {
   "cell_type": "code",
   "execution_count": null,
   "metadata": {
    "id": "UG_UUx8S1jQw"
   },
   "outputs": [],
   "source": [
    "from operator import add\n",
    "\n",
    "first_list = [1, 2, 3]\n",
    "second_list = [7, 7, 5]\n",
    "\n",
    "list(map(add, first_list, second_list))"
   ]
  },
  {
   "cell_type": "markdown",
   "metadata": {
    "id": "ezmNWLLM2G4w"
   },
   "source": [
    "The operators that you would most likely use this way, and their corresponding functions exported from `operator`, are the following (full list [here](https://docs.python.org/3/library/operator.html#mapping-operators-to-functions)):\n",
    "\n",
    "`+` - `add` (for adding numbers)\n",
    "\n",
    "`+` - `concat` (for concatenating strings or lists)\n",
    "\n",
    "`-` - `neg` (unary minus to flip the sign of a number)\n",
    "\n",
    "`-` - `sub` (binary minus to subtract two numbers)\n",
    "\n",
    "`in` - `contains` (for checking whether a value appears in an iterable)\n",
    "\n",
    "`*` - `mul`\n",
    "\n",
    "`/` - `truediv` (`//` is `floordiv`)\n",
    "\n",
    "`%` - `mod`\n",
    "\n",
    "`**` - `pow`\n",
    "\n",
    "`<` - `lt`\n",
    "\n",
    "`>` - `gt`\n",
    "\n",
    "`==` - `eq`\n",
    "\n",
    "`!=` - `ne`"
   ]
  },
  {
   "cell_type": "markdown",
   "metadata": {
    "id": "0SMYES0-gyBX"
   },
   "source": [
    "### Bound methods\n",
    "\n",
    "In the `map` subsection, I used an [example](#scrollTo=5W6NwA8D2Kz3&line=1&uniqifier=1) with the notation `'{} {} {} {}.'.format`. I stored that in a variable and then passed that as a function to `map`. We have seen something similar in [exercise 9.3.3](https://colab.research.google.com/drive/19yTpFfp9uhBb-kAuOmSQY8_LrMtj8Goq#scrollTo=ArVJo3y0jJ8T). It turns out this is a general thing we can do in more situations, so let's briefly touch on how this works.\n",
    "\n",
    "The essence is that"
   ]
  },
  {
   "cell_type": "code",
   "execution_count": null,
   "metadata": {
    "id": "51cj58Pdogj_"
   },
   "outputs": [],
   "source": [
    "'{} {} {} {}.'.format(1, 2, 3, 4)"
   ]
  },
  {
   "cell_type": "markdown",
   "metadata": {
    "id": "O-0kegzaonFi"
   },
   "source": [
    "is equivalent to"
   ]
  },
  {
   "cell_type": "code",
   "execution_count": null,
   "metadata": {
    "id": "GqxgL5Rgorx3"
   },
   "outputs": [],
   "source": [
    "str.format('{} {} {} {}.', 1, 2, 3, 4)"
   ]
  },
  {
   "cell_type": "markdown",
   "metadata": {
    "id": "3DWOZQHKpClX"
   },
   "source": [
    "We generally use the first form because it is more convenient, but Python is actually translating it to the second form behind our backs. The [format string](#scrollTo=Format_strings) `'{} {} {} {}.'` is being passed as the first argument to the function `str.format` in both cases.\n",
    "\n",
    "If we do `'{} {} {} {}.'.format` without actually calling the function and passing an argument list, Python understands that we want to use `'{} {} {} {}.'` as the first argument when we later make the call. It returns a special, *bound* version of `str.format` that already has our format string filled in, so we only need to supply the remaining arguments. This is a special form of *partial application* (we will see the more general form of partial application in the [next subsection](#scrollTo=partial)). Python's support for this special form has something to do with classes and objects, which you can optionally read more about in [a later section](#scrollTo=Classes_and_objects).\n",
    "\n",
    "With this theory out of the way, let's look at a couple more examples of how we can use both bound and unbound functions in `map` and similar functions. We use [string](#scrollTo=Strings) and [dictionary](#scrollTo=Dictionaries) functions in this example."
   ]
  },
  {
   "cell_type": "code",
   "execution_count": null,
   "metadata": {
    "id": "xSptat6auBDW"
   },
   "outputs": [],
   "source": [
    "# We can map the unbound str.lower to lowercase a sequence of strings.\n",
    "strings = ['Hawaii', 'Iceland', 'Hokkaido', 'Vanuatu']\n",
    "print(list(map(str.lower, strings)))\n",
    "\n",
    "# We can filter by the bound dict.get to check for associated values.\n",
    "topography = {\n",
    "    'Iceland': 'volcanic',\n",
    "    'Vanuatu': 'Melanesia',\n",
    "}\n",
    "# Give me only the islands I know something about.\n",
    "print(list(filter(topography.get, strings)))"
   ]
  },
  {
   "cell_type": "markdown",
   "metadata": {
    "id": "EqorhEmy6pxq"
   },
   "source": [
    "With bound methods, we can achieve ultimate minimalism in our [example](#scrollTo=fwTdCa4QSOuv&line=1&uniqifier=1) from the format strings section, repeated here:"
   ]
  },
  {
   "cell_type": "code",
   "execution_count": null,
   "metadata": {
    "id": "Q49H5CvR7DbK"
   },
   "outputs": [],
   "source": [
    "YELL_FORMAT = 'Go go {}!!!'\n",
    "\n",
    "def yell(name):\n",
    "    return YELL_FORMAT.format(name)\n",
    "\n",
    "yell('Jelte')"
   ]
  },
  {
   "cell_type": "markdown",
   "metadata": {
    "id": "kJnvBskM7GvW"
   },
   "source": [
    "because we can suffice with this:"
   ]
  },
  {
   "cell_type": "code",
   "execution_count": null,
   "metadata": {
    "id": "BHiKKKM77JKL"
   },
   "outputs": [],
   "source": [
    "yell = 'Go go {}!!!'.format\n",
    "\n",
    "yell('Jelte')"
   ]
  },
  {
   "cell_type": "markdown",
   "metadata": {
    "id": "XO0Q3vhf74Nd"
   },
   "source": [
    "### `itertools` and `functools`\n",
    "\n",
    "The [`itertools`](https://docs.python.org/3/library/itertools.html) and [`functools`](https://docs.python.org/3/library/functools.html) standard modules let you turn your iterable-fu up to 11. Most of the contents of these modules are a bit advanced, but there are a couple of tricks in there that might be useful during the final exercise. We quickly illustrate them below."
   ]
  },
  {
   "cell_type": "markdown",
   "metadata": {
    "id": "ucNV6xs0Tr8x"
   },
   "source": [
    "#### `repeat`\n",
    "\n",
    "[`itertools.repeat`](https://docs.python.org/3/library/itertools.html#itertools.repeat), as the name suggests, will keep repeating a value that you specify. *Forever*. That means you should definitely not try to loop over it! However, you can use it when you need to `map` a function that takes multiple arguments, where some arguments come from a (finite) iterable sequence while at least one argument is the same every time. Consider the following example code, which prints a triangle of stars:"
   ]
  },
  {
   "cell_type": "code",
   "execution_count": null,
   "metadata": {
    "id": "HbbMbbNvckz7"
   },
   "outputs": [],
   "source": [
    "def centered_stars(center, width):\n",
    "    padding = center - width // 2\n",
    "    return ' ' * padding + '*' * width\n",
    "\n",
    "lines = []\n",
    "for width in range(1, 6, 2):\n",
    "    lines.append(centered_stars(2, width))\n",
    "\n",
    "print('\\n'.join(lines))"
   ]
  },
  {
   "cell_type": "markdown",
   "metadata": {
    "id": "YHOPuLOwh3Qx"
   },
   "source": [
    "We can replace the loop by an expression using `map` and `repeat`:"
   ]
  },
  {
   "cell_type": "code",
   "execution_count": null,
   "metadata": {
    "id": "I8NMn7KUh-3S"
   },
   "outputs": [],
   "source": [
    "from itertools import repeat\n",
    "\n",
    "lines = map(centered_stars, repeat(2), range(1, 6, 2))\n",
    "\n",
    "print('\\n'.join(lines))"
   ]
  },
  {
   "cell_type": "markdown",
   "metadata": {
    "id": "PW2498IlmijJ"
   },
   "source": [
    "#### `partial`\n",
    "\n",
    "[`functools.partial`](https://docs.python.org/3/library/functools.html#functools.partial) takes a function plus any number of other arguments, and then returns a new version of the function to which those arguments have already been applied."
   ]
  },
  {
   "cell_type": "code",
   "execution_count": null,
   "metadata": {
    "id": "i_Pjs-rGnfH2"
   },
   "outputs": [],
   "source": [
    "from functools import partial\n",
    "\n",
    "# center_2_stars is a version of centered_stars when the first\n",
    "# parameter (`center`) is fixed to the value 2. This version\n",
    "# accepts only one argument, `width`.\n",
    "center_2_stars = partial(centered_stars, 2)\n",
    "\n",
    "center_2_stars(3)"
   ]
  },
  {
   "cell_type": "markdown",
   "metadata": {
    "id": "yCkaJitHnrXk"
   },
   "source": [
    "While `functools.partial` does not operate on iterables by itself, it can be really useful when you want to adjust functions before you pass them to `filter`, `map` and the like. We could have used it instead of `itertools.repeat` to eliminate the loop from our triangle example:"
   ]
  },
  {
   "cell_type": "code",
   "execution_count": null,
   "metadata": {
    "id": "jjr_D7jpoYul"
   },
   "outputs": [],
   "source": [
    "lines = map(center_2_stars, range(1, 6, 2))\n",
    "\n",
    "print('\\n'.join(lines))"
   ]
  },
  {
   "cell_type": "markdown",
   "metadata": {
    "id": "IRRPl6piyQn8"
   },
   "source": [
    "`partial` also works with keyword arguments. In some cases, this makes it possible to partially apply arguments out of order. This doesn't work for the operators, but there are some workarounds possible. Consider writing a function that subtracts `3` from whatever number you pass to it:"
   ]
  },
  {
   "cell_type": "code",
   "execution_count": null,
   "metadata": {
    "id": "WT3OJFSr18MW"
   },
   "outputs": [],
   "source": [
    "def minus_3(number):\n",
    "    return number - 3\n",
    "\n",
    "minus_3(4)"
   ]
  },
  {
   "cell_type": "markdown",
   "metadata": {
    "id": "MVmN8nSt2Ow1"
   },
   "source": [
    "It would be nice if we could skip writing a function ourselves and instead just combine `operator.sub` with `functools.partial`."
   ]
  },
  {
   "cell_type": "code",
   "execution_count": null,
   "metadata": {
    "id": "DK8Y4dWHzY_J"
   },
   "outputs": [],
   "source": [
    "from operator import sub\n",
    "from functools import partial\n",
    "\n",
    "minus_3 = partial(sub, b=3)\n",
    "\n",
    "minus_3(4)"
   ]
  },
  {
   "cell_type": "markdown",
   "metadata": {
    "id": "pQpjPTbb2oNd"
   },
   "source": [
    "The above code doesn't work, but we can avoid the problem by adding `-3` instead of subtracting `+3`:"
   ]
  },
  {
   "cell_type": "code",
   "execution_count": null,
   "metadata": {
    "id": "H3MwPyuF27vg"
   },
   "outputs": [],
   "source": [
    "from operator import add\n",
    "from functools import partial\n",
    "\n",
    "minus_3 = partial(add, -3)\n",
    "\n",
    "minus_3(4)"
   ]
  },
  {
   "cell_type": "markdown",
   "metadata": {
    "id": "-LH3TiwCpNbp"
   },
   "source": [
    "#### `reduce`\n",
    "\n",
    "[`functools.reduce`](https://docs.python.org/3/library/functools.html#functools.reduce) is for when you want to combine (or *reduce*) all values from a sequence to a single value. It accepts a function, an iterable and an optional starting value. If you don't supply a starting value, it will use the first value in the sequence instead.\n",
    "\n",
    "`reduce` keeps a work-in-progress value of sorts, which is often called the *accumulator*. The accumulator is initially set to the starting value. For every remaining value in the iterable sequence, `reduce` calls the function with two arguments: the accumulator and the value itself. The return value from the function becomes the new accumulator. After the last value in the sequence, the latest accumulator is returned as the final result.\n",
    "\n",
    "For illustration, here is how you might use `reduce` to reverse a string:"
   ]
  },
  {
   "cell_type": "code",
   "execution_count": null,
   "metadata": {
    "id": "kN5Uw_iB6QE6"
   },
   "outputs": [],
   "source": [
    "from functools import reduce\n",
    "\n",
    "def prepend_letter(accumulator, next_letter):\n",
    "    return next_letter + accumulator\n",
    "\n",
    "def reverse_string(string):\n",
    "    # In this case, we reduce a sequence of characters to a new string.\n",
    "    return reduce(prepend_letter, string)\n",
    "\n",
    "reverse_string('abcdef')"
   ]
  },
  {
   "cell_type": "markdown",
   "metadata": {
    "id": "AxfCOlrU7H75"
   },
   "source": [
    "And here is how we could write our own implementations of the built-in functions `max` and `sum` using `reduce`:"
   ]
  },
  {
   "cell_type": "code",
   "execution_count": null,
   "metadata": {
    "id": "P1CltqPc7UvG"
   },
   "outputs": [],
   "source": [
    "from functools import reduce\n",
    "from operator import add\n",
    "\n",
    "def greater(a, b):\n",
    "    if a < b:\n",
    "        return b\n",
    "    else:\n",
    "        return a\n",
    "\n",
    "def max(iterable):\n",
    "    return reduce(greater, iterable)\n",
    "\n",
    "def sum(iterable):\n",
    "    return reduce(add, iterable)\n",
    "\n",
    "numbers = [3, 5, 4]\n",
    "\n",
    "print('max:', max(numbers))\n",
    "print('sum:', sum(numbers))"
   ]
  },
  {
   "cell_type": "markdown",
   "metadata": {
    "id": "_zR8E_94YHCv"
   },
   "source": [
    "## Calculations\n",
    "\n",
    "As we have written in the course manual, Python is \"batteries included\"&mdash;it comes with a lot of functionality out of the box. This is certainly also the case for numerical computations and even some basic statistics. We highlight some common tools below.\n",
    "\n",
    "- The built-in functions [`abs`][abs], [`max`][max], [`min`][min], [`pow`][pow], [`round`][round] and [`sum`][sum] do exactly what the names suggest. You can also use the `**` operator for powers.\n",
    "- The built-in [`range`][range] function, which we have seen before, lets you generate linear series of numbers.\n",
    "- The [`math`][math] standard module contains a wealth of general mathematical functions and constants, such as [`log`][math.log], [`sqrt`][math.sqrt], [`cos`][math.cos], [`pi`][math.pi] and [`tau`][math.tau].\n",
    "- The [`random`][random] standard module covers most random number generating needs, as well as random shuffling and sampling.\n",
    "- The [`statistics`][statistics] standard module includes the common staples of statistical analysis, such as [`mean`][statistics.mean], [`median`][statistics.median], [`mode`][statistics.mode], [`stdev`][statistics.stdev], [`variance`][statistics.variance], [`covariance`][statistics.covariance], [`correlation`][statistics.correlation] and even a simple [`linear_regression`][statistics.linear_regression]. ~~Unfortunately, however, the latter three are not available in Google Colab, because they were only recently added to the Python standard library and Colab is not running the latest (\"bleeding edge\") version of Python. The next two subsections offer some alternatives.~~\n",
    "\n",
    "A complete overview of numerical functionality in the Python standard library can be found [here][python-numeric].\n",
    "\n",
    "[abs]: https://docs.python.org/3/library/functions.html#abs\n",
    "[max]: https://docs.python.org/3/library/functions.html#max\n",
    "[min]: https://docs.python.org/3/library/functions.html#min\n",
    "[pow]: https://docs.python.org/3/library/functions.html#pow\n",
    "[range]: https://docs.python.org/3/library/functions.html#func-range\n",
    "[round]: https://docs.python.org/3/library/functions.html#round\n",
    "[sum]: https://docs.python.org/3/library/functions.html#sum\n",
    "[math]: https://docs.python.org/3/library/math.html\n",
    "[math.log]: https://docs.python.org/3/library/math.html#math.log\n",
    "[math.sqrt]: https://docs.python.org/3/library/math.html#math.sqrt\n",
    "[math.cos]: https://docs.python.org/3/library/math.html#math.cos\n",
    "[math.pi]: https://docs.python.org/3/library/math.html#math.pi\n",
    "[math.tau]: https://docs.python.org/3/library/math.html#math.tau\n",
    "[random]: https://docs.python.org/3/library/random.html\n",
    "[statistics]: https://docs.python.org/3/library/statistics.html\n",
    "[statistics.mean]: https://docs.python.org/3/library/statistics.html#statistics.mean\n",
    "[statistics.median]: https://docs.python.org/3/library/statistics.html#statistics.median\n",
    "[statistics.mode]: https://docs.python.org/3/library/statistics.html#statistics.mode\n",
    "[statistics.stdev]: https://docs.python.org/3/library/statistics.html#statistics.stdev\n",
    "[statistics.variance]: https://docs.python.org/3/library/statistics.html#statistics.variance\n",
    "[statistics.covariance]: https://docs.python.org/3/library/statistics.html#statistics.covariance\n",
    "[statistics.correlation]: https://docs.python.org/3/library/statistics.html#statistics.correlation\n",
    "[statistics.linear_regression]: https://docs.python.org/3/library/statistics.html#statistics.linear_regression\n",
    "[python-numeric]: https://docs.python.org/3/library/numeric.html"
   ]
  },
  {
   "cell_type": "code",
   "execution_count": 2,
   "metadata": {
    "colab": {
     "base_uri": "https://localhost:8080/"
    },
    "executionInfo": {
     "elapsed": 5,
     "status": "ok",
     "timestamp": 1715884348191,
     "user": {
      "displayName": "Julian Gonggrijp",
      "userId": "06467962548183964912"
     },
     "user_tz": -120
    },
    "id": "xoBLhOpvmu2P",
    "outputId": "9d9aff55-cc93-437f-ae06-12cf1241f94a"
   },
   "outputs": [
    {
     "name": "stdout",
     "output_type": "stream",
     "text": [
      "Python 3.10.12\n"
     ]
    }
   ],
   "source": [
    "!python --version"
   ]
  },
  {
   "cell_type": "markdown",
   "metadata": {
    "id": "rKxMNbMMuMCw"
   },
   "source": [
    "### Computing covariance and correlation yourself\n",
    "\n",
    "Given two equally long sequences of numbers and their averages (which you might have already computed because you needed them elsewhere), you can compute the sample covariance and correlation as follows using [iterables](#scrollTo=Iterables):"
   ]
  },
  {
   "cell_type": "code",
   "execution_count": null,
   "metadata": {
    "id": "moprSI-g90tZ"
   },
   "outputs": [],
   "source": [
    "from itertools import repeat\n",
    "from operator import sub, mul\n",
    "from statistics import mean, stdev\n",
    "\n",
    "def differences(series, average):\n",
    "    return map(sub, series, repeat(average))\n",
    "\n",
    "def covariance(series1, series2, average1=None, average2=None):\n",
    "    differences1 = differences(series1, average1 or mean(series1))\n",
    "    differences2 = differences(series2, average2 or mean(series2))\n",
    "    products = map(mul, differences1, differences2)\n",
    "    return sum(products) / (len(series1) - 1)\n",
    "\n",
    "def correlation(series1, series2, average1=None, average2=None):\n",
    "    '''Pearson's correlation coefficient.'''\n",
    "    cov = covariance(series1, series2, average1, average2)\n",
    "    stdev1 = stdev(series1, average1)\n",
    "    stdev2 = stdev(series2, average2)\n",
    "    return cov / (stdev1 * stdev2)\n",
    "\n",
    "column1 = [1, 2, 3, 4, 5, 6, 7]\n",
    "column2 = [4, 5, 6, 5, 5, 8, 9]\n",
    "column3 = [8, 7, 6, 5, 4, 3, 2]\n",
    "\n",
    "print('covariance 1-2:', covariance(column1, column2))\n",
    "print('correlation 1-2:', correlation(column1, column2))\n",
    "print('correlation 2-1:', correlation(column2, column1))\n",
    "print('correlation 1-3:', correlation(column1, column3))\n",
    "print('correlation 2-3:', correlation(column2, column3))"
   ]
  },
  {
   "cell_type": "markdown",
   "metadata": {
    "id": "JYTbShRDBoS1"
   },
   "source": [
    "### Using covariance and correlation from an external package\n",
    "\n",
    "[pandas](https://pandas.pydata.org/pandas-docs/stable/index.html) provides implementations of [covariance](https://pandas.pydata.org/pandas-docs/stable/user_guide/computation.html#covariance), [correlation](https://pandas.pydata.org/pandas-docs/stable/user_guide/computation.html#correlation) and many other statistical functions. If you want to do serious statistics, you should probably use pandas or some other third-party package that can do the heavy lifting for you. If you choose this path, head over to [dataframes](#scrollTo=pandas_dataframes_and_read_csv) first."
   ]
  },
  {
   "cell_type": "markdown",
   "metadata": {
    "id": "F6mIIM3zLw1p"
   },
   "source": [
    "## Classes and objects\n",
    "\n",
    "For the final exercise, you do not need to create your own classes. However, since you may encounter the terminology and the notation when using third-party packages, here is a *very* quick explanation.\n",
    "\n",
    "An **object** is a value with internal structure. For example, I might have a variable with the name `jack` that holds a description of my friend Jack. The parts of that description are called its **attributes**. In this example, `jack.name` might hold the string `'Jack'` and `jack.phone` might hold the string `'+31612345678'` (not his real phone number ;-). `jack` is the object and `name` and `phone` are its attributes.\n",
    "\n",
    "Attributes can hold all types of values, including functions. In the latter case, the attribute is also called a **method**. For example, `jack.call()` might dial Jack's number. Attributes might also themselves be objects with their own nested attributes, so you can have chains of names connected with dots, for example `house.kitchen.sink`. In the latter dotted name, `kitchen` and `sink` are both attributes, and `house` and `kitchen` must both be objects, though `sink` might be an object as well.\n",
    "\n",
    "Whenever you see two names connected with a dot, the left one must be an object. You have already encountered a few types of objects. Every list has an `.append()` method, so lists are objects. When you call `csv.reader()`, the `csv` module is an object (though we usually don't use the words \"attribute\" and \"method\" to refer to the parts of a module; we rather say that `csv.reader` is a *qualified name*). In fact, *nearly everything* in Python is an object; this is why it is called an *object-oriented* programming language.\n",
    "\n",
    "Objects are generally created using a **class**. You can think of a class as a template for creating objects of a particular shape. For example, our `jack` object might have been created using the `Person` class. We say that `jack` is an **instance** of `Person` and also that we **instantiated** `Person` when we created `jack`. Typically, you can expect all instances of a class to have the same attributes and methods. Packages often organize their documentation by class, listing the methods of its instances and their usage.\n",
    "\n",
    "Instantiating a class looks exactly like calling a function and storing the return value in a variable. The only visible clue that you're instantiating a class rather than calling a function, is that classes usually have a name starting with an uppercase letter:\n",
    "\n",
    "```py\n",
    "jack = Person(name='Jack')\n",
    "```\n",
    "\n",
    "There is no danger in thinking of a class instantiation as a function call, or in instantiating a class without knowing it because its name starts with a lowercase letter. In reality, however, a class is not a function but an object!"
   ]
  },
  {
   "cell_type": "markdown",
   "metadata": {
    "id": "MoyqHwBhvBTH"
   },
   "source": [
    "## Working with times and calendar dates\n",
    "\n",
    "The [`datetime`][datetime] standard module provides tools for working with dates and times. It exports the `date`, `time` and `datetime` [classes](#scrollTo=Classes_and_objects), which let you represent a date, a time or both, exactly as the names suggest.\n",
    "\n",
    "[datetime]: https://docs.python.org/3/library/datetime.html"
   ]
  },
  {
   "cell_type": "markdown",
   "metadata": {
    "id": "W5ZlB-uXkC6S"
   },
   "source": [
    "### Parsing dates from text\n",
    "\n",
    "If you are working with dates for the final course exercise, it is most likely that you are extracting date strings from a CSV. Such a string might, for example, look like `'2021/11/15'`. In some cases, you may need to extract specific information from those dates, such as the year, month, hour or even weekday. For such use cases, it is advisable to convert the date string to a `date`, `time` or `datetime` object first by *parsing* it.\n",
    "\n",
    "The [`datetime.strptime`][datetime.strptime] function can do this job for you. It takes two parameters: the date string that needs to be parsed, and a second string that describes the *format* of the date. Our example above consisted of four digits that identify the year, a slash, two digits that identify the month, another slash, and finally two digits that identify the day of the month. We write that as `'%Y/%m/%d'`. In such a format string, a `%` with a letter after it is a placeholder for a particular piece of the date or time, while all other characters simply represent themselves. You can find a list of all available placeholders [here][datetime-formats].\n",
    "\n",
    "[datetime.strptime]: https://docs.python.org/3/library/datetime.html#strftime-and-strptime-behavior\n",
    "[datetime-formats]: https://docs.python.org/3/library/datetime.html#strftime-and-strptime-format-codes"
   ]
  },
  {
   "cell_type": "code",
   "execution_count": null,
   "metadata": {
    "id": "cOo_KnhWsR2m"
   },
   "outputs": [],
   "source": [
    "from datetime import datetime as dt\n",
    "\n",
    "yesterday_str = '2021/11/15'\n",
    "date_format = '%Y/%m/%d'\n",
    "\n",
    "yesterday_obj = dt.strptime(yesterday_str, date_format)\n",
    "print('datetime:', yesterday_obj)\n",
    "\n",
    "# dt.strptime always returns a full datetime, even if the input\n",
    "# string and the format string contain only a date or only a time.\n",
    "# You can reduce the datetime object to just a date or just a time\n",
    "# by calling a method of the same name:\n",
    "print('date:    ', yesterday_obj.date())\n",
    "print('time:    ', yesterday_obj.time())"
   ]
  },
  {
   "cell_type": "markdown",
   "metadata": {
    "id": "iDp5QxvpxZIo"
   },
   "source": [
    "### Extracting information from date and time objects\n",
    "\n",
    "Once you have a `date`, `time`, or `datetime` object, extracting information from it is very easy, as we demonstrate below. [`datetime`][datetime.datetime] objects have all date-related attributes and methods of `date` as well as all time-related attributes and methods of `time`. You can find the most important attributes [here][datetime-attributes] and the most important methods [here][datetime-methods] (you can also scroll up from the latter link for some additional methods related to time zones).\n",
    "\n",
    "[datetime.datetime]: https://docs.python.org/3/library/datetime.html#datetime-objects\n",
    "[datetime-attributes]: https://docs.python.org/3/library/datetime.html#datetime.datetime.year\n",
    "[datetime-methods]: https://docs.python.org/3/library/datetime.html#datetime.datetime.utcoffset"
   ]
  },
  {
   "cell_type": "code",
   "execution_count": null,
   "metadata": {
    "id": "M9pQ2otg0EQU"
   },
   "outputs": [],
   "source": [
    "# Year, month etcetera attributes are all represented as numbers.\n",
    "print('year:      ', yesterday_obj.year)\n",
    "print('month:     ', yesterday_obj.month)\n",
    "print('hour:      ', yesterday_obj.hour)\n",
    "\n",
    "# Python starts the week on Monday and starts numbering at zero.\n",
    "print('weekday:   ', yesterday_obj.weekday())\n",
    "# The ISO 8601 standard also starts on Monday, but starts numbering at one.\n",
    "print('isoweekday:', yesterday_obj.isoweekday())"
   ]
  },
  {
   "cell_type": "markdown",
   "metadata": {
    "id": "GLBue3palj8M"
   },
   "source": [
    "## Sorting\n",
    "\n",
    "Python has a built-in function [`sorted`][sorted], which can sort anything that you can loop over (including the key-value pairs of a [dictionary](#scrollTo=Dictionaries)). It always returns a list with the result.\n",
    "\n",
    "By default, it will sort ascending, i.e., by increasing order of magnitude. Numbers are compared by value, strings are compared lexicographically (with all uppercase letters sorting before all lowercase letters), and lists are compared by the first item, with subsequent items being used as tie breakers if previous items compared equal.\n",
    "\n",
    "[sorted]: https://docs.python.org/3/library/functions.html#sorted\n",
    "[sorting-howto]: https://docs.python.org/3/howto/sorting.html#sortinghowto"
   ]
  },
  {
   "cell_type": "code",
   "execution_count": null,
   "metadata": {
    "id": "FIw_4XyNn9UK"
   },
   "outputs": [],
   "source": [
    "list_of_numbers = [5, 3, 4]\n",
    "list_of_strings = ['Good', 'day', 'to', 'you']\n",
    "list_of_lists = [\n",
    "    [6, 'zucchini'],\n",
    "    [5, 'eggs'],\n",
    "    [6, 'broccoli'],\n",
    "]\n",
    "\n",
    "print(sorted(list_of_numbers))\n",
    "print(sorted(list_of_strings))\n",
    "print(sorted(list_of_lists))"
   ]
  },
  {
   "cell_type": "markdown",
   "metadata": {
    "id": "_uzxS1S1setr"
   },
   "source": [
    "### Sorting in descending order\n",
    "\n",
    "If you want to sort descending instead, pass the named argument `reverse=True`."
   ]
  },
  {
   "cell_type": "code",
   "execution_count": null,
   "metadata": {
    "id": "e2RSQaXFszpT"
   },
   "outputs": [],
   "source": [
    "sorted(list_of_numbers, reverse=True)"
   ]
  },
  {
   "cell_type": "markdown",
   "metadata": {
    "id": "YKx3ObxltgXz"
   },
   "source": [
    "### Custom comparison\n",
    "\n",
    "If you want `sorted` to perform a different kind of comparison in order to decide on the order of the items, you can pass a function as the named `key` argument. This function should take one item as its parameter and return a new value that `sorted` will use for the comparison instead.\n",
    "\n",
    "Below, we use the function `str.lower` to do a case-insensitive sort:"
   ]
  },
  {
   "cell_type": "code",
   "execution_count": null,
   "metadata": {
    "colab": {
     "base_uri": "https://localhost:8080/"
    },
    "id": "5_w-T2ryuknR",
    "outputId": "d9f68252-3e93-48c0-fdf9-f001a107fdf2"
   },
   "outputs": [
    {
     "data": {
      "text/plain": [
       "['day', 'Good', 'to', 'you']"
      ]
     },
     "execution_count": 5,
     "metadata": {},
     "output_type": "execute_result"
    }
   ],
   "source": [
    "sorted(list_of_strings, key=str.lower)"
   ]
  },
  {
   "cell_type": "markdown",
   "metadata": {
    "id": "92yLh2OWvO-q"
   },
   "source": [
    "The [`operator`][operator] standard module exports several useful functions that let you create instant simple functions for the purpose of sorting. Most importantly, [`itemgetter`][operator.itemgetter] lets you sort sequences by a different item than the first and [`attrgetter`][operator.attrgetter] lets you sort [objects](#scrollTo=Classes_and_objects) by a particular attribute. There is also [`methodcaller`][operator.methodcaller] which lets you sort by the result of a method call.\n",
    "\n",
    "Below, we use `itemgetter` to sort the key-value pairs of a dictionary by value instead of by key:\n",
    "\n",
    "[operator]: https://docs.python.org/3/library/operator.html#module-operator\n",
    "[operator.itemgetter]: https://docs.python.org/3/library/operator.html#operator.itemgetter\n",
    "[operator.attrgetter]: https://docs.python.org/3/library/operator.html#operator.attrgetter\n",
    "[operator.methodcaller]: https://docs.python.org/3/library/operator.html#operator.methodcaller"
   ]
  },
  {
   "cell_type": "code",
   "execution_count": null,
   "metadata": {
    "id": "HigJMisJydem"
   },
   "outputs": [],
   "source": [
    "from operator import itemgetter\n",
    "\n",
    "example_dict = {'banana': 'yellow', 'cherry': 'sweet', 'date': 'wrinkly'}\n",
    "\n",
    "sorted(example_dict.items(), key=itemgetter(1))"
   ]
  },
  {
   "cell_type": "markdown",
   "metadata": {
    "id": "P16V-uttzQXw"
   },
   "source": [
    "And below, we use `attrgetter` to sort [dates](#scrollTo=Working_with_times_and_calendar_dates) by month:"
   ]
  },
  {
   "cell_type": "code",
   "execution_count": null,
   "metadata": {
    "id": "jG1RMiBzzpky"
   },
   "outputs": [],
   "source": [
    "from operator import attrgetter\n",
    "from datetime import date\n",
    "\n",
    "list_of_dates = [\n",
    "    date(year=2021, month=11, day=16),\n",
    "    date(year=2022, month=3, day=17),\n",
    "    date(year=2020, month=5, day=18),\n",
    "]\n",
    "\n",
    "sorted(list_of_dates, key=attrgetter('month'))"
   ]
  },
  {
   "cell_type": "markdown",
   "metadata": {
    "id": "7rsvpuMn1kSl"
   },
   "source": [
    "## `pandas` dataframes and `read_csv`\n",
    "\n",
    "[pandas][pandas] is a package that provides general data structures and data analysis tools for Python. If you venture into statistics or datamining with Python, it is likely that you will sooner or later encounter [`pandas.DataFrame`][pandas.DataFrame] (which is a [class](#scrollTo=Classes_and_objects)). It holds tabular data in which each column might have a different type. Other packages often use this data structure, too.\n",
    "\n",
    "If you encounter `pandas` during the final course exercise, it is probably because you are using a function from a third-party package that expects you to pass in the data as a `DataFrame`. In this case, it is useful to know that `pandas` provides the [`read_csv`][pandas.read_csv] function. It accepts a file or file name as its first parameter and returns the contents of the CSV file as a `DataFrame`. You can then pass this object to the function that expects a `DataFrame`. The `read_csv` function also accepts a couple of optional parameters that let you specify details about the way the CSV file is formatted, its columns, etcetera.\n",
    "\n",
    "In the example code below, we illustrate how you can create a `DataFrame` using `read_csv`. Note that we define a [cross-platform path](#scrollTo=Cross_platform_file_paths) using [`os.path`](https://docs.python.org/3/library/os.path.html). In the [next section](#scrollTo=Clustering_with_scikit_learn), we illustrate how the `data` object may be passed to a third-party analysis function.\n",
    "\n",
    "[pandas]: https://pandas.pydata.org/pandas-docs/stable/index.html\n",
    "[pandas.DataFrame]: https://pandas.pydata.org/pandas-docs/stable/user_guide/dsintro.html#dataframe\n",
    "[pandas.read_csv]: https://pandas.pydata.org/pandas-docs/stable/user_guide/io.html#io-read-csv-table"
   ]
  },
  {
   "cell_type": "code",
   "execution_count": null,
   "metadata": {
    "colab": {
     "base_uri": "https://localhost:8080/",
     "height": 143
    },
    "executionInfo": {
     "elapsed": 921,
     "status": "ok",
     "timestamp": 1715689944930,
     "user": {
      "displayName": "Julian Gonggrijp",
      "userId": "06467962548183964912"
     },
     "user_tz": -120
    },
    "id": "1m-b-UVLF_rM",
    "outputId": "8c25103d-0063-4cbf-c824-8ad8bd177d05"
   },
   "outputs": [
    {
     "data": {
      "application/vnd.google.colaboratory.intrinsic+json": {
       "summary": "{\n  \"name\": \"data\",\n  \"rows\": 3,\n  \"fields\": [\n    {\n      \"column\": \"households\",\n      \"properties\": {\n        \"dtype\": \"number\",\n        \"std\": 167.37482885228988,\n        \"min\": 277.0,\n        \"max\": 606.0,\n        \"num_unique_values\": 3,\n        \"samples\": [\n          606.0,\n          277.0,\n          495.0\n        ],\n        \"semantic_type\": \"\",\n        \"description\": \"\"\n      }\n    },\n    {\n      \"column\": \"population\",\n      \"properties\": {\n        \"dtype\": \"number\",\n        \"std\": 405.87723924030695,\n        \"min\": 809.0,\n        \"max\": 1537.0,\n        \"num_unique_values\": 3,\n        \"samples\": [\n          1537.0,\n          809.0,\n          1484.0\n        ],\n        \"semantic_type\": \"\",\n        \"description\": \"\"\n      }\n    }\n  ]\n}",
       "type": "dataframe"
      },
      "text/html": [
       "\n",
       "  <div id=\"df-e9ad1409-4dbe-437b-84fb-4825a5afb78d\" class=\"colab-df-container\">\n",
       "    <div>\n",
       "<style scoped>\n",
       "    .dataframe tbody tr th:only-of-type {\n",
       "        vertical-align: middle;\n",
       "    }\n",
       "\n",
       "    .dataframe tbody tr th {\n",
       "        vertical-align: top;\n",
       "    }\n",
       "\n",
       "    .dataframe thead th {\n",
       "        text-align: right;\n",
       "    }\n",
       "</style>\n",
       "<table border=\"1\" class=\"dataframe\">\n",
       "  <thead>\n",
       "    <tr style=\"text-align: right;\">\n",
       "      <th></th>\n",
       "      <th>households</th>\n",
       "      <th>population</th>\n",
       "    </tr>\n",
       "  </thead>\n",
       "  <tbody>\n",
       "    <tr>\n",
       "      <th>0</th>\n",
       "      <td>606.0</td>\n",
       "      <td>1537.0</td>\n",
       "    </tr>\n",
       "    <tr>\n",
       "      <th>1</th>\n",
       "      <td>277.0</td>\n",
       "      <td>809.0</td>\n",
       "    </tr>\n",
       "    <tr>\n",
       "      <th>2</th>\n",
       "      <td>495.0</td>\n",
       "      <td>1484.0</td>\n",
       "    </tr>\n",
       "  </tbody>\n",
       "</table>\n",
       "</div>\n",
       "    <div class=\"colab-df-buttons\">\n",
       "\n",
       "  <div class=\"colab-df-container\">\n",
       "    <button class=\"colab-df-convert\" onclick=\"convertToInteractive('df-e9ad1409-4dbe-437b-84fb-4825a5afb78d')\"\n",
       "            title=\"Convert this dataframe to an interactive table.\"\n",
       "            style=\"display:none;\">\n",
       "\n",
       "  <svg xmlns=\"http://www.w3.org/2000/svg\" height=\"24px\" viewBox=\"0 -960 960 960\">\n",
       "    <path d=\"M120-120v-720h720v720H120Zm60-500h600v-160H180v160Zm220 220h160v-160H400v160Zm0 220h160v-160H400v160ZM180-400h160v-160H180v160Zm440 0h160v-160H620v160ZM180-180h160v-160H180v160Zm440 0h160v-160H620v160Z\"/>\n",
       "  </svg>\n",
       "    </button>\n",
       "\n",
       "  <style>\n",
       "    .colab-df-container {\n",
       "      display:flex;\n",
       "      gap: 12px;\n",
       "    }\n",
       "\n",
       "    .colab-df-convert {\n",
       "      background-color: #E8F0FE;\n",
       "      border: none;\n",
       "      border-radius: 50%;\n",
       "      cursor: pointer;\n",
       "      display: none;\n",
       "      fill: #1967D2;\n",
       "      height: 32px;\n",
       "      padding: 0 0 0 0;\n",
       "      width: 32px;\n",
       "    }\n",
       "\n",
       "    .colab-df-convert:hover {\n",
       "      background-color: #E2EBFA;\n",
       "      box-shadow: 0px 1px 2px rgba(60, 64, 67, 0.3), 0px 1px 3px 1px rgba(60, 64, 67, 0.15);\n",
       "      fill: #174EA6;\n",
       "    }\n",
       "\n",
       "    .colab-df-buttons div {\n",
       "      margin-bottom: 4px;\n",
       "    }\n",
       "\n",
       "    [theme=dark] .colab-df-convert {\n",
       "      background-color: #3B4455;\n",
       "      fill: #D2E3FC;\n",
       "    }\n",
       "\n",
       "    [theme=dark] .colab-df-convert:hover {\n",
       "      background-color: #434B5C;\n",
       "      box-shadow: 0px 1px 3px 1px rgba(0, 0, 0, 0.15);\n",
       "      filter: drop-shadow(0px 1px 2px rgba(0, 0, 0, 0.3));\n",
       "      fill: #FFFFFF;\n",
       "    }\n",
       "  </style>\n",
       "\n",
       "    <script>\n",
       "      const buttonEl =\n",
       "        document.querySelector('#df-e9ad1409-4dbe-437b-84fb-4825a5afb78d button.colab-df-convert');\n",
       "      buttonEl.style.display =\n",
       "        google.colab.kernel.accessAllowed ? 'block' : 'none';\n",
       "\n",
       "      async function convertToInteractive(key) {\n",
       "        const element = document.querySelector('#df-e9ad1409-4dbe-437b-84fb-4825a5afb78d');\n",
       "        const dataTable =\n",
       "          await google.colab.kernel.invokeFunction('convertToInteractive',\n",
       "                                                    [key], {});\n",
       "        if (!dataTable) return;\n",
       "\n",
       "        const docLinkHtml = 'Like what you see? Visit the ' +\n",
       "          '<a target=\"_blank\" href=https://colab.research.google.com/notebooks/data_table.ipynb>data table notebook</a>'\n",
       "          + ' to learn more about interactive tables.';\n",
       "        element.innerHTML = '';\n",
       "        dataTable['output_type'] = 'display_data';\n",
       "        await google.colab.output.renderOutput(dataTable, element);\n",
       "        const docLink = document.createElement('div');\n",
       "        docLink.innerHTML = docLinkHtml;\n",
       "        element.appendChild(docLink);\n",
       "      }\n",
       "    </script>\n",
       "  </div>\n",
       "\n",
       "\n",
       "<div id=\"df-a12772da-a686-4f8e-8dd2-720dbe709427\">\n",
       "  <button class=\"colab-df-quickchart\" onclick=\"quickchart('df-a12772da-a686-4f8e-8dd2-720dbe709427')\"\n",
       "            title=\"Suggest charts\"\n",
       "            style=\"display:none;\">\n",
       "\n",
       "<svg xmlns=\"http://www.w3.org/2000/svg\" height=\"24px\"viewBox=\"0 0 24 24\"\n",
       "     width=\"24px\">\n",
       "    <g>\n",
       "        <path d=\"M19 3H5c-1.1 0-2 .9-2 2v14c0 1.1.9 2 2 2h14c1.1 0 2-.9 2-2V5c0-1.1-.9-2-2-2zM9 17H7v-7h2v7zm4 0h-2V7h2v10zm4 0h-2v-4h2v4z\"/>\n",
       "    </g>\n",
       "</svg>\n",
       "  </button>\n",
       "\n",
       "<style>\n",
       "  .colab-df-quickchart {\n",
       "      --bg-color: #E8F0FE;\n",
       "      --fill-color: #1967D2;\n",
       "      --hover-bg-color: #E2EBFA;\n",
       "      --hover-fill-color: #174EA6;\n",
       "      --disabled-fill-color: #AAA;\n",
       "      --disabled-bg-color: #DDD;\n",
       "  }\n",
       "\n",
       "  [theme=dark] .colab-df-quickchart {\n",
       "      --bg-color: #3B4455;\n",
       "      --fill-color: #D2E3FC;\n",
       "      --hover-bg-color: #434B5C;\n",
       "      --hover-fill-color: #FFFFFF;\n",
       "      --disabled-bg-color: #3B4455;\n",
       "      --disabled-fill-color: #666;\n",
       "  }\n",
       "\n",
       "  .colab-df-quickchart {\n",
       "    background-color: var(--bg-color);\n",
       "    border: none;\n",
       "    border-radius: 50%;\n",
       "    cursor: pointer;\n",
       "    display: none;\n",
       "    fill: var(--fill-color);\n",
       "    height: 32px;\n",
       "    padding: 0;\n",
       "    width: 32px;\n",
       "  }\n",
       "\n",
       "  .colab-df-quickchart:hover {\n",
       "    background-color: var(--hover-bg-color);\n",
       "    box-shadow: 0 1px 2px rgba(60, 64, 67, 0.3), 0 1px 3px 1px rgba(60, 64, 67, 0.15);\n",
       "    fill: var(--button-hover-fill-color);\n",
       "  }\n",
       "\n",
       "  .colab-df-quickchart-complete:disabled,\n",
       "  .colab-df-quickchart-complete:disabled:hover {\n",
       "    background-color: var(--disabled-bg-color);\n",
       "    fill: var(--disabled-fill-color);\n",
       "    box-shadow: none;\n",
       "  }\n",
       "\n",
       "  .colab-df-spinner {\n",
       "    border: 2px solid var(--fill-color);\n",
       "    border-color: transparent;\n",
       "    border-bottom-color: var(--fill-color);\n",
       "    animation:\n",
       "      spin 1s steps(1) infinite;\n",
       "  }\n",
       "\n",
       "  @keyframes spin {\n",
       "    0% {\n",
       "      border-color: transparent;\n",
       "      border-bottom-color: var(--fill-color);\n",
       "      border-left-color: var(--fill-color);\n",
       "    }\n",
       "    20% {\n",
       "      border-color: transparent;\n",
       "      border-left-color: var(--fill-color);\n",
       "      border-top-color: var(--fill-color);\n",
       "    }\n",
       "    30% {\n",
       "      border-color: transparent;\n",
       "      border-left-color: var(--fill-color);\n",
       "      border-top-color: var(--fill-color);\n",
       "      border-right-color: var(--fill-color);\n",
       "    }\n",
       "    40% {\n",
       "      border-color: transparent;\n",
       "      border-right-color: var(--fill-color);\n",
       "      border-top-color: var(--fill-color);\n",
       "    }\n",
       "    60% {\n",
       "      border-color: transparent;\n",
       "      border-right-color: var(--fill-color);\n",
       "    }\n",
       "    80% {\n",
       "      border-color: transparent;\n",
       "      border-right-color: var(--fill-color);\n",
       "      border-bottom-color: var(--fill-color);\n",
       "    }\n",
       "    90% {\n",
       "      border-color: transparent;\n",
       "      border-bottom-color: var(--fill-color);\n",
       "    }\n",
       "  }\n",
       "</style>\n",
       "\n",
       "  <script>\n",
       "    async function quickchart(key) {\n",
       "      const quickchartButtonEl =\n",
       "        document.querySelector('#' + key + ' button');\n",
       "      quickchartButtonEl.disabled = true;  // To prevent multiple clicks.\n",
       "      quickchartButtonEl.classList.add('colab-df-spinner');\n",
       "      try {\n",
       "        const charts = await google.colab.kernel.invokeFunction(\n",
       "            'suggestCharts', [key], {});\n",
       "      } catch (error) {\n",
       "        console.error('Error during call to suggestCharts:', error);\n",
       "      }\n",
       "      quickchartButtonEl.classList.remove('colab-df-spinner');\n",
       "      quickchartButtonEl.classList.add('colab-df-quickchart-complete');\n",
       "    }\n",
       "    (() => {\n",
       "      let quickchartButtonEl =\n",
       "        document.querySelector('#df-a12772da-a686-4f8e-8dd2-720dbe709427 button');\n",
       "      quickchartButtonEl.style.display =\n",
       "        google.colab.kernel.accessAllowed ? 'block' : 'none';\n",
       "    })();\n",
       "  </script>\n",
       "</div>\n",
       "    </div>\n",
       "  </div>\n"
      ],
      "text/plain": [
       "   households  population\n",
       "0       606.0      1537.0\n",
       "1       277.0       809.0\n",
       "2       495.0      1484.0"
      ]
     },
     "execution_count": 1,
     "metadata": {},
     "output_type": "execute_result"
    }
   ],
   "source": [
    "#requires pandas\n",
    "\n",
    "import os.path as op\n",
    "import pandas\n",
    "\n",
    "file_path = op.join('sample_data', 'california_housing_test.csv')\n",
    "\n",
    "data = pandas.read_csv(file_path)\n",
    "# `data` is an instance of pandas.DataFrame with several columns\n",
    "# containing geographic center points of neighborhoods in\n",
    "# California as well as demographics about the inhabitants and\n",
    "# their houses.\n",
    "\n",
    "# You may sometimes want to pass only a subset of the dataset\n",
    "# to a function. For this purpose, dataframes can be sliced in\n",
    "# a way that is similar to lists. The following example will\n",
    "# contain only the 'total_rooms' column:\n",
    "data.loc[:, 'total_rooms']\n",
    "\n",
    "# The following example will include two columns, in a different\n",
    "# order than they appeared in the CSV:\n",
    "data.loc[:, ['households', 'population']]\n",
    "# You can also use this notation if you want to use a subset of\n",
    "# multiple columns.\n",
    "\n",
    "# For slicing rows by position, you use the `iloc` attribute\n",
    "# instead of `loc`:\n",
    "data.iloc[0:3]\n",
    "\n",
    "# Both ways of slicing can be combined:\n",
    "data.loc[:, ['households', 'population']].iloc[0:3]"
   ]
  },
  {
   "cell_type": "markdown",
   "metadata": {
    "id": "l0NeIki5L-LI"
   },
   "source": [
    "## Visualizing data with `matplotlib`\n",
    "\n",
    "[`matplotlib`](https://matplotlib.org) is a comprehensive and easy to use package for creating data graphics. It is preinstalled on Google Colab, so you can use it right away. Here is a quick example:"
   ]
  },
  {
   "cell_type": "code",
   "execution_count": null,
   "metadata": {
    "colab": {
     "base_uri": "https://localhost:8080/",
     "height": 430
    },
    "executionInfo": {
     "elapsed": 761,
     "status": "ok",
     "timestamp": 1715692800081,
     "user": {
      "displayName": "Julian Gonggrijp",
      "userId": "06467962548183964912"
     },
     "user_tz": -120
    },
    "id": "ZBxC0c32NN7v",
    "outputId": "d42f13a0-b117-4255-d854-d06998f98a81"
   },
   "outputs": [
    {
     "data": {
      "image/png": "[encoded data removed]",
      "text/plain": [
       "<Figure size 640x480 with 1 Axes>"
      ]
     },
     "metadata": {},
     "output_type": "display_data"
    }
   ],
   "source": [
    "import matplotlib as mpl\n",
    "import matplotlib.pyplot as plt\n",
    "import numpy as np\n",
    "\n",
    "fig, ax = plt.subplots()  # Create a figure containing a single axes.\n",
    "ax.plot([1, 2, 3, 4], [1, 4, 2, 3]);  # Plot some data on the axes."
   ]
  },
  {
   "cell_type": "markdown",
   "metadata": {
    "id": "RIGMSlw7NhnT"
   },
   "source": [
    "The above example was shamelessly copied from `matplotlib`'s [Quick start guide](https://matplotlib.org/stable/tutorials/introductory/quick_start.html), which is the best place to start learning how to use the package yourself."
   ]
  },
  {
   "cell_type": "markdown",
   "metadata": {
    "id": "584VEcMqI0Fm"
   },
   "source": [
    "## Statistical modeling with `statsmodels`\n",
    "\n",
    "Compared to special purpose languages such as R and SAS, Python is a little bit under-equipped when it comes to statistical modeling. Fortunately, [statsmodels](https://www.statsmodels.org/) is a comprehensive package that covers many modeling needs. It builds on top of [pandas](#scrollTo=pandas_dataframes_and_read_csv).\n",
    "\n",
    "Like most packages discussed in this notebook, statsmodels is preinstalled in Google Colab. You can import it as `statsmodels`. See the [API reference](https://www.statsmodels.org/stable/api.html) for a complete list of the types of statistical models that it support.\n",
    "\n"
   ]
  },
  {
   "cell_type": "markdown",
   "metadata": {
    "id": "EYVhwfCP2oEK"
   },
   "source": [
    "## Clustering with scikit-learn\n",
    "\n",
    "[scikit-learn][sklearn] is a package that provides many data mining and machine learning tools, including cluster analysis. You can find the documentation [here][sklearn.cluster]. We give a very minimal example of hierarchical clustering with Ward linkage below. You can find a more extensive example [here][sklearn-example]. Note that we are using the `data` object, which is a `pandas.DataFrame`, from the [pandas section](#scrollTo=pandas_dataframes_and_read_csv).\n",
    "\n",
    "[sklearn]: https://scikit-learn.org/stable/index.html\n",
    "[sklearn.cluster]: https://scikit-learn.org/stable/modules/clustering.html\n",
    "[sklearn-example]: https://scikit-learn.org/stable/auto_examples/cluster/plot_digits_linkage.html#sphx-glr-auto-examples-cluster-plot-digits-linkage-py"
   ]
  },
  {
   "cell_type": "code",
   "execution_count": null,
   "metadata": {
    "colab": {
     "base_uri": "https://localhost:8080/"
    },
    "id": "upo6gPd46sVt",
    "outputId": "6938e3d2-8104-4f8c-fca6-f10b70d36dbb"
   },
   "outputs": [
    {
     "name": "stdout",
     "output_type": "stream",
     "text": [
      "[1 0 0 0 0 0 1 0 1 0 0 0 1 0 0 0 1 1 0 1]\n"
     ]
    }
   ],
   "source": [
    "#requires sklearn\n",
    "\n",
    "from sklearn.cluster import AgglomerativeClustering\n",
    "\n",
    "# We start by creating the object that will *eventually* contain\n",
    "# the clustering.\n",
    "clustering = AgglomerativeClustering()\n",
    "# Next, we feed in the data through the `fit` method. We will\n",
    "# cluster the neighborhoods by geographical location.\n",
    "clustering.fit(data.loc[:, ['latitude', 'longitude']])\n",
    "# The clustering is now established. We illustrate below by\n",
    "# printing the cluster assignment of the first 20 rows in the\n",
    "# dataset.\n",
    "print(clustering.labels_[:20])\n",
    "# In a more serious application, we would probably inspect the\n",
    "# cluster dendrogram or plot the data with a coloring to indicate\n",
    "# the cluster assignment of each data point. The scikit-learn\n",
    "# documentation explains how to do such things."
   ]
  },
  {
   "cell_type": "markdown",
   "metadata": {
    "id": "hofJ0jOJ-fKo"
   },
   "source": [
    "## Parsing XML and HTML\n",
    "\n",
    "In the humanities, data are often stored in XML format, for example [TEI](https://en.wikipedia.org/wiki/Text_Encoding_Initiative). XML is a more complicated format than CSV, so extracting information from it is also a bit more involved.\n",
    "\n",
    "Another, similar format is HTML, the language that web pages are written in. You may encounter this when scraping the web; more about this in [the next section](#scrollTo=lEy6U7SF-uFe).\n",
    "\n",
    "XML and HTML can both be parsed (and written) using [Beautiful Soup](https://beautiful-soup-4.readthedocs.io/en/latest/). It is preinstalled in Google Colab and can be imported by the name `bs4`."
   ]
  },
  {
   "cell_type": "markdown",
   "metadata": {
    "id": "lEy6U7SF-uFe"
   },
   "source": [
    "## Fetching information from the internet\n",
    "\n",
    "[Requests](https://docs.python-requests.org/en/latest/) lets you fetch information from the internet, similar to how your browser might view or download information from a particular web address. It is a Python alternative to the command line program `curl` or the graphical program Postman, if you happen to know either.\n",
    "\n",
    "The package is preinstalled on Google Colab and can be imported as `requests`. How to do this is explained in the [Quickstart](https://docs.python-requests.org/en/latest/user/quickstart/). You can use Beautiful Soup for parsing HTML and XML responses, as explained in [the previous section](#scrollTo=hofJ0jOJ-fKo&line=7&uniqifier=1)."
   ]
  },
  {
   "cell_type": "markdown",
   "metadata": {
    "id": "1ft-t0CGvOl2"
   },
   "source": [
    "## Network visualizations\n",
    "\n",
    "[This article](https://towardsdatascience.com/visualizing-networks-in-python-d70f4cbeb259) lists four packages that you could use to visualize networks. Most of them can interface with [pandas](#scrollTo=pandas_dataframes_and_read_csv)."
   ]
  },
  {
   "cell_type": "markdown",
   "metadata": {
    "id": "Fd6n2BgZwlUi"
   },
   "source": [
    "## Natural language processing\n",
    "\n",
    "While there are more options, you should probably start by taking a look at [NLTK](https://www.nltk.org/) if you want to do any form of natural language processing, for example:\n",
    "\n",
    "- tokenization\n",
    "- stopword removal (`corpus` module)\n",
    "- stemming\n",
    "- parsing\n",
    "- sentiment analysis"
   ]
  }
 ],
 "metadata": {
  "colab": {
   "collapsed_sections": [
    "97z6FUGz8uAS",
    "G4tC_OiFFth3",
    "mUmNSdNzMq_M",
    "0FJ_vXwlwT_5",
    "zHyB8HjpU9hv",
    "hpnieEnwpmhK",
    "hhu9T00mFSHd",
    "RelVVKVzX9T7",
    "vX59S1uDaBLI",
    "81vNGdqgc1PI",
    "yBYdJR9VHLQU",
    "LugfHklV0b4C",
    "0SMYES0-gyBX",
    "XO0Q3vhf74Nd",
    "ucNV6xs0Tr8x",
    "PW2498IlmijJ",
    "-LH3TiwCpNbp",
    "JYTbShRDBoS1",
    "F6mIIM3zLw1p",
    "MoyqHwBhvBTH",
    "W5ZlB-uXkC6S",
    "iDp5QxvpxZIo",
    "GLBue3palj8M",
    "_uzxS1S1setr",
    "YKx3ObxltgXz",
    "7rsvpuMn1kSl",
    "EYVhwfCP2oEK"
   ],
   "provenance": [
    {
     "file_id": "1qKVaI3Ct1hOsM_06mZdXpx0sLSR_O-6R",
     "timestamp": 1699991213559
    },
    {
     "file_id": "158pb5HiVhtgCI66VVtDy6HgYgMjIa-pz",
     "timestamp": 1668521091635
    },
    {
     "file_id": "https://github.com/UUDigitalHumanitieslab/programming-in-python/blob/main/teaching%20materials/tips.ipynb",
     "timestamp": 1651749536498
    }
   ],
   "toc_visible": true
  },
  "kernelspec": {
   "display_name": "Python 3",
   "name": "python3"
  },
  "language_info": {
   "name": "python"
  }
 },
 "nbformat": 4,
 "nbformat_minor": 0
}
