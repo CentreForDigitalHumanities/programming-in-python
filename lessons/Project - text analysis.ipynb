{
 "cells": [
  {
   "cell_type": "markdown",
   "id": "99fab010",
   "metadata": {
    "id": "kIc3b-0fqM6n"
   },
   "source": [
    "# Project - Text Analysis\n",
    "In this series of exercises you will develop a text analysis tool. The steps roughly simulate real-life Digital Humanities projects:\n",
    "- Obtaining data\n",
    "- Cleaning data\n",
    "- Running analyses\n",
    "\n"
   ]
  },
  {
   "cell_type": "markdown",
   "id": "3ebe02fe",
   "metadata": {
    "id": "OSpUjXmAqJI9"
   },
   "source": [
    "> 💡 The exercises are very useful and fun if you would like to analyse textual data. The code you write here can be reused in your own analysis.\n",
    "\n",
    "> ⚠️ The exercises are difficult and may take you some time to complete. Consider them a bonus, study them at home, and don't be hestitant to contact the instructors, during or after the course. If you are not interested in text-analysis, ask the instructors for similarly challenging projects on a different topic, or pursue your own ideas!\n"
   ]
  },
  {
   "cell_type": "markdown",
   "id": "ffea8679",
   "metadata": {
    "id": "v1MTwBNTpTcN"
   },
   "source": [
    "## Exercise 1: Cleaning interpunction\n",
    "Implement the function `clean_interpunction` in a way that satisfies the docstrings and assertions"
   ]
  },
  {
   "cell_type": "code",
   "execution_count": null,
   "id": "4fbd1ddf",
   "metadata": {
    "id": "fOZBq4OLp2Lz"
   },
   "outputs": [],
   "source": [
    "def clean_interpunction(string):\n",
    "    \"\"\"Pads words and sentence-ending interpunction with a space.\n",
    "    Other interpunction should be removed.\n",
    "\n",
    "    The following characters are considered sentence-ending interpunction:\n",
    "    - .\n",
    "    - ?\n",
    "    - !\n",
    "\n",
    "    Other interpunction that should be removed:\n",
    "    - ,\n",
    "    - ;\n",
    "    - :\n",
    "    \"\"\"\n",
    "    output_string = None # replace this line by your own lines of code\n",
    "    return output_string\n",
    "\n",
    "simple_sent = 'A sentence.'\n",
    "complex_sent = 'A sentence, with a dependent clause.'\n",
    "assert clean_interpunction(simple_sent) == 'A sentence .'\n",
    "assert clean_interpunction(complex_sent) == 'A sentence with a dependent clause .'\n",
    "print('All cases passed! The function works.')"
   ]
  },
  {
   "cell_type": "markdown",
   "id": "3d33fc2c",
   "metadata": {
    "id": "U8QVnwgwqTR6"
   },
   "source": [
    "## Exercise 2: only_periods\n",
    "Add an optional parameter named `only_periods` to `clean_interpunction`.  \n",
    "When this parameter is `True`, all sentence-ending interpunction should be changed to a period.  \n",
    "The use of this will become clear in the next exercise."
   ]
  },
  {
   "cell_type": "code",
   "execution_count": null,
   "id": "47d51d98",
   "metadata": {
    "id": "TdLKVbsvqhGb"
   },
   "outputs": [],
   "source": [
    "def clean_interpunction(string, only_periods=None):\n",
    "    \"\"\"Pads words and sentence-ending interpunction with a space.\n",
    "    Other interpunction should be removed.\n",
    "    If only_periods is True, replace all sentence ending interpunction by a period.\n",
    "\n",
    "    The following characters are considered sentence-ending interpunction:\n",
    "    - .\n",
    "    - ?\n",
    "    - !\n",
    "\n",
    "    Other interpunction that should be removed:\n",
    "    - ,\n",
    "    - ;\n",
    "    - :\n",
    "    \"\"\"\n",
    "    output_string = None # replace this line by your own lines of code\n",
    "    return output_string\n",
    "\n",
    "simple_sent = 'A sentence?'\n",
    "complex_sent = 'A sentence, with a dependent clause!'\n",
    "assert clean_interpunction(simple_sent) == 'A sentence ?'\n",
    "assert clean_interpunction(complex_sent) == 'A sentence with a dependent clause !'\n",
    "assert clean_interpunction(simple_sent, only_periods=True) == 'A sentence .'\n",
    "assert clean_interpunction(complex_sent, only_periods=True) == 'A sentence with a dependent clause .'\n",
    "print('All cases passed! The function works.')"
   ]
  },
  {
   "cell_type": "markdown",
   "id": "3feeb812",
   "metadata": {
    "id": "f5q3jw66q3EG"
   },
   "source": [
    "## Exercise 3: Split into sentences\n",
    "Using the results of the previous exercises, implement a function that satisfies the docstring and assertions:"
   ]
  },
  {
   "cell_type": "code",
   "execution_count": null,
   "id": "6d666d85",
   "metadata": {
    "id": "5lTZXUgwq6lW"
   },
   "outputs": [],
   "source": [
    "def split_sentences(text):\n",
    "    \"\"\"Takes a single string and splits it into sentences.\n",
    "    Sentences are lists containing words (as strings).\n",
    "    Sentences are split on periods.\n",
    "    Other interpunction is removed.\n",
    "\n",
    "    Returns a nested list of sentences and words\n",
    "    \"\"\"\n",
    "    # your code here\n",
    "    # use your implementation of clean_interpunction\n",
    "    sentences = None\n",
    "\n",
    "    # return the nested list\n",
    "    return sentences\n",
    "\n",
    "\n",
    "\n",
    "text = 'The novel details two days in the life of 16-year-old Holden Caulfield after he has been expelled from prep school. Confused and disillusioned, Holden searches for truth and rails against the “phoniness” of the adult world.'\n",
    "expected = [['The', 'novel', 'details', 'two', 'days', 'in', 'the', 'life', 'of', '16-year-old', 'Holden', 'Caulfield', 'after', 'he', 'has', 'been', 'expelled', 'from', 'prep', 'school'],\n",
    "            ['Confused', 'and', 'disillusioned', 'Holden', 'searches', 'for', 'truth', 'and', 'rails', 'against', 'the', '“phoniness”', 'of', 'the', 'adult', 'world'],\n",
    "    ]\n",
    "\n",
    "# If no errors occur, you solved it correctly!\n",
    "split_text = split_sentences(text)\n",
    "assert len(split_text) == 2\n",
    "assert split_text == expected"
   ]
  },
  {
   "cell_type": "markdown",
   "id": "158991ca",
   "metadata": {
    "id": "Um-nFxcTq1WA"
   },
   "source": [
    "## Exercise 4 - Putting it all together"
   ]
  },
  {
   "cell_type": "markdown",
   "id": "47aff2ba",
   "metadata": {
    "id": "YNbDTnBrheRq"
   },
   "source": [
    "### The data\n",
    "In the `class materials` section of the [Teams channel](https://colab.research.google.com/corgiredirector?site=https%3A%2F%2Fteams.microsoft.com%2Fl%2Fteam%2F19%253a7fUy9HLO6LExOYQiz81CKmKv3wN7FI7cXyOgyPSz6Xo1%2540thread.tacv2%2Fconversations%3FgroupId%3D5d0856b8-3287-4585-8d42-6b65e5eee6e6%26tenantId%3Dd72758a0-a446-4e0f-a0aa-4bf95a4a10e7) you will find three `.txt`files:\n",
    "\n",
    "\n",
    "- `catcher_chapter1.txt`, containing the first chapter of The Catcher in the Rye by J.D. Salinger\n",
    "- `matilda_chapter1.txt`, containing the first chapter of Matilda by Roald Dahl\n",
    "- `ij_chapter1.txt`, containing a part of the first chapter (the chapters are way too long) of Inifite Jest by David Foster Wallace.\n",
    "\n",
    "Write some code that loads the whole content of each of these files into its corresponding variable, see code cell below.\n",
    "\n",
    "We will use these variables in the rest of the notebook. Make sure you've executed this cell at least once.\n"
   ]
  },
  {
   "cell_type": "code",
   "execution_count": null,
   "id": "e5f2ca44",
   "metadata": {
    "id": "q_58MJYQadJO"
   },
   "outputs": [],
   "source": [
    "catcher_chapter1 = ''\n",
    "matilda_chapter1 = ''\n",
    "ij_chapter1 = ''"
   ]
  },
  {
   "cell_type": "markdown",
   "id": "a0ea615a",
   "metadata": {
    "id": "EuaRmuhwhTIZ"
   },
   "source": [
    "### Writing functions\n",
    "Implement a few function to use in the final analysis:\n",
    "\n",
    "1. Implement a function that counts the total number of words given a string containing a full text.\n",
    "2. Implement a function that calculates the average sentence length of a text. The sentence length is defined as the number of words in a sentence. Use your implementation of `split_sentences`.<sup>1</sup>\n",
    "3. Implement a function that calculates the average word length of a text. Again, use your implementation of `split sentences`.<sup>1</sup>\n",
    "4. Bonus: implement a function that calculates the [automated readability index](https://en.wikipedia.org/wiki/Automated_readability_index) of a text.\n",
    "\n",
    "<sup>1</sup> *You can and may combine 2. and 3. into a single function that returns two values.*\n",
    "\n",
    "\n",
    "\n"
   ]
  },
  {
   "cell_type": "markdown",
   "id": "be17c547",
   "metadata": {
    "id": "SSnrAH0xjUx8"
   },
   "source": [
    "### Output\n",
    "Implement a function that calls 1-3 (and optionally 4) for each of the novels, and outputs their results. Try to format it in a nice way, so that it is clear what the output is."
   ]
  }
 ],
 "metadata": {
  "jupytext": {
   "main_language": "python"
  },
  "kernelspec": {
   "display_name": "Python 3",
   "name": "python3"
  }
 },
 "nbformat": 4,
 "nbformat_minor": 5
}
