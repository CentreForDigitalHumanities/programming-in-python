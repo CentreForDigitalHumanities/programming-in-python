{
 "cells": [
  {
   "cell_type": "code",
   "execution_count": null,
   "id": "89e422cf",
   "metadata": {
    "id": "ZGnlpVha4WwJ"
   },
   "outputs": [],
   "source": []
  },
  {
   "cell_type": "markdown",
   "id": "81bf43e5",
   "metadata": {
    "id": "fqMJHzNk5yXQ"
   },
   "source": [
    "# CDH course \"Programming in Python\"\n",
    "\n",
    "[index](https://colab.research.google.com/drive/1s05aR4wn2dU1C3se1oXfqKz2EY5ilrno)"
   ]
  },
  {
   "cell_type": "markdown",
   "id": "295e7211",
   "metadata": {
    "id": "mzWET4w4lAr4"
   },
   "source": [
    "# 1. Loops\n",
    "\n",
    "Loops are the most primitive way to run code *repeatedly*. For example:\n",
    "\n",
    "- Run some lines of code for each word in a text.\n",
    "- Run some lines of code for each number in a list.\n",
    "- Run some lines of code until you have found the answer to a question.\n",
    "\n",
    "There are \"smarter\" ways to repeat code that we will cover later in the course."
   ]
  },
  {
   "cell_type": "markdown",
   "id": "1dff2016",
   "metadata": {
    "id": "d7GJLYfEXwfs"
   },
   "source": [
    "## `while` loops\n",
    "\n",
    "A `while` loop looks like an `if` statement, but it repeats as long as the condition is `True`:"
   ]
  },
  {
   "cell_type": "code",
   "execution_count": null,
   "id": "7d600781",
   "metadata": {
    "colab": {
     "base_uri": "https://localhost:8080/"
    },
    "executionInfo": {
     "elapsed": 517,
     "status": "ok",
     "timestamp": 1667900027935,
     "user": {
      "displayName": "Julian Gonggrijp",
      "userId": "06467962548183964912"
     },
     "user_tz": -60
    },
    "id": "Fnut4-DIYmb8",
    "outputId": "91a840be-aa92-47c9-c07f-bb52cb0447bc"
   },
   "outputs": [],
   "source": [
    "name = 'Sheean'\n",
    "while len(name) < 10:\n",
    "    name = name + '!'\n",
    "print(name)"
   ]
  },
  {
   "cell_type": "markdown",
   "id": "babda674",
   "metadata": {
    "id": "p9-je4X0zkhq"
   },
   "source": [
    "`while` loops are impractical if you want to repeat something for every element of an iterable, such as a list."
   ]
  },
  {
   "cell_type": "markdown",
   "id": "89d88845",
   "metadata": {
    "id": "BDCe1ux90B7r"
   },
   "source": [
    "## `for` loops over lists\n",
    "\n",
    "Do something with every element in a list:"
   ]
  },
  {
   "cell_type": "code",
   "execution_count": null,
   "id": "03788d39",
   "metadata": {
    "colab": {
     "base_uri": "https://localhost:8080/"
    },
    "executionInfo": {
     "elapsed": 395,
     "status": "ok",
     "timestamp": 1667900112073,
     "user": {
      "displayName": "Julian Gonggrijp",
      "userId": "06467962548183964912"
     },
     "user_tz": -60
    },
    "id": "O0XEpRMI0WG2",
    "outputId": "41b9437b-26e9-45c4-ffb6-48e2d0510e0b"
   },
   "outputs": [],
   "source": [
    "the_list = [1, 'hello', True]\n",
    "\n",
    "for element in the_list:\n",
    "    print(element)"
   ]
  },
  {
   "cell_type": "markdown",
   "id": "67b01e94",
   "metadata": {
    "id": "gdd6v6LU1DlK"
   },
   "source": [
    "The body of the loop is an *indented block*, just like in an `if` or `while` statement. You can have multiple lines that repeat together:"
   ]
  },
  {
   "cell_type": "code",
   "execution_count": null,
   "id": "5bc26640",
   "metadata": {
    "colab": {
     "base_uri": "https://localhost:8080/"
    },
    "executionInfo": {
     "elapsed": 384,
     "status": "ok",
     "timestamp": 1667900436458,
     "user": {
      "displayName": "Julian Gonggrijp",
      "userId": "06467962548183964912"
     },
     "user_tz": -60
    },
    "id": "dpqb0qFc1u0s",
    "outputId": "9311ae9c-066d-4dbf-da9a-7c440473dac3"
   },
   "outputs": [],
   "source": [
    "words = ['A', 'very', 'short', 'sentence']\n",
    "full_text = ''\n",
    "\n",
    "for word in words:\n",
    "    full_text = full_text + word + ' '\n",
    "    print(word)\n",
    "    print(full_text)"
   ]
  },
  {
   "cell_type": "markdown",
   "id": "61e8920e",
   "metadata": {
    "id": "vDU53qkB2zo4"
   },
   "source": [
    "The loop ends when the indentation ends. Here, we calculate the sum of a list of numbers, and print the sum only at the end:"
   ]
  },
  {
   "cell_type": "code",
   "execution_count": null,
   "id": "c512b35a",
   "metadata": {
    "colab": {
     "base_uri": "https://localhost:8080/"
    },
    "executionInfo": {
     "elapsed": 550,
     "status": "ok",
     "timestamp": 1667900533282,
     "user": {
      "displayName": "Julian Gonggrijp",
      "userId": "06467962548183964912"
     },
     "user_tz": -60
    },
    "id": "q6ucnoqeUnlI",
    "outputId": "461dfdab-3387-4d9e-d59e-ad73fb8993cd"
   },
   "outputs": [],
   "source": [
    "numbers = [9, 9, 4, 7, 6]\n",
    "sum = 0\n",
    "\n",
    "for number in numbers:\n",
    "    sum = sum + number\n",
    "print(sum)"
   ]
  },
  {
   "cell_type": "markdown",
   "id": "543b0dc6",
   "metadata": {
    "id": "0Gun_3cX1ey8"
   },
   "source": [
    "## Exercise 1: basic `for` loops\n",
    "\n",
    "1. Make a small change to the following code block (copied from above), so that it prints the `full_text` only at the end, when it is complete."
   ]
  },
  {
   "cell_type": "code",
   "execution_count": null,
   "id": "2c3ce752",
   "metadata": {
    "id": "nMF8WE3F19HC"
   },
   "outputs": [],
   "source": [
    "words = ['A', 'very', 'short', 'sentence']\n",
    "full_text = ''\n",
    "\n",
    "for word in words:\n",
    "    full_text = full_text + word + ' '\n",
    "    print(word)\n",
    "    print(full_text)"
   ]
  },
  {
   "cell_type": "markdown",
   "id": "67daf6fe",
   "metadata": {
    "id": "8zB10pLC2ZaT"
   },
   "source": [
    "2. Using a `for` loop, create a copy of the list of fruits below that has the fruits in the reverse order. Change the contents of the list on the first line to check that your solution is general."
   ]
  },
  {
   "cell_type": "code",
   "execution_count": null,
   "id": "3e1db262",
   "metadata": {
    "colab": {
     "base_uri": "https://localhost:8080/"
    },
    "executionInfo": {
     "elapsed": 363,
     "status": "ok",
     "timestamp": 1667903740371,
     "user": {
      "displayName": "Julian Gonggrijp",
      "userId": "06467962548183964912"
     },
     "user_tz": -60
    },
    "id": "bAwZ_ipU28AY",
    "lines_to_next_cell": 2,
    "outputId": "6d1d0526-c780-4eaa-d9e4-2262de2691c2"
   },
   "outputs": [],
   "source": [
    "fruits = ['apricot', 'banana', 'cherry', 'date']\n",
    "\n",
    "# insert your code here\n",
    "# SHOULD output ['date', 'cherry', 'banana', 'apricot']\n",
    "\n",
    "reverse_fruits = fruits[-1::-1]\n",
    "print(reverse_fruits)\n",
    "\n",
    "reverse_fruits = []\n",
    "for fruit in fruits[-1::-1]:\n",
    "    reverse_fruits.append(fruit)\n",
    "    reverse_fruits = reverse_fruits + [fruit]\n",
    "print(reverse_fruits)\n",
    "\n",
    "reverse_fruits = []\n",
    "for fruit in fruits:\n",
    "    reverse_fruits = [fruit] + reverse_fruits\n",
    "    print(fruit, reverse_fruits)\n",
    "print(reverse_fruits)\n",
    "\n",
    "reverse_fruits = []\n",
    "reverse_fruits = [fruits[0]] + reverse_fruits\n",
    "reverse_fruits = [fruits[1]] + reverse_fruits\n",
    "reverse_fruits = [fruits[2]] + reverse_fruits\n",
    "reverse_fruits = [fruits[3]] + reverse_fruits\n",
    "print(reverse_fruits)\n",
    "\n",
    "reverse_fruits = []\n",
    "for fruit in fruits:\n",
    "    reverse_fruits[0:0] = [fruit]\n",
    "print(reverse_fruits)\n",
    "\n",
    "reverse_fruits = []\n",
    "reverse_fruits[0:0] = [fruits[0]]\n",
    "reverse_fruits[0:0] = [fruits[1]]\n",
    "reverse_fruits[0:0] = [fruits[2]]\n",
    "reverse_fruits[0:0] = [fruits[3]]\n",
    "\n",
    "reverse_fruits = []\n",
    "for fruit in fruits:\n",
    "    reverse_fruits[-1:0] = [fruit]"
   ]
  },
  {
   "cell_type": "markdown",
   "id": "bbeefa47",
   "metadata": {
    "id": "DATxv0pM2gQc"
   },
   "source": [
    "## Variations on loops\n",
    "\n",
    "All of the following variations can also be combined."
   ]
  },
  {
   "cell_type": "markdown",
   "id": "4befa592",
   "metadata": {
    "id": "MVcUZD4T7j4h"
   },
   "source": [
    "### Infinite loop"
   ]
  },
  {
   "cell_type": "code",
   "execution_count": null,
   "id": "15f429cd",
   "metadata": {
    "id": "l40DJzDx2nCz"
   },
   "outputs": [],
   "source": [
    "while True:\n",
    "    print('Hello, living lab!')"
   ]
  },
  {
   "cell_type": "markdown",
   "id": "1105ef95",
   "metadata": {
    "id": "0axR682t-ub4"
   },
   "source": [
    "Generally something to avoid, but sometimes useful with `break`."
   ]
  },
  {
   "cell_type": "markdown",
   "id": "d4d424c4",
   "metadata": {
    "id": "2xzzyBX43Rbq"
   },
   "source": [
    "### Breaking out of a loop"
   ]
  },
  {
   "cell_type": "code",
   "execution_count": null,
   "id": "652d8740",
   "metadata": {
    "colab": {
     "base_uri": "https://localhost:8080/"
    },
    "executionInfo": {
     "elapsed": 439,
     "status": "ok",
     "timestamp": 1667904280773,
     "user": {
      "displayName": "Julian Gonggrijp",
      "userId": "06467962548183964912"
     },
     "user_tz": -60
    },
    "id": "kbbKDHwd4Eiq",
    "outputId": "6ff54d8a-dfa6-4995-c469-1b3177bce245"
   },
   "outputs": [],
   "source": [
    "basket = ['apricot', 'banana', 'cherry', 'date']\n",
    "\n",
    "for fruit in basket:\n",
    "    print(fruit)\n",
    "    if fruit == 'elderberry':\n",
    "        print('Yay, this basket has elderberry! 🤤')\n",
    "        break\n",
    "else:\n",
    "    print('Aww no elderberry. 😞')"
   ]
  },
  {
   "cell_type": "markdown",
   "id": "6720806e",
   "metadata": {
    "id": "3C9WlDSd-8zw"
   },
   "source": [
    "`break`/`else` can be used both with `for` and `while` loops. The `else` is not required."
   ]
  },
  {
   "cell_type": "markdown",
   "id": "1386825b",
   "metadata": {
    "id": "ZZGIvGNg673Z"
   },
   "source": [
    "### Skipping to the next iteration"
   ]
  },
  {
   "cell_type": "code",
   "execution_count": null,
   "id": "2a866e7d",
   "metadata": {
    "colab": {
     "base_uri": "https://localhost:8080/"
    },
    "executionInfo": {
     "elapsed": 525,
     "status": "ok",
     "timestamp": 1667904433491,
     "user": {
      "displayName": "Julian Gonggrijp",
      "userId": "06467962548183964912"
     },
     "user_tz": -60
    },
    "id": "AyVZVJtL7nMJ",
    "outputId": "2df5b782-b01c-4bea-812f-4f17ab255e5e"
   },
   "outputs": [],
   "source": [
    "chores = ['dishwashing', 'vacuum cleaning', 'laundry']\n",
    "\n",
    "for task in chores:\n",
    "    # I really hate vacuum cleaning\n",
    "    if task == 'vacuum cleaning':\n",
    "        continue\n",
    "    print(task)"
   ]
  },
  {
   "cell_type": "markdown",
   "id": "35fd0237",
   "metadata": {
    "id": "3fs83n3H_J_j"
   },
   "source": [
    "Works both in `for` and `while`."
   ]
  },
  {
   "cell_type": "markdown",
   "id": "5dd0eb8f",
   "metadata": {
    "id": "FHf46PtqBvVb"
   },
   "source": [
    "### Nested loops\n",
    "\n",
    "Nesting loops is **allowed**, to arbitrary depth. `for` and `while` can be mixed. However, nesting loops has a big **disadvantage**: your code quickly becomes less readable.\n",
    "\n",
    "Below, we use nested loops to iterate over nested lists."
   ]
  },
  {
   "cell_type": "code",
   "execution_count": null,
   "id": "70762c31",
   "metadata": {
    "colab": {
     "base_uri": "https://localhost:8080/"
    },
    "executionInfo": {
     "elapsed": 527,
     "status": "ok",
     "timestamp": 1667904767636,
     "user": {
      "displayName": "Julian Gonggrijp",
      "userId": "06467962548183964912"
     },
     "user_tz": -60
    },
    "id": "WffnwizrCvPw",
    "outputId": "64cc2f10-38da-4276-a401-26eeffd95890"
   },
   "outputs": [],
   "source": [
    "table = [\n",
    "    ['bread', 'fluffy', 'light brown'],\n",
    "    ['olives', 'savory', 'dark green'],\n",
    "    ['grapes', 'sweet', 'shiny red'],\n",
    "]\n",
    "\n",
    "for row in table:\n",
    "    print('new row:')\n",
    "    for cell in row:\n",
    "        print(cell, end='; ') # does not finish with a linebreak\n",
    "    print() # puts a linebreak"
   ]
  },
  {
   "cell_type": "markdown",
   "id": "87867218",
   "metadata": {
    "id": "DZVVVSYy8HGd"
   },
   "source": [
    "### Iterating over a string"
   ]
  },
  {
   "cell_type": "code",
   "execution_count": null,
   "id": "76e3ba42",
   "metadata": {
    "colab": {
     "base_uri": "https://localhost:8080/"
    },
    "executionInfo": {
     "elapsed": 459,
     "status": "ok",
     "timestamp": 1667905025657,
     "user": {
      "displayName": "Julian Gonggrijp",
      "userId": "06467962548183964912"
     },
     "user_tz": -60
    },
    "id": "14DRs2jK8Po7",
    "outputId": "bd49b199-0647-4e5b-86fd-19c7d09497ee"
   },
   "outputs": [],
   "source": [
    "invitation = '''\n",
    "    Dear Sheean,\n",
    "\n",
    "    I hereby invite you for my Python party on the 9th of November.\n",
    "    The bar will open at 2 PM. 🍸 Please bring pseudocode.\n",
    "\n",
    "    Yours sincerely,\n",
    "    Julian\n",
    "'''\n",
    "\n",
    "lowercase = 0\n",
    "uppercase = 0\n",
    "other = 0\n",
    "for character in invitation:\n",
    "    if 'a' <= character <= 'z':\n",
    "        lowercase = lowercase + 1\n",
    "    elif 'A' <= character <= 'Z':\n",
    "        uppercase = uppercase + 1\n",
    "    else:\n",
    "        other = other + 1\n",
    "\n",
    "print(lowercase, 'lowercase,', uppercase, 'uppercase and', other, 'other.')"
   ]
  },
  {
   "cell_type": "markdown",
   "id": "5ebd49f7",
   "metadata": {
    "id": "HrfN3OhbELuM"
   },
   "source": [
    "### Iterating over generated sequences\n",
    "\n",
    "*Generators* are iterables that produce one value at a time, so they do not need to store all their values at the same time.\n",
    "\n",
    "`range` creates a generator that produces consecutive numbers."
   ]
  },
  {
   "cell_type": "code",
   "execution_count": null,
   "id": "7b83f22d",
   "metadata": {
    "colab": {
     "base_uri": "https://localhost:8080/"
    },
    "executionInfo": {
     "elapsed": 11,
     "status": "ok",
     "timestamp": 1667905473540,
     "user": {
      "displayName": "Julian Gonggrijp",
      "userId": "06467962548183964912"
     },
     "user_tz": -60
    },
    "id": "iqNQLZVcHYRX",
    "outputId": "40591d82-d9d1-4c9c-c887-042daa2f9a81"
   },
   "outputs": [],
   "source": [
    "for number in range(5):\n",
    "    print(number)"
   ]
  },
  {
   "cell_type": "markdown",
   "id": "eff4e0e6",
   "metadata": {
    "id": "9GySTLd_Hq9l"
   },
   "source": [
    "`enumerate` creates a new iterable based on another iterable, so you get not only the values but also their indices."
   ]
  },
  {
   "cell_type": "code",
   "execution_count": null,
   "id": "2a333650",
   "metadata": {
    "colab": {
     "base_uri": "https://localhost:8080/"
    },
    "executionInfo": {
     "elapsed": 566,
     "status": "ok",
     "timestamp": 1667905472137,
     "user": {
      "displayName": "Julian Gonggrijp",
      "userId": "06467962548183964912"
     },
     "user_tz": -60
    },
    "id": "MIyn99IxH74D",
    "outputId": "0c2f832c-c245-49ef-c51c-da9903e163e5"
   },
   "outputs": [],
   "source": [
    "basket = ['apricot', 'banana', 'cherry', 'date']\n",
    "\n",
    "for index, fruit in enumerate(basket):\n",
    "    print('Fruit number', index, 'is', fruit)"
   ]
  },
  {
   "cell_type": "markdown",
   "id": "7847ddf9",
   "metadata": {
    "id": "WGlaXiuxISRX"
   },
   "source": [
    "There are many more ways to create generators, and many more ways to use them as well. We will see more of them later on in the course."
   ]
  },
  {
   "cell_type": "markdown",
   "id": "fd7c1309",
   "metadata": {
    "id": "-K0CvNkOLEYE"
   },
   "source": [
    "## Exercise 2: more loops\n",
    "\n",
    "1. The code block below is written to help you explore what kind of \"stuff\" comes out of `range` and `enumerate`. Read the code from top to bottom. What stands out to you? Why do you think it was written this way?\n",
    "\n",
    "2. Run the code block for each example value of `miracle`. Based on the results, describe in your own words what `range` and `enumerate` do."
   ]
  },
  {
   "cell_type": "code",
   "execution_count": null,
   "id": "5cec1b7c",
   "metadata": {
    "colab": {
     "base_uri": "https://localhost:8080/"
    },
    "executionInfo": {
     "elapsed": 465,
     "status": "ok",
     "timestamp": 1667910549466,
     "user": {
      "displayName": "Julian Gonggrijp",
      "userId": "06467962548183964912"
     },
     "user_tz": -60
    },
    "id": "7gappYcLOrsu",
    "outputId": "6fff15b1-41c9-4798-bbb6-43c9ef12c85d"
   },
   "outputs": [],
   "source": [
    "basket = ['apricot', 'banana', 'cherry', 'date']\n",
    "\n",
    "miracle = range(10)\n",
    "# miracle = range(2, 11)\n",
    "# miracle = range(2, 11, 3)\n",
    "# miracle = range(11, 2, -2)\n",
    "# miracle = range(0.1, 1.0, 0.1)\n",
    "# miracle = enumerate(basket)\n",
    "# miracle = enumerate('pirate')\n",
    "# miracle = enumerate(range(10))\n",
    "\n",
    "print(type(miracle))\n",
    "\n",
    "iteration_count = 0\n",
    "for value in miracle:\n",
    "    iteration_count = iteration_count + 1\n",
    "    if iteration_count > 2:\n",
    "        continue\n",
    "    elif iteration_count == 1:\n",
    "        print(type(value))\n",
    "    print(value)\n",
    "print(value)\n",
    "print('length:', iteration_count)"
   ]
  },
  {
   "cell_type": "markdown",
   "id": "9655ec32",
   "metadata": {
    "id": "2Haq4E95bN6T"
   },
   "source": [
    "3. The `input` function, demonstrated below, lets you ask the human user for a string and then store it in a variable. Write a program that keeps asking the user for words until the word is `'stop'`. For each word, report to the user how many characters it contains."
   ]
  },
  {
   "cell_type": "code",
   "execution_count": null,
   "id": "3c2f7f3b",
   "metadata": {
    "colab": {
     "base_uri": "https://localhost:8080/"
    },
    "executionInfo": {
     "elapsed": 6733,
     "status": "ok",
     "timestamp": 1667914234752,
     "user": {
      "displayName": "Julian Gonggrijp",
      "userId": "06467962548183964912"
     },
     "user_tz": -60
    },
    "id": "0k_YQbBccyC_",
    "outputId": "15b0c654-f047-4036-b95c-36a42d112d6b"
   },
   "outputs": [],
   "source": [
    "# word = input('Please give me a word: ')\n",
    "# print('you wrote', word)\n",
    "word = ''\n",
    "while word != 'stop':\n",
    "    word = input('Please give me a word: ')\n",
    "    print('you wrote', word)\n",
    "    print('the length is', len(word))\n",
    "\n",
    "word = ''\n",
    "while True:\n",
    "    word = input('Please give me a word: ')\n",
    "    if word == 'stop':\n",
    "        break\n",
    "    # else:\n",
    "    print('you wrote', word)\n",
    "    length = 0\n",
    "    for character in word:\n",
    "        length = length + 1\n",
    "    print('the length is', length)"
   ]
  },
  {
   "cell_type": "markdown",
   "id": "66919c10",
   "metadata": {
    "id": "uyqbuhKsUlhG"
   },
   "source": [
    "4. *FizzBuzz part 2* (advanced). Look back at your solution to exercise 5.3 from day 1 (*FizzBuzz part 1*). Now write a program that does the following: for each integer from `1` up to and including `100`, print `Fizz`, `Buzz`, `FizzBuzz` or the number itself, following the same rules as before. Separate the words and numbers by commas. Add a newline after every tenth number, so you print ten lines in total. The first line should start like `1, 2, Fizz, 4, Buzz, Fizz, ...` and the last line should be `91, 92, Fizz, 94, Buzz, Fizz, 97, 98, Fizz, Buzz, `."
   ]
  },
  {
   "cell_type": "code",
   "execution_count": null,
   "id": "f2dfcdac",
   "metadata": {
    "colab": {
     "base_uri": "https://localhost:8080/"
    },
    "executionInfo": {
     "elapsed": 674,
     "status": "ok",
     "timestamp": 1667915778770,
     "user": {
      "displayName": "Julian Gonggrijp",
      "userId": "06467962548183964912"
     },
     "user_tz": -60
    },
    "id": "BUeMXIQXaKna",
    "outputId": "2852de82-cad6-4441-8f47-5555c83f08a4"
   },
   "outputs": [],
   "source": [
    "# the end=', ' argument will help you:\n",
    "print('this prints with a comma instead of a newline', end=', ')\n",
    "print('this as well', end=', ')\n",
    "# empty print() adds a newline:\n",
    "print()\n",
    "print('next line for illustration')\n",
    "\n",
    "# iteration = 0\n",
    "for n in range(1, 101):\n",
    "    # iteration = iteration + 1\n",
    "    if n % 15 == 0:\n",
    "        print('FizzBuzz', end=', ')\n",
    "    elif n % 3 == 0:\n",
    "        print('Fizz', end=', ')\n",
    "    elif n % 5 == 0:\n",
    "        print('Buzz', end=', ')\n",
    "    else:\n",
    "        print(n, end=', ')\n",
    "    if n % 10 == 0:\n",
    "        print()\n",
    "\n",
    "numbers = range(1, 101)\n",
    "for number in numbers:\n",
    "    if not number % 15:\n",
    "        output = 'FizzBuzz'\n",
    "    elif not number % 3:\n",
    "        output = 'Fizz'\n",
    "    elif not number % 5:\n",
    "        output = 'Buzz'\n",
    "    else:\n",
    "        output = number\n",
    "    if number == numbers[-1]:\n",
    "        print(output, end='.')\n",
    "    elif not number % 10:\n",
    "        print(output, end=',\\n')\n",
    "    else:\n",
    "        print(output, end=', ')\n",
    "\n",
    "range(100)[10]"
   ]
  }
 ],
 "metadata": {
  "jupytext": {
   "main_language": "python"
  },
  "kernelspec": {
   "display_name": "Python 3",
   "name": "python3"
  }
 },
 "nbformat": 4,
 "nbformat_minor": 5
}
