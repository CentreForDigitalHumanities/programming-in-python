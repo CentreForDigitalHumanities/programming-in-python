{
 "cells": [
  {
   "cell_type": "markdown",
   "id": "00c2de2a",
   "metadata": {
    "id": "fqMJHzNk5yXQ"
   },
   "source": [
    "# Module 3: Conditionals\n",
    "\n",
    "### CDH course \"Programming in Python\"\n",
    "\n",
    "[index](https://colab.research.google.com/github/CentreForDigitalHumanities/programming-in-python/blob/main/lessons/00%20index.ipynb)\n",
    "\n",
    "Previous module: [2. Values and expressions](https://colab.research.google.com/github/CentreForDigitalHumanities/programming-in-python/blob/main/lessons/02%20values%20and%20expressions.ipynb)\n",
    "\n",
    "### This module\n",
    "\n",
    "- Execute code only under specific conditions."
   ]
  },
  {
   "cell_type": "markdown",
   "id": "e36282e0",
   "metadata": {
    "id": "SshSsbtF8ldm"
   },
   "source": [
    "## `if`\n",
    "\n",
    "- Only evaluate part of the code if some condition is met\n",
    "- Syntax: `if <condition>:`\n",
    "- `<condition>` can be any expression that evaluates to `True` or `False`\n",
    "- Introducing *indented blocks*"
   ]
  },
  {
   "cell_type": "code",
   "execution_count": null,
   "id": "4ef0c32e",
   "metadata": {
    "id": "Va6X8kIz9ey0"
   },
   "outputs": [],
   "source": [
    "a = 12\n",
    "\n",
    "if a > 10:\n",
    "    print('the condition is met!')"
   ]
  },
  {
   "cell_type": "code",
   "execution_count": null,
   "id": "66357274",
   "metadata": {
    "id": "ADXv-2u090ql"
   },
   "outputs": [],
   "source": [
    "a = 15\n",
    "\n",
    "if a < 10:\n",
    "    print('everything on the same indentation level belongs to this if-condition')\n",
    "    print('so this will only get printed if the condition is met')\n",
    "    print('and so does this')\n",
    "print('but not this!')"
   ]
  },
  {
   "cell_type": "markdown",
   "id": "2d6a2906",
   "metadata": {
    "id": "5gqn2ac_sg7Y"
   },
   "source": [
    "- For indented blocks, we sometimes need `pass` as a placeholder. It lets us create an indented block, without defining any behavior for it yet."
   ]
  },
  {
   "cell_type": "code",
   "execution_count": null,
   "id": "77c4f7a1",
   "metadata": {
    "id": "ZdH7HnL6tDpS"
   },
   "outputs": [],
   "source": [
    "earth = 'round'\n",
    "\n",
    "if earth == 'square':\n",
    "    # TODO not sure yet how to handle this case\n",
    "    pass"
   ]
  },
  {
   "cell_type": "markdown",
   "id": "142b7b48",
   "metadata": {
    "id": "sQxxBZwm-FYm"
   },
   "source": [
    "## `else`\n",
    "\n",
    "- `if` is nice, but what if we are interested in the other case?"
   ]
  },
  {
   "cell_type": "code",
   "execution_count": null,
   "id": "5dd36980",
   "metadata": {
    "id": "atRhlkGq-Mh1"
   },
   "outputs": [],
   "source": [
    "letter = 'b'\n",
    "\n",
    "if letter == 'a':\n",
    "    print('we found the letter a')\n",
    "\n",
    "if letter == 'b':\n",
    "    print('this is not a')\n",
    "\n",
    "if letter == 'c':\n",
    "    print('this is not a')"
   ]
  },
  {
   "cell_type": "markdown",
   "id": "deb0134f",
   "metadata": {
    "id": "O1repWSS-3Y0"
   },
   "source": [
    "Instead of specifying *all other* cases, use `else:`"
   ]
  },
  {
   "cell_type": "code",
   "execution_count": null,
   "id": "99eca9e2",
   "metadata": {
    "id": "4n9ksUuH-8kE"
   },
   "outputs": [],
   "source": [
    "letter = 'b'\n",
    "\n",
    "if letter == 'a':\n",
    "    print('we found the letter a')\n",
    "else:\n",
    "    print('this is not a')"
   ]
  },
  {
   "cell_type": "markdown",
   "id": "3c28b913",
   "metadata": {
    "id": "Rg1ohowkAGFh"
   },
   "source": [
    "## `elif`\n",
    "\n",
    "Specify extra cases with `elif <condition>:` (else if)\n",
    "\n"
   ]
  },
  {
   "cell_type": "code",
   "execution_count": null,
   "id": "ae170dc7",
   "metadata": {
    "id": "JbiihBgdANIM"
   },
   "outputs": [],
   "source": [
    "letter = 'a'\n",
    "\n",
    "if letter == 'a':\n",
    "    print('we found the letter a')\n",
    "elif letter == 'b':\n",
    "    print('we found the letter b')\n",
    "else:\n",
    "    print('this is not a or b')"
   ]
  },
  {
   "cell_type": "markdown",
   "id": "b7195d1f",
   "metadata": {
    "id": "lVOu8HvVIEj6"
   },
   "source": [
    "## Multiple conditions\n",
    "- We can *nest* conditions"
   ]
  },
  {
   "cell_type": "code",
   "execution_count": null,
   "id": "91331248",
   "metadata": {
    "id": "MH_RrrBRIPh4"
   },
   "outputs": [],
   "source": [
    "number = 11\n",
    "\n",
    "if number > 2:\n",
    "    if number < 10:\n",
    "        print('between 2 and 10')\n",
    "    print('greater than 2, but not less than 10')\n",
    "\n",
    "# There is a mistake in the code above, can you find\n",
    "# and fix it?"
   ]
  },
  {
   "cell_type": "markdown",
   "id": "16d2149c",
   "metadata": {
    "id": "8Lvam7rpIms6"
   },
   "source": [
    "- Even better: we can *combine* conditions\n",
    "- use `<condition1> and <condition2>`, `<condition1> or <condition2>` and `not <condition>`\n"
   ]
  },
  {
   "cell_type": "code",
   "execution_count": null,
   "id": "41a9904a",
   "metadata": {
    "id": "zJ8rBgcfIw4I"
   },
   "outputs": [],
   "source": [
    "number = 11\n",
    "if number > 2 and number < 10:\n",
    "    print('between 2 and 10')\n",
    "\n",
    "letter = 'd'\n",
    "if letter == 'a' or letter == 'b' or letter == 'c':\n",
    "    print('a or b or c')\n",
    "\n",
    "if not (letter == 'a' or letter == 'b'):\n",
    "    print('neither a nor b')"
   ]
  },
  {
   "cell_type": "markdown",
   "id": "3996fbc1",
   "metadata": {
    "id": "SmsIZBLEtg9r"
   },
   "source": [
    "- `and`, `or`, `not` are operators, just like `+` and `==`. You can use them outside conditionals."
   ]
  },
  {
   "cell_type": "code",
   "execution_count": null,
   "id": "4d36774c",
   "metadata": {
    "id": "XMWJeaujt2lj"
   },
   "outputs": [],
   "source": [
    "height = 185\n",
    "weight = 52\n",
    "\n",
    "tall = height > 180\n",
    "light = weight < 65\n",
    "\n",
    "skinny = tall and light\n",
    "print(skinny)"
   ]
  },
  {
   "cell_type": "markdown",
   "id": "6b600705",
   "metadata": {
    "id": "tvXa9KWXAwge"
   },
   "source": [
    "## Exercise 3.1: if/elif/else"
   ]
  },
  {
   "cell_type": "markdown",
   "id": "37ffc4c7",
   "metadata": {
    "id": "pKBuViM9u7ZC"
   },
   "source": [
    "1. Try to predict the output of the following code blocks. Can you explain any surprises?"
   ]
  },
  {
   "cell_type": "code",
   "execution_count": null,
   "id": "c1122d9e",
   "metadata": {
    "id": "sEQyw2xJvzQN"
   },
   "outputs": [],
   "source": [
    "if 3 <= 2:\n",
    "    print('What a strange day.')\n",
    "print('What a strange day.')"
   ]
  },
  {
   "cell_type": "code",
   "execution_count": null,
   "id": "63a3e631",
   "metadata": {
    "id": "FnCFfEb_v-0Y"
   },
   "outputs": [],
   "source": [
    "if None == 0:\n",
    "    pass\n",
    "    print('I got nothing to do.')"
   ]
  },
  {
   "cell_type": "code",
   "execution_count": null,
   "id": "ffecf252",
   "metadata": {
    "id": "arta4ZQ0vDSC"
   },
   "outputs": [],
   "source": [
    "name = 'Julian'\n",
    "\n",
    "if name < 'Sheean':\n",
    "    print('Alphabetically before Sheean')\n",
    "elif name > 'Sheean':\n",
    "    print('Alphabetically after Sheean')\n",
    "else:\n",
    "    print('Same name as Sheean')"
   ]
  },
  {
   "cell_type": "markdown",
   "id": "068d1435",
   "metadata": {
    "id": "4SVSiqHSu4WX"
   },
   "source": [
    "2. In the following code block, replace `None` with your own condition in the `if` statement. If `value` is greater than `5`, `size` must be `'large'`; otherwise, `size` must be `'small'`. Change `value` a few times and rerun the code to check that your condition is correct."
   ]
  },
  {
   "cell_type": "code",
   "execution_count": null,
   "id": "5e50fd57",
   "metadata": {
    "id": "czmdFacjeUaL"
   },
   "outputs": [],
   "source": [
    "value = 4\n",
    "\n",
    "if None:\n",
    "    size = 'large'\n",
    "else:\n",
    "    size = 'small'\n",
    "\n",
    "print(size)"
   ]
  },
  {
   "cell_type": "markdown",
   "id": "1e53a940",
   "metadata": {
    "id": "sEOwMi04e6WW"
   },
   "source": [
    "3. Write an `if`/`elif`/`else` statement like the previous, but with different cutoff points: if `value` is less than `4`, `size` must be `'small'`; if `value` is between `4` and `6` (inclusive), `size` must be `'medium'`; if `value` is greater than `6`, `size` must be `'large'`."
   ]
  },
  {
   "cell_type": "code",
   "execution_count": null,
   "id": "36f8fb3d",
   "metadata": {
    "id": "8HeaY6l9f9iA"
   },
   "outputs": [],
   "source": [
    "value = 4\n",
    "\n",
    "# your if/elif/else here\n",
    "\n",
    "print(size)"
   ]
  },
  {
   "cell_type": "markdown",
   "id": "b342681a",
   "metadata": {
    "id": "TWzbez_2RUh4"
   },
   "source": [
    "4. Rewrite the conditional that checks if a letter is neither 'a' nor 'b', using a different notation."
   ]
  },
  {
   "cell_type": "code",
   "execution_count": null,
   "id": "637d951d",
   "metadata": {
    "id": "XsIg1MD4JrPX"
   },
   "outputs": [],
   "source": [
    "letter = 'c'\n",
    "\n",
    "# original\n",
    "if not (letter == 'a' or letter == 'b'):\n",
    "    print('neither a nor b')"
   ]
  },
  {
   "cell_type": "markdown",
   "id": "704057a7",
   "metadata": {
    "id": "-XEYQZJ1ya1j"
   },
   "source": [
    "## Exercise 3.2: Bonus"
   ]
  },
  {
   "cell_type": "markdown",
   "id": "e288b570",
   "metadata": {
    "id": "POVFwRu_f91I"
   },
   "source": [
    "*FizzBuzz part 1* (advanced).\n",
    "Write an `if`/`elif`/`else` statement that behaves as follows:\n",
    "\n",
    "- if `value` is divisible by 3 but not by 5, print `'Fizz'`;\n",
    "- if `value` is divisible by 5 but not by 3, print `'Buzz'`;\n",
    "- if `value` is divisible by 3 *and* by 5, print `'FizzBuzz'`;\n",
    "- in all remaining cases, print `value`.\n",
    "\n",
    "Tip: use the result of [Exercise 2.4.1](https://colab.research.google.com/github/CentreForDigitalHumanities/programming-in-python/blob/main/lessons/02%20values%20and%20expressions.ipynb#scrollTo=EKFdkLkWa8EY#scrollTo=Exercise_2_4_Bonus)!"
   ]
  },
  {
   "cell_type": "code",
   "execution_count": null,
   "id": "7066803a",
   "metadata": {
    "id": "SZGeQtqEhiAK"
   },
   "outputs": [],
   "source": [
    "value = 9\n",
    "\n",
    "# Your code here"
   ]
  },
  {
   "cell_type": "markdown",
   "id": "8cd71bef",
   "metadata": {
    "id": "YBC4OfihzFho"
   },
   "source": [
    "## Next module\n",
    "\n",
    "[4. Datastructures](https://colab.research.google.com/github/CentreForDigitalHumanities/programming-in-python/blob/main/lessons/04%20datastructures.ipynb)"
   ]
  }
 ],
 "metadata": {
  "jupytext": {
   "main_language": "python"
  },
  "kernelspec": {
   "display_name": "Python 3",
   "name": "python3"
  }
 },
 "nbformat": 4,
 "nbformat_minor": 5
}
