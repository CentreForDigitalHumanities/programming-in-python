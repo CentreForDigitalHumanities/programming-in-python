{
 "cells": [
  {
   "cell_type": "markdown",
   "metadata": {
    "id": "uHYIr4R9dWyQ"
   },
   "source": [
    "# Module 11: Working with files\n",
    "\n",
    "### CDH course \"Programming in Python\"\n",
    "\n",
    "[index](https://colab.research.google.com/drive/1kFvnhumJ0tOTzDVJnIvvMDRRJ19yk9ZS)\n",
    "\n",
    "Previous module: [10. dictionaries](https://colab.research.google.com/drive/1w2s28vLo26hzppP0Z-kSqniU2eoXJNU3)\n",
    "\n",
    "### This module\n",
    "\n",
    "- Reading files\n",
    "- Writing files\n",
    "- Use existing code"
   ]
  },
  {
   "cell_type": "markdown",
   "metadata": {
    "id": "MgaAMPDbdiTr"
   },
   "source": [
    "## Reading files\n",
    "It is not very desirable to keep data in your code. It clutters up, making the code harder to read. Also, we want to work with some interchangeable data, that exists outside of our code.\n",
    "\n",
    "Python provides an easy way to work with files."
   ]
  },
  {
   "cell_type": "markdown",
   "metadata": {
    "id": "p9157kmNeAfI"
   },
   "source": [
    "### Read a file\n",
    "- Provide a path to the file\n",
    "- Open the file `open(<path>)`, this provides a *File Object*\n",
    "- Work with the contents"
   ]
  },
  {
   "cell_type": "code",
   "execution_count": null,
   "metadata": {
    "id": "kup_j23UeW71"
   },
   "outputs": [],
   "source": [
    "# Make sure the path is available to Python\n",
    "# In notebooks, this means we need to upload the file\n",
    "# (You can download this file from the Teams channel)\n",
    "PATH = 'countries.csv'\n",
    "\n",
    "file = open(PATH)\n",
    "type(file)\n",
    "\n",
    "contents = file.read()\n",
    "print(type(contents))\n",
    "print(contents)\n",
    "\n",
    "lines = file.readlines()\n",
    "print(type(lines))\n",
    "print(lines)\n"
   ]
  },
  {
   "cell_type": "markdown",
   "metadata": {
    "id": "96NQljy2ez-E"
   },
   "source": [
    "### Sidenote: constants\n",
    "Isn't the convention that variables are lowercased?\n",
    "Not if they are *constants*:\n",
    "- Variables that do not change during the progam\n",
    "- Often represent some 'setting' or 'constant value'\n",
    "    - `PATH = 'countries.csv'`\n",
    "    - `PI = 3.14159265358979323846264338327950288419716939937510582097`\n"
   ]
  },
  {
   "cell_type": "markdown",
   "metadata": {
    "id": "ZlbuEqiKftk-"
   },
   "source": [
    "## Closing files\n",
    "- If a file is opened, it should also be closed (like a freezer)\n",
    "- If not, nasty things can happen\n",
    "- Call `.close()` on the File Object"
   ]
  },
  {
   "cell_type": "code",
   "execution_count": null,
   "metadata": {
    "id": "SzytvDuCgBiE"
   },
   "outputs": [],
   "source": [
    "# Manually close\n",
    "file = open(PATH)\n",
    "data = file.read()\n",
    "file.close()"
   ]
  },
  {
   "cell_type": "markdown",
   "metadata": {
    "id": "9V_7uhwdgDXA"
   },
   "source": [
    "- Even better: use a *context manager*\n",
    "    - opens the file\n",
    "    - assigns it to a variable\n",
    "    - and closes once you are done with it\n",
    "- Use the `with <file object> as <variable name>` syntax"
   ]
  },
  {
   "cell_type": "code",
   "execution_count": null,
   "metadata": {
    "id": "a-Q7R8x4gby6"
   },
   "outputs": [],
   "source": [
    "with open(PATH) as file:\n",
    "    data = file.read()\n",
    "\n",
    "print(data)"
   ]
  },
  {
   "cell_type": "markdown",
   "metadata": {
    "id": "bbtncTLHhUaq"
   },
   "source": [
    "## Writing files\n",
    "- Provide `mode` parameter with value `'w'` (write) to open a file in write mode\n",
    "    - note that `mode` has a default value: `'r'` (read)\n",
    "- On the file object, use `file.write(<content>)`\n",
    "- If you want to write on a new line, make sure to append `'\\n'` (newline character)\n",
    "- Alternatively, use `print(<content>, file=<file object>)`"
   ]
  },
  {
   "cell_type": "code",
   "execution_count": null,
   "metadata": {
    "id": "lSmlpO2-hn6j"
   },
   "outputs": [],
   "source": [
    "WRITE_PATH = 'myfile.txt'\n",
    "\n",
    "with open(WRITE_PATH, mode='w') as file:\n",
    "    file.write('Hello, world!\\n')\n",
    "    file.write('This is a new file created by write.')\n",
    "\n",
    "with open(WRITE_PATH, mode='w') as file:\n",
    "    print('Hello world!', file=file)\n",
    "    print('This is a new file created by print.', file=file)"
   ]
  },
  {
   "cell_type": "markdown",
   "metadata": {
    "id": "QVQvj4ztkhmj"
   },
   "source": [
    "Append to an existing file by using `mode='a'` (append)"
   ]
  },
  {
   "cell_type": "code",
   "execution_count": null,
   "metadata": {
    "id": "NhD03dHgklBT"
   },
   "outputs": [],
   "source": [
    "with open(WRITE_PATH, mode='a') as file:\n",
    "    print('Another bit of text', file=file)"
   ]
  },
  {
   "cell_type": "markdown",
   "metadata": {
    "id": "YC0q3Z4HiM5Z"
   },
   "source": [
    "## Exercise 11.1 - Files\n",
    "In the code block below, try to predict what will be printed, then run the code."
   ]
  },
  {
   "cell_type": "code",
   "execution_count": null,
   "metadata": {
    "id": "vZtR4360i7kh"
   },
   "outputs": [],
   "source": [
    "PATH = 'sample_data/california_housing_test.csv'\n",
    "file = open(PATH)\n",
    "print(file)\n",
    "print(file.read())\n",
    "print(file.readlines())\n",
    "file.close()\n",
    "print(file)"
   ]
  },
  {
   "cell_type": "markdown",
   "metadata": {
    "id": "BXOkW2J7ldYK"
   },
   "source": [
    "Read the file `'sampledata/california_housing_test.csv'`, and print the first row containing data as a list.\n",
    "\n",
    "Are the data in the correct format? Try to fix it if not."
   ]
  },
  {
   "cell_type": "code",
   "execution_count": null,
   "metadata": {
    "id": "eP_TfHcmlsce"
   },
   "outputs": [],
   "source": []
  },
  {
   "cell_type": "markdown",
   "metadata": {
    "id": "Phv4ave0mh5e"
   },
   "source": [
    "## Using existing code\n",
    "- People before you have worked with CSV files\n",
    "- Someone probably wrote and published their code\n",
    "- Available in *packages* and *libraries*\n",
    "- `csv` *module* is available in the [standard library](https://docs.python.org/3.7/library/index.html). This library is *always* available in Python.\n",
    "- Python is known for its strong ecosystem of packages\n",
    "- Many libraries from outside the standard library are preinstalled in these Notebooks"
   ]
  },
  {
   "cell_type": "markdown",
   "metadata": {
    "id": "TBgRxECDnTKW"
   },
   "source": [
    "### Importing existing code\n",
    "Use the `import <module>` syntax to use an entire Python file in your own code"
   ]
  },
  {
   "cell_type": "code",
   "execution_count": null,
   "metadata": {
    "id": "fXIBTOFDnVFU"
   },
   "outputs": [],
   "source": [
    "import csv\n",
    "print(csv.reader)"
   ]
  },
  {
   "cell_type": "markdown",
   "metadata": {
    "id": "NxBU-xkZneT6"
   },
   "source": [
    "Alternatively, only import the parts your are interested in"
   ]
  },
  {
   "cell_type": "code",
   "execution_count": null,
   "metadata": {
    "id": "Ykrw__BXni5z"
   },
   "outputs": [],
   "source": [
    "from csv import reader\n",
    "print(reader)"
   ]
  },
  {
   "cell_type": "markdown",
   "metadata": {
    "id": "dMIZr2o_nlch"
   },
   "source": [
    "## Working with the `csv` module\n",
    "The `reader` function has some nice utilities that make it easy to read csv files"
   ]
  },
  {
   "cell_type": "code",
   "execution_count": null,
   "metadata": {
    "id": "05Smz2DbntnT"
   },
   "outputs": [],
   "source": [
    "import csv\n",
    "\n",
    "def read_data():\n",
    "    with open(PATH) as csv_file:\n",
    "        reader = csv.reader(csv_file, delimiter=',')\n",
    "        return list(reader)\n",
    "\n",
    "data = read_data()\n",
    "print(data[0])\n",
    "print(data[1])\n",
    "print(data[10][3])"
   ]
  },
  {
   "cell_type": "markdown",
   "metadata": {
    "id": "TRHR32Bfn9tO"
   },
   "source": [
    "Alternatively, use the `csv.DictReader` to read the file as a list of dictionaries."
   ]
  },
  {
   "cell_type": "code",
   "execution_count": null,
   "metadata": {
    "id": "T67PXssOoICa"
   },
   "outputs": [],
   "source": [
    "import csv\n",
    "\n",
    "def read_data_dict():\n",
    "    with open(PATH) as csv_file:\n",
    "        reader = csv.DictReader(csv_file, delimiter=',')\n",
    "        return list(reader)\n",
    "\n",
    "data = read_data_dict()\n",
    "print(data[0])\n",
    "print(data[1])\n",
    "print(data[10]['name'])"
   ]
  },
  {
   "cell_type": "markdown",
   "metadata": {
    "id": "h-mOS3pwoc1O"
   },
   "source": [
    "## Exercise 11.2: Bonus - working with csv datasets\n",
    "> 💡 If you wish to perform an analysis on your own dataset in the upcoming sessions, make sure you complete this exercise. The code you write here can be reused in your own analysis.\n",
    "\n",
    "1. Upload your own dataset, or use `sample_data/california_housing_test.csv`\n",
    "    1. Read the data from the CSV file\n",
    "    2. Write functions that take the data as a parameter, and return the following items:\n",
    "        - The last row\n",
    "        - The last column\n",
    "        - The first row. If this is a header row, try if you can come up with a way to separate it from the data rows.\n",
    "        - Calculate the *harmonic mean* of a column containing numbers. Search the [standard library](https://docs.python.org/3.7/library/index.html) for a a relevant module containing the code to do so.\n",
    "    3. Add an extra column to the data (think of something that makes sense). Write the whole dataset to a new csv file."
   ]
  },
  {
   "cell_type": "markdown",
   "metadata": {
    "id": "y5FcFvgypMfE"
   },
   "source": [
    "## Next module\n",
    "\n",
    "[12 - Functions, bis](https://colab.research.google.com/drive/1LHPo4gEzyKTPlVAkGifdzh9ahG2mJq6K)"
   ]
  }
 ],
 "metadata": {
  "colab": {
   "provenance": [],
   "toc_visible": true
  },
  "kernelspec": {
   "display_name": "Python 3",
   "name": "python3"
  },
  "language_info": {
   "name": "python"
  }
 },
 "nbformat": 4,
 "nbformat_minor": 0
}
