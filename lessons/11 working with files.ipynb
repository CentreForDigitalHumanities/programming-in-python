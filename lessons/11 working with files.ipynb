{
 "cells": [
  {
   "cell_type": "markdown",
   "id": "eba77be7",
   "metadata": {
    "id": "uHYIr4R9dWyQ"
   },
   "source": [
    "# Module 11: Working with files\n",
    "\n",
    "### CDH course \"Programming in Python\"\n",
    "\n",
    "[index](https://colab.research.google.com/github/CentreForDigitalHumanities/programming-in-python/blob/main/lessons/00%20index.ipynb)\n",
    "\n",
    "Previous module: [10. dictionaries](https://colab.research.google.com/github/CentreForDigitalHumanities/programming-in-python/blob/main/lessons/10%20-%20Dictionaries.ipynb)\n",
    "\n",
    "### This module\n",
    "\n",
    "- Reading files\n",
    "- Writing files\n",
    "- Use existing code"
   ]
  },
  {
   "cell_type": "markdown",
   "id": "2347d462",
   "metadata": {
    "id": "MgaAMPDbdiTr"
   },
   "source": [
    "## Reading files\n",
    "It is not very desirable to keep data in your code. It clutters up, making the code harder to read. Also, we want to work with some interchangeable data, that exists outside of our code.\n",
    "\n",
    "Python provides an easy way to work with files."
   ]
  },
  {
   "cell_type": "markdown",
   "id": "1f6fd2c7",
   "metadata": {
    "id": "p9157kmNeAfI"
   },
   "source": [
    "### Read a file\n",
    "- Provide a path to the file\n",
    "- Open the file `open(<path>)`, this provides a *File Object*\n",
    "- Work with the contents"
   ]
  },
  {
   "cell_type": "code",
   "execution_count": null,
   "id": "54a7c746",
   "metadata": {
    "id": "kup_j23UeW71",
    "lines_to_next_cell": 2
   },
   "outputs": [],
   "source": [
    "# Make sure the path is available to Python\n",
    "# In notebooks, this means we need to upload the file\n",
    "# (You can download this file from the Teams channel)\n",
    "PATH = 'countries.csv'\n",
    "\n",
    "file = open(PATH)\n",
    "type(file)\n",
    "\n",
    "contents = file.read()\n",
    "print(type(contents))\n",
    "print(contents)\n",
    "\n",
    "lines = file.readlines()\n",
    "print(type(lines))\n",
    "print(lines)"
   ]
  },
  {
   "cell_type": "markdown",
   "id": "5bbb7299",
   "metadata": {
    "id": "96NQljy2ez-E"
   },
   "source": [
    "### Sidenote: constants\n",
    "Isn't the convention that variables are lowercased?\n",
    "Not if they are *constants*:\n",
    "- Variables that do not change during the progam\n",
    "- Often represent some 'setting' or 'constant value'\n",
    "    - `PATH = 'countries.csv'`\n",
    "    - `PI = 3.14159265358979323846264338327950288419716939937510582097`\n"
   ]
  },
  {
   "cell_type": "markdown",
   "id": "defc1985",
   "metadata": {
    "id": "ZlbuEqiKftk-"
   },
   "source": [
    "## Closing files\n",
    "- If a file is opened, it should also be closed (like a freezer)\n",
    "- If not, nasty things can happen\n",
    "- Call `.close()` on the File Object"
   ]
  },
  {
   "cell_type": "code",
   "execution_count": null,
   "id": "e99bd6cf",
   "metadata": {
    "id": "SzytvDuCgBiE"
   },
   "outputs": [],
   "source": [
    "# Manually close\n",
    "file = open(PATH)\n",
    "data = file.read()\n",
    "file.close()"
   ]
  },
  {
   "cell_type": "markdown",
   "id": "9bdab7be",
   "metadata": {
    "id": "9V_7uhwdgDXA"
   },
   "source": [
    "- Even better: use a *context manager*\n",
    "    - opens the file\n",
    "    - assigns it to a variable\n",
    "    - and closes once you are done with it\n",
    "- Use the `with <file object> as <variable name>` syntax"
   ]
  },
  {
   "cell_type": "code",
   "execution_count": null,
   "id": "4ae03409",
   "metadata": {
    "id": "a-Q7R8x4gby6"
   },
   "outputs": [],
   "source": [
    "with open(PATH) as file:\n",
    "    data = file.read()\n",
    "\n",
    "print(data)"
   ]
  },
  {
   "cell_type": "markdown",
   "id": "d1bbfc77",
   "metadata": {
    "id": "bbtncTLHhUaq"
   },
   "source": [
    "## Writing files\n",
    "- Provide `mode` parameter with value `'w'` (write) to open a file in write mode\n",
    "    - note that `mode` has a default value: `'r'` (read)\n",
    "- On the file object, use `file.write(<content>)`\n",
    "- If you want to write on a new line, make sure to append `'\\n'` (newline character)\n",
    "- Alternatively, use `print(<content>, file=<file object>)`"
   ]
  },
  {
   "cell_type": "code",
   "execution_count": null,
   "id": "a40b8636",
   "metadata": {
    "id": "lSmlpO2-hn6j"
   },
   "outputs": [],
   "source": [
    "WRITE_PATH = 'myfile.txt'\n",
    "\n",
    "with open(WRITE_PATH, mode='w') as file:\n",
    "    file.write('Hello, world!\\n')\n",
    "    file.write('This is a new file created by write.')\n",
    "\n",
    "with open(WRITE_PATH, mode='w') as file:\n",
    "    print('Hello world!', file=file)\n",
    "    print('This is a new file created by print.', file=file)"
   ]
  },
  {
   "cell_type": "markdown",
   "id": "787fa2db",
   "metadata": {
    "id": "QVQvj4ztkhmj"
   },
   "source": [
    "Append to an existing file by using `mode='a'` (append)"
   ]
  },
  {
   "cell_type": "code",
   "execution_count": null,
   "id": "aa049a78",
   "metadata": {
    "id": "NhD03dHgklBT"
   },
   "outputs": [],
   "source": [
    "with open(WRITE_PATH, mode='a') as file:\n",
    "    print('Another bit of text', file=file)"
   ]
  },
  {
   "cell_type": "markdown",
   "id": "f2d95f9a",
   "metadata": {
    "id": "YC0q3Z4HiM5Z"
   },
   "source": [
    "## Exercise 11.1 - Files\n",
    "In the code block below, try to predict what will be printed, then run the code."
   ]
  },
  {
   "cell_type": "code",
   "execution_count": null,
   "id": "0d007dbd",
   "metadata": {
    "id": "vZtR4360i7kh"
   },
   "outputs": [],
   "source": [
    "PATH = 'sample_data/california_housing_test.csv'\n",
    "file = open(PATH)\n",
    "print(file)\n",
    "print(file.read())\n",
    "print(file.readlines())\n",
    "file.close()\n",
    "print(file)"
   ]
  },
  {
   "cell_type": "markdown",
   "id": "e5ae33f2",
   "metadata": {
    "id": "BXOkW2J7ldYK"
   },
   "source": [
    "Read the file `'sampledata/california_housing_test.csv'`, and print the first row containing data as a list.\n",
    "\n",
    "Are the data in the correct format? Try to fix it if not."
   ]
  },
  {
   "cell_type": "code",
   "execution_count": null,
   "id": "e7b59fad",
   "metadata": {
    "id": "eP_TfHcmlsce"
   },
   "outputs": [],
   "source": []
  },
  {
   "cell_type": "markdown",
   "id": "4a41a1ec",
   "metadata": {
    "id": "Phv4ave0mh5e"
   },
   "source": [
    "## Using existing code\n",
    "- People before you have worked with CSV files\n",
    "- Someone probably wrote and published their code\n",
    "- Available in *packages* and *libraries*\n",
    "- `csv` *module* is available in the [standard library](https://docs.python.org/3.7/library/index.html). This library is *always* available in Python.\n",
    "- Python is known for its strong ecosystem of packages\n",
    "- Many libraries from outside the standard library are preinstalled in these Notebooks"
   ]
  },
  {
   "cell_type": "markdown",
   "id": "18d1aa30",
   "metadata": {
    "id": "TBgRxECDnTKW"
   },
   "source": [
    "### Importing existing code\n",
    "Use the `import <module>` syntax to use an entire Python file in your own code"
   ]
  },
  {
   "cell_type": "code",
   "execution_count": null,
   "id": "14472141",
   "metadata": {
    "id": "fXIBTOFDnVFU"
   },
   "outputs": [],
   "source": [
    "import csv\n",
    "print(csv.reader)"
   ]
  },
  {
   "cell_type": "markdown",
   "id": "6fadd4a9",
   "metadata": {
    "id": "NxBU-xkZneT6"
   },
   "source": [
    "Alternatively, only import the parts your are interested in"
   ]
  },
  {
   "cell_type": "code",
   "execution_count": null,
   "id": "e41f7e21",
   "metadata": {
    "id": "Ykrw__BXni5z"
   },
   "outputs": [],
   "source": [
    "from csv import reader\n",
    "print(reader)"
   ]
  },
  {
   "cell_type": "markdown",
   "id": "d4deeef0",
   "metadata": {
    "id": "dMIZr2o_nlch"
   },
   "source": [
    "## Working with the `csv` module\n",
    "The `reader` function has some nice utilities that make it easy to read csv files"
   ]
  },
  {
   "cell_type": "code",
   "execution_count": null,
   "id": "2d09cc28",
   "metadata": {
    "id": "05Smz2DbntnT"
   },
   "outputs": [],
   "source": [
    "import csv\n",
    "\n",
    "def read_data():\n",
    "    with open(PATH) as csv_file:\n",
    "        reader = csv.reader(csv_file, delimiter=',')\n",
    "        return list(reader)\n",
    "\n",
    "data = read_data()\n",
    "print(data[0])\n",
    "print(data[1])\n",
    "print(data[10][3])"
   ]
  },
  {
   "cell_type": "markdown",
   "id": "1bc3c480",
   "metadata": {
    "id": "TRHR32Bfn9tO"
   },
   "source": [
    "Alternatively, use the `csv.DictReader` to read the file as a list of dictionaries."
   ]
  },
  {
   "cell_type": "code",
   "execution_count": null,
   "id": "30fe3ecd",
   "metadata": {
    "id": "T67PXssOoICa"
   },
   "outputs": [],
   "source": [
    "import csv\n",
    "\n",
    "def read_data_dict():\n",
    "    with open(PATH) as csv_file:\n",
    "        reader = csv.DictReader(csv_file, delimiter=',')\n",
    "        return list(reader)\n",
    "\n",
    "data = read_data_dict()\n",
    "print(data[0])\n",
    "print(data[1])\n",
    "print(data[10]['name'])"
   ]
  },
  {
   "cell_type": "markdown",
   "id": "1ffa86ee",
   "metadata": {
    "id": "h-mOS3pwoc1O"
   },
   "source": [
    "## Exercise 11.2: Bonus - working with csv datasets\n",
    "> 💡 If you wish to perform an analysis on your own dataset in the upcoming sessions, make sure you complete this exercise. The code you write here can be reused in your own analysis.\n",
    "\n",
    "1. Upload your own dataset, or use `sample_data/california_housing_test.csv`\n",
    "    1. Read the data from the CSV file\n",
    "    2. Write functions that take the data as a parameter, and return the following items:\n",
    "        - The last row\n",
    "        - The last column\n",
    "        - The first row. If this is a header row, try if you can come up with a way to separate it from the data rows.\n",
    "        - Calculate the *harmonic mean* of a column containing numbers. Search the [standard library](https://docs.python.org/3.7/library/index.html) for a a relevant module containing the code to do so.\n",
    "    3. Add an extra column to the data (think of something that makes sense). Write the whole dataset to a new csv file."
   ]
  },
  {
   "cell_type": "markdown",
   "id": "c38597b6",
   "metadata": {
    "id": "y5FcFvgypMfE"
   },
   "source": [
    "## Next module\n",
    "\n",
    "[12 - Functions, bis](https://colab.research.google.com/github/CentreForDigitalHumanities/programming-in-python/blob/main/lessons/12%20functions%2C%20bis.ipynb)"
   ]
  }
 ],
 "metadata": {
  "jupytext": {
   "main_language": "python"
  },
  "kernelspec": {
   "display_name": "Python 3",
   "name": "python3"
  }
 },
 "nbformat": 4,
 "nbformat_minor": 5
}
