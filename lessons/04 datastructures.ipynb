{
 "cells": [
  {
   "cell_type": "markdown",
   "metadata": {
    "id": "fqMJHzNk5yXQ"
   },
   "source": [
    "# Module 4: Data Structures\n",
    "\n",
    "### CDH course \"Programming in Python\"\n",
    "\n",
    "[index](https://colab.research.google.com/drive/1kFvnhumJ0tOTzDVJnIvvMDRRJ19yk9ZS)\n",
    "\n",
    "Previous module: [3. Conditionals](https://colab.research.google.com/drive/1Lpr5qBYk9bqtAbY6bzfYcbGzCJpWM-ox)\n",
    "\n",
    "### This module\n",
    "\n",
    "- Working with collections of many values"
   ]
  },
  {
   "cell_type": "markdown",
   "metadata": {
    "id": "rDdBkbX5kmUD"
   },
   "source": [
    "## Data structures\n",
    "\n",
    "- Way to organize data, to make accessing it efficient\n",
    "- Different types of data structures available\n",
    "- For now, we will work with `list` and `tuple`"
   ]
  },
  {
   "cell_type": "code",
   "execution_count": null,
   "metadata": {
    "id": "bmAaWSOPm87H"
   },
   "outputs": [],
   "source": [
    "student1 = 'jasmin'\n",
    "student2 = 'ravi'\n",
    "student3 = 'john'\n",
    "# not very efficient, what if we want to add another student? Or take one out?"
   ]
  },
  {
   "cell_type": "markdown",
   "metadata": {
    "id": "8Vl5wbRunR82"
   },
   "source": [
    "## Lists\n",
    "\n",
    "- `list`: an ordered collection of values\n",
    "- One type of *iterable*, a collection that allows iteration over its elements\n",
    "- Syntax: `[element1, element2, ...]`\n",
    "- Empty list also exists: `[]`"
   ]
  },
  {
   "cell_type": "code",
   "execution_count": null,
   "metadata": {
    "id": "sewvhM8JnhJZ"
   },
   "outputs": [],
   "source": [
    "students = ['jasmin', 'ravi', 'john']\n",
    "\n",
    "print(students)"
   ]
  },
  {
   "cell_type": "markdown",
   "metadata": {
    "id": "zmKyJPoQnwmK"
   },
   "source": [
    "Lists can contain values of mixed types:"
   ]
  },
  {
   "cell_type": "code",
   "execution_count": null,
   "metadata": {
    "id": "Bp6_Mev2nzZV"
   },
   "outputs": [],
   "source": [
    "['hello', 1, False]"
   ]
  },
  {
   "cell_type": "markdown",
   "metadata": {
    "id": "dt_IOpu_rqbk"
   },
   "source": [
    "Lists can also contain variables"
   ]
  },
  {
   "cell_type": "code",
   "execution_count": null,
   "metadata": {
    "id": "TTCPoO7QrtVy"
   },
   "outputs": [],
   "source": [
    "usa = 'United States of America'\n",
    "nl = 'The Netherlands'\n",
    "countries = [usa, nl]"
   ]
  },
  {
   "cell_type": "markdown",
   "metadata": {
    "id": "uYR5FBUEoR0P"
   },
   "source": [
    "### Accessing elements\n",
    "- Every element has an *index*\n",
    "- Index goes from 0 to length of the list - 1\n",
    "- Negative index counts backwards from the last element"
   ]
  },
  {
   "cell_type": "code",
   "execution_count": null,
   "metadata": {
    "id": "2eL0BOUJodLK"
   },
   "outputs": [],
   "source": [
    "students = ['jasmin', 'ravi', 'john']\n",
    "students[0]\n",
    "students[1]\n",
    "students[2]\n",
    "students[-1]"
   ]
  },
  {
   "cell_type": "markdown",
   "metadata": {
    "id": "cyX0YcO5uZRa"
   },
   "source": [
    "- Lists can be *unpacked* into variables"
   ]
  },
  {
   "cell_type": "code",
   "execution_count": null,
   "metadata": {
    "id": "m6ETvPPXuc4z"
   },
   "outputs": [],
   "source": [
    "numbers = [1, 2, 3]\n",
    "one, two, three = numbers"
   ]
  },
  {
   "cell_type": "markdown",
   "metadata": {
    "id": "KvOEQrqRrS0T"
   },
   "source": [
    "### Changing elements\n",
    "- Assign element at index just like you would a variable"
   ]
  },
  {
   "cell_type": "code",
   "execution_count": null,
   "metadata": {
    "id": "wFyceuSArcEB"
   },
   "outputs": [],
   "source": [
    "students = ['jasmin', 'ravi', 'john']\n",
    "students[0] = 'johanna'\n",
    "\n",
    "new_student = 'mark'\n",
    "students[1] = new_student\n",
    "\n",
    "students"
   ]
  },
  {
   "cell_type": "markdown",
   "metadata": {
    "id": "DixopwTyr6gN"
   },
   "source": [
    "### Adding and removing elements\n",
    "- The `+` operator works for two lists\n",
    "- The `.append(value)` and `.remove(index)` functions works on a list"
   ]
  },
  {
   "cell_type": "code",
   "execution_count": null,
   "metadata": {
    "id": "nPyn0UHcsDbG"
   },
   "outputs": [],
   "source": [
    "hello_world = ['hello', ',', 'world']\n",
    "exclamation = ['!']\n",
    "\n",
    "full_sentence = hello_world + exclamation\n",
    "print(full_sentence)"
   ]
  },
  {
   "cell_type": "code",
   "execution_count": null,
   "metadata": {
    "id": "Y2B57KQRsO2a"
   },
   "outputs": [],
   "source": [
    "# note: .append() works in-place, you don't need to reassign the variable\n",
    "students = ['jasmin', 'ravi', 'john']\n",
    "students.append('mark')\n",
    "print(students)\n",
    "\n",
    "students.remove('john')\n",
    "# or by index:\n",
    "del students[2]\n",
    "print(students)"
   ]
  },
  {
   "cell_type": "markdown",
   "metadata": {
    "id": "kUUwwkDVtXOC"
   },
   "source": [
    "### Nested lists\n",
    "- Anything goes in a list, including *another* list"
   ]
  },
  {
   "cell_type": "code",
   "execution_count": null,
   "metadata": {
    "id": "EPxrRcL0tbpN"
   },
   "outputs": [],
   "source": [
    "small_list = [4, 5, 6]\n",
    "big_list = [1, 2, 3, small_list]\n",
    "\n",
    "print(big_list)\n",
    "print(big_list[-1])\n",
    "print(type(big_list[-1]))\n",
    "\n",
    "# Access the last element of the small_list inside big_list:\n",
    "print(big_list[-1][-1])"
   ]
  },
  {
   "cell_type": "markdown",
   "metadata": {
    "id": "1HDqXMbWwmbk"
   },
   "source": [
    "### Accessing multiple elements\n",
    "- Select multiple values at once: *slicing*\n",
    "- Syntax: `list[start_index:end_index]`\n",
    "- end_index is *exclusive*, so 'up to' end"
   ]
  },
  {
   "cell_type": "code",
   "execution_count": null,
   "metadata": {
    "id": "wIS3jCYlw2P6"
   },
   "outputs": [],
   "source": [
    "students = ['jasmin', 'ravi', 'john']\n",
    "#              0         1       2      3\n",
    "students[0:1]\n",
    "students[0:2]\n"
   ]
  },
  {
   "cell_type": "markdown",
   "metadata": {
    "id": "BblECQZfw7Uy"
   },
   "source": [
    "`start_index` and `end_index` are optional"
   ]
  },
  {
   "cell_type": "code",
   "execution_count": null,
   "metadata": {
    "id": "6fIsX2VvxEq9"
   },
   "outputs": [],
   "source": [
    "students = ['jasmin', 'ravi', 'john']\n",
    "students[1:]\n",
    "students[:-1]\n",
    "students[:]\n"
   ]
  },
  {
   "cell_type": "markdown",
   "metadata": {
    "id": "n9lZQ72ExR4Z"
   },
   "source": [
    "- slices can be used to reassign list elements\n",
    "\n"
   ]
  },
  {
   "cell_type": "code",
   "execution_count": null,
   "metadata": {
    "id": "C5AIMJEHxWnX"
   },
   "outputs": [],
   "source": [
    "students = ['jasmin', 'ravi', 'john']\n",
    "\n",
    "students[0:2] = ['johanna', 'mark']\n",
    "\n",
    "print(students)"
   ]
  },
  {
   "cell_type": "markdown",
   "metadata": {
    "id": "CPHEdywi-IuC"
   },
   "source": [
    "- in this way, you can also add or remove elements in the middle"
   ]
  },
  {
   "cell_type": "code",
   "execution_count": null,
   "metadata": {
    "id": "Tzhdcojp-TTn"
   },
   "outputs": [],
   "source": [
    "students = ['jasmin', 'ravi', 'john']\n",
    "\n",
    "students[1:2] = []\n",
    "print(students)\n",
    "\n",
    "students[1:1] = ['ravi']\n",
    "print(students)"
   ]
  },
  {
   "cell_type": "markdown",
   "metadata": {
    "id": "nfpm1orRO34Q"
   },
   "source": [
    "### Checking if an element is in a list\n",
    "- Use the syntax `<element> in <list>`"
   ]
  },
  {
   "cell_type": "code",
   "execution_count": null,
   "metadata": {
    "id": "0A9JACKJPCYt"
   },
   "outputs": [],
   "source": [
    "students = ['jasmin', 'ravi', 'john']\n",
    "\n",
    "'ravi' in students\n",
    "'Ravi' in students"
   ]
  },
  {
   "cell_type": "markdown",
   "metadata": {
    "id": "2NX28b3sZscv"
   },
   "source": [
    "### Useful tricks\n",
    "- the `len` *function* (we will learn about functions later) gives us the length of a list"
   ]
  },
  {
   "cell_type": "code",
   "execution_count": null,
   "metadata": {
    "id": "A7UHSeTtZ2nw"
   },
   "outputs": [],
   "source": [
    "students = ['jasmin', 'ravi', 'john']\n",
    "len(students)"
   ]
  },
  {
   "cell_type": "markdown",
   "metadata": {
    "id": "cO6hX3FBZ6cC"
   },
   "source": [
    "- `list.index(<value>)` finds a value and gives us the index"
   ]
  },
  {
   "cell_type": "code",
   "execution_count": null,
   "metadata": {
    "id": "VPmLssc7aByj"
   },
   "outputs": [],
   "source": [
    "students = ['jasmin', 'ravi', 'john']\n",
    "students.index('ravi')"
   ]
  },
  {
   "cell_type": "markdown",
   "metadata": {
    "id": "ZyOZeS2SuRJ6"
   },
   "source": [
    "## Tuples\n",
    "- Different type of *iterable*\n",
    "- Syntax: `(element1, element2, ...)`\n",
    "- Important difference: not *mutable* (cannot change elements)\n",
    "- Often used to unpack, we will work with tuples in data analysis"
   ]
  },
  {
   "cell_type": "code",
   "execution_count": null,
   "metadata": {
    "id": "etiZVM_puu4Z"
   },
   "outputs": [],
   "source": [
    "students = ('jasmin', 'ravi', 'john')\n",
    "students[0]"
   ]
  },
  {
   "cell_type": "markdown",
   "metadata": {
    "id": "70aMsClGPRy9"
   },
   "source": [
    "## Exercise 4.1: Lists\n",
    "\n",
    "1. For each of the `print` statements below, what do you expect is printed? Run the lines to check predictions"
   ]
  },
  {
   "cell_type": "code",
   "execution_count": null,
   "metadata": {
    "id": "KMUxwcSqPlU1"
   },
   "outputs": [],
   "source": [
    "countries = ['japan', 'hungary', 'maldives', 'gabon', 'bhutan']\n",
    "\n",
    "print(countries[0])\n",
    "print(countries[-3])\n",
    "print(countries[0:1] + countries[2:4])\n",
    "\n",
    "more_countries = countries + ['mexico', 'haiti']\n",
    "print(more_countries)\n",
    "\n",
    "countries.append(['mexico', 'haiti'])\n",
    "print(countries)"
   ]
  },
  {
   "cell_type": "markdown",
   "metadata": {
    "id": "TyebsOIpU6hv"
   },
   "source": [
    "2. Transform the list below into `['jasmin', 'john', 'ravi']` in one line of code.\n",
    "\n"
   ]
  },
  {
   "cell_type": "code",
   "execution_count": null,
   "metadata": {
    "id": "H8o6vsHKVKoq"
   },
   "outputs": [],
   "source": [
    "students = ['jasmin', 'ravi', 'john']"
   ]
  },
  {
   "cell_type": "markdown",
   "metadata": {
    "id": "HMU5X7XFWbCw"
   },
   "source": [
    "3. For each of the print statements below, what do you expect is printed? Run the lines to check predictions."
   ]
  },
  {
   "cell_type": "code",
   "execution_count": null,
   "metadata": {
    "id": "u_RWc8wBWgMT"
   },
   "outputs": [],
   "source": [
    "random_fruit = 'pineapple'\n",
    "fruits = ['apple', 'pear', random_fruit]\n",
    "print(fruits)\n",
    "\n",
    "random_fruit = 'blueberry'\n",
    "print(fruits)\n",
    "\n",
    "random_veggie = ['brussel sprouts']\n",
    "veggies = ['broccoli', 'green beans', random_veggie]\n",
    "print(veggies)\n",
    "\n",
    "random_veggie.append('kale')\n",
    "print(veggies)"
   ]
  },
  {
   "cell_type": "markdown",
   "metadata": {
    "id": "3BfUO-jKS_u1"
   },
   "source": [
    "## Exercise 4.2: Bonus\n",
    "\n",
    "Below we introduce another parameter in the list slice. Try to explain what it does."
   ]
  },
  {
   "cell_type": "code",
   "execution_count": null,
   "metadata": {
    "id": "Y9oxyQb7TIPI"
   },
   "outputs": [],
   "source": [
    "countries = ['japan', 'hungary', 'maldives', 'gabon', 'bhutan']\n",
    "\n",
    "print(countries[0:5:1])\n",
    "print(countries[0:5:2])\n",
    "print(countries[-1::-1])\n",
    "print(countries[-1::-2])"
   ]
  },
  {
   "cell_type": "markdown",
   "metadata": {
    "id": "Mb6CvHt3CaA0"
   },
   "source": [
    "The piece of code below is supposed to recognize \"fancy\" words: words that are longer than 5 characters, contain at least one copy of the letter 'a' and start with an uppercase. However, the code is broken. It does not recognize any of our fancy example words.\n",
    "\n",
    "1. Change the value of `word` into each of the examples in the comments on the first two lines and then run the code. See for yourself that the code considers none of the example words fancy. Try some other words as well.\n",
    "3. Try to understand why the code is giving the wrong result. Can you come up with a word that the code does consider fancy?\n",
    "4. Repair the code so that it gives the right result for all examples, and any other words that you come up with."
   ]
  },
  {
   "cell_type": "code",
   "execution_count": null,
   "metadata": {
    "id": "QQyGzsqCCe3o"
   },
   "outputs": [],
   "source": [
    "# fancy: Alhambra, Arthur, Jasmine, Turandot\n",
    "# not so fancy: Jeep, paper, Python, Ada\n",
    "word = 'Alhambra'\n",
    "\n",
    "lengthy = len(word) > 5\n",
    "has_a = 'a' in word\n",
    "first_uppercase = 'A' <= word[1] <= 'Z'\n",
    "\n",
    "if lengthy and has_a and first_uppercase:\n",
    "    print('The word is fancy')\n",
    "else:\n",
    "    print('The word is not so fancy')"
   ]
  },
  {
   "cell_type": "markdown",
   "metadata": {
    "id": "HiEWGB1V1W4U"
   },
   "source": [
    "## Next module\n",
    "\n",
    "[5. Assertions](https://colab.research.google.com/drive/1OBdYVZCMXGzb3fCM_FPAqY_IfeDR1kub)"
   ]
  }
 ],
 "metadata": {
  "colab": {
   "provenance": [],
   "toc_visible": true
  },
  "kernelspec": {
   "display_name": "Python 3",
   "name": "python3"
  },
  "language_info": {
   "codemirror_mode": {
    "name": "ipython",
    "version": 3
   },
   "file_extension": ".py",
   "mimetype": "text/x-python",
   "name": "python",
   "nbconvert_exporter": "python",
   "pygments_lexer": "ipython3",
   "version": "3.10.12"
  }
 },
 "nbformat": 4,
 "nbformat_minor": 0
}
