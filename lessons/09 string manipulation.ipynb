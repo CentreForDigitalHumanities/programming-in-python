{
 "cells": [
  {
   "cell_type": "markdown",
   "id": "1a9f094b",
   "metadata": {
    "id": "7_SeGArbg7Ou"
   },
   "source": [
    "# Module 9: String Manipulation\n",
    "\n",
    "### CDH course \"Programming in Python\"\n",
    "\n",
    "[index](https://colab.research.google.com/github/CentreForDigitalHumanities/programming-in-python/blob/main/lessons/00%20index.ipynb)\n",
    "\n",
    "Previous module: [8. Debugging](hthttps://colab.research.google.com/github/CentreForDigitalHumanities/programming-in-python/blob/main/lessons/08%20debugging.ipynb)\n",
    "\n",
    "### This module\n",
    "\n",
    "- String utilities\n",
    "- Formatting strings"
   ]
  },
  {
   "cell_type": "markdown",
   "id": "c935d6bb",
   "metadata": {
    "id": "oadzHVRYh1PN"
   },
   "source": [
    "## String utilities\n",
    "Python provides functions for common string operations. When working with text, these are very useful. Try to learn them by heart!"
   ]
  },
  {
   "cell_type": "markdown",
   "id": "174a57c5",
   "metadata": {
    "id": "3KZGnQuWiM1X"
   },
   "source": [
    "### Counting characters\n",
    "\n",
    "Strings are *iterables*, just like lists. We can use this information to quickly give us the length (number of characters) of a string:\n",
    "`len(string)`"
   ]
  },
  {
   "cell_type": "code",
   "execution_count": null,
   "id": "e682f44e",
   "metadata": {
    "id": "u-gFos5wii5k"
   },
   "outputs": [],
   "source": [
    "print(len('Matilda'))\n",
    "print(len('The Catcher in the Rye'))"
   ]
  },
  {
   "cell_type": "markdown",
   "id": "84070358",
   "metadata": {
    "id": "r0ZiGq36ipEo"
   },
   "source": [
    "### Check for substrings\n",
    "Again wielding the knowledge about strings being *iterables*, we can use the `in` keyword to check if some sequence occurs in the string:\n",
    "`substring in string`"
   ]
  },
  {
   "cell_type": "code",
   "execution_count": null,
   "id": "46a6d9db",
   "metadata": {
    "id": "yOOOzh3WjCGc"
   },
   "outputs": [],
   "source": [
    "print('a' in 'Matilda')\n",
    "print('til' in 'Matilda')\n",
    "print('in' in 'The Catcher in the Rye')"
   ]
  },
  {
   "cell_type": "markdown",
   "id": "3a7187d4",
   "metadata": {
    "id": "A4Wfxuj_jRAW"
   },
   "source": [
    "### Casing\n",
    "Convert a string to lowercase or uppercase:\n",
    "\n",
    "`string.lower()` and `string.upper()`"
   ]
  },
  {
   "cell_type": "code",
   "execution_count": null,
   "id": "e9fadf8b",
   "metadata": {
    "id": "uErzYzBHjbND"
   },
   "outputs": [],
   "source": [
    "print('Matilda'.upper())\n",
    "print('The Catcher in the Rye'.lower())"
   ]
  },
  {
   "cell_type": "markdown",
   "id": "47c6e89b",
   "metadata": {
    "id": "AsVvV-dtjxSD"
   },
   "source": [
    "### Replacement\n",
    "Replace certain sequences with another sequence:\n",
    "\n",
    "`string.replace(replacement)`"
   ]
  },
  {
   "cell_type": "code",
   "execution_count": null,
   "id": "4352694d",
   "metadata": {
    "id": "2iIwX0phj4Wt"
   },
   "outputs": [],
   "source": [
    "catcher = 'The Catcher in the Rye'\n",
    "replaced = catcher.replace('e', '3')\n",
    "print(replaced)\n",
    "\n",
    "# optional parameter 'count'\n",
    "replaced_max = catcher.replace('e', '3', 1)\n",
    "print(replaced_max)"
   ]
  },
  {
   "cell_type": "markdown",
   "id": "212c14d3",
   "metadata": {
    "id": "OQ07Frl4j_H_"
   },
   "source": [
    "### Converting to list\n",
    "There are two ways to convert a string into a list:\n",
    "- `list(string)`\n",
    "- `string.split(separator)`\n",
    "\n",
    "The latter is more flexible, because it allows you to choose on which character the string should be split."
   ]
  },
  {
   "cell_type": "code",
   "execution_count": null,
   "id": "830b6e52",
   "metadata": {
    "id": "xtsuwTrikrpk"
   },
   "outputs": [],
   "source": [
    "catcher = 'The Catcher in the Rye'\n",
    "tabbed_catcher = catcher.replace(' ', '\\t') # here we replace spaces by the tab character\n",
    "sentence = 'This is some sentence that we wish to split into words.'\n",
    "\n",
    "# use list()\n",
    "print(list(catcher))\n",
    "\n",
    "# using string.split()\n",
    "# default: split on any whitespace\n",
    "print(catcher.split())\n",
    "print(tabbed_catcher.split())\n",
    "print(sentence.split())\n",
    "\n",
    "# optional parameter: separator\n",
    "list_string = 'jelte,julian,berit'\n",
    "print(list_string.split(','))\n",
    "\n",
    "# any separator works, separator is not included in the result:\n",
    "print(list_string.split('e'))"
   ]
  },
  {
   "cell_type": "markdown",
   "id": "f24dcac0",
   "metadata": {
    "id": "UM5FtDPBlBGx"
   },
   "source": [
    "### Join an iterable into a string\n",
    "The reverse of splitting is of course also possible: take each element of an *iterable* (such as a list), and glue them together into a string. You can choose which character to put between each element:\n",
    "\n",
    "`string.join(iterable)`"
   ]
  },
  {
   "cell_type": "code",
   "execution_count": null,
   "id": "175be0a6",
   "metadata": {
    "id": "CqxglgPOlDfe"
   },
   "outputs": [],
   "source": [
    "words = ['The', 'Catcher', 'in', 'the', 'Rye']\n",
    "\n",
    "# choose a string that should be put between the words\n",
    "print(' '.join(words))\n",
    "print(','.join(words))\n",
    "print(''.join(words))"
   ]
  },
  {
   "cell_type": "code",
   "execution_count": null,
   "id": "ceaa3fac",
   "metadata": {
    "id": "z7p9kwjBlakE"
   },
   "outputs": [],
   "source": [
    "# split and join are opposites\n",
    "sep = ' '\n",
    "title = 'The Catcher in the Rye'\n",
    "split_title = title.split(sep)\n",
    "join_title = sep.join(split_title)\n",
    "assert join_title == title"
   ]
  },
  {
   "cell_type": "markdown",
   "id": "59767e70",
   "metadata": {
    "id": "5hIj-tbVleEq"
   },
   "source": [
    "## Exercise 9.1: String utilities\n",
    "\n",
    "1. In each of the code blocks below, try to predict what will be printed, then run the code. If your guess was incorrect, try to figure out why the result is different. If your guess was correct, celebrate!"
   ]
  },
  {
   "cell_type": "code",
   "execution_count": null,
   "id": "ba74f0b8",
   "metadata": {
    "id": "02q-FgvVlxEj"
   },
   "outputs": [],
   "source": [
    "print(len('two'))"
   ]
  },
  {
   "cell_type": "code",
   "execution_count": null,
   "id": "7b7e2898",
   "metadata": {
    "id": "cvCrnnn9l-oH"
   },
   "outputs": [],
   "source": [
    "print(len(''))"
   ]
  },
  {
   "cell_type": "code",
   "execution_count": null,
   "id": "f9e0a043",
   "metadata": {
    "id": "UlWWF0k7mA62"
   },
   "outputs": [],
   "source": [
    "assert 'A' in 'Matilda'"
   ]
  },
  {
   "cell_type": "code",
   "execution_count": null,
   "id": "2c5d46b1",
   "metadata": {
    "id": "Ui3gmvCNmHfB"
   },
   "outputs": [],
   "source": [
    "assert 'A' in 'Matilda'.upper()"
   ]
  },
  {
   "cell_type": "code",
   "execution_count": null,
   "id": "44a6abc4",
   "metadata": {
    "id": "1tDEnzrumNdO"
   },
   "outputs": [],
   "source": [
    "name = 'Matilda'\n",
    "assert name.upper() == 'MATILDA'"
   ]
  },
  {
   "cell_type": "code",
   "execution_count": null,
   "id": "bfc45f20",
   "metadata": {
    "id": "BUpf6LglmZ4n"
   },
   "outputs": [],
   "source": [
    "name = 'Matilda'\n",
    "assert name.upper().lower() == 'Matilda'"
   ]
  },
  {
   "cell_type": "code",
   "execution_count": null,
   "id": "5e64e940",
   "metadata": {
    "id": "sgfEH2jImlwz"
   },
   "outputs": [],
   "source": [
    "print('Matilda'.replace('ilda', 'ild4'))"
   ]
  },
  {
   "cell_type": "code",
   "execution_count": null,
   "id": "1e084dfb",
   "metadata": {
    "id": "BEE94VVBmf7T"
   },
   "outputs": [],
   "source": [
    "print('Matilda'.replace('a', 4))"
   ]
  },
  {
   "cell_type": "code",
   "execution_count": null,
   "id": "a3b06a3a",
   "metadata": {
    "id": "BVKc0bQAnGYq"
   },
   "outputs": [],
   "source": [
    "list_of_words = ['I', 'ate', 'a', 'banana']\n",
    "sentence = 'I ate a banana'\n",
    "\n",
    "assert sentence.split() == list_of_words"
   ]
  },
  {
   "cell_type": "code",
   "execution_count": null,
   "id": "581442c5",
   "metadata": {
    "id": "R4U_8kVtmpHE"
   },
   "outputs": [],
   "source": [
    "list_of_words = ['I', 'ate', 'a', 'banana']\n",
    "sentence = 'I ate a banana'\n",
    "\n",
    "assert ''.join(list_of_words) == sentence"
   ]
  },
  {
   "cell_type": "markdown",
   "id": "ae51509d",
   "metadata": {
    "id": "Y34UdLQVQY_B"
   },
   "source": [
    "2. In each of the code blocks below, replace each occurrence of `None` by an expression so that the assertions pass."
   ]
  },
  {
   "cell_type": "code",
   "execution_count": null,
   "id": "317a1d95",
   "metadata": {
    "id": "CMOb-BiRQkVd"
   },
   "outputs": [],
   "source": [
    "name = 'Julian'\n",
    "other_name = name.replace('Juli', None)\n",
    "assert other_name == 'Sheean'"
   ]
  },
  {
   "cell_type": "code",
   "execution_count": null,
   "id": "0c805285",
   "metadata": {
    "id": "gmAD4po2RIAo"
   },
   "outputs": [],
   "source": [
    "sentence1 = 'Edo won an argument about function parameters.'\n",
    "sentence2 = 'To be or not to be, that is the question.'\n",
    "\n",
    "def sentence_length(sentence):\n",
    "    return None\n",
    "\n",
    "assert sentence_length(sentence1) == 7\n",
    "assert sentence_length(sentence2) == 10"
   ]
  },
  {
   "cell_type": "code",
   "execution_count": null,
   "id": "eb4103d8",
   "metadata": {
    "id": "VXHa1AIMSZW-"
   },
   "outputs": [],
   "source": [
    "book_title = 'iteration, or how I did the loop thing'\n",
    "\n",
    "words = []\n",
    "for title_word in None: # use book_title\n",
    "    # on the next line, use title_word twice\n",
    "    capitalized_word = None + title_word[1:]\n",
    "    words.append(capitalized_word)\n",
    "\n",
    "capitalized_title = None # use words\n",
    "\n",
    "assert capitalized_title == 'Iteration, Or How I Did The Loop Thing'"
   ]
  },
  {
   "cell_type": "markdown",
   "id": "0726863f",
   "metadata": {
    "id": "4dXMIBAUUk5T"
   },
   "source": [
    "3. **BONUS** Write a function `bwian_speech`. Its parameter is any sentence. It should return the same sentence, but with selective replacements: the first occurrence of the character `r` after every comma should be replaced by `w`. If you succeed, challenge yourself to replace `R` by `W` as well."
   ]
  },
  {
   "cell_type": "code",
   "execution_count": null,
   "id": "bbf17fcf",
   "metadata": {
    "id": "kT34vyPcVwNQ"
   },
   "outputs": [],
   "source": [
    "original = 'Do we have a prisoner by that name, \"Brian\"?'\n",
    "bwianized = 'Do we have a prisoner by that name, \"Bwian\"?'\n",
    "\n",
    "# your definition of bwian_speech here\n",
    "\n",
    "assert bwian_speech(original) == bwianized"
   ]
  },
  {
   "cell_type": "markdown",
   "id": "2fe14a8e",
   "metadata": {
    "id": "mRATbQdclrcX"
   },
   "source": [
    "## Exercise 9.2: Additional utilities\n",
    "For each of the string functions below, find out what they do. If they take any parameters, describe what these do:\n",
    "- `string.startswith()`\n",
    "- `string.endswith()`\n",
    "- `string.strip()`\n",
    "- `string.lstrip()`\n",
    "- `string.rstrip()`\n",
    "- `string.title()`\n",
    "- `string.find()`\n",
    "- `string.split(',', x)` (describe what 'x' does. It should be a number)\n",
    "\n"
   ]
  },
  {
   "cell_type": "code",
   "execution_count": null,
   "id": "83f8cdce",
   "metadata": {
    "id": "NyrzV4VGUJWK"
   },
   "outputs": [],
   "source": []
  },
  {
   "cell_type": "markdown",
   "id": "5fe54c55",
   "metadata": {
    "id": "8YAcMdHpnuKw"
   },
   "source": [
    "## String formatting\n",
    "We have seen a (not very convenient) way of building strings:"
   ]
  },
  {
   "cell_type": "code",
   "execution_count": null,
   "id": "9cba5f0f",
   "metadata": {
    "id": "pl5hfOYmnzF2"
   },
   "outputs": [],
   "source": [
    "name = 'Julian'\n",
    "shoutout = 'Hey ' + name + '!'\n",
    "print(shoutout)"
   ]
  },
  {
   "cell_type": "markdown",
   "id": "a31c957c",
   "metadata": {
    "id": "SjWVj2R5n1XR"
   },
   "source": [
    "Luckily, there is a better (easier, more flexible) way: `string.format()`:\n",
    "- create a string with *placeholders*: `{}`\n",
    "- fill these placeholders with some value"
   ]
  },
  {
   "cell_type": "code",
   "execution_count": null,
   "id": "cb52563d",
   "metadata": {
    "id": "EQ9u1CX6n_TN"
   },
   "outputs": [],
   "source": [
    "shoutout_template = 'Hey {}!'\n",
    "print(shoutout_template)\n",
    "\n",
    "filled_template = shoutout_template.format('Sheean')\n",
    "print(filled_template)\n",
    "\n",
    "names = ['Julian', 'Sheean', 'Jelte', 'Mees']\n",
    "for name in names:\n",
    "    print(shoutout_template.format(name))"
   ]
  },
  {
   "cell_type": "markdown",
   "id": "9776cf7e",
   "metadata": {
    "id": "B1_gS-UaoEy0"
   },
   "source": [
    "### Multiple placeholders\n",
    "Not limited to one placeholder, you can have an arbitrary amount"
   ]
  },
  {
   "cell_type": "code",
   "execution_count": null,
   "id": "76ae8f3b",
   "metadata": {
    "id": "8KMQfVXGoHq5"
   },
   "outputs": [],
   "source": [
    "shoutout_template = 'Hey {}! {}'\n",
    "name = 'Julian'\n",
    "followup = 'How are you?'\n",
    "\n",
    "print(shoutout_template.format(name, followup))\n",
    "print(shoutout_template.format(name))\n",
    "print(shoutout_template.format(name, followup, 'Where are you going?'))"
   ]
  },
  {
   "cell_type": "markdown",
   "id": "c4d684f4",
   "metadata": {
    "id": "3lMa3IDjoMZP"
   },
   "source": [
    "### Named placeholders\n",
    "Can also give placeholders names, and supply named parameters to `string.format()`."
   ]
  },
  {
   "cell_type": "code",
   "execution_count": null,
   "id": "ddad14b3",
   "metadata": {
    "id": "re9x0TNLoM4Q"
   },
   "outputs": [],
   "source": [
    "shoutout_template = 'Hey {name}! {followup}'\n",
    "julian = 'Julian'\n",
    "question = 'How are you?'\n",
    "\n",
    "print(shoutout_template.format(name=julian, followup=question))\n",
    "print(shoutout_template.format(followup=question, name=julian))\n",
    "print(shoutout_template.format(followup=julian, name=question))"
   ]
  },
  {
   "cell_type": "markdown",
   "id": "85fbfd52",
   "metadata": {
    "id": "lxJqWxlRfIxd"
   },
   "source": [
    "### F-strings\n",
    "Similar to placeholders, expressions can also be directly combined within a string by putting `f` in front of a string:"
   ]
  },
  {
   "cell_type": "code",
   "execution_count": null,
   "id": "4dc9313f",
   "metadata": {
    "id": "ThZE6YnXfIxd"
   },
   "outputs": [],
   "source": [
    "name = 'Sheean'\n",
    "weeks = 2\n",
    "text = f'Hi {name}, your next appointment is in {weeks * 7} days.'\n",
    "\n",
    "print(text)"
   ]
  },
  {
   "cell_type": "markdown",
   "id": "9b80b142",
   "metadata": {
    "id": "avcqgDAAoq-w"
   },
   "source": [
    "## Exercise 9.3: String formatting\n",
    "\n",
    "1. In each of the code blocks below, try to predict what will be printed, then run the code. If your guess was incorrect, try to figure out why the result is different. If your guess was correct, celebrate!"
   ]
  },
  {
   "cell_type": "code",
   "execution_count": null,
   "id": "7fe01c1a",
   "metadata": {
    "id": "BIa0VOX_owF4"
   },
   "outputs": [],
   "source": [
    "print('hey {}')"
   ]
  },
  {
   "cell_type": "code",
   "execution_count": null,
   "id": "46c981e3",
   "metadata": {
    "id": "81GUitOZo0l2"
   },
   "outputs": [],
   "source": [
    "print('hey {Julian}')"
   ]
  },
  {
   "cell_type": "code",
   "execution_count": null,
   "id": "62cac3e6",
   "metadata": {
    "id": "96Dq4eSCpAji"
   },
   "outputs": [],
   "source": [
    "print('hey {}'.format('Julian'))"
   ]
  },
  {
   "cell_type": "code",
   "execution_count": null,
   "id": "a2beb5a2",
   "metadata": {
    "id": "h43fjzPco4V_"
   },
   "outputs": [],
   "source": [
    "print('hey {Julian}'.format('Julian'))"
   ]
  },
  {
   "cell_type": "code",
   "execution_count": null,
   "id": "5be04415",
   "metadata": {
    "id": "wA18AIPKpFAH"
   },
   "outputs": [],
   "source": [
    "print('hey {name}'.format('Julian'))"
   ]
  },
  {
   "cell_type": "markdown",
   "id": "aadcb0e4",
   "metadata": {
    "id": "PkBMT-kYiIqd"
   },
   "source": [
    "2. Change each of the code blocks above so that it outputs `hey Edo`. You are **not** allowed to change the contents of the strings that start with `'hey`!"
   ]
  },
  {
   "cell_type": "markdown",
   "id": "23ba9d8e",
   "metadata": {
    "id": "ArVJo3y0jJ8T"
   },
   "source": [
    "3. What do you think the following piece of code will do? Try it out. Can you explain the result?"
   ]
  },
  {
   "cell_type": "code",
   "execution_count": null,
   "id": "af07a106",
   "metadata": {
    "id": "iAkugK6wjqfl"
   },
   "outputs": [],
   "source": [
    "name = 'Jill'\n",
    "welcome = 'welcome, {}'.format\n",
    "goodbye = 'farewell, {}'.format\n",
    "connect = '; '.join\n",
    "\n",
    "print(connect((welcome(name), goodbye(name))))"
   ]
  },
  {
   "cell_type": "markdown",
   "id": "225b9a2d",
   "metadata": {
    "id": "y5FcFvgypMfE"
   },
   "source": [
    "## Next module\n",
    "\n",
    "[10 - Dictionaries](https://colab.research.google.com/github/CentreForDigitalHumanities/programming-in-python/blob/main/lessons/10%20-%20Dictionaries.ipynb)"
   ]
  }
 ],
 "metadata": {
  "jupytext": {
   "main_language": "python"
  },
  "kernelspec": {
   "display_name": "Python 3",
   "name": "python3"
  }
 },
 "nbformat": 4,
 "nbformat_minor": 5
}
