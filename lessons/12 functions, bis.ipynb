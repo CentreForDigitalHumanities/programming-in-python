{
 "cells": [
  {
   "cell_type": "markdown",
   "id": "bae5006d",
   "metadata": {
    "id": "uHYIr4R9dWyQ"
   },
   "source": [
    "# Module 12: Functions, bis\n",
    "\n",
    "### CDH course \"Programming in Python\"\n",
    "\n",
    "[index](https://colab.research.google.com/drive/1kFvnhumJ0tOTzDVJnIvvMDRRJ19yk9ZS)\n",
    "\n",
    "Previous module: [11. Working with files](https://colab.research.google.com/drive/1KsFZV-jmfaQnCFevSxIZrd7chm3Z5CJo)\n",
    "\n",
    "### This module\n",
    "\n",
    "- Master the things you can do with functions"
   ]
  },
  {
   "cell_type": "markdown",
   "id": "2fe5214b",
   "metadata": {
    "id": "3Lx61L5B0Zqe"
   },
   "source": [
    "## Refining parameters and return values"
   ]
  },
  {
   "cell_type": "markdown",
   "id": "1b7047b0",
   "metadata": {
    "id": "gRae5PaguhV9"
   },
   "source": [
    "### Returning multiple values (in a tuple)"
   ]
  },
  {
   "cell_type": "code",
   "execution_count": null,
   "id": "352396a6",
   "metadata": {
    "id": "MJqHyAI31FLZ"
   },
   "outputs": [],
   "source": [
    "def word_statistics(word):\n",
    "    \"\"\" Given a string, return its length and the case of its first letter. \"\"\"\n",
    "    if 'A' <= word[0] <= 'Z':\n",
    "        casing = 'upper'\n",
    "    else:\n",
    "        casing = 'lower'\n",
    "    # Note how we return TWO things on the next line\n",
    "    return len(word), casing\n",
    "\n",
    "# And here, we unpack both return values.\n",
    "size, initial = word_statistics('Sheean')\n",
    "print(size)\n",
    "print(initial)"
   ]
  },
  {
   "cell_type": "markdown",
   "id": "2220ae08",
   "metadata": {
    "id": "1ORLASkU2Uga"
   },
   "source": [
    "### Optional parameters\n",
    "\n",
    "Parameters can be made *optional* by using the notation `=None` in the parameter list."
   ]
  },
  {
   "cell_type": "code",
   "execution_count": null,
   "id": "6e936818",
   "metadata": {
    "id": "IuDsXgrK3rK8"
   },
   "outputs": [],
   "source": [
    "def emphasize(word, emphasis=None):\n",
    "    \"\"\"\n",
    "    Given a string, return a version with an exclamation mark appended.\n",
    "\n",
    "    The exclamation mark can be replaced by passing the override in a\n",
    "    second argument.\n",
    "    \"\"\"\n",
    "    if emphasis == None:\n",
    "        return word + '!'\n",
    "    return word + emphasis\n",
    "\n",
    "print(emphasize('Julian'))\n",
    "print(emphasize('Julian', '!!!'))"
   ]
  },
  {
   "cell_type": "markdown",
   "id": "e0d7eb1f",
   "metadata": {
    "id": "2gPmuYUe1nyO"
   },
   "source": [
    "### Parameters with default values\n",
    "\n",
    "The notation `=None` is actually a special case. You can use any value as a default for a parameter. However, it is easy to make mistakes in this way. In case of doubt, just use `None` and add a check inside the function body, as demonstrated above."
   ]
  },
  {
   "cell_type": "code",
   "execution_count": null,
   "id": "7f67cae5",
   "metadata": {
    "id": "IqabfNzi2-XV"
   },
   "outputs": [],
   "source": [
    "# Literal strings, numbers and booleans are safe\n",
    "def default_string(value='hello'):\n",
    "    return value\n",
    "\n",
    "def default_int(value=10):\n",
    "    return value\n",
    "\n",
    "def default_bool(value=True):\n",
    "    return value\n",
    "\n",
    "# Do not use variables as default values!\n",
    "name = 'Julian'\n",
    "def default_name(value=name):\n",
    "    return value\n",
    "\n",
    "name = 'Sheean'\n",
    "print(default_name())\n",
    "\n",
    "# Do not use data structures as default values!\n",
    "def append_list(container=[], value=1):\n",
    "    container.append(value)\n",
    "    return container\n",
    "\n",
    "print(append_list())\n",
    "print(append_list())"
   ]
  },
  {
   "cell_type": "markdown",
   "id": "260bce06",
   "metadata": {
    "id": "_mTHAoog6glc"
   },
   "source": [
    "### Mixing positional and named arguments\n",
    "\n",
    "So far, we demonstrated functions where every parameter has its own unique name. With such parameters, the caller is free to choose between positional arguments and named arguments. The order of named arguments can be freely chosen, but they must come after all positional arguments."
   ]
  },
  {
   "cell_type": "code",
   "execution_count": null,
   "id": "75c8a162",
   "metadata": {
    "id": "ETGRDi8J7cyP"
   },
   "outputs": [],
   "source": [
    "def tax_rate(income, entrepreneur):\n",
    "    \"\"\" Determine tax rate, given income and whether payer is entrepreneur. \"\"\"\n",
    "    if entrepreneur:\n",
    "        return 20\n",
    "    first_bracket = min(income, 50000)\n",
    "    second_bracket = income - first_bracket\n",
    "    return (first_bracket * 30 + second_bracket * 40) / income\n",
    "\n",
    "print(tax_rate(40000, True))\n",
    "print(tax_rate(40000, entrepreneur=True))\n",
    "print(tax_rate(income=40000, entrepreneur=True))\n",
    "print(tax_rate(entrepreneur=True, income=40000))\n",
    "print(tax_rate(True, income=40000))\n",
    "print(tax_rate(income=40000, True))"
   ]
  },
  {
   "cell_type": "markdown",
   "id": "40cae463",
   "metadata": {
    "id": "1jWzKu5omWUV"
   },
   "source": [
    "## Functions as first-class citizens\n",
    "\n",
    "As mentioned previously, a function is just a value. That means you can do the same things with it as with other values. For example, you can pass a function as an argument to another function:"
   ]
  },
  {
   "cell_type": "code",
   "execution_count": null,
   "id": "ea4a815e",
   "metadata": {
    "id": "ukVglqcwsAdT"
   },
   "outputs": [],
   "source": [
    "def exclaim(text):\n",
    "    return text + '!'\n",
    "\n",
    "fruits = ['apricot', 'banana', 'cherry']\n",
    "\n",
    "exclaimed_fruits = map(exclaim, fruits)\n",
    "\n",
    "print(type(exclaimed_fruits), exclaimed_fruits)\n",
    "\n",
    "list(exclaimed_fruits)"
   ]
  },
  {
   "cell_type": "markdown",
   "id": "73069b12",
   "metadata": {
    "id": "l4dAFklEvdhZ"
   },
   "source": [
    "What is going on inside `map`? Something like this:"
   ]
  },
  {
   "cell_type": "code",
   "execution_count": null,
   "id": "6b26335f",
   "metadata": {
    "id": "V2-kY5O6xHRo"
   },
   "outputs": [],
   "source": [
    "def my_map(function, values):\n",
    "    \"\"\" Repeat `function` for every value in `values`. \"\"\"\n",
    "    for value in values:\n",
    "        result = function(value)\n",
    "        # there is an additional step that we will cover later"
   ]
  },
  {
   "cell_type": "markdown",
   "id": "99fe8706",
   "metadata": {
    "id": "TZXA2q46taZi"
   },
   "source": [
    "Also, a function can define another function inside its body and then use and/or return it:"
   ]
  },
  {
   "cell_type": "code",
   "execution_count": null,
   "id": "0ef2672d",
   "metadata": {
    "id": "fG6-q8EatpRz"
   },
   "outputs": [],
   "source": [
    "def make_greeter(prefix, suffix):\n",
    "    \"\"\" Create a function that greets a person with the given phrasing. \"\"\"\n",
    "    def greeter(name):\n",
    "        \"\"\" Wrap the given name in a greeting. \"\"\"\n",
    "        return prefix + ', ' + name + suffix\n",
    "    return greeter\n",
    "\n",
    "greet_british = make_greeter('How do you do', '?')\n",
    "greet_american = make_greeter('Hi there', '!')\n",
    "\n",
    "print(greet_british('Sheean'))\n",
    "print(greet_british('Julian'))\n",
    "print(greet_american('Sheean'))\n",
    "print(greet_american('Julian'))"
   ]
  },
  {
   "cell_type": "markdown",
   "id": "34f72bdd",
   "metadata": {
    "id": "1xUD2ZNjcqEZ"
   },
   "source": [
    "## Exercise 12.1: function tricks"
   ]
  },
  {
   "cell_type": "markdown",
   "id": "ca890ae7",
   "metadata": {
    "id": "hxRC5Nx-cyM4"
   },
   "source": [
    "1. In each of the code blocks below, predict the output, check your prediction by running the code, and try to explain any surprises."
   ]
  },
  {
   "cell_type": "code",
   "execution_count": null,
   "id": "2841e83e",
   "metadata": {
    "id": "HPxio0q6c-M9"
   },
   "outputs": [],
   "source": [
    "def welcome(name=None):\n",
    "    if name is None:\n",
    "        return 'Welcome to my office. How can I help you?'\n",
    "    return 'Please make yourself at home, ' + name + '!'\n",
    "\n",
    "print(welcome())\n",
    "print(welcome('Sheean'))"
   ]
  },
  {
   "cell_type": "code",
   "execution_count": null,
   "id": "730363cc",
   "metadata": {
    "id": "NxXqK4ROdxva"
   },
   "outputs": [],
   "source": [
    "def table(number):\n",
    "    return number, number * 2, number * 3\n",
    "\n",
    "first, second, third = table(5)\n",
    "\n",
    "print(third)"
   ]
  },
  {
   "cell_type": "code",
   "execution_count": null,
   "id": "35757e22",
   "metadata": {
    "id": "EVCf3w9qfBCU"
   },
   "outputs": [],
   "source": [
    "def contact(name, job):\n",
    "    return 'For ' + job + ', contact ' + name + '.'\n",
    "\n",
    "contact_line = contact(job='naming', name='Job')\n",
    "print(contact_line)"
   ]
  },
  {
   "cell_type": "code",
   "execution_count": null,
   "id": "9e79f95d",
   "metadata": {
    "id": "OUSpe-hPl6-G"
   },
   "outputs": [],
   "source": [
    "def exclaim(name):\n",
    "    return name + '!'\n",
    "\n",
    "def request(name):\n",
    "    return name + '?'\n",
    "\n",
    "def tell(how):\n",
    "    return 'As my mother would say: ' + how('Julian')\n",
    "\n",
    "print(tell(request))"
   ]
  },
  {
   "cell_type": "code",
   "execution_count": null,
   "id": "36811f77",
   "metadata": {
    "id": "uSN17qnvmoWv"
   },
   "outputs": [],
   "source": [
    "def make_enumerate(separator):\n",
    "    def enumerate(items):\n",
    "        if not len(items):\n",
    "            return ''\n",
    "        result = items[0]\n",
    "        for item in items[1:]:\n",
    "            result = result + separator + item\n",
    "        return result\n",
    "    return enumerate\n",
    "\n",
    "with_semicolon = make_enumerate('; ')\n",
    "fruits = with_semicolon(['apricot', 'banana', 'cherry'])\n",
    "print(fruits)"
   ]
  },
  {
   "cell_type": "markdown",
   "id": "305ae683",
   "metadata": {
    "id": "CKma4p6Egkwb"
   },
   "source": [
    "2. In each of the following code blocks, something is missing in the function definition. Add the missing element."
   ]
  },
  {
   "cell_type": "code",
   "execution_count": null,
   "id": "7be6856c",
   "metadata": {
    "id": "SaygnjMygwNF"
   },
   "outputs": [],
   "source": [
    "def combine(left, right):\n",
    "    \"\"\" Compute the sum and the product of the arguments. \"\"\"\n",
    "    sum = left + right\n",
    "    product = left * right\n",
    "    return product\n",
    "\n",
    "assert combine(2, 3) == (5, 6)"
   ]
  },
  {
   "cell_type": "code",
   "execution_count": null,
   "id": "995064e4",
   "metadata": {
    "id": "GqIgTcG6hMuG"
   },
   "outputs": [],
   "source": [
    "def announce_time(hour, minute):\n",
    "    \"\"\" Announce the time in a speaking clock manner. \"\"\"\n",
    "    if minute < 10:\n",
    "        minute = '0' + str(minute)\n",
    "    time = str(hour) + ':' + str(minute)\n",
    "    return 'At the next beep, the time will be ' + time + '. BEEP!'\n",
    "\n",
    "assert announce_time(12) == 'At the next beep, the time will be 12:00. BEEP!'"
   ]
  },
  {
   "cell_type": "code",
   "execution_count": null,
   "id": "d81764e5",
   "metadata": {
    "id": "nH77gJdOkS5b"
   },
   "outputs": [],
   "source": [
    "def echo(value):\n",
    "    print(value)\n",
    "    return value\n",
    "\n",
    "assert echo('holiday') == 'holiday'"
   ]
  },
  {
   "cell_type": "markdown",
   "id": "f39c373f",
   "metadata": {
    "id": "YG5XrO1PoIJx"
   },
   "source": [
    "3. In the following code block, write a function `month`, which returns a string name for given numeric month. Month `1` is `'January'` and month `12` is `December`. When no argument is passed, it should default to the current month. **Tip:** you can avoid writing a big `if`/`elif`/`else` tree by using a list of month names and using the month number as a list index."
   ]
  },
  {
   "cell_type": "code",
   "execution_count": null,
   "id": "db1d3bef",
   "metadata": {
    "id": "TnuU_I0Tq9wQ"
   },
   "outputs": [],
   "source": [
    "# You may pretend that it is forever May\n",
    "current_month = 5\n",
    "\n",
    "# Your definition of month here\n",
    "\n",
    "assert month(3) == 'March'\n",
    "assert month(4) == 'April'\n",
    "assert month(11) == 'November'\n",
    "assert month() == 'May'"
   ]
  },
  {
   "cell_type": "markdown",
   "id": "2959b6c7",
   "metadata": {
    "id": "WuRrElhUsD40"
   },
   "source": [
    "4. In the following code block, write a function `weekday`, which is analogous to `month` in the previous exercise. Day `1` is `'Monday'` while day `0` and day `7` are both `'Sunday'`. Can you avoid writing the string `'Sunday'` twice in your code?"
   ]
  },
  {
   "cell_type": "code",
   "execution_count": null,
   "id": "fc10e94d",
   "metadata": {
    "id": "WUGQqmJysrqS"
   },
   "outputs": [],
   "source": [
    "# You may pretend it is forever Wednesday\n",
    "current_weekday = 3\n",
    "\n",
    "# Your definition of weekday here\n",
    "\n",
    "assert weekday() == 'Wednesday'\n",
    "assert weekday(0) == 'Sunday'\n",
    "assert weekday(7) == 'Sunday'\n",
    "assert weekday(4) == 'Thursday'"
   ]
  },
  {
   "cell_type": "markdown",
   "id": "97b8bc36",
   "metadata": {
    "id": "ZvfEq3NctoOo"
   },
   "source": [
    "## Exercise 12.2: bonus"
   ]
  },
  {
   "cell_type": "markdown",
   "id": "95a568e3",
   "metadata": {
    "id": "8au2fNRutw8i"
   },
   "source": [
    "1. In exercises 12.1.4 and 12.1.5, where you just implemented `month` and `weekday`, your code was likely very similar. How could you implement both functions without repeating yourself? Check your solution with assertions."
   ]
  },
  {
   "cell_type": "code",
   "execution_count": null,
   "id": "bfee9e40",
   "metadata": {
    "id": "JFhOX_Z5uVfC"
   },
   "outputs": [],
   "source": []
  },
  {
   "cell_type": "markdown",
   "id": "729a3ca1",
   "metadata": {
    "id": "Gx54DrgJuWKg"
   },
   "source": [
    "2. Write a function `create_date_format`, which takes two arguments that determine how a date should be displayed. The first argument is function that transforms a weekday number to a string suitable for display, the second argument is a function that transforms a month number. Both arguments default to just displaying the number as-is. `create_date_format` returns a new function. The latter function takes any date defined by a year, month, day and weekday, and returns a string suitable for displaying that date as a whole."
   ]
  },
  {
   "cell_type": "code",
   "execution_count": null,
   "id": "d89769a3",
   "metadata": {
    "id": "0KyXFHEWwZ45"
   },
   "outputs": [],
   "source": [
    "# For this code block, you need to have `month` and `weekday`\n",
    "# in your runtime from previous exercises.\n",
    "\n",
    "# Your definition of create_date_format here\n",
    "\n",
    "wordy_format = create_date_format(weekday, month)\n",
    "cryptic_format = create_date_format()\n",
    "\n",
    "assert wordy_format(2023, 4, 11, 2) == 'Tuesday, April 11, 2023'\n",
    "assert cryptic_format(2023, 4, 11, 2) == '2, 4 11, 2023'"
   ]
  },
  {
   "cell_type": "markdown",
   "id": "b41ec277",
   "metadata": {
    "id": "b-p6Ct5_0I-x"
   },
   "source": [
    "## Exercise 12.3: ultimate FizzBuzz (more bonus)\n",
    "\n",
    "1. Write two functions `fizz(number)` and `buzz(number)`. If `number` is divisible by 3, `fizz` should return the string `'Fizz'`; otherwise, it should return the empty string `''`. `buzz` should work like `fizz`, but for divisibility by 5 and the string `'Buzz'`."
   ]
  },
  {
   "cell_type": "code",
   "execution_count": null,
   "id": "dd89211e",
   "metadata": {
    "id": "407dPPK966R9"
   },
   "outputs": [],
   "source": [
    "# Your solution here\n",
    "\n",
    "for number in [1, 2, 4, 5, 7, 8, 10, 11, 13, 14]:\n",
    "    assert fizz(number) == '', str(number) + ' is not divisible by 3'\n",
    "for number in [3, 6, 9, 12, 15, 18, 21, 24, 27]:\n",
    "    assert fizz(number) == 'Fizz', str(number) + ' is divisible by 3'\n",
    "for number in [1, 2, 3, 4, 6, 7, 8, 9, 11, 12, 13, 14]:\n",
    "    assert buzz(number) == '', str(number) + ' is not divisible by 5'\n",
    "for number in [5, 10, 15, 20, 25, 30, 35, 40]:\n",
    "    assert buzz(number) == 'Buzz', str(number) + ' is divisible by 5'"
   ]
  },
  {
   "cell_type": "markdown",
   "id": "f81aad36",
   "metadata": {
    "id": "QCKc52-r9DrX"
   },
   "source": [
    "2. Using your functions `fizz` and `buzz` from step 1, write the function `fizzbuzz(number)`, which implements the well-known rules from before, but with a slight **twist**:\n",
    "    - If the number is divisible by 3 and 5, return `'FizzBuzz'`.\n",
    "    - If the number is divisible by 3 but not by 5, return `'Fizz'`.\n",
    "    - If the number is divisible by 5 but not by 3, return `'Buzz'`.\n",
    "    - In all other cases, return the number itself **as a string**."
   ]
  },
  {
   "cell_type": "code",
   "execution_count": null,
   "id": "4719da8a",
   "metadata": {
    "id": "NFADyIW3-7qt"
   },
   "outputs": [],
   "source": [
    "# Your solution here\n",
    "\n",
    "for number in [1, 2, 4, 7, 8, 11, 13, 14]:\n",
    "    assert fizzbuzz(number) == str(number), str(number)\n",
    "for number in [3, 6, 9, 12, 18, 21, 24, 27]:\n",
    "    assert fizzbuzz(number) == 'Fizz', str(number)\n",
    "for number in [5, 10, 20, 25, 35, 40]:\n",
    "    assert fizzbuzz(number) == 'Buzz', str(number)\n",
    "for number in [15, 30, 45, 60, 75]:\n",
    "    assert fizzbuzz(number) == 'FizzBuzz', str(number)"
   ]
  },
  {
   "cell_type": "markdown",
   "id": "c4cce14a",
   "metadata": {
    "id": "o_3wq4agCCZH"
   },
   "source": [
    "3. Write a function `chunk10(sequence)` that takes an iterable `sequence` and returns a list of lists: the first sublist contains the first ten elements of `sequence`, the second sublist contains the next ten elements of `sequence`, and so on. You may assume that the number of values in `sequence` is an exact multiple of 10."
   ]
  },
  {
   "cell_type": "code",
   "execution_count": null,
   "id": "626e5204",
   "metadata": {
    "id": "4c0A4kMfDdvt"
   },
   "outputs": [],
   "source": [
    "# Your solution here\n",
    "\n",
    "assert chunk10('Sheean!!!!!') == [list('Sheean!!!!!')]\n",
    "assert chunk10('Hey Julian, let us have lunch!') == [\n",
    "    list('Hey Julian'),\n",
    "    list(', let us h'),\n",
    "    list('ave lunch!'),\n",
    "]\n",
    "assert chunk10(range(20)) == [list(range(10)), list(range(10, 20))]"
   ]
  },
  {
   "cell_type": "markdown",
   "id": "66a05a5e",
   "metadata": {
    "id": "HBA4z4yVIhsn"
   },
   "source": [
    "4. In step 1, you may have written definitions for `fizz` and `buzz` that look very similar to each other. Can you think of a way to avoid repeating the common elements?"
   ]
  },
  {
   "cell_type": "code",
   "execution_count": null,
   "id": "e74740da",
   "metadata": {
    "id": "5g4BRdpLJLIc"
   },
   "outputs": [],
   "source": [
    "# Your solution here\n",
    "\n",
    "for number in [1, 2, 4, 5, 7, 8, 10, 11, 13, 14]:\n",
    "    assert fizz(number) == '', str(number) + ' is not divisible by 3'\n",
    "for number in [3, 6, 9, 12, 15, 18, 21, 24, 27]:\n",
    "    assert fizz(number) == 'Fizz', str(number) + ' is divisible by 3'\n",
    "for number in [1, 2, 3, 4, 6, 7, 8, 9, 11, 12, 13, 14]:\n",
    "    assert buzz(number) == '', str(number) + ' is not divisible by 5'\n",
    "for number in [5, 10, 15, 20, 25, 30, 35, 40]:\n",
    "    assert buzz(number) == 'Buzz', str(number) + ' is divisible by 5'"
   ]
  },
  {
   "cell_type": "markdown",
   "id": "cebcbfb4",
   "metadata": {
    "id": "BXzFYNGmPeO6"
   },
   "source": [
    "5. In [exercise 7.1.3](https://colab.research.google.com/drive/1w7Nor72UAJMVYEZrwAmbOahP8ItV0ggg#scrollTo=pAChbRWn-SKS&line=2&uniqifier=1), you documented the function `join_commas`. We did not actually need to write that function, because it is built into Python, although it goes by the name `', '.join`. That notation also works with other strings, as we demonstrate below. We also remind you of `map`, which appeared in the lecture.<br><br>\n",
    "Using these functions, as well as your own `fizzbuzz` from step 2 and your own `chunk10` from step 3, try to recreate (roughly) the same `FizzBuzz` output for the numbers 1 through 100 as in [exercise 6.2.4](https://colab.research.google.com/drive/1wzbgGKNbZ1Ao0gHjN6jbFnWh0cxp8bQ1#scrollTo=uyqbuhKsUlhG), in as little code as you can."
   ]
  },
  {
   "cell_type": "code",
   "execution_count": null,
   "id": "fe3a2481",
   "metadata": {
    "id": "nDGUS26IMApD"
   },
   "outputs": [],
   "source": [
    "# The following code is just for illustration.\n",
    "# You do not need it in your solution.\n",
    "fruits = ['apricot', 'banana', 'cherry']\n",
    "print(', '.join(fruits))\n",
    "print('\\n'.join(fruits))\n",
    "numbers = list(range(10))\n",
    "print(numbers)\n",
    "strings = map(str, numbers)\n",
    "print(list(strings))"
   ]
  },
  {
   "cell_type": "markdown",
   "id": "3f5a37e9",
   "metadata": {
    "id": "hSkvuphJ5Sw9"
   },
   "source": [
    "*There is no next module. This is the end of the course!*"
   ]
  }
 ],
 "metadata": {
  "jupytext": {
   "main_language": "python"
  },
  "kernelspec": {
   "display_name": "Python 3",
   "name": "python3"
  }
 },
 "nbformat": 4,
 "nbformat_minor": 5
}
