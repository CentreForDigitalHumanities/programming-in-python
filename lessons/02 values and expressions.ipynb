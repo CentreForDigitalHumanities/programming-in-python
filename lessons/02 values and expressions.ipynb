{
 "cells": [
  {
   "cell_type": "markdown",
   "id": "8f9b978d",
   "metadata": {
    "id": "fqMJHzNk5yXQ"
   },
   "source": [
    "# Module 2: Values and Expressions\n",
    "\n",
    "### CDH course \"Programming in Python\"\n",
    "\n",
    "[index](https://colab.research.google.com/drive/1YgmnpA7tRylvGBpp2PTFGvSV2P8tw5jl)\n",
    "\n",
    "Previous module: [1. Introduction](https://colab.research.google.com/drive/1KVMLkUIYyUHK3svD9pLfVdhzpdhqIA1B)\n",
    "\n",
    "### This module\n",
    "\n",
    "- The basic types of values that exist in Python.\n",
    "- How to store values for later use.\n",
    "- How to create values from other values."
   ]
  },
  {
   "cell_type": "markdown",
   "id": "11c0192d",
   "metadata": {
    "id": "AqGUR1POYVNL"
   },
   "source": [
    "## Primitive types and values\n",
    "\n",
    "> In computer science, primitive data types are a set of basic data types from which all other data types are constructed. [wikipedia](https://en.wikipedia.org/wiki/Primitive_data_type)\n",
    "\n",
    "In Python:\n",
    "\n",
    "- integer - `int`\n",
    "- floating point - `float`\n",
    "- string - `str`\n",
    "- boolean - `bool`\n",
    "- none - `NoneType`\n"
   ]
  },
  {
   "cell_type": "markdown",
   "id": "fdf30577",
   "metadata": {
    "id": "8sSOrG7FdMT5"
   },
   "source": [
    "### integer\n",
    "'whole number'"
   ]
  },
  {
   "cell_type": "code",
   "execution_count": null,
   "id": "71c926bf",
   "metadata": {
    "id": "wTlfkN-Sa_MG"
   },
   "outputs": [],
   "source": [
    "1\n",
    "2\n",
    "-12\n",
    "289883891009329819081202\n",
    "0"
   ]
  },
  {
   "cell_type": "markdown",
   "id": "b8602048",
   "metadata": {
    "id": "iBCZZWfDdS7o"
   },
   "source": [
    "### floating point\n",
    "'decimal number'"
   ]
  },
  {
   "cell_type": "code",
   "execution_count": null,
   "id": "4ff819b4",
   "metadata": {
    "id": "2JbaI2-pbTF5"
   },
   "outputs": [],
   "source": [
    "2.1\n",
    "-3.2\n",
    "12.8\n",
    "0.0\n",
    ".8"
   ]
  },
  {
   "cell_type": "markdown",
   "id": "f76481c5",
   "metadata": {
    "id": "om0zZYCBdd8F"
   },
   "source": [
    "### string\n",
    "'text'"
   ]
  },
  {
   "cell_type": "code",
   "execution_count": null,
   "id": "9c47f5f9",
   "metadata": {
    "id": "DB6KZC5Sblwy"
   },
   "outputs": [],
   "source": [
    "'hello'\n",
    "'we can choose between single'\n",
    "\"or double quotes!\"\n",
    "\n",
    "\"I don't want to do this\"\n",
    "\n",
    "# escaping difficult characters with \\\n",
    "\"I won't say \\\"banana\\\"\\\\\"\n",
    "\n",
    "# line breaks are preserved\n",
    "'''a long string\n",
    "\n",
    "that can go over multiple lines'''\n",
    "\n",
    "''\n",
    "\"\""
   ]
  },
  {
   "cell_type": "markdown",
   "id": "34dc9605",
   "metadata": {
    "id": "dQ6u3Syk4fS4"
   },
   "source": [
    "*escape characters* only show when printing"
   ]
  },
  {
   "cell_type": "code",
   "execution_count": null,
   "id": "3b3acd68",
   "metadata": {
    "id": "7QCMtj3S4d6E"
   },
   "outputs": [],
   "source": [
    "# escape character: \\n (newline)\n",
    "print('hello \\n world')\n",
    "'hello \\n world'"
   ]
  },
  {
   "cell_type": "markdown",
   "id": "65245758",
   "metadata": {
    "id": "ouf6r2zmdjY9"
   },
   "source": [
    "### boolean\n",
    "true or false"
   ]
  },
  {
   "cell_type": "code",
   "execution_count": null,
   "id": "fda18cad",
   "metadata": {
    "id": "8n81rHXFb9cl"
   },
   "outputs": [],
   "source": [
    "True\n",
    "False\n",
    "false\n",
    "true\n",
    "\"True\""
   ]
  },
  {
   "cell_type": "markdown",
   "id": "0b7a000a",
   "metadata": {
    "id": "xS0efw6fdoW9"
   },
   "source": [
    "### None\n",
    "'nothing here'"
   ]
  },
  {
   "cell_type": "code",
   "execution_count": null,
   "id": "571494c8",
   "metadata": {
    "id": "fOZdR0YUcFRb"
   },
   "outputs": [],
   "source": [
    "None\n",
    "none\n",
    "\"none\""
   ]
  },
  {
   "cell_type": "markdown",
   "id": "758f2ed3",
   "metadata": {
    "id": "jockLUXXd2Ad"
   },
   "source": [
    "## Difference between types\n",
    "\n",
    "Use `type(value)` to find the type of a value."
   ]
  },
  {
   "cell_type": "code",
   "execution_count": null,
   "id": "e65f1829",
   "metadata": {
    "id": "lHtfczHxd89N"
   },
   "outputs": [],
   "source": [
    "type(10)\n",
    "type(3.14159)\n",
    "type('hello')\n",
    "type(True)\n",
    "type('True')\n",
    "type(None)"
   ]
  },
  {
   "cell_type": "markdown",
   "id": "067d0c1c",
   "metadata": {
    "id": "kZffa20rXLOQ"
   },
   "source": [
    "Careful! A number in quotes is not actually a number, but a string. A string that looks like a number will **NOT** behave like a number."
   ]
  },
  {
   "cell_type": "code",
   "execution_count": null,
   "id": "2639d5d9",
   "metadata": {
    "id": "-Zv10HJFXUW8"
   },
   "outputs": [],
   "source": [
    "type('10')\n",
    "type('3.14159')"
   ]
  },
  {
   "cell_type": "markdown",
   "id": "a437bc9b",
   "metadata": {
    "id": "rJ_mNXXAYIpy"
   },
   "source": [
    "Likewise, a string that looks like a Boolean will **NOT** behave like a boolean."
   ]
  },
  {
   "cell_type": "code",
   "execution_count": null,
   "id": "7523b4f0",
   "metadata": {
    "id": "PN0FTHz2YRPM"
   },
   "outputs": [],
   "source": [
    "type('False')"
   ]
  },
  {
   "cell_type": "markdown",
   "id": "51041ce4",
   "metadata": {
    "id": "-0p3SmmgWdif"
   },
   "source": [
    "`int`, `str` etcetera can be used to convert values between different types. Careful though, not all conversions you can think of will do what you expect!"
   ]
  },
  {
   "cell_type": "code",
   "execution_count": null,
   "id": "675a981c",
   "metadata": {
    "id": "FPeklTLXWuXl"
   },
   "outputs": [],
   "source": [
    "int('10')\n",
    "float('10')\n",
    "str(10)\n",
    "str(False)\n",
    "bool('False') # !!!\n",
    "None # no conversion exists"
   ]
  },
  {
   "cell_type": "markdown",
   "id": "9e39e5e4",
   "metadata": {
    "id": "YGU7CclEYz2y"
   },
   "source": [
    "It is useful to know that each character in a string is stored as an integer. `ord(character)` lets you retrieve that integer."
   ]
  },
  {
   "cell_type": "code",
   "execution_count": null,
   "id": "c5f4580b",
   "metadata": {
    "id": "U_63E6jfab6N"
   },
   "outputs": [],
   "source": [
    "ord('2')\n",
    "ord('a')\n",
    "ord('A')\n",
    "ord('\\n')\n",
    "ord('\\t')"
   ]
  },
  {
   "cell_type": "markdown",
   "id": "bee16848",
   "metadata": {
    "id": "0dh3t4uZa9AT"
   },
   "source": [
    "`chr(integer)` does the opposite: it lets you retrieve the character corresponding to a given integer."
   ]
  },
  {
   "cell_type": "code",
   "execution_count": null,
   "id": "7c414fe8",
   "metadata": {
    "id": "ffIkwHahcGv9"
   },
   "outputs": [],
   "source": [
    "chr(49)\n",
    "chr(98)\n",
    "chr(946)\n",
    "chr(22823)\n",
    "chr(129327)"
   ]
  },
  {
   "cell_type": "markdown",
   "id": "3f8edf00",
   "metadata": {
    "id": "InNZNIOpezlG"
   },
   "source": [
    "## Variables\n",
    "\n",
    "- container holding a value\n",
    "- assigning\n",
    "    - `variable_name = value`\n",
    "- reassigning\n",
    "    - `name = 'sheean'`\n",
    "    - `name = 'julian'`\n",
    "- in Python, no strict type\n",
    "    - `a = 1`\n",
    "    - `a = 'hello'`"
   ]
  },
  {
   "cell_type": "code",
   "execution_count": null,
   "id": "a077423f",
   "metadata": {
    "id": "wgaSYh4yfGCx"
   },
   "outputs": [],
   "source": [
    "a = 1\n",
    "b = \"hello\"\n",
    "c = True\n",
    "d = None\n",
    "\n",
    "print(a)"
   ]
  },
  {
   "cell_type": "markdown",
   "id": "327d1719",
   "metadata": {
    "id": "BD2s2EqKfQtx"
   },
   "source": [
    "Tip: the notebook remembers variables from previous cells, but only if you executed them."
   ]
  },
  {
   "cell_type": "code",
   "execution_count": null,
   "id": "9ea52775",
   "metadata": {
    "id": "pJ-N_rc8fZia"
   },
   "outputs": [],
   "source": [
    "print(a)\n",
    "print(b)\n",
    "print(c)"
   ]
  },
  {
   "cell_type": "markdown",
   "id": "8439dd2b",
   "metadata": {
    "id": "uADEckPZgGt_"
   },
   "source": [
    "Anything can go in a variable, not just single values"
   ]
  },
  {
   "cell_type": "code",
   "execution_count": null,
   "id": "5207d9a4",
   "metadata": {
    "id": "ehEig-sCgL48"
   },
   "outputs": [],
   "source": [
    "d = a\n",
    "print(d)\n",
    "\n",
    "e = print\n",
    "e(b)"
   ]
  },
  {
   "cell_type": "markdown",
   "id": "0d3af7bd",
   "metadata": {
    "id": "TaiYZ3R6ghq0"
   },
   "source": [
    "Beware! When we assign a value, the variable stores it at that exact moment.  \n",
    "Changing one variable does not change another.\n"
   ]
  },
  {
   "cell_type": "code",
   "execution_count": null,
   "id": "a36ec0ad",
   "metadata": {
    "id": "pIIq1la9g1Qr",
    "lines_to_next_cell": 2
   },
   "outputs": [],
   "source": [
    "number = 0\n",
    "\n",
    "container = number\n",
    "\n",
    "print(container)\n",
    "\n",
    "number = 1\n",
    "\n",
    "print(container)\n",
    "print(number)"
   ]
  },
  {
   "cell_type": "markdown",
   "id": "2db8430c",
   "metadata": {
    "id": "nMn_xu6Ih3hJ"
   },
   "source": [
    "### Variable names\n",
    "\n",
    "#### Rules\n",
    "\n",
    "- must start with a letter or underscore (`_`)\n",
    "- can only contain letters (`a-z`, `A-Z`), numbers (`0-9`), and underscore (`_`)\n",
    "- variable names are case sensitive. `name` is a different variable from `Name`\n",
    "\n",
    "#### Conventions\n",
    "\n",
    "Next to the rules, there are some conventions.  \n",
    "Please stick to them, so others will have no trouble reading and understanding your code.\n",
    "- lowercase\n",
    "    - DO: `name`\n",
    "    - DON'T: `Name`\n",
    "    - DON'T: `NAME`<sup>1</sup>\n",
    "- readable\n",
    "    - DO: `name`\n",
    "    - DON'T: `n_a_m_e`\n",
    "    - DON'T: `x098277`\n",
    "- multiple words<sup>2</sup>\n",
    "    - DO: `first_name` (*snake_case*)\n",
    "    - DON'T: `FirstName` (*PascalCase*)\n",
    "    - DON'T `firstName` (*camelCase*)\n",
    "- comprehensive (but short)\n",
    "    - DO: `name`\n",
    "    - DON'T: `n`\n",
    "    - DON'T: `the_name_of_the_person_i_want_to_print`  \n",
    "\n",
    "<sup>1</sup> *Fully uppercased variable names actually indicate constants, and adhere to Python conventions. We will explain this later.*  \n",
    "<sup>2</sup> *This is purely a cultural thing. Other languages (and even other concepts within Python) use different casing*"
   ]
  },
  {
   "cell_type": "code",
   "execution_count": null,
   "id": "2f4a7169",
   "metadata": {
    "id": "m4pTI2BEn-Z-"
   },
   "outputs": [],
   "source": []
  },
  {
   "cell_type": "markdown",
   "id": "209caedc",
   "metadata": {
    "id": "pDU1uK2Igmki"
   },
   "source": [
    "## Exercise 2.1: Variables and state\n",
    "\n",
    "In each of the code blocks below, try to predict what will be printed, then run the code. If your guess was incorrect, try to figure out why the result is different. If your guess was correct, celebrate!"
   ]
  },
  {
   "cell_type": "code",
   "execution_count": null,
   "id": "b318da5a",
   "metadata": {
    "id": "FydkKnx_hUPq"
   },
   "outputs": [],
   "source": [
    "flavor = 'vanilla'\n",
    "print(flavor)"
   ]
  },
  {
   "cell_type": "code",
   "execution_count": null,
   "id": "5bfb1172",
   "metadata": {
    "id": "LTWods50h-Ij"
   },
   "outputs": [],
   "source": [
    "temperature = 70\n",
    "print(flavor)"
   ]
  },
  {
   "cell_type": "code",
   "execution_count": null,
   "id": "3667b843",
   "metadata": {
    "id": "l2vT4L7piGRf"
   },
   "outputs": [],
   "source": [
    "print(temperature)\n",
    "temperature = 35\n",
    "print(temperature)"
   ]
  },
  {
   "cell_type": "code",
   "execution_count": null,
   "id": "d2c30586",
   "metadata": {
    "id": "k1Z_yWLXiWy7"
   },
   "outputs": [],
   "source": [
    "dog_name = 'Bobby'\n",
    "cat_name = 'Garfield'\n",
    "dog_name = cat_name\n",
    "cat_name = dog_name\n",
    "print(dog_name)\n",
    "print(cat_name)"
   ]
  },
  {
   "cell_type": "markdown",
   "id": "6c612065",
   "metadata": {
    "id": "BZ50KykuAYPs"
   },
   "source": [
    "Before running the following code, try to explain why it does *not* output `chocolate`."
   ]
  },
  {
   "cell_type": "code",
   "execution_count": null,
   "id": "d08e4cae",
   "metadata": {
    "id": "X3xHg6K4Aicn"
   },
   "outputs": [],
   "source": [
    "sweet = 'chocolate'\n",
    "savory = 'cheese'\n",
    "dessert = 'sweet'\n",
    "print(dessert)"
   ]
  },
  {
   "cell_type": "markdown",
   "id": "9d1623b1",
   "metadata": {
    "id": "0az3tNK7WD3G"
   },
   "source": [
    "In each of the following lines of code, replace `None` by a value of your choice. Make it such that `my_int` is an integer, `my_float` is a float, `my_bool` is a boolean and `my_string` is a string."
   ]
  },
  {
   "cell_type": "code",
   "execution_count": null,
   "id": "840971fb",
   "metadata": {
    "id": "lY-M8mfSXDfG"
   },
   "outputs": [],
   "source": [
    "my_int = None\n",
    "my_float = None\n",
    "my_bool = None\n",
    "my_string = None"
   ]
  },
  {
   "cell_type": "markdown",
   "id": "5aef5a59",
   "metadata": {
    "id": "dvNIQh7KYuJb"
   },
   "source": [
    "## Exercise 2.2: Bonus"
   ]
  },
  {
   "cell_type": "markdown",
   "id": "6d2df9aa",
   "metadata": {
    "id": "GI9fyUO8XOcp"
   },
   "source": [
    "How could you verify in code whether the variables you wrote above have the correct type? Write this code below.\n",
    "\n",
    "Hint: scroll back to the section [Difference between types](#scrollTo=Difference_between_types)."
   ]
  },
  {
   "cell_type": "code",
   "execution_count": null,
   "id": "6d512ea5",
   "metadata": {
    "id": "Om6z53RXYBoS"
   },
   "outputs": [],
   "source": []
  },
  {
   "cell_type": "markdown",
   "id": "5a05e6c2",
   "metadata": {
    "id": "h6UKIMXCj3w9"
   },
   "source": [
    "In the code block below, replace the question mark `?` by a variable name. Make it such that the final output is `'Hooray!'`."
   ]
  },
  {
   "cell_type": "code",
   "execution_count": null,
   "id": "a663b2ea",
   "metadata": {
    "id": "3MI6_DY7ku30"
   },
   "outputs": [],
   "source": [
    "cheer = 'Hooray!'\n",
    "alarm = 'Oh no!'\n",
    "anthem = 'Wilhelmus van Nassauwe'\n",
    "alarm = anthem\n",
    "? = cheer\n",
    "cheer = anthem\n",
    "anthem = alarm\n",
    "print(anthem)"
   ]
  },
  {
   "cell_type": "markdown",
   "id": "d18285ec",
   "metadata": {
    "id": "ZXd6jCn90CA_"
   },
   "source": [
    "## Expressions\n",
    "\n",
    "- An expression is a combination between *operands* and *operators*.\n",
    "- Think of arithmetic: `1 + 2`\n",
    "\n"
   ]
  },
  {
   "cell_type": "markdown",
   "id": "ba164354",
   "metadata": {
    "id": "s8uJy_kI9C8S"
   },
   "source": [
    "### Arithmetic"
   ]
  },
  {
   "cell_type": "code",
   "execution_count": null,
   "id": "e786fe18",
   "metadata": {
    "id": "f9ACtc0e13i-"
   },
   "outputs": [],
   "source": [
    "1 + 6\n",
    "5 - 2\n",
    "10 / 3\n",
    "5 * 5\n",
    "\n",
    "a = 8\n",
    "b = 10\n",
    "\n",
    "c = b - a\n",
    "print(c)"
   ]
  },
  {
   "cell_type": "code",
   "execution_count": null,
   "id": "1337b52c",
   "metadata": {
    "id": "w9cfOflP8DEJ"
   },
   "outputs": [],
   "source": [
    "# multiple operators\n",
    "4 + (3 * 5)\n",
    "(4 + 3) * 5"
   ]
  },
  {
   "cell_type": "markdown",
   "id": "d50d0917",
   "metadata": {
    "id": "zkt9aNKm28Lc"
   },
   "source": [
    "### String expressions"
   ]
  },
  {
   "cell_type": "code",
   "execution_count": null,
   "id": "43026531",
   "metadata": {
    "id": "6os4-rt43ThF"
   },
   "outputs": [],
   "source": [
    "\"hello\" + \" world!\"\n",
    "a = \"my age is: \"\n",
    "b = 33\n",
    "\n",
    "a + b"
   ]
  },
  {
   "cell_type": "code",
   "execution_count": null,
   "id": "534c3f0b",
   "metadata": {
    "id": "SyrelaMu42UZ"
   },
   "outputs": [],
   "source": [
    "a = 'hello'\n",
    "a * 5"
   ]
  },
  {
   "cell_type": "markdown",
   "id": "1c8a578b",
   "metadata": {
    "id": "DPbfP65xXlfb"
   },
   "source": [
    "## Reassigning variables\n",
    "\n",
    "- You can use a variable itself when reassigning. This is useful when trying to expand an existing variable."
   ]
  },
  {
   "cell_type": "code",
   "execution_count": null,
   "id": "16f12279",
   "metadata": {
    "id": "ogL2Iw3-Xs15"
   },
   "outputs": [],
   "source": [
    "a = \"hello\"\n",
    "a = a + \", world!\"\n",
    "print(a)\n",
    "\n",
    "b = 'bye'\n",
    "b = b + b\n",
    "print(b)\n",
    "\n",
    "b = b + b\n",
    "print(b)"
   ]
  },
  {
   "cell_type": "markdown",
   "id": "a76aaab4",
   "metadata": {
    "id": "z_bXvnya5J2_"
   },
   "source": [
    "## Exercise 2.3: Expressions\n",
    "\n"
   ]
  },
  {
   "cell_type": "markdown",
   "id": "278f5c93",
   "metadata": {
    "id": "j9xhznQlbCBf"
   },
   "source": [
    "1. Try to predict the value of each of the following code blocks. Can you explain any surprises?"
   ]
  },
  {
   "cell_type": "code",
   "execution_count": null,
   "id": "26844be1",
   "metadata": {
    "id": "0QcMB4xwbSfL"
   },
   "outputs": [],
   "source": [
    "1 + 1"
   ]
  },
  {
   "cell_type": "code",
   "execution_count": null,
   "id": "c338bd1c",
   "metadata": {
    "id": "eHKN9kP9bWkm"
   },
   "outputs": [],
   "source": [
    "1 * 1"
   ]
  },
  {
   "cell_type": "code",
   "execution_count": null,
   "id": "ee38b6c6",
   "metadata": {
    "id": "uINoRNNbbXwJ"
   },
   "outputs": [],
   "source": [
    "a = 1\n",
    "b = 2\n",
    "a + b"
   ]
  },
  {
   "cell_type": "code",
   "execution_count": null,
   "id": "b175ad4c",
   "metadata": {
    "id": "4xyWkYlnbc_8"
   },
   "outputs": [],
   "source": [
    "c = b\n",
    "a * b * c"
   ]
  },
  {
   "cell_type": "code",
   "execution_count": null,
   "id": "63f9fb49",
   "metadata": {
    "id": "7tW2T4mebljv"
   },
   "outputs": [],
   "source": [
    "'hakuna' + 'matata'"
   ]
  },
  {
   "cell_type": "code",
   "execution_count": null,
   "id": "a8a92ee1",
   "metadata": {
    "id": "uEdPHIhBb2Mw"
   },
   "outputs": [],
   "source": [
    "liquid = 'water~'\n",
    "liquid * 3"
   ]
  },
  {
   "cell_type": "code",
   "execution_count": null,
   "id": "a2017101",
   "metadata": {
    "id": "-D7BB50Qceo2"
   },
   "outputs": [],
   "source": [
    "5 - 2 - 1"
   ]
  },
  {
   "cell_type": "code",
   "execution_count": null,
   "id": "2a7882ce",
   "metadata": {
    "id": "OQUGr5rGck3m"
   },
   "outputs": [],
   "source": [
    "5 - (2 - 1)"
   ]
  },
  {
   "cell_type": "code",
   "execution_count": null,
   "id": "02d53c54",
   "metadata": {
    "id": "Jc8fawaIdCD5"
   },
   "outputs": [],
   "source": [
    "income = 100\n",
    "tax = 20\n",
    "net_income = income - tax\n",
    "tax = 15\n",
    "net_income"
   ]
  },
  {
   "cell_type": "markdown",
   "id": "cd9db204",
   "metadata": {
    "id": "TlLkcRv-droI"
   },
   "source": [
    "2. In the code block below, change the values of `character` and `multiplier` so that the output becomes `'Goooood!'`."
   ]
  },
  {
   "cell_type": "code",
   "execution_count": null,
   "id": "19764272",
   "metadata": {
    "id": "pYZUkeDJenob"
   },
   "outputs": [],
   "source": [
    "character = 'x'\n",
    "multiplier = 0\n",
    "\n",
    "begin = 'G'\n",
    "middle = character * multiplier\n",
    "end = 'd!'\n",
    "\n",
    "begin + middle + end"
   ]
  },
  {
   "cell_type": "markdown",
   "id": "31f38e9a",
   "metadata": {
    "id": "G8X4n_a8a5tl"
   },
   "source": [
    "3. Rewrite your Hello world-program:\n",
    "    - Build the \"hello, world!\" string using multiple variables.\n",
    "    - Make the program say \"hello, world!\" 3 times, each time on a new line"
   ]
  },
  {
   "cell_type": "code",
   "execution_count": null,
   "id": "89188cfa",
   "metadata": {
    "id": "nDUVvhDEfIVI"
   },
   "outputs": [],
   "source": []
  },
  {
   "cell_type": "markdown",
   "id": "e562c3ff",
   "metadata": {
    "id": "3HCqdTj2fVPK"
   },
   "source": [
    "## Exercise 2.4: Bonus"
   ]
  },
  {
   "cell_type": "markdown",
   "id": "0dc29704",
   "metadata": {
    "id": "EKFdkLkWa8EY"
   },
   "source": [
    "1. Find out and describe what the following operators do:\n",
    "    - `%` (e.g. `10 % 2`)\n",
    "    - `//` (e.g. `10 // 2`)\n",
    "    - `**` (e.g. `10 ** 2`)\n",
    "    - Tip: write the expressions using variables. Change the variables and see how it affects the outcome."
   ]
  },
  {
   "cell_type": "code",
   "execution_count": null,
   "id": "852674d2",
   "metadata": {
    "id": "V59a7vpDfzO2"
   },
   "outputs": [],
   "source": []
  },
  {
   "cell_type": "markdown",
   "id": "9fc1da91",
   "metadata": {
    "id": "o0WYIAUla-AX"
   },
   "source": [
    "2. Predict what will be printed on each line in the following code block, then run the code to check your answer. If you made any mistakes, try to figure out what is causing the difference."
   ]
  },
  {
   "cell_type": "code",
   "execution_count": null,
   "id": "bd9c0a40",
   "metadata": {
    "id": "Z9Vd9pdIUzT5"
   },
   "outputs": [],
   "source": [
    "word = 'stylometry'\n",
    "repeats = 3\n",
    "extra = 2\n",
    "\n",
    "print((word * repeats) + str(extra))\n",
    "print(word * (repeats + extra))\n",
    "print(word * repeats + str(extra))\n",
    "print((word + str(extra)) * repeats)\n",
    "print(word + str(extra * repeats))\n",
    "print(word + str(extra) * repeats)"
   ]
  },
  {
   "cell_type": "markdown",
   "id": "8d73aa72",
   "metadata": {
    "id": "DRObBQZHgsIG"
   },
   "source": [
    "3. Using just the variables `word`, `repeats` and `extra` from the previous code block, write a single big expression that evaluates to `'stylometry555stylometry'`."
   ]
  },
  {
   "cell_type": "code",
   "execution_count": null,
   "id": "8fba4694",
   "metadata": {
    "id": "uLuiUk10gqwM"
   },
   "outputs": [],
   "source": []
  },
  {
   "cell_type": "markdown",
   "id": "066088a3",
   "metadata": {
    "id": "QaamMzJY6ISR"
   },
   "source": [
    "## Boolean expressions\n",
    "Expressions that result in `True` or `False`\n"
   ]
  },
  {
   "cell_type": "code",
   "execution_count": null,
   "id": "b4746c45",
   "metadata": {
    "id": "kLjya4Au6Ucu"
   },
   "outputs": [],
   "source": [
    "# equals\n",
    "1 == 1\n",
    "\"hello\" == 'hello'\n",
    "'2' == 2"
   ]
  },
  {
   "cell_type": "code",
   "execution_count": null,
   "id": "9875485c",
   "metadata": {
    "id": "tYNp6nUp7ixW"
   },
   "outputs": [],
   "source": [
    "# does not equal\n",
    "1 != 1\n",
    "\"hello\" != 'hello'\n",
    "'2' != 2"
   ]
  },
  {
   "cell_type": "code",
   "execution_count": null,
   "id": "70288312",
   "metadata": {
    "id": "oixxKDHV7s5J"
   },
   "outputs": [],
   "source": [
    "# greater than\n",
    "2 > 1\n",
    "2 > 5\n",
    "'b' > 'a'\n",
    "\n",
    "2 > 2\n",
    "\n",
    "# greater than (or equal)\n",
    "2 >= 2"
   ]
  },
  {
   "cell_type": "code",
   "execution_count": null,
   "id": "8b6cb185",
   "metadata": {
    "id": "Z198kfCf75sU"
   },
   "outputs": [],
   "source": [
    "# less than\n",
    "2 < 1\n",
    "2 < 5\n",
    "'b' < 'a'\n",
    "2 < 2\n",
    "\n",
    "# less than (or equal)\n",
    "2 <= 2"
   ]
  },
  {
   "cell_type": "markdown",
   "id": "441a972a",
   "metadata": {
    "id": "pvrcgKU18OrJ"
   },
   "source": [
    "## Exercise 2.5: boolean expressions"
   ]
  },
  {
   "cell_type": "markdown",
   "id": "bcee304c",
   "metadata": {
    "id": "sWdnjezoil9j"
   },
   "source": [
    "1. Predict for each boolean expression below: `True` or `False`? If any of your predictions is incorrect, try to find the reason."
   ]
  },
  {
   "cell_type": "code",
   "execution_count": null,
   "id": "46b1c5c2",
   "metadata": {
    "id": "RpSvrom3Z8fQ"
   },
   "outputs": [],
   "source": [
    "name = 'Sheean'\n",
    "height = 2\n",
    "\n",
    "name * height == 'Sheean Sheean'\n",
    "height < 2\n",
    "2 <= height\n",
    "1 < height <= 2\n",
    "2 <= height < 1\n",
    "name <= 'Julian'\n",
    "height * 3 + 1 >= height"
   ]
  },
  {
   "cell_type": "markdown",
   "id": "77ebce29",
   "metadata": {
    "id": "zJiaGIlZBN_P"
   },
   "source": [
    "2. Run the code block below. Did you expect this result? Can you explain it?"
   ]
  },
  {
   "cell_type": "code",
   "execution_count": null,
   "id": "7ab62d95",
   "metadata": {
    "id": "_PrnFf2lioMB"
   },
   "outputs": [],
   "source": [
    "1 == True"
   ]
  },
  {
   "cell_type": "markdown",
   "id": "44df26b2",
   "metadata": {
    "id": "q8QviA70kdQE"
   },
   "source": [
    "3. Replace one value in each of the following expressions so the expression becomes `True`."
   ]
  },
  {
   "cell_type": "code",
   "execution_count": null,
   "id": "a1fe97a2",
   "metadata": {
    "id": "qDQ9Ob5Zkrqm"
   },
   "outputs": [],
   "source": [
    "1 > height\n",
    "height == 0\n",
    "'Julian' > name * 2\n",
    "name < 1 * name"
   ]
  },
  {
   "cell_type": "markdown",
   "id": "cde3daa5",
   "metadata": {
    "id": "YbdV7SQVmDVV"
   },
   "source": [
    "4. Replace one operator in each of the following expressions so the expression becomes `True`."
   ]
  },
  {
   "cell_type": "code",
   "execution_count": null,
   "id": "d43f28dd",
   "metadata": {
    "id": "hzjXIwkAmChv"
   },
   "outputs": [],
   "source": [
    "5 < 4\n",
    "2 + 1 == 1\n",
    "3 + 3 == 3 + 2"
   ]
  },
  {
   "cell_type": "markdown",
   "id": "10aac3a0",
   "metadata": {
    "id": "SwyAMDzDn2_X"
   },
   "source": [
    "5. The *Groot woordenboek van de Nederlandse taal* by Van Dale publishers, colloquially known as \"De dikke Van Dale\", is a three-tome Dutch dictionary. The first tome contains words starting a–i, the second j–q and the third r–z. In the code block below, write an expression that will tell you whether `word` should be in the second tome. Try different values of `word` to verify that your solution is correct. You do not need to check whether the word is actually Dutch!"
   ]
  },
  {
   "cell_type": "code",
   "execution_count": null,
   "id": "9b7f6bb8",
   "metadata": {
    "id": "lmCGfx_DqMWe"
   },
   "outputs": [],
   "source": [
    "word = 'archaïsch'\n",
    "\n",
    "# your expression here"
   ]
  },
  {
   "cell_type": "markdown",
   "id": "05dd98bf",
   "metadata": {
    "id": "jXSxbjf4q6q5"
   },
   "source": [
    "## Next module\n",
    "\n",
    "[3. Conditionals](https://colab.research.google.com/drive/1qQzRBD1e-1yCKtUNAt8L2lRb8tGjYpkR)"
   ]
  }
 ],
 "metadata": {
  "jupytext": {
   "main_language": "python"
  },
  "kernelspec": {
   "display_name": "Python 3",
   "name": "python3"
  }
 },
 "nbformat": 4,
 "nbformat_minor": 5
}
