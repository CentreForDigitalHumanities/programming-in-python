{
 "cells": [
  {
   "cell_type": "markdown",
   "id": "bbeebfbd",
   "metadata": {
    "id": "Buvh9v-iYeOO"
   },
   "source": [
    "# Module 1: Introduction\n",
    "## CDH course \"Programming in Python\"\n",
    "\n",
    "[index](https://colab.research.google.com/drive/1YgmnpA7tRylvGBpp2PTFGvSV2P8tw5jl)\n",
    "\n",
    "## Welcome!\n",
    "\n",
    "## Who are we?\n",
    "\n",
    "- Julian Gonggrijp, Sheean Spoel\n",
    "- Developers at the Digital Humanities Lab\n",
    "\n",
    "## Who are you?\n",
    "\n",
    "- Entry level course, no previous experience required\n",
    "- If you have some experience, parts of the course may be familiar. Challenge yourself with some difficult exercises!\n",
    "\n",
    "## Goals\n",
    "\n",
    "- Introduce the basics of the Python programming language\n",
    "- Write simple computer programs\n",
    "- Simple data analysis on your own data\n",
    "- Teach good practices that you can apply to all your future programming, and make you a self-reliant programmer\n",
    "\n",
    "## Colab Notebooks\n",
    "\n",
    "- Runs Python code in your web browser, no installing required\n",
    "- If you do not have a Google account, please make one\n",
    "- Presenting straight from Colab, so you can follow our example\n",
    "- Copy the notebooks to edit them, instructions in exercise 1"
   ]
  },
  {
   "cell_type": "markdown",
   "id": "5084c1d0",
   "metadata": {
    "id": "STQf1EROV-4I"
   },
   "source": [
    "## Python\n",
    "\n",
    "- Programming language\n",
    "- Invented by Guido van Rossum (former Benevolent Dictator For Life) in 1989\n",
    "- *High level*\n",
    "    - Far removed from machine language\n",
    "    - Written in C (slightly lower level)\n",
    "- Designed to be readable\n",
    "- Many versions, currently on major version 3."
   ]
  },
  {
   "cell_type": "markdown",
   "id": "72aadb03",
   "metadata": {
    "id": "rC4AwjL06k0q"
   },
   "source": [
    "### Why learn Python?\n",
    "\n",
    "- (Relatively) easy to learn\n",
    "- Widely used\n",
    "    - Easy to install and run on a variety of platforms\n",
    "    - Many resources available\n",
    "- Many good packages and libraries available"
   ]
  },
  {
   "cell_type": "markdown",
   "id": "2f43eee4",
   "metadata": {
    "id": "xyNb4mPMcQCd"
   },
   "source": [
    "## Notebooks 101\n",
    "\n",
    "Let's get started!"
   ]
  },
  {
   "cell_type": "markdown",
   "id": "d3a2216b",
   "metadata": {
    "id": "4lc8nYpP9mtf"
   },
   "source": [
    "### Copy a notebook to your own Google Drive\n",
    "\n",
    "You can only run code in this notebook, not edit it. To edit it, you need to copy it to [your own Google Drive](https://drive.google.com) first.\n",
    "\n",
    "To do so, click on the *File* menu and choose the ninth option from the top: *Save a copy in Drive*. You can now find the copy in your drive, in the directory *Colab Notebooks*.\n",
    "\n",
    "Tip: give it a recognizable name (e.g. `Module 1 - my solutions`).\n"
   ]
  },
  {
   "cell_type": "markdown",
   "id": "a7bb272a",
   "metadata": {
    "id": "8zoSNQtC_6_v"
   },
   "source": [
    "### Adjust some settings\n",
    "\n",
    "Open the *Settings*, in the *Tools* menu or by clicking the cogwheel icon in the top right. Open the *Editor* section.\n",
    "\n",
    "- Set *Indentation width in spaces* to **4**.\n",
    "- Switch *Show line numbers* **on**.\n",
    "\n",
    "The other settings are up to you."
   ]
  },
  {
   "cell_type": "markdown",
   "id": "da9831b7",
   "metadata": {
    "id": "qtRYKOWnB5Wl"
   },
   "source": [
    "### Execute Python code\n",
    "\n",
    "Press the triangle icon in the top left corner of a code block to run it, *OR* type **ctrl-enter** when the text cursor is in the code block. Type **ctrl-shift-enter** to run only the current line.\n",
    "\n",
    "If you open a notebook for the first time, or if you have not run any code for a while, it takes a while before you see a result."
   ]
  },
  {
   "cell_type": "code",
   "execution_count": null,
   "id": "c4debb8a",
   "metadata": {
    "id": "MdA4_KyrDAsf"
   },
   "outputs": [],
   "source": [
    "print('Hello')\n",
    "print('Goodbye')"
   ]
  },
  {
   "cell_type": "markdown",
   "id": "50c86069",
   "metadata": {
    "id": "AoBoZqIeFEru"
   },
   "source": [
    "## Python 101"
   ]
  },
  {
   "cell_type": "markdown",
   "id": "550a4f5f",
   "metadata": {
    "id": "ZOqgk7VAFKnJ"
   },
   "source": [
    "### `print`\n",
    "\n",
    "In the previous code block, we saw the `print` function in action. It causes Python to \"talk\" to us."
   ]
  },
  {
   "cell_type": "markdown",
   "id": "9a44b836",
   "metadata": {
    "id": "NOtudpGlFe78"
   },
   "source": [
    "### Values\n",
    "\n",
    "Between the parentheses `( )` of the `print` function, we put the *value* that we want Python to show. We can also write the value without passing it to `print`."
   ]
  },
  {
   "cell_type": "code",
   "execution_count": null,
   "id": "596123d9",
   "metadata": {
    "id": "in8WoUafGEyK"
   },
   "outputs": [],
   "source": [
    "'Hello'"
   ]
  },
  {
   "cell_type": "markdown",
   "id": "5990a98d",
   "metadata": {
    "id": "BHQPB7LuQ1mf"
   },
   "source": [
    "A bare value does not always cause output. We will explore this in the first exercise."
   ]
  },
  {
   "cell_type": "markdown",
   "id": "7cbe5d65",
   "metadata": {
    "id": "Src0ZdRKGHtl"
   },
   "source": [
    "### Comments\n",
    "\n",
    "A comment starts with a hash `#` and runs until the end of the line. Python ignores comments. You can use them as notes for yourself and for other programmers."
   ]
  },
  {
   "cell_type": "code",
   "execution_count": null,
   "id": "7a41eca6",
   "metadata": {
    "id": "ssP4GWUOIxWS"
   },
   "outputs": [],
   "source": [
    "# Python will not look here!\n",
    "\n",
    "print('Hello') # comments can start after code"
   ]
  },
  {
   "cell_type": "markdown",
   "id": "1bc17adc",
   "metadata": {
    "id": "YxXeF4u5I2c_"
   },
   "source": [
    "Use comments to explain *why* your code was written the way it is. You will be grateful to yourself when you read your own code after a few weeks!"
   ]
  },
  {
   "cell_type": "code",
   "execution_count": null,
   "id": "8587e51c",
   "metadata": {
    "id": "nMTlvlbbJUWu"
   },
   "outputs": [],
   "source": [
    "# Useless comment:\n",
    "\n",
    "# Print \"Hello\".\n",
    "print('Hello')\n",
    "\n",
    "# Useful comment:\n",
    "\n",
    "# Everyone writes \"Hello\" in this exercise, but\n",
    "# I prefer something a little bit more British.\n",
    "print('How do you do?')"
   ]
  },
  {
   "cell_type": "markdown",
   "id": "7ddbb6ef",
   "metadata": {
    "id": "ZhgCPUNTLIZX"
   },
   "source": [
    "### `pass`\n",
    "\n",
    "You can write `pass` to do nothing. It behaves almost like a comment, but isn't. It is sometimes useful as a placeholder, as we will see later on in the course."
   ]
  },
  {
   "cell_type": "code",
   "execution_count": null,
   "id": "3af649f9",
   "metadata": {
    "id": "oS7kfP3OLtJn"
   },
   "outputs": [],
   "source": [
    "pass"
   ]
  },
  {
   "cell_type": "markdown",
   "id": "7f09e362",
   "metadata": {
    "id": "pKIEfocbMaIR"
   },
   "source": [
    "## Exercise 1.1: Try it out\n",
    "\n",
    "Read each of the code blocks below. Try to predict what it will do, then run the block to check your prediction.\n",
    "\n",
    "Do you see any (subtle or not-so subtle) surprises? Can you explain them?"
   ]
  },
  {
   "cell_type": "code",
   "execution_count": null,
   "id": "759c57f8",
   "metadata": {
    "id": "6hlNxRNNM1fV"
   },
   "outputs": [],
   "source": [
    "print(1)\n",
    "1"
   ]
  },
  {
   "cell_type": "code",
   "execution_count": null,
   "id": "810d5fc4",
   "metadata": {
    "id": "VIm6FdRIM6OE"
   },
   "outputs": [],
   "source": [
    "print('oops')\n",
    "'oops'"
   ]
  },
  {
   "cell_type": "code",
   "execution_count": null,
   "id": "681f5165",
   "metadata": {
    "id": "_MN48xz5NAya"
   },
   "outputs": [],
   "source": [
    "print()"
   ]
  },
  {
   "cell_type": "code",
   "execution_count": null,
   "id": "fdc42ba2",
   "metadata": {
    "id": "g9WKeIA2NVIA"
   },
   "outputs": [],
   "source": [
    "print('apricot')\n",
    "print('banana')\n",
    "print('cherry')"
   ]
  },
  {
   "cell_type": "code",
   "execution_count": null,
   "id": "a121a8ca",
   "metadata": {
    "id": "NCbCfbHaNafJ"
   },
   "outputs": [],
   "source": [
    "'apricot'\n",
    "'banana'\n",
    "'cherry'"
   ]
  },
  {
   "cell_type": "code",
   "execution_count": null,
   "id": "74711629",
   "metadata": {
    "id": "-ZuiJ92yNqpi"
   },
   "outputs": [],
   "source": [
    "# apricot\n",
    "# banana\n",
    "# cherry"
   ]
  },
  {
   "cell_type": "code",
   "execution_count": null,
   "id": "0a95202c",
   "metadata": {
    "id": "b9bTbrNSNwwn"
   },
   "outputs": [],
   "source": [
    "print('apricot')\n",
    "'banana'\n",
    "# cherry"
   ]
  },
  {
   "cell_type": "code",
   "execution_count": null,
   "id": "2505f05f",
   "metadata": {
    "id": "GYmcSm6iOAiA"
   },
   "outputs": [],
   "source": [
    "# apricot\n",
    "'banana'\n",
    "print('cherry')"
   ]
  },
  {
   "cell_type": "code",
   "execution_count": null,
   "id": "e4eb5608",
   "metadata": {
    "id": "rbjHe9KbOzFb"
   },
   "outputs": [],
   "source": [
    "print('apricot')\n",
    "'banana'\n",
    "pass"
   ]
  },
  {
   "cell_type": "code",
   "execution_count": null,
   "id": "0ed721f0",
   "metadata": {
    "id": "V1GiIP_ZNK8H"
   },
   "outputs": [],
   "source": [
    "print(pass)"
   ]
  },
  {
   "cell_type": "code",
   "execution_count": null,
   "id": "712ab94f",
   "metadata": {
    "id": "sNNoSfndOSiw"
   },
   "outputs": [],
   "source": [
    "print(#oops)"
   ]
  },
  {
   "cell_type": "code",
   "execution_count": null,
   "id": "6c87244c",
   "metadata": {
    "id": "6IZS1NUuTdOX"
   },
   "outputs": [],
   "source": [
    "print('apricot', 'banana')"
   ]
  },
  {
   "cell_type": "markdown",
   "id": "2594eb1a",
   "metadata": {
    "id": "Tr3wPlHMeBCI"
   },
   "source": [
    "## Exercise 1.2: Hello, world!\n",
    "\n",
    "The classic way to demonstrate a programming language's syntax is the hello world-program. This is the minimal amount of code required to output the text \"Hello, world!\" to the user.  \n",
    "\n",
    "Write a hello world-program for Python."
   ]
  },
  {
   "cell_type": "code",
   "execution_count": null,
   "id": "3dc44475",
   "metadata": {
    "id": "jN7WTVOOSq2C"
   },
   "outputs": [],
   "source": [
    "# Your solution here"
   ]
  },
  {
   "cell_type": "markdown",
   "id": "70d55e26",
   "metadata": {
    "id": "zI0ohEpPUwpC"
   },
   "source": [
    "## Next module\n",
    "\n",
    "[2. Values and expressions](https://colab.research.google.com/drive/1FUicKa-_d5CINVGrHQdwnEpVFZlMbtkA)"
   ]
  }
 ],
 "metadata": {
  "jupytext": {
   "main_language": "python"
  },
  "kernelspec": {
   "display_name": "Python 3",
   "name": "python3"
  }
 },
 "nbformat": 4,
 "nbformat_minor": 5
}
