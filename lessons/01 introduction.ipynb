{
 "cells": [
  {
   "cell_type": "markdown",
   "id": "819b02e7",
   "metadata": {
    "id": "Buvh9v-iYeOO"
   },
   "source": [
    "# Module 1: Introduction\n",
    "## CDH course \"Programming in Python\"\n",
    "\n",
    "[index](https://colab.research.google.com/github/CentreForDigitalHumanities/programming-in-python/blob/main/lessons/00%20index.ipynb)\n",
    "\n",
    "## Welcome!\n",
    "\n",
    "## Who are we?\n",
    "\n",
    "- Developers at the Centre for Digital Humanities (CDH)\n",
    "\n",
    "## Who are you?\n",
    "\n",
    "- Entry level course, no previous experience required\n",
    "- If you have some experience, parts of the course may be familiar. Challenge yourself with some difficult exercises!\n",
    "\n",
    "## Goals\n",
    "\n",
    "- Introduce the basics of the Python programming language\n",
    "- Write simple computer programs\n",
    "- Simple data analysis on your own data\n",
    "- Teach good practices that you can apply to all your future programming, and make you a self-reliant programmer\n",
    "\n",
    "## Colab Notebooks\n",
    "\n",
    "- Runs Python code in your web browser, no installing required\n",
    "- If you do not have a Google account, please make one\n",
    "- Presenting straight from Colab, so you can follow our example\n",
    "- Copy the notebooks to edit them, instructions in exercise 1"
   ]
  },
  {
   "cell_type": "markdown",
   "id": "f0d1721b",
   "metadata": {
    "id": "STQf1EROV-4I"
   },
   "source": [
    "## Python\n",
    "\n",
    "- Programming language\n",
    "- Invented by Guido van Rossum (former Benevolent Dictator For Life) in 1989\n",
    "- *High level*\n",
    "    - Far removed from machine language\n",
    "    - Written in C (slightly lower level)\n",
    "- Designed to be readable\n",
    "- Many versions, currently on major version 3."
   ]
  },
  {
   "cell_type": "markdown",
   "id": "0c994009",
   "metadata": {
    "id": "rC4AwjL06k0q"
   },
   "source": [
    "### Why learn Python?\n",
    "\n",
    "- (Relatively) easy to learn\n",
    "- Widely used\n",
    "    - Easy to install and run on a variety of platforms\n",
    "    - Many resources available\n",
    "- Many good packages and libraries available"
   ]
  },
  {
   "cell_type": "markdown",
   "id": "6544767a",
   "metadata": {
    "id": "xyNb4mPMcQCd"
   },
   "source": [
    "## Notebooks 101\n",
    "\n",
    "Let's get started!"
   ]
  },
  {
   "cell_type": "markdown",
   "id": "7ca74e2b",
   "metadata": {
    "id": "4lc8nYpP9mtf"
   },
   "source": [
    "### Copy a notebook to your own Google Drive\n",
    "\n",
    "You can only run code in this notebook, not edit it. To edit it, you need to copy it to [your own Google Drive](https://drive.google.com) first.\n",
    "\n",
    "To do so, click on the *File* menu and choose the ninth option from the top: *Save a copy in Drive*. You can now find the copy in your drive, in the directory *Colab Notebooks*.\n",
    "\n",
    "Tip: give it a recognizable name (e.g. `Module 1 - my solutions`).\n"
   ]
  },
  {
   "cell_type": "markdown",
   "id": "e1b83b09",
   "metadata": {
    "id": "8zoSNQtC_6_v"
   },
   "source": [
    "### Adjust some settings\n",
    "\n",
    "Open the *Settings*, in the *Tools* menu or by clicking the cogwheel icon in the top right. Open the *Editor* section.\n",
    "\n",
    "- Set *Indentation width in spaces* to **4**.\n",
    "- Switch *Show line numbers* **on**.\n",
    "\n",
    "The other settings are up to you."
   ]
  },
  {
   "cell_type": "markdown",
   "id": "4a10ddc8",
   "metadata": {
    "id": "qtRYKOWnB5Wl"
   },
   "source": [
    "### Execute Python code\n",
    "\n",
    "Press the triangle icon in the top left corner of a code block to run it, *OR* type **ctrl-enter** when the text cursor is in the code block. Type **ctrl-shift-enter** to run only the current line.\n",
    "\n",
    "If you open a notebook for the first time, or if you have not run any code for a while, it takes a while before you see a result."
   ]
  },
  {
   "cell_type": "code",
   "execution_count": null,
   "id": "ff0d040f",
   "metadata": {
    "id": "MdA4_KyrDAsf"
   },
   "outputs": [],
   "source": [
    "print('Hello')\n",
    "print('Goodbye')"
   ]
  },
  {
   "cell_type": "markdown",
   "id": "1d122955",
   "metadata": {
    "id": "AoBoZqIeFEru"
   },
   "source": [
    "## Python 101"
   ]
  },
  {
   "cell_type": "markdown",
   "id": "bdf97b95",
   "metadata": {
    "id": "ZOqgk7VAFKnJ"
   },
   "source": [
    "### `print`\n",
    "\n",
    "In the previous code block, we saw the `print` function in action. It causes Python to \"talk\" to us."
   ]
  },
  {
   "cell_type": "markdown",
   "id": "766c6fbf",
   "metadata": {
    "id": "NOtudpGlFe78"
   },
   "source": [
    "### Values\n",
    "\n",
    "Between the parentheses `( )` of the `print` function, we put the *value* that we want Python to show. We can also write the value without passing it to `print`."
   ]
  },
  {
   "cell_type": "code",
   "execution_count": null,
   "id": "0db29eb3",
   "metadata": {
    "id": "in8WoUafGEyK"
   },
   "outputs": [],
   "source": [
    "'Hello'"
   ]
  },
  {
   "cell_type": "markdown",
   "id": "e2193d33",
   "metadata": {
    "id": "BHQPB7LuQ1mf"
   },
   "source": [
    "A bare value does not always cause output. We will explore this in the first exercise."
   ]
  },
  {
   "cell_type": "markdown",
   "id": "769d2ac3",
   "metadata": {
    "id": "Src0ZdRKGHtl"
   },
   "source": [
    "### Comments\n",
    "\n",
    "A comment starts with a hash `#` and runs until the end of the line. Python ignores comments. You can use them as notes for yourself and for other programmers."
   ]
  },
  {
   "cell_type": "code",
   "execution_count": null,
   "id": "e4efb68d",
   "metadata": {
    "id": "ssP4GWUOIxWS"
   },
   "outputs": [],
   "source": [
    "# Python will not look here!\n",
    "\n",
    "print('Hello') # comments can start after code"
   ]
  },
  {
   "cell_type": "markdown",
   "id": "49a45cfb",
   "metadata": {
    "id": "YxXeF4u5I2c_"
   },
   "source": [
    "Use comments to explain *why* your code was written the way it is. You will be grateful to yourself when you read your own code after a few weeks!"
   ]
  },
  {
   "cell_type": "code",
   "execution_count": null,
   "id": "48fdbbb8",
   "metadata": {
    "id": "nMTlvlbbJUWu"
   },
   "outputs": [],
   "source": [
    "# Useless comment:\n",
    "\n",
    "# Print \"Hello\".\n",
    "print('Hello')\n",
    "\n",
    "# Useful comment:\n",
    "\n",
    "# Everyone writes \"Hello\" in this exercise, but\n",
    "# I prefer something a little bit more British.\n",
    "print('How do you do?')"
   ]
  },
  {
   "cell_type": "markdown",
   "id": "214e3876",
   "metadata": {
    "id": "pKIEfocbMaIR"
   },
   "source": [
    "## Exercise 1.1: Try it out\n",
    "\n",
    "Read each of the code blocks below. Try to predict what it will do, then run the block to check your prediction.\n",
    "\n",
    "Do you see any (subtle or not-so subtle) surprises? Can you explain them?"
   ]
  },
  {
   "cell_type": "code",
   "execution_count": null,
   "id": "d840d893",
   "metadata": {
    "id": "6hlNxRNNM1fV"
   },
   "outputs": [],
   "source": [
    "print(1)\n",
    "1"
   ]
  },
  {
   "cell_type": "code",
   "execution_count": null,
   "id": "a7755686",
   "metadata": {
    "id": "VIm6FdRIM6OE"
   },
   "outputs": [],
   "source": [
    "print('oops')\n",
    "'oops'"
   ]
  },
  {
   "cell_type": "code",
   "execution_count": null,
   "id": "9e7b03d7",
   "metadata": {
    "id": "_MN48xz5NAya"
   },
   "outputs": [],
   "source": [
    "print()"
   ]
  },
  {
   "cell_type": "code",
   "execution_count": null,
   "id": "b55dc4c9",
   "metadata": {
    "id": "g9WKeIA2NVIA"
   },
   "outputs": [],
   "source": [
    "print('apricot')\n",
    "print('banana')\n",
    "print('cherry')"
   ]
  },
  {
   "cell_type": "code",
   "execution_count": null,
   "id": "d2d35736",
   "metadata": {
    "id": "NCbCfbHaNafJ"
   },
   "outputs": [],
   "source": [
    "'apricot'\n",
    "'banana'\n",
    "'cherry'"
   ]
  },
  {
   "cell_type": "code",
   "execution_count": null,
   "id": "9c48e47a",
   "metadata": {
    "id": "-ZuiJ92yNqpi"
   },
   "outputs": [],
   "source": [
    "# apricot\n",
    "# banana\n",
    "# cherry"
   ]
  },
  {
   "cell_type": "code",
   "execution_count": null,
   "id": "eaf61e37",
   "metadata": {
    "id": "b9bTbrNSNwwn"
   },
   "outputs": [],
   "source": [
    "print('apricot')\n",
    "'banana'\n",
    "# cherry"
   ]
  },
  {
   "cell_type": "code",
   "execution_count": null,
   "id": "830a0337",
   "metadata": {
    "id": "GYmcSm6iOAiA"
   },
   "outputs": [],
   "source": [
    "# apricot\n",
    "'banana'\n",
    "print('cherry')"
   ]
  },
  {
   "cell_type": "code",
   "execution_count": null,
   "id": "2a10f441",
   "metadata": {
    "id": "sNNoSfndOSiw"
   },
   "outputs": [],
   "source": [
    "print(#oops)"
   ]
  },
  {
   "cell_type": "code",
   "execution_count": null,
   "id": "16913281",
   "metadata": {
    "id": "6IZS1NUuTdOX"
   },
   "outputs": [],
   "source": [
    "print('apricot', 'banana')"
   ]
  },
  {
   "cell_type": "markdown",
   "id": "16bc9cac",
   "metadata": {
    "id": "Tr3wPlHMeBCI"
   },
   "source": [
    "## Exercise 1.2: Hello, world!\n",
    "\n",
    "The classic way to demonstrate a programming language's syntax is the hello world-program. This is the minimal amount of code required to output the text \"Hello, world!\" to the user.  \n",
    "\n",
    "Write a hello world-program for Python."
   ]
  },
  {
   "cell_type": "code",
   "execution_count": null,
   "id": "b16caa9a",
   "metadata": {
    "id": "jN7WTVOOSq2C"
   },
   "outputs": [],
   "source": [
    "# Your solution here"
   ]
  },
  {
   "cell_type": "markdown",
   "id": "59ffed4f",
   "metadata": {
    "id": "zI0ohEpPUwpC"
   },
   "source": [
    "## Next module\n",
    "\n",
    "[2. Values and expressions](https://colab.research.google.com/github/CentreForDigitalHumanities/programming-in-python/blob/main/lessons/02%20values%20and%20expressions.ipynb)"
   ]
  }
 ],
 "metadata": {
  "jupytext": {
   "cell_metadata_filter": "-all",
   "main_language": "python"
  },
  "kernelspec": {
   "display_name": "Python 3",
   "name": "python3"
  }
 },
 "nbformat": 4,
 "nbformat_minor": 5
}
