{
 "cells": [
  {
   "cell_type": "markdown",
   "metadata": {
    "id": "Buvh9v-iYeOO"
   },
   "source": [
    "# Module 1: Introduction\n",
    "## CDH course \"Programming in Python\"\n",
    "\n",
    "[index](https://colab.research.google.com/drive/1kFvnhumJ0tOTzDVJnIvvMDRRJ19yk9ZS)\n",
    "\n",
    "## Welcome!\n",
    "\n",
    "## Who are we?\n",
    "\n",
    "- Julian Gonggrijp, Sheean Spoel, Edo Storm\n",
    "- Developers at the Centre for Digital Humanities (CDH)\n",
    "\n",
    "## Who are you?\n",
    "\n",
    "- Entry level course, no previous experience required\n",
    "- If you have some experience, parts of the course may be familiar. Challenge yourself with some difficult exercises!\n",
    "\n",
    "## Goals\n",
    "\n",
    "- Introduce the basics of the Python programming language\n",
    "- Write simple computer programs\n",
    "- Simple data analysis on your own data\n",
    "- Teach good practices that you can apply to all your future programming, and make you a self-reliant programmer\n",
    "\n",
    "## Colab Notebooks\n",
    "\n",
    "- Runs Python code in your web browser, no installing required\n",
    "- If you do not have a Google account, please make one\n",
    "- Presenting straight from Colab, so you can follow our example\n",
    "- Copy the notebooks to edit them, instructions in exercise 1"
   ]
  },
  {
   "cell_type": "markdown",
   "metadata": {
    "id": "STQf1EROV-4I"
   },
   "source": [
    "## Python\n",
    "\n",
    "- Programming language\n",
    "- Invented by Guido van Rossum (former Benevolent Dictator For Life) in 1989\n",
    "- *High level*\n",
    "    - Far removed from machine language\n",
    "    - Written in C (slightly lower level)\n",
    "- Designed to be readable\n",
    "- Many versions, currently on major version 3."
   ]
  },
  {
   "cell_type": "markdown",
   "metadata": {
    "id": "rC4AwjL06k0q"
   },
   "source": [
    "### Why learn Python?\n",
    "\n",
    "- (Relatively) easy to learn\n",
    "- Widely used\n",
    "    - Easy to install and run on a variety of platforms\n",
    "    - Many resources available\n",
    "- Many good packages and libraries available"
   ]
  },
  {
   "cell_type": "markdown",
   "metadata": {
    "id": "xyNb4mPMcQCd"
   },
   "source": [
    "## Notebooks 101\n",
    "\n",
    "Let's get started!"
   ]
  },
  {
   "cell_type": "markdown",
   "metadata": {
    "id": "4lc8nYpP9mtf"
   },
   "source": [
    "### Copy a notebook to your own Google Drive\n",
    "\n",
    "You can only run code in this notebook, not edit it. To edit it, you need to copy it to [your own Google Drive](https://drive.google.com) first.\n",
    "\n",
    "To do so, click on the *File* menu and choose the ninth option from the top: *Save a copy in Drive*. You can now find the copy in your drive, in the directory *Colab Notebooks*.\n",
    "\n",
    "Tip: give it a recognizable name (e.g. `Module 1 - my solutions`).\n"
   ]
  },
  {
   "cell_type": "markdown",
   "metadata": {
    "id": "8zoSNQtC_6_v"
   },
   "source": [
    "### Adjust some settings\n",
    "\n",
    "Open the *Settings*, in the *Tools* menu or by clicking the cogwheel icon in the top right. Open the *Editor* section.\n",
    "\n",
    "- Set *Indentation width in spaces* to **4**.\n",
    "- Switch *Show line numbers* **on**.\n",
    "\n",
    "The other settings are up to you."
   ]
  },
  {
   "cell_type": "markdown",
   "metadata": {
    "id": "qtRYKOWnB5Wl"
   },
   "source": [
    "### Execute Python code\n",
    "\n",
    "Press the triangle icon in the top left corner of a code block to run it, *OR* type **ctrl-enter** when the text cursor is in the code block. Type **ctrl-shift-enter** to run only the current line.\n",
    "\n",
    "If you open a notebook for the first time, or if you have not run any code for a while, it takes a while before you see a result."
   ]
  },
  {
   "cell_type": "code",
   "execution_count": null,
   "metadata": {
    "id": "MdA4_KyrDAsf"
   },
   "outputs": [],
   "source": [
    "print('Hello')\n",
    "print('Goodbye')"
   ]
  },
  {
   "cell_type": "markdown",
   "metadata": {
    "id": "AoBoZqIeFEru"
   },
   "source": [
    "## Python 101"
   ]
  },
  {
   "cell_type": "markdown",
   "metadata": {
    "id": "ZOqgk7VAFKnJ"
   },
   "source": [
    "### `print`\n",
    "\n",
    "In the previous code block, we saw the `print` function in action. It causes Python to \"talk\" to us."
   ]
  },
  {
   "cell_type": "markdown",
   "metadata": {
    "id": "NOtudpGlFe78"
   },
   "source": [
    "### Values\n",
    "\n",
    "Between the parentheses `( )` of the `print` function, we put the *value* that we want Python to show. We can also write the value without passing it to `print`."
   ]
  },
  {
   "cell_type": "code",
   "execution_count": null,
   "metadata": {
    "id": "in8WoUafGEyK"
   },
   "outputs": [],
   "source": [
    "'Hello'"
   ]
  },
  {
   "cell_type": "markdown",
   "metadata": {
    "id": "BHQPB7LuQ1mf"
   },
   "source": [
    "A bare value does not always cause output. We will explore this in the first exercise."
   ]
  },
  {
   "cell_type": "markdown",
   "metadata": {
    "id": "Src0ZdRKGHtl"
   },
   "source": [
    "### Comments\n",
    "\n",
    "A comment starts with a hash `#` and runs until the end of the line. Python ignores comments. You can use them as notes for yourself and for other programmers."
   ]
  },
  {
   "cell_type": "code",
   "execution_count": null,
   "metadata": {
    "id": "ssP4GWUOIxWS"
   },
   "outputs": [],
   "source": [
    "# Python will not look here!\n",
    "\n",
    "print('Hello') # comments can start after code"
   ]
  },
  {
   "cell_type": "markdown",
   "metadata": {
    "id": "YxXeF4u5I2c_"
   },
   "source": [
    "Use comments to explain *why* your code was written the way it is. You will be grateful to yourself when you read your own code after a few weeks!"
   ]
  },
  {
   "cell_type": "code",
   "execution_count": null,
   "metadata": {
    "id": "nMTlvlbbJUWu"
   },
   "outputs": [],
   "source": [
    "# Useless comment:\n",
    "\n",
    "# Print \"Hello\".\n",
    "print('Hello')\n",
    "\n",
    "# Useful comment:\n",
    "\n",
    "# Everyone writes \"Hello\" in this exercise, but\n",
    "# I prefer something a little bit more British.\n",
    "print('How do you do?')"
   ]
  },
  {
   "cell_type": "markdown",
   "metadata": {
    "id": "pKIEfocbMaIR"
   },
   "source": [
    "## Exercise 1.1: Try it out\n",
    "\n",
    "Read each of the code blocks below. Try to predict what it will do, then run the block to check your prediction.\n",
    "\n",
    "Do you see any (subtle or not-so subtle) surprises? Can you explain them?"
   ]
  },
  {
   "cell_type": "code",
   "execution_count": null,
   "metadata": {
    "id": "6hlNxRNNM1fV"
   },
   "outputs": [],
   "source": [
    "print(1)\n",
    "1"
   ]
  },
  {
   "cell_type": "code",
   "execution_count": null,
   "metadata": {
    "id": "VIm6FdRIM6OE"
   },
   "outputs": [],
   "source": [
    "print('oops')\n",
    "'oops'"
   ]
  },
  {
   "cell_type": "code",
   "execution_count": null,
   "metadata": {
    "id": "_MN48xz5NAya"
   },
   "outputs": [],
   "source": [
    "print()"
   ]
  },
  {
   "cell_type": "code",
   "execution_count": null,
   "metadata": {
    "id": "g9WKeIA2NVIA"
   },
   "outputs": [],
   "source": [
    "print('apricot')\n",
    "print('banana')\n",
    "print('cherry')"
   ]
  },
  {
   "cell_type": "code",
   "execution_count": null,
   "metadata": {
    "id": "NCbCfbHaNafJ"
   },
   "outputs": [],
   "source": [
    "'apricot'\n",
    "'banana'\n",
    "'cherry'"
   ]
  },
  {
   "cell_type": "code",
   "execution_count": null,
   "metadata": {
    "id": "-ZuiJ92yNqpi"
   },
   "outputs": [],
   "source": [
    "# apricot\n",
    "# banana\n",
    "# cherry"
   ]
  },
  {
   "cell_type": "code",
   "execution_count": null,
   "metadata": {
    "id": "b9bTbrNSNwwn"
   },
   "outputs": [],
   "source": [
    "print('apricot')\n",
    "'banana'\n",
    "# cherry"
   ]
  },
  {
   "cell_type": "code",
   "execution_count": null,
   "metadata": {
    "id": "GYmcSm6iOAiA"
   },
   "outputs": [],
   "source": [
    "# apricot\n",
    "'banana'\n",
    "print('cherry')"
   ]
  },
  {
   "cell_type": "code",
   "execution_count": null,
   "metadata": {
    "id": "sNNoSfndOSiw"
   },
   "outputs": [],
   "source": [
    "print(#oops)"
   ]
  },
  {
   "cell_type": "code",
   "execution_count": null,
   "metadata": {
    "id": "6IZS1NUuTdOX"
   },
   "outputs": [],
   "source": [
    "print('apricot', 'banana')"
   ]
  },
  {
   "cell_type": "markdown",
   "metadata": {
    "id": "Tr3wPlHMeBCI"
   },
   "source": [
    "## Exercise 1.2: Hello, world!\n",
    "\n",
    "The classic way to demonstrate a programming language's syntax is the hello world-program. This is the minimal amount of code required to output the text \"Hello, world!\" to the user.  \n",
    "\n",
    "Write a hello world-program for Python."
   ]
  },
  {
   "cell_type": "code",
   "execution_count": null,
   "metadata": {
    "id": "jN7WTVOOSq2C"
   },
   "outputs": [],
   "source": [
    "# Your solution here"
   ]
  },
  {
   "cell_type": "markdown",
   "metadata": {
    "id": "zI0ohEpPUwpC"
   },
   "source": [
    "## Next module\n",
    "\n",
    "[2. Values and expressions](https://colab.research.google.com/drive/1FDQgdJabqIr2sZd1PNchJ_CKGefOrPE_)"
   ]
  }
 ],
 "metadata": {
  "colab": {
   "provenance": [],
   "toc_visible": true
  },
  "kernelspec": {
   "display_name": "Python 3",
   "name": "python3"
  },
  "language_info": {
   "name": "python"
  }
 },
 "nbformat": 4,
 "nbformat_minor": 0
}
