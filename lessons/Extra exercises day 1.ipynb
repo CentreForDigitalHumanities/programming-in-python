{
 "cells": [
  {
   "cell_type": "markdown",
   "id": "4061047d",
   "metadata": {},
   "source": [
    "Here are some additional exercises for the day 1 modules!"
   ]
  },
  {
   "cell_type": "markdown",
   "id": "08bece4c",
   "metadata": {},
   "source": [
    "# Types\n",
    "## Exercise A\n",
    "useful for after 1.4\n",
    "\n",
    "1. Create one variable each for every following type (replace None with an example):\n",
    " - Integer (`int`)\n",
    " - Floating point (`float`)\n",
    " - Boolean (`bool`)\n",
    " - String (`str`)"
   ]
  },
  {
   "cell_type": "code",
   "execution_count": null,
   "id": "30f262d2",
   "metadata": {},
   "outputs": [],
   "source": [
    "example_int = None\n",
    "example_float = None\n",
    "example_bool = None\n",
    "example_string = None"
   ]
  },
  {
   "cell_type": "markdown",
   "id": "cb3aaec7",
   "metadata": {},
   "source": [
    "Did you know that you can check the type of a variable in Python? If you are ever unsure of the type of a variable, use the `type()` function to check, e.g.:"
   ]
  },
  {
   "cell_type": "code",
   "execution_count": null,
   "id": "efb0a922",
   "metadata": {},
   "outputs": [],
   "source": [
    "print(type(1))\n",
    "print(type(1.0))\n",
    "print(type(False))\n",
    "print(type('one'))"
   ]
  },
  {
   "cell_type": "markdown",
   "id": "a5f6e8b6",
   "metadata": {},
   "source": [
    "2. Now try and check the types of the examples you just declared using the method above:"
   ]
  },
  {
   "cell_type": "code",
   "execution_count": null,
   "id": "eeec45f3",
   "metadata": {},
   "outputs": [],
   "source": [
    "## Space for exercise"
   ]
  },
  {
   "cell_type": "markdown",
   "id": "9c0aa6d0",
   "metadata": {},
   "source": [
    "Python is a 'dynamically typed' language, which means that the type of a variable can vary based on its context or user coercion. For example, you can coerce an integer to a float by declaring:"
   ]
  },
  {
   "cell_type": "code",
   "execution_count": null,
   "id": "619fb196",
   "metadata": {},
   "outputs": [],
   "source": [
    "example_integer = 2  # declare example integer\n",
    "print(example_integer, type(example_integer)) #print the integer and its type\n",
    "\n",
    "coerced_float = float(example_integer)\n",
    "print(coerced_float, type(coerced_float))"
   ]
  },
  {
   "cell_type": "markdown",
   "id": "b1838d62",
   "metadata": {},
   "source": [
    "You can coerce these types manually or Python sometimes does it automatically, for example when you try and execute operations on a variable that requires a certain type. For instance, if you try to add the integer and float above, the result of that operation will be a float. Python automatically coerces the integer to a float to complete the addition.\n",
    "\n",
    "3. For this exercise, try to perform some operations on these variables below. Which types can be automatically added together? And what type is the result of their operation? What happens when you try a different operation, such as subtraction?"
   ]
  },
  {
   "cell_type": "code",
   "execution_count": null,
   "id": "6503f50d",
   "metadata": {},
   "outputs": [],
   "source": [
    "ex_int = 1\n",
    "ex_float = 2.0\n",
    "ex_string = 'three'\n",
    "ex_bool = True\n",
    "\n",
    "ex_result = ex_int + ex_float  # example operation\n",
    "print(ex_result, type(ex_result))"
   ]
  },
  {
   "cell_type": "markdown",
   "id": "76e0d2c3",
   "metadata": {},
   "source": [
    "# Lists\n",
    "## Exercise B\n",
    "Let's make some lists! \n",
    "1. Start by declaring an empty list (`empty_list = []`)."
   ]
  },
  {
   "cell_type": "code",
   "execution_count": null,
   "id": "5ce8c9e0",
   "metadata": {},
   "outputs": [],
   "source": [
    "my_list = None"
   ]
  },
  {
   "cell_type": "markdown",
   "id": "8b12938e",
   "metadata": {},
   "source": [
    "You can check the length of the list with the `len()` function:"
   ]
  },
  {
   "cell_type": "code",
   "execution_count": null,
   "id": "cc261c2c",
   "metadata": {},
   "outputs": [],
   "source": [
    "print(len(my_list))"
   ]
  },
  {
   "cell_type": "markdown",
   "id": "0188bf0b",
   "metadata": {},
   "source": [
    "2. Now, add some elements to your list. Then check the length of the list again!"
   ]
  },
  {
   "cell_type": "code",
   "execution_count": null,
   "id": "468a17a6",
   "metadata": {},
   "outputs": [],
   "source": [
    "## Space for exercise"
   ]
  },
  {
   "cell_type": "markdown",
   "id": "db878778",
   "metadata": {},
   "source": [
    "# Loops\n",
    "## Exercise C"
   ]
  },
  {
   "cell_type": "markdown",
   "id": "cad4b96e",
   "metadata": {},
   "source": [
    "1. Now that you have your list, let's walk through it and print every element in it. Hint: use the `for` loop."
   ]
  },
  {
   "cell_type": "code",
   "execution_count": null,
   "id": "089a013e",
   "metadata": {},
   "outputs": [],
   "source": [
    "## Space for exercise"
   ]
  },
  {
   "cell_type": "markdown",
   "id": "46fb2110",
   "metadata": {},
   "source": [
    "2. Instead of simply printing the elements, see if you can print the result of an operation with each element (for example, print the element + 1). Alternatively, see if you can print the type of each element in the list."
   ]
  },
  {
   "cell_type": "code",
   "execution_count": null,
   "id": "027c0967",
   "metadata": {},
   "outputs": [],
   "source": [
    "## Space for exercise"
   ]
  },
  {
   "cell_type": "markdown",
   "id": "86e722db",
   "metadata": {},
   "source": [
    "# Logical Operators\n",
    "## Exercise D\n",
    "Python allows the use of several logical operators, so to get you in the mindset of a computer, see if you can determine whether an expression is going to return `True` or `False`. After you have given your answer, run the code in the cell to see if you were correct!"
   ]
  },
  {
   "cell_type": "code",
   "execution_count": null,
   "id": "e56ae98f",
   "metadata": {},
   "outputs": [],
   "source": [
    "# Declaration of the variables used in the exercise\n",
    "n1 = 1\n",
    "n2 = 2\n",
    "n3 = 3.4\n",
    "n4 = 4.5\n",
    "s1 = 'Hello'\n",
    "s2 = 'World'\n",
    "s3 = 'Hallo'\n",
    "s4 = 'Wereld'\n",
    "l1 = [n1, n2, n3, n4]\n",
    "l2 = [s1, s2, s3, s4]"
   ]
  },
  {
   "cell_type": "code",
   "execution_count": null,
   "id": "87d02cf8",
   "metadata": {},
   "outputs": [],
   "source": [
    "#Example 1\n",
    "n1 == n2"
   ]
  },
  {
   "cell_type": "markdown",
   "id": "6ec3100e",
   "metadata": {},
   "source": [
    "True or False?"
   ]
  },
  {
   "cell_type": "code",
   "execution_count": null,
   "id": "72d38e5e",
   "metadata": {},
   "outputs": [],
   "source": [
    "#Example 2\n",
    "n1 + n2 == 3"
   ]
  },
  {
   "cell_type": "code",
   "execution_count": null,
   "id": "fd57ece2",
   "metadata": {},
   "outputs": [],
   "source": [
    "#Example 3\n",
    "n1 + n3 != 3.4"
   ]
  },
  {
   "cell_type": "markdown",
   "id": "b83ea357",
   "metadata": {},
   "source": [
    "True or False?"
   ]
  },
  {
   "cell_type": "code",
   "execution_count": null,
   "id": "17e57395",
   "metadata": {},
   "outputs": [],
   "source": [
    "#Example 4\n",
    "s1 + s2 == \"Hello World\""
   ]
  },
  {
   "cell_type": "markdown",
   "id": "70959bda",
   "metadata": {},
   "source": [
    "True or False?"
   ]
  },
  {
   "cell_type": "code",
   "execution_count": null,
   "id": "3e029a6d",
   "metadata": {},
   "outputs": [],
   "source": [
    "#Example 5\n",
    "s3 == \"hallo\""
   ]
  },
  {
   "cell_type": "markdown",
   "id": "1d9359a8",
   "metadata": {},
   "source": [
    "True or False?"
   ]
  },
  {
   "cell_type": "code",
   "execution_count": null,
   "id": "76cd310b",
   "metadata": {},
   "outputs": [],
   "source": [
    "#Example 6\n",
    "len(l1) == len(l2)"
   ]
  },
  {
   "cell_type": "markdown",
   "id": "e2273efc",
   "metadata": {},
   "source": [
    "True or False?"
   ]
  },
  {
   "cell_type": "code",
   "execution_count": null,
   "id": "48632cf8",
   "metadata": {},
   "outputs": [],
   "source": [
    "#Example 7\n",
    "len(s3) == len(s1)"
   ]
  },
  {
   "cell_type": "code",
   "execution_count": null,
   "id": "118705dc",
   "metadata": {},
   "outputs": [],
   "source": [
    "##Example 8\n",
    "for item in l2:\n",
    "    print(len(item) == 5)"
   ]
  }
 ],
 "metadata": {
  "jupytext": {
   "cell_metadata_filter": "-all"
  },
  "kernelspec": {
   "display_name": "Python 3",
   "language": "python",
   "name": "python3"
  }
 },
 "nbformat": 4,
 "nbformat_minor": 5
}
