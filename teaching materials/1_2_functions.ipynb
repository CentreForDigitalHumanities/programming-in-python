{
  "nbformat": 4,
  "nbformat_minor": 0,
  "metadata": {
    "colab": {
      "name": "Functions.ipynb",
      "provenance": []
    },
    "kernelspec": {
      "name": "python3",
      "display_name": "Python 3"
    },
    "language_info": {
      "name": "python"
    }
  },
  "cells": [
    {
      "cell_type": "code",
      "metadata": {
        "id": "aK5-pZuG6KGP",
        "colab": {
          "base_uri": "https://localhost:8080/"
        },
        "outputId": "137f10ac-c515-4cb2-cec8-197d1705f3a8"
      },
      "source": [
        "print(' ' * 3 + '*' * 1)\n",
        "print(' ' * 2 + '*' * 3)\n",
        "print(' ' * 1 + '*' * 5)\n",
        "print(' ' * 0 + '*' * 7)"
      ],
      "execution_count": null,
      "outputs": [
        {
          "output_type": "stream",
          "name": "stdout",
          "text": [
            "  *\n",
            " ***\n",
            "*****\n",
            "*******\n"
          ]
        }
      ]
    },
    {
      "cell_type": "code",
      "metadata": {
        "id": "8VJ7_bvx_B3P",
        "colab": {
          "base_uri": "https://localhost:8080/",
          "height": 35
        },
        "outputId": "90649abf-d87c-48b7-bc4a-4f81fe819e99"
      },
      "source": [
        "def centered_stars(center, width):\n",
        "    half_width = width // 2\n",
        "    padding = center - half_width\n",
        "    return ' ' * padding + '*' * width\n",
        "\n",
        "centered_stars(3, 5)"
      ],
      "execution_count": null,
      "outputs": [
        {
          "output_type": "execute_result",
          "data": {
            "application/vnd.google.colaboratory.intrinsic+json": {
              "type": "string"
            },
            "text/plain": [
              "' *****'"
            ]
          },
          "metadata": {},
          "execution_count": 8
        }
      ]
    },
    {
      "cell_type": "code",
      "metadata": {
        "id": "GjGFmJU3AX9U",
        "colab": {
          "base_uri": "https://localhost:8080/"
        },
        "outputId": "2d7ce865-f64c-400d-fb99-80d5967820dc"
      },
      "source": [
        "print(centered_stars(2, 1))\n",
        "print(centered_stars(2, 3))\n",
        "print(centered_stars(2, 5))"
      ],
      "execution_count": null,
      "outputs": [
        {
          "output_type": "stream",
          "name": "stdout",
          "text": [
            "  *\n",
            " ***\n",
            "*****\n"
          ]
        }
      ]
    },
    {
      "cell_type": "code",
      "metadata": {
        "id": "Jwfbo50wBLfF",
        "colab": {
          "base_uri": "https://localhost:8080/"
        },
        "outputId": "059e8dbc-39e4-4dea-cbc4-c94c2d41b5d0"
      },
      "source": [
        "widths = list(range(1, 6, 2))\n",
        "for width in widths:\n",
        "    print(centered_stars(2, width))"
      ],
      "execution_count": null,
      "outputs": [
        {
          "output_type": "stream",
          "name": "stdout",
          "text": [
            "  *\n",
            " ***\n",
            "*****\n"
          ]
        }
      ]
    },
    {
      "cell_type": "code",
      "metadata": {
        "id": "NOo4cSHXDsUM",
        "colab": {
          "base_uri": "https://localhost:8080/",
          "height": 789
        },
        "outputId": "2e65679e-db57-4b4a-d33a-a7a1cfdc1073"
      },
      "source": [
        "def triangle(height, center=None):\n",
        "    import pdb; pdb.set_trace()\n",
        "    widths = list(range(1, height * 2, 2))\n",
        "    if center == None:\n",
        "        center = height - 1\n",
        "    lines = []\n",
        "    for width in widths:\n",
        "        lines.append(centered_stars(center, width))\n",
        "    return '\\n'.join(lines)\n",
        "\n",
        "triangle(3)"
      ],
      "execution_count": null,
      "outputs": [
        {
          "name": "stdout",
          "output_type": "stream",
          "text": [
            "> <ipython-input-27-8cf5840eaf6a>(3)triangle()\n",
            "-> widths = list(range(1, height * 2, 2))\n",
            "(Pdb) n\n",
            "> <ipython-input-27-8cf5840eaf6a>(4)triangle()\n",
            "-> if center == None:\n",
            "(Pdb) \n",
            "> <ipython-input-27-8cf5840eaf6a>(5)triangle()\n",
            "-> center = height - 1\n",
            "(Pdb) \n",
            "> <ipython-input-27-8cf5840eaf6a>(6)triangle()\n",
            "-> lines = []\n",
            "(Pdb) \n",
            "> <ipython-input-27-8cf5840eaf6a>(7)triangle()\n",
            "-> for width in widths:\n",
            "(Pdb) \n",
            "> <ipython-input-27-8cf5840eaf6a>(8)triangle()\n",
            "-> lines.append(centered_stars(center, width))\n",
            "(Pdb) s\n",
            "--Call--\n",
            "> <ipython-input-8-ae6963fed634>(1)centered_stars()\n",
            "-> def centered_stars(center, width):\n",
            "(Pdb) \n",
            "> <ipython-input-8-ae6963fed634>(2)centered_stars()\n",
            "-> half_width = width // 2\n",
            "(Pdb) p width\n",
            "1\n",
            "(Pdb) p center\n",
            "2\n",
            "(Pdb) n\n",
            "> <ipython-input-8-ae6963fed634>(3)centered_stars()\n",
            "-> padding = center - half_width\n",
            "(Pdb) p half_width\n",
            "0\n",
            "(Pdb) n\n",
            "> <ipython-input-8-ae6963fed634>(4)centered_stars()\n",
            "-> return ' ' * padding + '*' * width\n",
            "(Pdb) p padding\n",
            "2\n",
            "(Pdb) p ' ' * padding + '*' * width\n",
            "'  *'\n",
            "(Pdb) u\n",
            "> <ipython-input-27-8cf5840eaf6a>(8)triangle()\n",
            "-> lines.append(centered_stars(center, width))\n",
            "(Pdb) c\n"
          ]
        },
        {
          "output_type": "execute_result",
          "data": {
            "application/vnd.google.colaboratory.intrinsic+json": {
              "type": "string"
            },
            "text/plain": [
              "'  *\\n ***\\n*****'"
            ]
          },
          "metadata": {},
          "execution_count": 27
        }
      ]
    },
    {
      "cell_type": "code",
      "metadata": {
        "colab": {
          "base_uri": "https://localhost:8080/"
        },
        "id": "rpqUgX6-foDt",
        "outputId": "5c7da72b-38e4-4897-ffac-a15163d4aa50"
      },
      "source": [
        "TRIANGLE_ALIGN_COLUMN = 0\n",
        "\n",
        "print(triangle(height=15, center=TRIANGLE_ALIGN_COLUMN))\n",
        "\n",
        "print(triangle(6, TRIANGLE_ALIGN_COLUMN))\n",
        "\n",
        "print(triangle(20, TRIANGLE_ALIGN_COLUMN))"
      ],
      "execution_count": null,
      "outputs": [
        {
          "output_type": "stream",
          "name": "stdout",
          "text": [
            "*\n",
            "***\n",
            "*****\n",
            "*******\n",
            "*********\n",
            "***********\n",
            "*************\n",
            "***************\n",
            "*****************\n",
            "*******************\n",
            "*********************\n",
            "***********************\n",
            "*************************\n",
            "***************************\n",
            "*****************************\n",
            "*\n",
            "***\n",
            "*****\n",
            "*******\n",
            "*********\n",
            "***********\n",
            "*\n",
            "***\n",
            "*****\n",
            "*******\n",
            "*********\n",
            "***********\n",
            "*************\n",
            "***************\n",
            "*****************\n",
            "*******************\n",
            "*********************\n",
            "***********************\n",
            "*************************\n",
            "***************************\n",
            "*****************************\n",
            "*******************************\n",
            "*********************************\n",
            "***********************************\n",
            "*************************************\n",
            "***************************************\n"
          ]
        }
      ]
    }
  ]
}