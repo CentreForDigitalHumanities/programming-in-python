{
  "nbformat": 4,
  "nbformat_minor": 0,
  "metadata": {
    "colab": {
      "name": "Functions-cheatsheet.ipynb",
      "provenance": []
    },
    "kernelspec": {
      "name": "python3",
      "display_name": "Python 3"
    },
    "language_info": {
      "name": "python"
    }
  },
  "cells": [
    {
      "cell_type": "markdown",
      "metadata": {
        "id": "K10hhF1isHEh"
      },
      "source": [
        "# Functions cheatsheet\n",
        "\n",
        "## Defining a function\n",
        "\n",
        "```python\n",
        "def function_name(parameter1, parameter2):\n",
        "    # Statements that involve the parameters here.\n",
        "    # Variables defined here are only visible inside\n",
        "    # the function.\n",
        "    return # Expression with the end result here.\n",
        "```\n",
        "\n",
        "## Calling a function\n",
        "\n",
        "```python\n",
        "a_variable = function_name(argument1, argument2)\n",
        "```\n",
        "\n",
        "## Optional parameters\n",
        "\n",
        "```python\n",
        "# When defining the function\n",
        "def function_name(required, optional=None):\n",
        "    if optional is None:\n",
        "        optional = # Insert expression here.\n",
        "    # Rest of function body.\n",
        "\n",
        "# When calling the function,\n",
        "# ... including only the required parameter:\n",
        "function_name(argument1)\n",
        "# ... including the required and the optional parameter:\n",
        "function_name(argument1, argument2)\n",
        "```\n",
        "\n",
        "## Named arguments\n",
        "\n",
        "- Let you pass one optional argument while skipping many others.\n",
        "- Let you pass arguments in a different order.\n",
        "\n",
        "```python\n",
        "function_name(named_parameter=argument)\n",
        "```\n",
        "\n",
        "## Constants\n",
        "\n",
        "```python\n",
        "# Place this at the top of your program.\n",
        "CONSTANT_NAME = 'value of the constant'\n",
        "# Everywhere in your program, use CONSTANT_NAME instead\n",
        "# of the literal 'value of the constant'.\n",
        "# The value of CONSTANT_NAME must never change.\n",
        "```\n",
        "\n",
        "## Setting a breakpoint\n",
        "\n",
        "```python\n",
        "import pdb; pdb.set_trace()\n",
        "```\n",
        "\n",
        "## Debugger commands\n",
        "\n",
        "```\n",
        "p <name> - print the value of the named variable\n",
        "n        - go to next line\n",
        "s        - step into next function call\n",
        "u        - continue until the current function returns\n",
        "c        - continue until the next breakpoint, or until the program ends\n",
        "q        - stop now without finishing the program\n",
        "h        - help, overview of commands\n",
        "```"
      ]
    },
    {
      "cell_type": "code",
      "metadata": {
        "id": "syk7ykOQiAZ7"
      },
      "source": [
        ""
      ],
      "execution_count": null,
      "outputs": []
    }
  ]
}