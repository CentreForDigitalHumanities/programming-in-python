{
 "cells": [
  {
   "cell_type": "markdown",
   "metadata": {
    "id": "Buvh9v-iYeOO"
   },
   "source": [
    "# Module 1: Introduction\n",
    "\n",
    "## Exercise solutions\n",
    "\n",
    "[Module 1](https://colab.research.google.com/drive/1i4wJpUIr77Fh1renWNjt00Bd51NbC1nB)\n",
    "\n",
    "## CDH course \"Programming in Python\"\n",
    "\n",
    "[index](https://colab.research.google.com/drive/1s05aR4wn2dU1C3se1oXfqKz2EY5ilrno)"
   ]
  },
  {
   "cell_type": "markdown",
   "metadata": {
    "id": "pKIEfocbMaIR"
   },
   "source": [
    "## Exercise 1.1: Try it out"
   ]
  },
  {
   "cell_type": "code",
   "execution_count": 4,
   "metadata": {
    "colab": {
     "base_uri": "https://localhost:8080/"
    },
    "executionInfo": {
     "elapsed": 213,
     "status": "ok",
     "timestamp": 1680706108778,
     "user": {
      "displayName": "Julian Gonggrijp",
      "userId": "06467962548183964912"
     },
     "user_tz": -120
    },
    "id": "6hlNxRNNM1fV",
    "outputId": "1e442ffe-2c24-468e-8f23-4dde9dae23ad"
   },
   "outputs": [
    {
     "name": "stdout",
     "output_type": "stream",
     "text": [
      "1\n"
     ]
    },
    {
     "data": {
      "text/plain": [
       "1"
      ]
     },
     "execution_count": 4,
     "metadata": {},
     "output_type": "execute_result"
    }
   ],
   "source": [
    "print(1)\n",
    "1"
   ]
  },
  {
   "cell_type": "code",
   "execution_count": 1,
   "metadata": {
    "colab": {
     "base_uri": "https://localhost:8080/",
     "height": 52
    },
    "executionInfo": {
     "elapsed": 7,
     "status": "ok",
     "timestamp": 1680705583794,
     "user": {
      "displayName": "Julian Gonggrijp",
      "userId": "06467962548183964912"
     },
     "user_tz": -120
    },
    "id": "VIm6FdRIM6OE",
    "outputId": "14982304-6483-4d06-f313-134443868ad9"
   },
   "outputs": [
    {
     "name": "stdout",
     "output_type": "stream",
     "text": [
      "oops\n"
     ]
    },
    {
     "data": {
      "application/vnd.google.colaboratory.intrinsic+json": {
       "type": "string"
      },
      "text/plain": [
       "'oops'"
      ]
     },
     "execution_count": 1,
     "metadata": {},
     "output_type": "execute_result"
    }
   ],
   "source": [
    "print('oops')\n",
    "'oops'"
   ]
  },
  {
   "cell_type": "markdown",
   "metadata": {
    "id": "Yz1P17hS3Dnj"
   },
   "source": [
    "The slight surprise in the above output is that `'oops'` is first printed without quotes, and then with quotes. `print` is meant to present data in a human-friendly way, so it strips quotes from text values (which we call strings). Bare values, on the other hand, are shown in the way in which you would type them into Python."
   ]
  },
  {
   "cell_type": "code",
   "execution_count": 2,
   "metadata": {
    "colab": {
     "base_uri": "https://localhost:8080/"
    },
    "executionInfo": {
     "elapsed": 226,
     "status": "ok",
     "timestamp": 1680705926915,
     "user": {
      "displayName": "Julian Gonggrijp",
      "userId": "06467962548183964912"
     },
     "user_tz": -120
    },
    "id": "_MN48xz5NAya",
    "outputId": "58a646e7-26cf-4eed-97fd-37bd06d300f1"
   },
   "outputs": [
    {
     "name": "stdout",
     "output_type": "stream",
     "text": [
      "\n"
     ]
    }
   ],
   "source": [
    "print()"
   ]
  },
  {
   "cell_type": "markdown",
   "metadata": {
    "id": "yP3jC8AZ4Kyk"
   },
   "source": [
    "You are allowed to call `print` without any value. This prints a newline."
   ]
  },
  {
   "cell_type": "code",
   "execution_count": 5,
   "metadata": {
    "colab": {
     "base_uri": "https://localhost:8080/"
    },
    "executionInfo": {
     "elapsed": 222,
     "status": "ok",
     "timestamp": 1680706112032,
     "user": {
      "displayName": "Julian Gonggrijp",
      "userId": "06467962548183964912"
     },
     "user_tz": -120
    },
    "id": "g9WKeIA2NVIA",
    "outputId": "e9ca8138-4998-47b1-e2c9-3332e4e968e5"
   },
   "outputs": [
    {
     "name": "stdout",
     "output_type": "stream",
     "text": [
      "apricot\n",
      "banana\n",
      "cherry\n"
     ]
    }
   ],
   "source": [
    "print('apricot')\n",
    "print('banana')\n",
    "print('cherry')"
   ]
  },
  {
   "cell_type": "code",
   "execution_count": null,
   "metadata": {
    "colab": {
     "base_uri": "https://localhost:8080/",
     "height": 38
    },
    "executionInfo": {
     "elapsed": 237,
     "status": "ok",
     "timestamp": 1680597375941,
     "user": {
      "displayName": "Julian Gonggrijp",
      "userId": "06467962548183964912"
     },
     "user_tz": -120
    },
    "id": "NCbCfbHaNafJ",
    "outputId": "db68067b-3cba-4534-ea4d-f22b424fd253"
   },
   "outputs": [
    {
     "data": {
      "application/vnd.google.colaboratory.intrinsic+json": {
       "type": "string"
      },
      "text/plain": [
       "'cherry'"
      ]
     },
     "execution_count": 7,
     "metadata": {},
     "output_type": "execute_result"
    }
   ],
   "source": [
    "'apricot'\n",
    "'banana'\n",
    "'cherry'"
   ]
  },
  {
   "cell_type": "markdown",
   "metadata": {
    "id": "snD4bhFA4VTx"
   },
   "source": [
    "Normally, a bare value by itself is never shown. It is a special \"service\" of notebooks that the last value in a code block is shown. This is why we see only `'cherry'` and not `'apricot'` or `'banana'`."
   ]
  },
  {
   "cell_type": "code",
   "execution_count": 3,
   "metadata": {
    "executionInfo": {
     "elapsed": 223,
     "status": "ok",
     "timestamp": 1680706039219,
     "user": {
      "displayName": "Julian Gonggrijp",
      "userId": "06467962548183964912"
     },
     "user_tz": -120
    },
    "id": "-ZuiJ92yNqpi"
   },
   "outputs": [],
   "source": [
    "# apricot\n",
    "# banana\n",
    "# cherry"
   ]
  },
  {
   "cell_type": "markdown",
   "metadata": {
    "id": "qYUevKdW4uEc"
   },
   "source": [
    "Python ignores comments. From the perspective of Python, this code block is empty, so there is no output."
   ]
  },
  {
   "cell_type": "code",
   "execution_count": 6,
   "metadata": {
    "colab": {
     "base_uri": "https://localhost:8080/",
     "height": 52
    },
    "executionInfo": {
     "elapsed": 185,
     "status": "ok",
     "timestamp": 1680706115343,
     "user": {
      "displayName": "Julian Gonggrijp",
      "userId": "06467962548183964912"
     },
     "user_tz": -120
    },
    "id": "b9bTbrNSNwwn",
    "outputId": "7229da45-10dc-4df7-9f14-d1c91b2f639f"
   },
   "outputs": [
    {
     "name": "stdout",
     "output_type": "stream",
     "text": [
      "apricot\n"
     ]
    },
    {
     "data": {
      "application/vnd.google.colaboratory.intrinsic+json": {
       "type": "string"
      },
      "text/plain": [
       "'banana'"
      ]
     },
     "execution_count": 6,
     "metadata": {},
     "output_type": "execute_result"
    }
   ],
   "source": [
    "print('apricot')\n",
    "'banana'\n",
    "# cherry"
   ]
  },
  {
   "cell_type": "code",
   "execution_count": null,
   "metadata": {
    "colab": {
     "base_uri": "https://localhost:8080/"
    },
    "executionInfo": {
     "elapsed": 15,
     "status": "ok",
     "timestamp": 1680597832375,
     "user": {
      "displayName": "Julian Gonggrijp",
      "userId": "06467962548183964912"
     },
     "user_tz": -120
    },
    "id": "GYmcSm6iOAiA",
    "outputId": "13ce5d1a-2a9f-44e2-cb38-4736ed7db735"
   },
   "outputs": [
    {
     "name": "stdout",
     "output_type": "stream",
     "text": [
      "cherry\n"
     ]
    }
   ],
   "source": [
    "# apricot\n",
    "'banana'\n",
    "print('cherry')"
   ]
  },
  {
   "cell_type": "markdown",
   "metadata": {
    "id": "Nk_csoK1456t"
   },
   "source": [
    "`'banana'` is not the last value in the code block, so it is not shown. `print('cherry')` has no value of itself (although it causes output); this is why we see only `cherry` and not this:\n",
    "\n",
    "```\n",
    "cherry\n",
    "'cherry'\n",
    "```"
   ]
  },
  {
   "cell_type": "code",
   "execution_count": null,
   "metadata": {
    "colab": {
     "base_uri": "https://localhost:8080/"
    },
    "executionInfo": {
     "elapsed": 292,
     "status": "ok",
     "timestamp": 1680598076019,
     "user": {
      "displayName": "Julian Gonggrijp",
      "userId": "06467962548183964912"
     },
     "user_tz": -120
    },
    "id": "rbjHe9KbOzFb",
    "outputId": "9491cf85-fc36-4d10-dba3-b32ea38d8cdf"
   },
   "outputs": [
    {
     "name": "stdout",
     "output_type": "stream",
     "text": [
      "apricot\n"
     ]
    }
   ],
   "source": [
    "print('apricot')\n",
    "'banana'\n",
    "pass"
   ]
  },
  {
   "cell_type": "markdown",
   "metadata": {
    "id": "S9Jrnq4E5qPX"
   },
   "source": [
    "`'banana'` is not shown here, because it is not the last value in the code block. While `pass` does not do anything, Python still considers it code. It is not ignored like a comment."
   ]
  },
  {
   "cell_type": "code",
   "execution_count": null,
   "metadata": {
    "colab": {
     "base_uri": "https://localhost:8080/",
     "height": 135
    },
    "executionInfo": {
     "elapsed": 370,
     "status": "error",
     "timestamp": 1680598126605,
     "user": {
      "displayName": "Julian Gonggrijp",
      "userId": "06467962548183964912"
     },
     "user_tz": -120
    },
    "id": "V1GiIP_ZNK8H",
    "outputId": "c5c40560-3aa0-4fe1-d4fe-7a18d48ee139"
   },
   "outputs": [
    {
     "ename": "SyntaxError",
     "evalue": "ignored",
     "output_type": "error",
     "traceback": [
      "\u001b[0;36m  File \u001b[0;32m\"<ipython-input-21-a6c67d285968>\"\u001b[0;36m, line \u001b[0;32m1\u001b[0m\n\u001b[0;31m    print(pass)\u001b[0m\n\u001b[0m          ^\u001b[0m\n\u001b[0;31mSyntaxError\u001b[0m\u001b[0;31m:\u001b[0m invalid syntax\n"
     ]
    }
   ],
   "source": [
    "print(pass)"
   ]
  },
  {
   "cell_type": "markdown",
   "metadata": {
    "id": "8Op9FLDB6HEZ"
   },
   "source": [
    "Our very first error! The error tells us that you cannot put a `pass` inside a `print`. The reason for that is that `pass` is not a value (but a statement)."
   ]
  },
  {
   "cell_type": "code",
   "execution_count": null,
   "metadata": {
    "colab": {
     "base_uri": "https://localhost:8080/",
     "height": 135
    },
    "executionInfo": {
     "elapsed": 286,
     "status": "error",
     "timestamp": 1680598147401,
     "user": {
      "displayName": "Julian Gonggrijp",
      "userId": "06467962548183964912"
     },
     "user_tz": -120
    },
    "id": "sNNoSfndOSiw",
    "outputId": "11ca5bd8-3235-4980-9b67-0a191d6515b3"
   },
   "outputs": [
    {
     "ename": "SyntaxError",
     "evalue": "ignored",
     "output_type": "error",
     "traceback": [
      "\u001b[0;36m  File \u001b[0;32m\"<ipython-input-22-9a4247b06e9b>\"\u001b[0;36m, line \u001b[0;32m1\u001b[0m\n\u001b[0;31m    print(#oops)\u001b[0m\n\u001b[0m                ^\u001b[0m\n\u001b[0;31mSyntaxError\u001b[0m\u001b[0;31m:\u001b[0m unexpected EOF while parsing\n"
     ]
    }
   ],
   "source": [
    "print(#oops)"
   ]
  },
  {
   "cell_type": "markdown",
   "metadata": {
    "id": "4WV_vzIu6ZXo"
   },
   "source": [
    "EOF stands for \"end of file\", with \"file\" here referring to the code block. Python reads `print(` and then ignores the rest of the line because of the comment. Every `(` should have a matching `)`, so Python is surprised that the code ends without that matching `)` (which it ignored because it is inside the comment)."
   ]
  },
  {
   "cell_type": "code",
   "execution_count": null,
   "metadata": {
    "colab": {
     "base_uri": "https://localhost:8080/"
    },
    "executionInfo": {
     "elapsed": 312,
     "status": "ok",
     "timestamp": 1680598226349,
     "user": {
      "displayName": "Julian Gonggrijp",
      "userId": "06467962548183964912"
     },
     "user_tz": -120
    },
    "id": "6IZS1NUuTdOX",
    "outputId": "04fd0ec0-61eb-4604-f9cd-0b66fb0d82bd"
   },
   "outputs": [
    {
     "name": "stdout",
     "output_type": "stream",
     "text": [
      "apricot banana\n"
     ]
    }
   ],
   "source": [
    "print('apricot', 'banana')"
   ]
  },
  {
   "cell_type": "markdown",
   "metadata": {
    "id": "G_aPWTsL64wW"
   },
   "source": [
    "You are allowed to pass more than one value to `print`. By default, it puts spaces between them. You can change the space into something else as follows:\n",
    "\n",
    "```py\n",
    "# Use a comma instead of a space\n",
    "print('apricot', 'banana', sep=',')\n",
    "\n",
    "# Glue values together directly (no separator)\n",
    "print('apricot', 'banana', sep='')\n",
    "```\n",
    "\n",
    "Use can use any separator you like, even very long strings."
   ]
  },
  {
   "cell_type": "markdown",
   "metadata": {
    "id": "Tr3wPlHMeBCI"
   },
   "source": [
    "## Exercise 1.2: Hello, world!"
   ]
  },
  {
   "cell_type": "code",
   "execution_count": null,
   "metadata": {
    "id": "jN7WTVOOSq2C"
   },
   "outputs": [],
   "source": [
    "# The following would work!\n",
    "# (but only in a notebook)\n",
    "'Hello, world!'"
   ]
  },
  {
   "cell_type": "code",
   "execution_count": null,
   "metadata": {
    "id": "qNjQXYFc7wfF"
   },
   "outputs": [],
   "source": [
    "# This is slightly better.\n",
    "print('Hello, world!')"
   ]
  },
  {
   "cell_type": "markdown",
   "metadata": {
    "id": "zI0ohEpPUwpC"
   },
   "source": [
    "## Next module\n",
    "\n",
    "[2. Values and expressions](https://colab.research.google.com/drive/17K6C_EZoeGtRxoTbYQvygFEdpWgQ2QFp) - [solutions](https://colab.research.google.com/drive/1JKeNehBZ9hhHXPdVunQ_r9cv-lLR9Byy)"
   ]
  }
 ],
 "metadata": {
  "colab": {
   "authorship_tag": "ABX9TyOdt4EUgMll2VGl6yXOOeib",
   "provenance": [],
   "toc_visible": true
  },
  "kernelspec": {
   "display_name": "Python 3",
   "name": "python3"
  },
  "language_info": {
   "name": "python"
  }
 },
 "nbformat": 4,
 "nbformat_minor": 0
}
