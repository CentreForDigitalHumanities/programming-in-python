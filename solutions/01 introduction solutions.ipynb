{
 "cells": [
  {
   "cell_type": "markdown",
   "id": "00abaa0f",
   "metadata": {
    "id": "Buvh9v-iYeOO"
   },
   "source": [
    "# Module 1: Introduction\n",
    "\n",
    "## Exercise solutions\n",
    "\n",
    "[Module 1](https://colab.research.google.com/github/CentreForDigitalHumanities/programming-in-python/blob/main/lessons/01%20introduction.ipynb)\n",
    "\n",
    "## CDH course \"Programming in Python\"\n",
    "\n",
    "[index](https://colab.research.google.com/github/CentreForDigitalHumanities/programming-in-python/blob/main/lessons/00%20index.ipynb)"
   ]
  },
  {
   "cell_type": "markdown",
   "id": "e4d541d9",
   "metadata": {
    "id": "pKIEfocbMaIR"
   },
   "source": [
    "## Exercise 1.1: Try it out"
   ]
  },
  {
   "cell_type": "code",
   "execution_count": null,
   "id": "4fdc9936",
   "metadata": {
    "colab": {
     "base_uri": "https://localhost:8080/"
    },
    "executionInfo": {
     "elapsed": 213,
     "status": "ok",
     "timestamp": 1680706108778,
     "user": {
      "displayName": "Julian Gonggrijp",
      "userId": "06467962548183964912"
     },
     "user_tz": -120
    },
    "id": "6hlNxRNNM1fV",
    "outputId": "1e442ffe-2c24-468e-8f23-4dde9dae23ad"
   },
   "outputs": [],
   "source": [
    "print(1)\n",
    "1"
   ]
  },
  {
   "cell_type": "code",
   "execution_count": null,
   "id": "8835bc13",
   "metadata": {
    "colab": {
     "base_uri": "https://localhost:8080/",
     "height": 52
    },
    "executionInfo": {
     "elapsed": 7,
     "status": "ok",
     "timestamp": 1680705583794,
     "user": {
      "displayName": "Julian Gonggrijp",
      "userId": "06467962548183964912"
     },
     "user_tz": -120
    },
    "id": "VIm6FdRIM6OE",
    "outputId": "14982304-6483-4d06-f313-134443868ad9"
   },
   "outputs": [],
   "source": [
    "print('oops')\n",
    "'oops'"
   ]
  },
  {
   "cell_type": "markdown",
   "id": "bbf7f9d0",
   "metadata": {
    "id": "Yz1P17hS3Dnj"
   },
   "source": [
    "The slight surprise in the above output is that `'oops'` is first printed without quotes, and then with quotes. `print` is meant to present data in a human-friendly way, so it strips quotes from text values (which we call strings). Bare values, on the other hand, are shown in the way in which you would type them into Python."
   ]
  },
  {
   "cell_type": "code",
   "execution_count": null,
   "id": "e85ff48b",
   "metadata": {
    "colab": {
     "base_uri": "https://localhost:8080/"
    },
    "executionInfo": {
     "elapsed": 226,
     "status": "ok",
     "timestamp": 1680705926915,
     "user": {
      "displayName": "Julian Gonggrijp",
      "userId": "06467962548183964912"
     },
     "user_tz": -120
    },
    "id": "_MN48xz5NAya",
    "outputId": "58a646e7-26cf-4eed-97fd-37bd06d300f1"
   },
   "outputs": [],
   "source": [
    "print()"
   ]
  },
  {
   "cell_type": "markdown",
   "id": "16fc58b6",
   "metadata": {
    "id": "yP3jC8AZ4Kyk"
   },
   "source": [
    "You are allowed to call `print` without any value. This prints a newline."
   ]
  },
  {
   "cell_type": "code",
   "execution_count": null,
   "id": "1e44c34d",
   "metadata": {
    "colab": {
     "base_uri": "https://localhost:8080/"
    },
    "executionInfo": {
     "elapsed": 222,
     "status": "ok",
     "timestamp": 1680706112032,
     "user": {
      "displayName": "Julian Gonggrijp",
      "userId": "06467962548183964912"
     },
     "user_tz": -120
    },
    "id": "g9WKeIA2NVIA",
    "outputId": "e9ca8138-4998-47b1-e2c9-3332e4e968e5"
   },
   "outputs": [],
   "source": [
    "print('apricot')\n",
    "print('banana')\n",
    "print('cherry')"
   ]
  },
  {
   "cell_type": "code",
   "execution_count": null,
   "id": "62fd772a",
   "metadata": {
    "colab": {
     "base_uri": "https://localhost:8080/",
     "height": 38
    },
    "executionInfo": {
     "elapsed": 237,
     "status": "ok",
     "timestamp": 1680597375941,
     "user": {
      "displayName": "Julian Gonggrijp",
      "userId": "06467962548183964912"
     },
     "user_tz": -120
    },
    "id": "NCbCfbHaNafJ",
    "outputId": "db68067b-3cba-4534-ea4d-f22b424fd253"
   },
   "outputs": [],
   "source": [
    "'apricot'\n",
    "'banana'\n",
    "'cherry'"
   ]
  },
  {
   "cell_type": "markdown",
   "id": "c273c3e2",
   "metadata": {
    "id": "snD4bhFA4VTx"
   },
   "source": [
    "Normally, a bare value by itself is never shown. It is a special \"service\" of notebooks that the last value in a code block is shown. This is why we see only `'cherry'` and not `'apricot'` or `'banana'`."
   ]
  },
  {
   "cell_type": "code",
   "execution_count": null,
   "id": "31e8afc9",
   "metadata": {
    "id": "-ZuiJ92yNqpi"
   },
   "outputs": [],
   "source": [
    "# apricot\n",
    "# banana\n",
    "# cherry"
   ]
  },
  {
   "cell_type": "markdown",
   "id": "ca361a7c",
   "metadata": {
    "id": "qYUevKdW4uEc"
   },
   "source": [
    "Python ignores comments. From the perspective of Python, this code block is empty, so there is no output."
   ]
  },
  {
   "cell_type": "code",
   "execution_count": null,
   "id": "a3a7fc40",
   "metadata": {
    "colab": {
     "base_uri": "https://localhost:8080/",
     "height": 52
    },
    "executionInfo": {
     "elapsed": 185,
     "status": "ok",
     "timestamp": 1680706115343,
     "user": {
      "displayName": "Julian Gonggrijp",
      "userId": "06467962548183964912"
     },
     "user_tz": -120
    },
    "id": "b9bTbrNSNwwn",
    "outputId": "7229da45-10dc-4df7-9f14-d1c91b2f639f"
   },
   "outputs": [],
   "source": [
    "print('apricot')\n",
    "'banana'\n",
    "# cherry"
   ]
  },
  {
   "cell_type": "code",
   "execution_count": null,
   "id": "b05d8b21",
   "metadata": {
    "colab": {
     "base_uri": "https://localhost:8080/"
    },
    "executionInfo": {
     "elapsed": 15,
     "status": "ok",
     "timestamp": 1680597832375,
     "user": {
      "displayName": "Julian Gonggrijp",
      "userId": "06467962548183964912"
     },
     "user_tz": -120
    },
    "id": "GYmcSm6iOAiA",
    "outputId": "13ce5d1a-2a9f-44e2-cb38-4736ed7db735"
   },
   "outputs": [],
   "source": [
    "# apricot\n",
    "'banana'\n",
    "print('cherry')"
   ]
  },
  {
   "cell_type": "markdown",
   "id": "e99a71d5",
   "metadata": {
    "id": "Nk_csoK1456t"
   },
   "source": [
    "`'banana'` is not the last value in the code block, so it is not shown. `print('cherry')` has no value of itself (although it causes output); this is why we see only `cherry` and not this:\n",
    "\n",
    "```\n",
    "cherry\n",
    "'cherry'\n",
    "```"
   ]
  },
  {
   "cell_type": "code",
   "execution_count": null,
   "id": "a673e9b1",
   "metadata": {
    "colab": {
     "base_uri": "https://localhost:8080/",
     "height": 135
    },
    "executionInfo": {
     "elapsed": 286,
     "status": "error",
     "timestamp": 1680598147401,
     "user": {
      "displayName": "Julian Gonggrijp",
      "userId": "06467962548183964912"
     },
     "user_tz": -120
    },
    "id": "sNNoSfndOSiw",
    "outputId": "11ca5bd8-3235-4980-9b67-0a191d6515b3"
   },
   "outputs": [],
   "source": [
    "print(#oops)"
   ]
  },
  {
   "cell_type": "markdown",
   "id": "09b0f44a",
   "metadata": {
    "id": "4WV_vzIu6ZXo"
   },
   "source": [
    "EOF stands for \"end of file\", with \"file\" here referring to the code block. Python reads `print(` and then ignores the rest of the line because of the comment. Every `(` should have a matching `)`, so Python is surprised that the code ends without that matching `)` (which it ignored because it is inside the comment)."
   ]
  },
  {
   "cell_type": "code",
   "execution_count": null,
   "id": "9d293d9f",
   "metadata": {
    "colab": {
     "base_uri": "https://localhost:8080/"
    },
    "executionInfo": {
     "elapsed": 312,
     "status": "ok",
     "timestamp": 1680598226349,
     "user": {
      "displayName": "Julian Gonggrijp",
      "userId": "06467962548183964912"
     },
     "user_tz": -120
    },
    "id": "6IZS1NUuTdOX",
    "outputId": "04fd0ec0-61eb-4604-f9cd-0b66fb0d82bd"
   },
   "outputs": [],
   "source": [
    "print('apricot', 'banana')"
   ]
  },
  {
   "cell_type": "markdown",
   "id": "c8b81013",
   "metadata": {
    "id": "G_aPWTsL64wW"
   },
   "source": [
    "You are allowed to pass more than one value to `print`. By default, it puts spaces between them. You can change the space into something else as follows:\n",
    "\n",
    "```py\n",
    "# Use a comma instead of a space\n",
    "print('apricot', 'banana', sep=',')\n",
    "\n",
    "# Glue values together directly (no separator)\n",
    "print('apricot', 'banana', sep='')\n",
    "```\n",
    "\n",
    "Use can use any separator you like, even very long strings."
   ]
  },
  {
   "cell_type": "markdown",
   "id": "c1e44228",
   "metadata": {
    "id": "Tr3wPlHMeBCI"
   },
   "source": [
    "## Exercise 1.2: Hello, world!"
   ]
  },
  {
   "cell_type": "code",
   "execution_count": null,
   "id": "a5fbadf0",
   "metadata": {
    "id": "jN7WTVOOSq2C"
   },
   "outputs": [],
   "source": [
    "# The following would work!\n",
    "# (but only in a notebook)\n",
    "'Hello, world!'"
   ]
  },
  {
   "cell_type": "code",
   "execution_count": null,
   "id": "4a72636c",
   "metadata": {
    "id": "qNjQXYFc7wfF"
   },
   "outputs": [],
   "source": [
    "# This is slightly better.\n",
    "print('Hello, world!')"
   ]
  },
  {
   "cell_type": "markdown",
   "id": "5f67c0b1",
   "metadata": {
    "id": "zI0ohEpPUwpC"
   },
   "source": [
    "## Next module\n",
    "\n",
    "[2. Values and expressions](https://colab.research.google.com/github/CentreForDigitalHumanities/programming-in-python/blob/main/lessons/02%20values%20and%20expressions.ipynb) - [solutions](https://colab.research.google.com/github/CentreForDigitalHumanities/programming-in-python/blob/main/solutions/02%20values%20and%20expressions%20solutions.ipynb)"
   ]
  }
 ],
 "metadata": {
  "jupytext": {
   "cell_metadata_filter": "-all",
   "main_language": "python"
  },
  "kernelspec": {
   "display_name": "Python 3",
   "name": "python3"
  }
 },
 "nbformat": 4,
 "nbformat_minor": 5
}
