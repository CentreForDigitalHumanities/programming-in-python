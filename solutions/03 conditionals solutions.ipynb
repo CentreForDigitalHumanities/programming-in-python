{
 "cells": [
  {
   "cell_type": "markdown",
   "id": "081a71d8",
   "metadata": {
    "id": "fqMJHzNk5yXQ"
   },
   "source": [
    "# Module 3: Conditionals\n",
    "\n",
    "### Exercise solutions\n",
    "\n",
    "[Module 3](https://colab.research.google.com/github/CentreForDigitalHumanities/programming-in-python/blob/main/lessons/03%20conditionals.ipynb)\n",
    "\n",
    "### CDH course \"Programming in Python\"\n",
    "\n",
    "[index](https://colab.research.google.com/github/CentreForDigitalHumanities/programming-in-python/blob/main/lessons/00%20index.ipynb)\n",
    "\n",
    "Previous module: [2. Values and expressions](https://colab.research.google.com/github/CentreForDigitalHumanities/programming-in-python/blob/main/lessons/02%20values%20and%20expressions.ipynb) - [solutions](https://colab.research.google.com/github/CentreForDigitalHumanities/programming-in-python/blob/main/solutions/02%20values%20and%20expressions%20solutions.ipynb)"
   ]
  },
  {
   "cell_type": "markdown",
   "id": "970ba2e0",
   "metadata": {
    "id": "tvXa9KWXAwge"
   },
   "source": [
    "## Exercise 3.1: if/elif/else"
   ]
  },
  {
   "cell_type": "markdown",
   "id": "b0cb941c",
   "metadata": {
    "id": "pKBuViM9u7ZC"
   },
   "source": [
    "1. Try to predict the output of the following code blocks. Can you explain any surprises?"
   ]
  },
  {
   "cell_type": "code",
   "execution_count": null,
   "id": "ec90adfa",
   "metadata": {
    "colab": {
     "base_uri": "https://localhost:8080/"
    },
    "executionInfo": {
     "elapsed": 232,
     "status": "ok",
     "timestamp": 1680618391562,
     "user": {
      "displayName": "Julian Gonggrijp",
      "userId": "06467962548183964912"
     },
     "user_tz": -120
    },
    "id": "sEQyw2xJvzQN",
    "outputId": "f38ca572-f203-48ea-875e-a1d5b6b89fc6"
   },
   "outputs": [],
   "source": [
    "if 3 <= 2:\n",
    "    # The first print is not executed,\n",
    "    # because it is inside the conditional and\n",
    "    # the condition is False.\n",
    "    print('What a strange day.')\n",
    "\n",
    "# The second print is executed, because it is\n",
    "# outside of the conditional.\n",
    "print('What a strange day.')\n",
    "\n",
    "# Therefore, we see the sentence once."
   ]
  },
  {
   "cell_type": "code",
   "execution_count": null,
   "id": "5513b93b",
   "metadata": {
    "id": "FnCFfEb_v-0Y"
   },
   "outputs": [],
   "source": [
    "if None == 0:\n",
    "    # The condition is False, so this code never runs.\n",
    "    # The pass statement makes no difference.\n",
    "    pass\n",
    "    print('I got nothing to do.')"
   ]
  },
  {
   "cell_type": "code",
   "execution_count": null,
   "id": "81944314",
   "metadata": {
    "colab": {
     "base_uri": "https://localhost:8080/"
    },
    "executionInfo": {
     "elapsed": 228,
     "status": "ok",
     "timestamp": 1680618415623,
     "user": {
      "displayName": "Julian Gonggrijp",
      "userId": "06467962548183964912"
     },
     "user_tz": -120
    },
    "id": "arta4ZQ0vDSC",
    "outputId": "26955fab-9309-484f-c088-23bfc2d04480"
   },
   "outputs": [],
   "source": [
    "name = 'Julian'\n",
    "\n",
    "if name < 'Jelte':\n",
    "    # This condition is False, so it does not execute.\n",
    "    print('Alphabetically before Jelte')\n",
    "elif name > 'Jelte':\n",
    "    # This condition is True, so it does execute.\n",
    "    print('Alphabetically after Jelte')\n",
    "else:\n",
    "    # One of the previous conditions was True, so\n",
    "    # this block does not execute.\n",
    "    print('Same name as Jelte')"
   ]
  },
  {
   "cell_type": "markdown",
   "id": "90e167bb",
   "metadata": {
    "id": "4SVSiqHSu4WX"
   },
   "source": [
    "2. In the following code block, fill the condition in the `if` statement. If `value` is greater than `5`, `size` must be `'large'`; otherwise, `size` must be `'small'`. Change `value` a few times and rerun the code to check that your condition is correct."
   ]
  },
  {
   "cell_type": "code",
   "execution_count": null,
   "id": "3c08741a",
   "metadata": {
    "colab": {
     "base_uri": "https://localhost:8080/"
    },
    "executionInfo": {
     "elapsed": 199,
     "status": "ok",
     "timestamp": 1680618457948,
     "user": {
      "displayName": "Julian Gonggrijp",
      "userId": "06467962548183964912"
     },
     "user_tz": -120
    },
    "id": "czmdFacjeUaL",
    "outputId": "1d9e3543-af26-4b51-a511-3a575f11596f"
   },
   "outputs": [],
   "source": [
    "value = 4\n",
    "\n",
    "if value > 5:\n",
    "    size = 'large'\n",
    "else:\n",
    "    size = 'small'\n",
    "\n",
    "print(size)"
   ]
  },
  {
   "cell_type": "markdown",
   "id": "589ecea2",
   "metadata": {
    "id": "sEOwMi04e6WW"
   },
   "source": [
    "3. Write an `if`/`elif`/`else` statement like the previous, but with different cutoff points: if `value` is less than `4`, `size` must be `'small'`; if `value` is between `4` and `6` (inclusive), `size` must be `'medium'`; if `value` is greater than `6`, `size` must be `'large'`."
   ]
  },
  {
   "cell_type": "code",
   "execution_count": null,
   "id": "ee8889e3",
   "metadata": {
    "colab": {
     "base_uri": "https://localhost:8080/"
    },
    "executionInfo": {
     "elapsed": 546,
     "status": "ok",
     "timestamp": 1680618544259,
     "user": {
      "displayName": "Julian Gonggrijp",
      "userId": "06467962548183964912"
     },
     "user_tz": -120
    },
    "id": "8HeaY6l9f9iA",
    "outputId": "615a9d80-7dca-4e14-c9cc-2ee096f90f3f"
   },
   "outputs": [],
   "source": [
    "value = 4\n",
    "\n",
    "# Option 1: multiple independent conditionals.\n",
    "# This performs the same checks multiple times.\n",
    "if value < 4:\n",
    "    size = 'small'\n",
    "if 4 <= value <= 6:\n",
    "    size = 'medium'\n",
    "if value > 6:\n",
    "    size = 'large'\n",
    "\n",
    "# Option 2: a single if-elif-else. There is\n",
    "# still a little bit of overlap between the first\n",
    "# and the second condition.\n",
    "if value < 4:\n",
    "    size = 'small'\n",
    "elif 4 <= value <= 6:\n",
    "    size = 'medium'\n",
    "else:\n",
    "    size = 'large'\n",
    "\n",
    "# Option 3: a single if-elif-else, but now without\n",
    "# any overlap between the conditions. We achieve this\n",
    "# by changing the order in which we recognize the\n",
    "# classifications. When the conditions are expensive\n",
    "# to evaluate, this is generally the best option.\n",
    "if value < 4:\n",
    "    size = 'small'\n",
    "elif value > 6:\n",
    "    size = 'large'\n",
    "else:\n",
    "    size = 'medium'\n",
    "\n",
    "print(size)"
   ]
  },
  {
   "cell_type": "markdown",
   "id": "a5ff5eb2",
   "metadata": {
    "id": "TWzbez_2RUh4"
   },
   "source": [
    "4. Rewrite the conditional that checks if a letter is neither 'a' nor 'b', using a different notation."
   ]
  },
  {
   "cell_type": "code",
   "execution_count": null,
   "id": "bb26255a",
   "metadata": {
    "colab": {
     "base_uri": "https://localhost:8080/"
    },
    "executionInfo": {
     "elapsed": 10,
     "status": "ok",
     "timestamp": 1680618957473,
     "user": {
      "displayName": "Julian Gonggrijp",
      "userId": "06467962548183964912"
     },
     "user_tz": -120
    },
    "id": "XsIg1MD4JrPX",
    "outputId": "87f54254-5a5f-47a4-bab8-7feb4703bf2f"
   },
   "outputs": [],
   "source": [
    "letter = 'c'\n",
    "\n",
    "# original\n",
    "if not (letter == 'a' or letter == 'b'):\n",
    "    print('neither a nor b')\n",
    "\n",
    "# a variant in which we change all operators\n",
    "if letter != 'a' and letter != 'b':\n",
    "    print('neither a nor b')\n",
    "\n",
    "# a variant using not\n",
    "if not letter == 'a' and not letter == 'b':\n",
    "    print('neither a nor b')\n",
    "\n",
    "# same as above, adding parentheses to clarify\n",
    "# the order in which Python evaluates the operators\n",
    "if (not (letter == 'a')) and (not (letter == 'b')):\n",
    "    print('neither a nor b')"
   ]
  },
  {
   "cell_type": "markdown",
   "id": "e8fada6f",
   "metadata": {
    "id": "-XEYQZJ1ya1j"
   },
   "source": [
    "## Exercise 3.2: Bonus"
   ]
  },
  {
   "cell_type": "markdown",
   "id": "02a69462",
   "metadata": {
    "id": "POVFwRu_f91I"
   },
   "source": [
    "*FizzBuzz part 1* (advanced).\n",
    "Write an `if`/`elif`/`else` statement that behaves as follows:\n",
    "\n",
    "- if `value` is divisible by 3 but not by 5, print `'Fizz'`;\n",
    "- if `value` is divisible by 5 but not by 3, print `'Buzz'`;\n",
    "- if `value` is divisible by 3 *and* by 5, print `'FizzBuzz'`;\n",
    "- in all remaining cases, print `value`.\n",
    "\n",
    "Tip: use the result of *Exercise 2.4.1*!"
   ]
  },
  {
   "cell_type": "code",
   "execution_count": null,
   "id": "762f793d",
   "metadata": {
    "colab": {
     "base_uri": "https://localhost:8080/"
    },
    "executionInfo": {
     "elapsed": 233,
     "status": "ok",
     "timestamp": 1680782728257,
     "user": {
      "displayName": "Julian Gonggrijp",
      "userId": "06467962548183964912"
     },
     "user_tz": -120
    },
    "id": "SZGeQtqEhiAK",
    "outputId": "f067c099-61f7-4d68-851d-8e7db89ed04f"
   },
   "outputs": [],
   "source": [
    "value = 9\n",
    "\n",
    "# A straightforward variant, in which we literally\n",
    "# translate the English description to Python code.\n",
    "if value % 3 == 0 and value % 5 != 0:\n",
    "    print('Fizz')\n",
    "elif value % 5 == 0 and value % 3 != 0:\n",
    "    print('Buzz')\n",
    "elif value % 5 == 0 and value % 3 == 0:\n",
    "    print('FizzBuzz')\n",
    "else:\n",
    "    print(value)\n",
    "\n",
    "# A more efficient variant, in which we use more \"tricks\":\n",
    "# - We can start with an empty string and update it later.\n",
    "result = ''\n",
    "if value % 3 == 0:\n",
    "    # - If value is divisible by 3, we ALWAYS want \"Fizz\",\n",
    "    #   even if value is ALSO divisible by 5.\n",
    "    result = result + 'Fizz'\n",
    "if value % 5 == 0:\n",
    "    # - If value is divisible by 5, we can add \"Buzz\" to\n",
    "    #   the result regardless of whether it contains \"Fizz\".\n",
    "    result = result + 'Buzz'\n",
    "# - We use the short-circuiting behavior of and/or.\n",
    "#   - and: stop evaluating as soon as you find a False\n",
    "#          subexpression, because then the whole expression\n",
    "#          must be False as well.\n",
    "#   - or:  stop evaluating as soon as you find a True\n",
    "#          subexpression, because then the whole expression\n",
    "#          must be True as well.\n",
    "#   If result is still the empty string, then it evaluates as\n",
    "#   False and we print value. Otherwise, or already knows that\n",
    "#   the expression will be True, so value is never evaluated\n",
    "#   and result is printed instead.\n",
    "print(result or value)"
   ]
  },
  {
   "cell_type": "markdown",
   "id": "d9d09000",
   "metadata": {
    "id": "YBC4OfihzFho"
   },
   "source": [
    "## Next module\n",
    "[4. Datastructures](https://colab.research.google.com/github/CentreForDigitalHumanities/programming-in-python/blob/main/solutions/04%20datastructures.ipynb) - [solutions](htthttps://colab.research.google.com/github/CentreForDigitalHumanities/programming-in-python/blob/main/solutions/04%20datastructures%20solutions.ipynb)"
   ]
  }
 ],
 "metadata": {
  "jupytext": {
   "main_language": "python"
  },
  "kernelspec": {
   "display_name": "Python 3",
   "name": "python3"
  }
 },
 "nbformat": 4,
 "nbformat_minor": 5
}
