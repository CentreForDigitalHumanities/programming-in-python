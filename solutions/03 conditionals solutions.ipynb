{
 "cells": [
  {
   "cell_type": "markdown",
   "metadata": {
    "id": "fqMJHzNk5yXQ"
   },
   "source": [
    "# Module 3: Conditionals\n",
    "\n",
    "### Exercise solutions\n",
    "\n",
    "[Module 3](https://colab.research.google.com/drive/1qQzRBD1e-1yCKtUNAt8L2lRb8tGjYpkR)\n",
    "\n",
    "### CDH course \"Programming in Python\"\n",
    "\n",
    "[index](https://colab.research.google.com/drive/1YgmnpA7tRylvGBpp2PTFGvSV2P8tw5jl)\n",
    "\n",
    "Previous module: [2. Values and expressions](https://colab.research.google.com/drive/1FUicKa-_d5CINVGrHQdwnEpVFZlMbtkA) - [solutions](https://colab.research.google.com/drive/1R0_DYzufN6PSKpot8iBmn1Gh6mNSOCy5)"
   ]
  },
  {
   "cell_type": "markdown",
   "metadata": {
    "id": "tvXa9KWXAwge"
   },
   "source": [
    "## Exercise 3.1: if/elif/else"
   ]
  },
  {
   "cell_type": "markdown",
   "metadata": {
    "id": "pKBuViM9u7ZC"
   },
   "source": [
    "1. Try to predict the output of the following code blocks. Can you explain any surprises?"
   ]
  },
  {
   "cell_type": "code",
   "execution_count": null,
   "metadata": {
    "colab": {
     "base_uri": "https://localhost:8080/"
    },
    "executionInfo": {
     "elapsed": 232,
     "status": "ok",
     "timestamp": 1680618391562,
     "user": {
      "displayName": "Julian Gonggrijp",
      "userId": "06467962548183964912"
     },
     "user_tz": -120
    },
    "id": "sEQyw2xJvzQN",
    "outputId": "f38ca572-f203-48ea-875e-a1d5b6b89fc6"
   },
   "outputs": [
    {
     "name": "stdout",
     "output_type": "stream",
     "text": [
      "What a strange day.\n"
     ]
    }
   ],
   "source": [
    "if 3 <= 2:\n",
    "    # The first print is not executed,\n",
    "    # because it is inside the conditional and\n",
    "    # the condition is False.\n",
    "    print('What a strange day.')\n",
    "\n",
    "# The second print is executed, because it is\n",
    "# outside of the conditional.\n",
    "print('What a strange day.')\n",
    "\n",
    "# Therefore, we see the sentence once."
   ]
  },
  {
   "cell_type": "code",
   "execution_count": null,
   "metadata": {
    "id": "FnCFfEb_v-0Y"
   },
   "outputs": [],
   "source": [
    "if None == 0:\n",
    "    # The condition is False, so this code never runs.\n",
    "    # The pass statement makes no difference.\n",
    "    pass\n",
    "    print('I got nothing to do.')"
   ]
  },
  {
   "cell_type": "code",
   "execution_count": null,
   "metadata": {
    "colab": {
     "base_uri": "https://localhost:8080/"
    },
    "executionInfo": {
     "elapsed": 228,
     "status": "ok",
     "timestamp": 1680618415623,
     "user": {
      "displayName": "Julian Gonggrijp",
      "userId": "06467962548183964912"
     },
     "user_tz": -120
    },
    "id": "arta4ZQ0vDSC",
    "outputId": "26955fab-9309-484f-c088-23bfc2d04480"
   },
   "outputs": [
    {
     "name": "stdout",
     "output_type": "stream",
     "text": [
      "Alphabetically after Jelte\n"
     ]
    }
   ],
   "source": [
    "name = 'Julian'\n",
    "\n",
    "if name < 'Jelte':\n",
    "    # This condition is False, so it does not execute.\n",
    "    print('Alphabetically before Jelte')\n",
    "elif name > 'Jelte':\n",
    "    # This condition is True, so it does execute.\n",
    "    print('Alphabetically after Jelte')\n",
    "else:\n",
    "    # One of the previous conditions was True, so\n",
    "    # this block does not execute.\n",
    "    print('Same name as Jelte')"
   ]
  },
  {
   "cell_type": "markdown",
   "metadata": {
    "id": "4SVSiqHSu4WX"
   },
   "source": [
    "2. In the following code block, fill the condition in the `if` statement. If `value` is greater than `5`, `size` must be `'large'`; otherwise, `size` must be `'small'`. Change `value` a few times and rerun the code to check that your condition is correct."
   ]
  },
  {
   "cell_type": "code",
   "execution_count": null,
   "metadata": {
    "colab": {
     "base_uri": "https://localhost:8080/"
    },
    "executionInfo": {
     "elapsed": 199,
     "status": "ok",
     "timestamp": 1680618457948,
     "user": {
      "displayName": "Julian Gonggrijp",
      "userId": "06467962548183964912"
     },
     "user_tz": -120
    },
    "id": "czmdFacjeUaL",
    "outputId": "1d9e3543-af26-4b51-a511-3a575f11596f"
   },
   "outputs": [
    {
     "name": "stdout",
     "output_type": "stream",
     "text": [
      "small\n"
     ]
    }
   ],
   "source": [
    "value = 4\n",
    "\n",
    "if value > 5:\n",
    "    size = 'large'\n",
    "else:\n",
    "    size = 'small'\n",
    "\n",
    "print(size)"
   ]
  },
  {
   "cell_type": "markdown",
   "metadata": {
    "id": "sEOwMi04e6WW"
   },
   "source": [
    "3. Write an `if`/`elif`/`else` statement like the previous, but with different cutoff points: if `value` is less than `4`, `size` must be `'small'`; if `value` is between `4` and `6` (inclusive), `size` must be `'medium'`; if `value` is greater than `6`, `size` must be `'large'`."
   ]
  },
  {
   "cell_type": "code",
   "execution_count": null,
   "metadata": {
    "colab": {
     "base_uri": "https://localhost:8080/"
    },
    "executionInfo": {
     "elapsed": 546,
     "status": "ok",
     "timestamp": 1680618544259,
     "user": {
      "displayName": "Julian Gonggrijp",
      "userId": "06467962548183964912"
     },
     "user_tz": -120
    },
    "id": "8HeaY6l9f9iA",
    "outputId": "615a9d80-7dca-4e14-c9cc-2ee096f90f3f"
   },
   "outputs": [
    {
     "name": "stdout",
     "output_type": "stream",
     "text": [
      "medium\n"
     ]
    }
   ],
   "source": [
    "value = 4\n",
    "\n",
    "# Option 1: multiple independent conditionals.\n",
    "# This performs the same checks multiple times.\n",
    "if value < 4:\n",
    "    size = 'small'\n",
    "if 4 <= value <= 6:\n",
    "    size = 'medium'\n",
    "if value > 6:\n",
    "    size = 'large'\n",
    "\n",
    "# Option 2: a single if-elif-else. There is\n",
    "# still a little bit of overlap between the first\n",
    "# and the second condition.\n",
    "if value < 4:\n",
    "    size = 'small'\n",
    "elif 4 <= value <= 6:\n",
    "    size = 'medium'\n",
    "else:\n",
    "    size = 'large'\n",
    "\n",
    "# Option 3: a single if-elif-else, but now without\n",
    "# any overlap between the conditions. We achieve this\n",
    "# by changing the order in which we recognize the\n",
    "# classifications. When the conditions are expensive\n",
    "# to evaluate, this is generally the best option.\n",
    "if value < 4:\n",
    "    size = 'small'\n",
    "elif value > 6:\n",
    "    size = 'large'\n",
    "else:\n",
    "    size = 'medium'\n",
    "\n",
    "print(size)"
   ]
  },
  {
   "cell_type": "markdown",
   "metadata": {
    "id": "TWzbez_2RUh4"
   },
   "source": [
    "4. Rewrite the conditional that checks if a letter is neither 'a' nor 'b', using a different notation."
   ]
  },
  {
   "cell_type": "code",
   "execution_count": null,
   "metadata": {
    "colab": {
     "base_uri": "https://localhost:8080/"
    },
    "executionInfo": {
     "elapsed": 10,
     "status": "ok",
     "timestamp": 1680618957473,
     "user": {
      "displayName": "Julian Gonggrijp",
      "userId": "06467962548183964912"
     },
     "user_tz": -120
    },
    "id": "XsIg1MD4JrPX",
    "outputId": "87f54254-5a5f-47a4-bab8-7feb4703bf2f"
   },
   "outputs": [
    {
     "name": "stdout",
     "output_type": "stream",
     "text": [
      "neither a nor b\n"
     ]
    }
   ],
   "source": [
    "letter = 'c'\n",
    "\n",
    "# original\n",
    "if not (letter == 'a' or letter == 'b'):\n",
    "    print('neither a nor b')\n",
    "\n",
    "# a variant in which we change all operators\n",
    "if letter != 'a' and letter != 'b':\n",
    "    print('neither a nor b')\n",
    "\n",
    "# a variant using not\n",
    "if not letter == 'a' and not letter == 'b':\n",
    "    print('neither a nor b')\n",
    "\n",
    "# same as above, adding parentheses to clarify\n",
    "# the order in which Python evaluates the operators\n",
    "if (not (letter == 'a')) and (not (letter == 'b')):\n",
    "    print('neither a nor b')"
   ]
  },
  {
   "cell_type": "markdown",
   "metadata": {
    "id": "-XEYQZJ1ya1j"
   },
   "source": [
    "## Exercise 3.2: Bonus"
   ]
  },
  {
   "cell_type": "markdown",
   "metadata": {
    "id": "POVFwRu_f91I"
   },
   "source": [
    "*FizzBuzz part 1* (advanced).\n",
    "Write an `if`/`elif`/`else` statement that behaves as follows:\n",
    "\n",
    "- if `value` is divisible by 3 but not by 5, print `'Fizz'`;\n",
    "- if `value` is divisible by 5 but not by 3, print `'Buzz'`;\n",
    "- if `value` is divisible by 3 *and* by 5, print `'FizzBuzz'`;\n",
    "- in all remaining cases, print `value`.\n",
    "\n",
    "Tip: use the result of [Exercise 2.4.1](https://colab.research.google.com/drive/1FUicKa-_d5CINVGrHQdwnEpVFZlMbtkA#scrollTo=Exercise_2_4_Bonus)!"
   ]
  },
  {
   "cell_type": "code",
   "execution_count": null,
   "metadata": {
    "colab": {
     "base_uri": "https://localhost:8080/"
    },
    "executionInfo": {
     "elapsed": 233,
     "status": "ok",
     "timestamp": 1680782728257,
     "user": {
      "displayName": "Julian Gonggrijp",
      "userId": "06467962548183964912"
     },
     "user_tz": -120
    },
    "id": "SZGeQtqEhiAK",
    "outputId": "f067c099-61f7-4d68-851d-8e7db89ed04f"
   },
   "outputs": [
    {
     "name": "stdout",
     "output_type": "stream",
     "text": [
      "Fizz\n"
     ]
    }
   ],
   "source": [
    "value = 9\n",
    "\n",
    "# A straightforward variant, in which we literally\n",
    "# translate the English description to Python code.\n",
    "if value % 3 == 0 and value % 5 != 0:\n",
    "    print('Fizz')\n",
    "elif value % 5 == 0 and value % 3 != 0:\n",
    "    print('Buzz')\n",
    "elif value % 5 == 0 and value % 3 == 0:\n",
    "    print('FizzBuzz')\n",
    "else:\n",
    "    print(value)\n",
    "\n",
    "# A more efficient variant, in which we use more \"tricks\":\n",
    "# - We can start with an empty string and update it later.\n",
    "result = ''\n",
    "if value % 3 == 0:\n",
    "    # - If value is divisible by 3, we ALWAYS want \"Fizz\",\n",
    "    #   even if value is ALSO divisible by 5.\n",
    "    result = result + 'Fizz'\n",
    "if value % 5 == 0:\n",
    "    # - If value is divisible by 5, we can add \"Buzz\" to\n",
    "    #   the result regardless of whether it contains \"Fizz\".\n",
    "    result = result + 'Buzz'\n",
    "# - We use the short-circuiting behavior of and/or.\n",
    "#   - and: stop evaluating as soon as you find a False\n",
    "#          subexpression, because then the whole expression\n",
    "#          must be False as well.\n",
    "#   - or:  stop evaluating as soon as you find a True\n",
    "#          subexpression, because then the whole expression\n",
    "#          must be True as well.\n",
    "#   If result is still the empty string, then it evaluates as\n",
    "#   False and we print value. Otherwise, or already knows that\n",
    "#   the expression will be True, so value is never evaluated\n",
    "#   and result is printed instead.\n",
    "print(result or value)"
   ]
  },
  {
   "cell_type": "markdown",
   "metadata": {
    "id": "YBC4OfihzFho"
   },
   "source": [
    "## Next module\n",
    "\n",
    "[4. Datastructures](https://colab.research.google.com/drive/1CS9CxET2V1j0FQzy82AWBZZCbc8M_qWt) - [solutions](https://colab.research.google.com/drive/1mf_sQpAVxz8oRbsZnA548cC3TtVaQxmU)"
   ]
  }
 ],
 "metadata": {
  "colab": {
   "authorship_tag": "ABX9TyNReXh+4a/yYH4EVWiYsm8b",
   "provenance": [],
   "toc_visible": true
  },
  "kernelspec": {
   "display_name": "Python 3",
   "name": "python3"
  },
  "language_info": {
   "name": "python"
  }
 },
 "nbformat": 4,
 "nbformat_minor": 0
}
