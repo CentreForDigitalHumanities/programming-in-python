{
 "cells": [
  {
   "cell_type": "markdown",
   "id": "8dc2318a",
   "metadata": {},
   "source": [
    "Hierbij wat extra opdrachtjes voor de modules van dag 1!"
   ]
  },
  {
   "cell_type": "markdown",
   "id": "d59d7715",
   "metadata": {},
   "source": [
    "# Types\n",
    "## Exercise A\n",
    "useful for after 1.4\n",
    "\n",
    "1. Create one variable each for every following type (replace None with an example):\n",
    " - Integer (`int`)\n",
    " - Floating point (`float`)\n",
    " - Boolean (`bool`)\n",
    " - String (`str`)"
   ]
  },
  {
   "cell_type": "code",
   "execution_count": null,
   "id": "eae5a320",
   "metadata": {},
   "outputs": [],
   "source": [
    "example_int = 1\n",
    "example_float = 2.0\n",
    "example_bool = True\n",
    "example_string = 'four'"
   ]
  },
  {
   "cell_type": "markdown",
   "id": "a15a75f9",
   "metadata": {},
   "source": [
    "Did you know that you can check the type of a variable in Python? If you are ever unsure of the type of a variable, use the `type()` function to check, e.g.:"
   ]
  },
  {
   "cell_type": "code",
   "execution_count": null,
   "id": "5adcc0bd",
   "metadata": {},
   "outputs": [],
   "source": [
    "print(type(1))\n",
    "print(type(1.0))\n",
    "print(type(False))\n",
    "print(type('one'))"
   ]
  },
  {
   "cell_type": "markdown",
   "id": "8d6a3f52",
   "metadata": {},
   "source": [
    "2. Now try and check the types of the examples you just declared using the method above:"
   ]
  },
  {
   "cell_type": "code",
   "execution_count": null,
   "id": "063ac0cf",
   "metadata": {},
   "outputs": [],
   "source": [
    "## Space for exercise\n",
    "print(type(example_int))\n",
    "print(type(example_float))\n",
    "print(type(example_bool))\n",
    "print(type(example_string))"
   ]
  },
  {
   "cell_type": "markdown",
   "id": "a732bd4a",
   "metadata": {},
   "source": [
    "Python is a 'dynamically typed' language, which means that the type of a variable can vary based on its context or user coercion. For example, you can coerce an integer to a float by declaring:"
   ]
  },
  {
   "cell_type": "code",
   "execution_count": null,
   "id": "a7a92865",
   "metadata": {},
   "outputs": [],
   "source": [
    "example_integer = 2  # declare example integer\n",
    "print(example_integer, type(example_integer)) #print the integer and its type\n",
    "\n",
    "coerced_float = float(example_integer)\n",
    "print(coerced_float, type(coerced_float))"
   ]
  },
  {
   "cell_type": "markdown",
   "id": "717c2237",
   "metadata": {},
   "source": [
    "You can coerce these types manually or Python sometimes does it automatically, for example when you try and execute operations on a variable that requires a certain type. For instance, if you try to add the integer and float above, the result of that operation will be a float. Python automatically coerces the integer to a float to complete the addition.\n",
    "\n",
    "3. For this exercise, try to perform some operations on these variables below. Which types can be automatically added together? And what type is the result of their operation? What happens when you try a different operation, such as subtraction?"
   ]
  },
  {
   "cell_type": "code",
   "execution_count": null,
   "id": "c097543c",
   "metadata": {},
   "outputs": [],
   "source": [
    "ex_int = 1\n",
    "ex_float = 2.0\n",
    "ex_string = 'three'\n",
    "ex_bool = True\n",
    "\n",
    "ex_result = ex_int + ex_float  # example operation\n",
    "print(ex_result, type(ex_result))\n",
    "\n",
    "result2 = ex_float + ex_float\n",
    "print(result2, type(result2))\n",
    "\n",
    "result3 = ex_float + ex_bool\n",
    "print(result3, type(result3))\n",
    "\n",
    "result4 = ex_string + ex_string\n",
    "print(result4, type(result4))\n",
    "\n",
    "result5 = ex_bool + ex_int\n",
    "print(result5, type(result5))"
   ]
  },
  {
   "cell_type": "markdown",
   "id": "a39dc117",
   "metadata": {},
   "source": [
    "# Lists\n",
    "## Exercise B\n",
    "Let's make some lists! \n",
    "1. Start by declaring an empty list (`empty_list = []`)."
   ]
  },
  {
   "cell_type": "code",
   "execution_count": null,
   "id": "5e733983",
   "metadata": {},
   "outputs": [],
   "source": [
    "my_list = []"
   ]
  },
  {
   "cell_type": "markdown",
   "id": "b4183bf9",
   "metadata": {},
   "source": [
    "You can check the length of the list with the `len()` function:"
   ]
  },
  {
   "cell_type": "code",
   "execution_count": null,
   "id": "7e68b547",
   "metadata": {},
   "outputs": [],
   "source": [
    "print(len(my_list))"
   ]
  },
  {
   "cell_type": "markdown",
   "id": "d714a440",
   "metadata": {},
   "source": [
    "2. Now, add some elements to your list. Then check the length of the list again!"
   ]
  },
  {
   "cell_type": "code",
   "execution_count": null,
   "id": "6e9bf32e",
   "metadata": {},
   "outputs": [],
   "source": [
    "## Space for exercise\n",
    "my_list.append([1, 2.0, True, 'Four'])\n",
    "my_list.append(example_float)\n",
    "my_list.append(example_int)\n",
    "len(my_list)"
   ]
  },
  {
   "cell_type": "markdown",
   "id": "b0e41830",
   "metadata": {},
   "source": [
    "# Loops\n",
    "## Exercise C"
   ]
  },
  {
   "cell_type": "markdown",
   "id": "64183496",
   "metadata": {},
   "source": [
    "1. Now that you have your list, let's walk through it and print every element in it. Hint: use the `for` loop."
   ]
  },
  {
   "cell_type": "code",
   "execution_count": null,
   "id": "56a7ace9",
   "metadata": {},
   "outputs": [],
   "source": [
    "## Space for exercise\n",
    "for item in my_list:\n",
    "    print(item)"
   ]
  },
  {
   "cell_type": "markdown",
   "id": "a20a0635",
   "metadata": {},
   "source": [
    "2. Instead of simply printing the elements, see if you can print the result of an operation with each element (for example, print the element + 1 if all your list elements are numbers or booleans). Alternatively, see if you can print the type of each element in the list."
   ]
  },
  {
   "cell_type": "code",
   "execution_count": null,
   "id": "915dd02c",
   "metadata": {},
   "outputs": [],
   "source": [
    "## Space for exercise\n",
    "for item in my_list:\n",
    "    print(type(item))"
   ]
  },
  {
   "cell_type": "markdown",
   "id": "c572e390",
   "metadata": {},
   "source": [
    "# Logical Operators\n",
    "## Exercise D\n",
    "Python allows the use of several logical operators, so to get you in the mindset of a computer, see if you can determine whether an expression is going to return `True` or `False`. After you have given your answer, run the code in the cell to see if you were correct!"
   ]
  },
  {
   "cell_type": "code",
   "execution_count": null,
   "id": "fbadb098",
   "metadata": {},
   "outputs": [],
   "source": [
    "# Declaration of the variables used in the exercise\n",
    "n1 = 1\n",
    "n2 = 2\n",
    "n3 = 3.4\n",
    "n4 = 4.5\n",
    "s1 = 'Hello'\n",
    "s2 = 'World'\n",
    "s3 = 'Hallo'\n",
    "s4 = 'Wereld'\n",
    "l1 = [n1, n2, n3, n4]\n",
    "l2 = [s1, s2, s3, s4]"
   ]
  },
  {
   "cell_type": "code",
   "execution_count": null,
   "id": "a5602d53",
   "metadata": {},
   "outputs": [],
   "source": [
    "#Example 1\n",
    "n1 == n2"
   ]
  },
  {
   "cell_type": "markdown",
   "id": "01807dfe",
   "metadata": {},
   "source": [
    "True or False?"
   ]
  },
  {
   "cell_type": "code",
   "execution_count": null,
   "id": "a337d626",
   "metadata": {},
   "outputs": [],
   "source": [
    "#Example 2\n",
    "n1 + n2 == 3"
   ]
  },
  {
   "cell_type": "code",
   "execution_count": null,
   "id": "3ac68fd5",
   "metadata": {},
   "outputs": [],
   "source": [
    "#Example 3\n",
    "n1 + n3 != 3.4"
   ]
  },
  {
   "cell_type": "markdown",
   "id": "fdf9c9de",
   "metadata": {},
   "source": [
    "True or False?"
   ]
  },
  {
   "cell_type": "code",
   "execution_count": null,
   "id": "8c3852bd",
   "metadata": {},
   "outputs": [],
   "source": [
    "#Example 4\n",
    "s1 + s2 == \"Hello World\""
   ]
  },
  {
   "cell_type": "markdown",
   "id": "9941f3bd",
   "metadata": {},
   "source": [
    "True or False?"
   ]
  },
  {
   "cell_type": "code",
   "execution_count": null,
   "id": "09e29f45",
   "metadata": {},
   "outputs": [],
   "source": [
    "#Example 5\n",
    "s3 == \"hallo\""
   ]
  },
  {
   "cell_type": "markdown",
   "id": "371ba61d",
   "metadata": {},
   "source": [
    "True or False?"
   ]
  },
  {
   "cell_type": "code",
   "execution_count": null,
   "id": "e418f6b2",
   "metadata": {},
   "outputs": [],
   "source": [
    "#Example 6\n",
    "len(l1) == len(l2)"
   ]
  },
  {
   "cell_type": "markdown",
   "id": "a8018123",
   "metadata": {},
   "source": [
    "True or False?"
   ]
  },
  {
   "cell_type": "code",
   "execution_count": null,
   "id": "8229f790",
   "metadata": {},
   "outputs": [],
   "source": [
    "#Example 7\n",
    "len(s3) == len(s1)"
   ]
  },
  {
   "cell_type": "code",
   "execution_count": null,
   "id": "8bc7ec3e",
   "metadata": {},
   "outputs": [],
   "source": [
    "##Example 8\n",
    "for item in l2:\n",
    "    print(len(item) == 5)"
   ]
  }
 ],
 "metadata": {
  "kernelspec": {
   "display_name": "Python 3",
   "language": "python",
   "name": "python3"
  }
 },
 "nbformat": 4,
 "nbformat_minor": 5
}
