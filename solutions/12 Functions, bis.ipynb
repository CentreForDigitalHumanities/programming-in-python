{
 "cells": [
  {
   "cell_type": "markdown",
   "id": "a7413a03",
   "metadata": {
    "id": "kjdcNtg3k8Aa"
   },
   "source": [
    "# Module 12: Functions, bis\n",
    "\n",
    "### Exercise solutions\n",
    "\n",
    "[Module 12](https://colab.research.google.com/github/CentreForDigitalHumanities/programming-in-python/blob/main/lessons/12%20functions%2C%20bis.ipynb)\n",
    "\n",
    "### CDH course \"Programming in Python\"\n",
    "\n",
    "[index](https://colab.research.google.com/github/CentreForDigitalHumanities/programming-in-python/blob/main/lessons/00%20index.ipynb)\n",
    "\n",
    "Previous module: [11 - Working with files](https://colab.research.google.com/github/CentreForDigitalHumanities/programming-in-python/blob/main/lessons/11%20working%20with%20files.ipynb) - [solutions](https://colab.research.google.com/github/CentreForDigitalHumanities/programming-in-python/blob/main/solutions/11%20working%20with%20files%20solutions.ipynb)"
   ]
  },
  {
   "cell_type": "markdown",
   "id": "f4a11d61",
   "metadata": {
    "id": "1xUD2ZNjcqEZ"
   },
   "source": [
    "## Exercise 12.1: function tricks"
   ]
  },
  {
   "cell_type": "markdown",
   "id": "ddf2ddaa",
   "metadata": {
    "id": "hxRC5Nx-cyM4"
   },
   "source": [
    "1. In each of the code blocks below, predict the output, check your prediction by running the code, and try to explain any surprises."
   ]
  },
  {
   "cell_type": "code",
   "execution_count": null,
   "id": "edee62d9",
   "metadata": {
    "colab": {
     "base_uri": "https://localhost:8080/"
    },
    "executionInfo": {
     "elapsed": 392,
     "status": "ok",
     "timestamp": 1681908707519,
     "user": {
      "displayName": "Luka van der Plas",
      "userId": "16305747382115943293"
     },
     "user_tz": -120
    },
    "id": "HPxio0q6c-M9",
    "outputId": "8542c5de-15ae-4841-b438-1211d999241f"
   },
   "outputs": [],
   "source": [
    "def welcome(name=None):\n",
    "    if name is None:\n",
    "        return 'Welcome to my office. How can I help you?'\n",
    "    return 'Please make yourself at home, ' + name + '!'\n",
    "\n",
    "print(welcome()) # default option\n",
    "print(welcome('Sheean'))"
   ]
  },
  {
   "cell_type": "code",
   "execution_count": null,
   "id": "96915085",
   "metadata": {
    "colab": {
     "base_uri": "https://localhost:8080/"
    },
    "executionInfo": {
     "elapsed": 6,
     "status": "ok",
     "timestamp": 1681908774383,
     "user": {
      "displayName": "Luka van der Plas",
      "userId": "16305747382115943293"
     },
     "user_tz": -120
    },
    "id": "NxXqK4ROdxva",
    "outputId": "08744e41-cbe2-4c45-9566-9174466aaf88"
   },
   "outputs": [],
   "source": [
    "def table(number):\n",
    "    return number, number * 2, number * 3 #return three numbers\n",
    "\n",
    "first, second, third = table(5) # table(5) is (5, 10, 15) ; unpack these into three variables\n",
    "\n",
    "print(third) #print the third"
   ]
  },
  {
   "cell_type": "code",
   "execution_count": null,
   "id": "69526d40",
   "metadata": {
    "colab": {
     "base_uri": "https://localhost:8080/"
    },
    "executionInfo": {
     "elapsed": 14,
     "status": "ok",
     "timestamp": 1681908875617,
     "user": {
      "displayName": "Luka van der Plas",
      "userId": "16305747382115943293"
     },
     "user_tz": -120
    },
    "id": "EVCf3w9qfBCU",
    "outputId": "8883c815-c80f-4f0a-f185-4d6d935e54cb"
   },
   "outputs": [],
   "source": [
    "def contact(name, job):\n",
    "    return 'For ' + job + ', contact ' + name + '.'\n",
    "\n",
    "contact_line = contact(job='naming', name='Job') # we use named arguments, so we can supply `name` and `job` in any order\n",
    "print(contact_line)"
   ]
  },
  {
   "cell_type": "code",
   "execution_count": null,
   "id": "ae507a7a",
   "metadata": {
    "colab": {
     "base_uri": "https://localhost:8080/"
    },
    "executionInfo": {
     "elapsed": 4,
     "status": "ok",
     "timestamp": 1681909054548,
     "user": {
      "displayName": "Luka van der Plas",
      "userId": "16305747382115943293"
     },
     "user_tz": -120
    },
    "id": "OUSpe-hPl6-G",
    "outputId": "fa03386e-6570-43ce-a65b-424d5cbfb193"
   },
   "outputs": [],
   "source": [
    "def exclaim(name):\n",
    "    return name + '!'\n",
    "\n",
    "def request(name):\n",
    "    return name + '?'\n",
    "\n",
    "def tell(how):\n",
    "    return 'As my mother would say: ' + how('Julian')\n",
    "\n",
    "print(tell(request))\n",
    "\n",
    "# tell(request) will return `'As my mother would say: ' + how('Julian')`\n",
    "# `how` is whatever we pass on as the argument to `tell`, in this case the function `request`\n",
    "# so we can fill in `how('Julian')` as `request('Julian')`\n",
    "# now we can look at the body of `request` to see what it does (it puts a\n",
    "# question mark behind the name)"
   ]
  },
  {
   "cell_type": "code",
   "execution_count": null,
   "id": "b5861e82",
   "metadata": {
    "colab": {
     "base_uri": "https://localhost:8080/"
    },
    "executionInfo": {
     "elapsed": 9,
     "status": "ok",
     "timestamp": 1681909174217,
     "user": {
      "displayName": "Luka van der Plas",
      "userId": "16305747382115943293"
     },
     "user_tz": -120
    },
    "id": "uSN17qnvmoWv",
    "outputId": "f36d7049-e723-4036-e0b3-4b48a9b2103f"
   },
   "outputs": [],
   "source": [
    "def make_enumerate(separator):\n",
    "    def enumerate(items):\n",
    "        if not len(items):\n",
    "            return ''\n",
    "        result = items[0]\n",
    "        for item in items[1:]:\n",
    "            result = result + separator + item\n",
    "        return result\n",
    "    return enumerate\n",
    "\n",
    "with_semicolon = make_enumerate('; ')\n",
    "fruits = with_semicolon(['apricot', 'banana', 'cherry'])\n",
    "print(fruits)\n",
    "\n",
    "# with_semicolon is the output of make_enumerate: another function.\n",
    "# This function takes a list of strings as input and joins them with a semicolon\n",
    "# between them. we can then call `with_semicolon` on the list of fruits."
   ]
  },
  {
   "cell_type": "markdown",
   "id": "fdba6292",
   "metadata": {
    "id": "CKma4p6Egkwb"
   },
   "source": [
    "2. In each of the following code blocks, something is missing in the function definition. Add the missing element."
   ]
  },
  {
   "cell_type": "code",
   "execution_count": null,
   "id": "e2adb610",
   "metadata": {
    "id": "SaygnjMygwNF"
   },
   "outputs": [],
   "source": [
    "def combine(left, right):\n",
    "    \"\"\" Compute the sum and the product of the arguments. \"\"\"\n",
    "    sum = left + right\n",
    "    product = left * right\n",
    "    return sum, product #return both the sum and the product\n",
    "\n",
    "assert combine(2, 3) == (5, 6)"
   ]
  },
  {
   "cell_type": "code",
   "execution_count": null,
   "id": "a5ba9adc",
   "metadata": {
    "id": "GqIgTcG6hMuG"
   },
   "outputs": [],
   "source": [
    "def announce_time(hour, minute=0): # minute should be optional, so we add a default value.\n",
    "    \"\"\" Announce the time in a speaking clock manner. \"\"\"\n",
    "    if minute < 10:\n",
    "        minute = '0' + str(minute)\n",
    "    time = str(hour) + ':' + str(minute)\n",
    "    return 'At the next beep, the time will be ' + time + '. BEEP!'\n",
    "\n",
    "assert announce_time(12) == 'At the next beep, the time will be 12:00. BEEP!'"
   ]
  },
  {
   "cell_type": "code",
   "execution_count": null,
   "id": "c7b51556",
   "metadata": {
    "colab": {
     "base_uri": "https://localhost:8080/"
    },
    "executionInfo": {
     "elapsed": 395,
     "status": "ok",
     "timestamp": 1681909264360,
     "user": {
      "displayName": "Luka van der Plas",
      "userId": "16305747382115943293"
     },
     "user_tz": -120
    },
    "id": "nH77gJdOkS5b",
    "outputId": "f70a5f41-1916-4deb-da38-248ea056a749"
   },
   "outputs": [],
   "source": [
    "def echo(value):\n",
    "    print(value)\n",
    "    return value\n",
    "\n",
    "assert echo('holiday') == 'holiday'"
   ]
  },
  {
   "cell_type": "markdown",
   "id": "bf440292",
   "metadata": {
    "id": "YG5XrO1PoIJx"
   },
   "source": [
    "3. In the following code block, write a function `month`, which returns a string name for given numeric month. Month `1` is `'January'` and month `12` is `December`. When no argument is passed, it should default to the current month. **Tip:** you can avoid writing a big `if`/`elif`/`else` tree by using a list of month names and using the month number as a list index."
   ]
  },
  {
   "cell_type": "code",
   "execution_count": null,
   "id": "6b22e175",
   "metadata": {
    "id": "TnuU_I0Tq9wQ"
   },
   "outputs": [],
   "source": [
    "# You may pretend that it is forever May\n",
    "current_month = 5\n",
    "\n",
    "months = ['January', 'February', 'March', 'April', 'May', 'June', 'July', 'August', 'September', 'October', 'November', 'December']\n",
    "\n",
    "def month(number=current_month):\n",
    "    '''\n",
    "    Return the name of a month based on an number.\n",
    "\n",
    "    Input should be an integer between 1 and 12. Returns None if this is not the case.\n",
    "    If no month number is given, defaults to November.\n",
    "\n",
    "    Returns a string with the name of the Month.\n",
    "    '''\n",
    "\n",
    "    if type(number) is not int or number < 1 or number > 12:\n",
    "        return None\n",
    "\n",
    "    index = number - 1\n",
    "    return months[index]\n",
    "\n",
    "assert month(3) == 'March'\n",
    "assert month(4) == 'April'\n",
    "assert month(11) == 'November'\n",
    "assert month() == 'May'"
   ]
  },
  {
   "cell_type": "markdown",
   "id": "5bf7b8d0",
   "metadata": {
    "id": "WuRrElhUsD40"
   },
   "source": [
    "4. In the following code block, write a function `weekday`, which is analogous to `month` in the previous exercise. Day `1` is `'Monday'` while day `0` and day `7` are both `'Sunday'`. Can you avoid writing the string `'Sunday'` twice in your code?"
   ]
  },
  {
   "cell_type": "code",
   "execution_count": null,
   "id": "320e06a3",
   "metadata": {
    "id": "WUGQqmJysrqS"
   },
   "outputs": [],
   "source": [
    "# You may pretend it is forever Wednesday\n",
    "current_weekday = 3\n",
    "\n",
    "weekdays = ['Monday', 'Tuesday', 'Wednesday', 'Thursday', 'Friday', 'Saturday', 'Sunday']\n",
    "\n",
    "def weekday(number=current_weekday):\n",
    "    '''\n",
    "    Return the name of a weekday based on an number.\n",
    "\n",
    "    Input should be an integer between 0 and 7. Returns None if this is not the case.\n",
    "    If no weekday number is given, defaults to Wednesday.\n",
    "\n",
    "    Returns a string with the name of the weekday. Day 1 is 'Monday' while day 0\n",
    "    and day 7 are both 'Sunday'.\n",
    "    '''\n",
    "    if type(number) is not int or number < 0 or number > 7:\n",
    "        return None\n",
    "\n",
    "    index = (number - 1) % 7\n",
    "    return weekdays[index]\n",
    "\n",
    "assert weekday() == 'Wednesday'\n",
    "assert weekday(0) == 'Sunday'\n",
    "assert weekday(7) == 'Sunday'\n",
    "assert weekday(4) == 'Thursday'"
   ]
  },
  {
   "cell_type": "markdown",
   "id": "1faa30cc",
   "metadata": {
    "id": "ZvfEq3NctoOo"
   },
   "source": [
    "## Exercise 12.2: bonus"
   ]
  },
  {
   "cell_type": "markdown",
   "id": "a26669e6",
   "metadata": {
    "id": "8au2fNRutw8i"
   },
   "source": [
    "1. In exercises 12.1.4 and 12.1.5, where you just implemented `month` and `weekday`, your code was likely very similar. How could you implement both functions without repeating yourself? Check your solution with assertions."
   ]
  },
  {
   "cell_type": "code",
   "execution_count": null,
   "id": "c76588b3",
   "metadata": {
    "id": "JFhOX_Z5uVfC"
   },
   "outputs": [],
   "source": [
    "def make_namer(names, default):\n",
    "    '''\n",
    "    Make a function to give names (months, weekdays, etc) based on a number.\n",
    "\n",
    "    Input:\n",
    "    - A list of names (strings)\n",
    "    - A default input value for the function\n",
    "\n",
    "    Returns a function that takes a number and returns the corresponding name.\n",
    "    1 is the first list in the name, etc.\n",
    "    '''\n",
    "    size = len(names)\n",
    "\n",
    "    def name(number=default):\n",
    "        '''\n",
    "        Gives the name corresponding to a number\n",
    "        '''\n",
    "        if type(number) is not int or number < 0 or number > size:\n",
    "            return None\n",
    "\n",
    "        index = (number - 1) % size\n",
    "        return names[index]\n",
    "\n",
    "    return name\n",
    "\n",
    "# now we can make our month and weekday functions based on make_namer\n",
    "\n",
    "current_month = 11\n",
    "months = ['January', 'February', 'March', 'April', 'May', 'June', 'July', 'August', 'September', 'October', 'November', 'December']\n",
    "\n",
    "current_weekday = 3\n",
    "weekdays = ['Monday', 'Tuesday', 'Wednesday', 'Thursday', 'Friday', 'Saturday', 'Sunday']\n",
    "\n",
    "month = make_namer(months, current_month)\n",
    "weekday = make_namer(weekdays, current_weekday)\n",
    "\n",
    "# repeat the assert statements above to show everything still works\n",
    "\n",
    "assert month(3) == 'March'\n",
    "assert month(4) == 'April'\n",
    "assert month(11) == 'November'\n",
    "assert month() == 'November'\n",
    "\n",
    "assert weekday() == 'Wednesday'\n",
    "assert weekday(0) == 'Sunday'\n",
    "assert weekday(7) == 'Sunday'\n",
    "assert weekday(4) == 'Thursday'"
   ]
  },
  {
   "cell_type": "markdown",
   "id": "a3e79b40",
   "metadata": {
    "id": "Gx54DrgJuWKg"
   },
   "source": [
    "2. Write a function `create_date_format`, which takes two arguments that determine how a date should be displayed. The first argument is function that transforms a weekday number to a string suitable for display, the second argument is a function that transforms a month number. Both arguments default to just displaying the number as-is. `create_date_format` returns a new function. The latter function takes any date defined by a year, month, day and weekday, and returns a string suitable for displaying that date as a whole."
   ]
  },
  {
   "cell_type": "code",
   "execution_count": null,
   "id": "35b9b5fe",
   "metadata": {
    "id": "0KyXFHEWwZ45"
   },
   "outputs": [],
   "source": [
    "# For this code block, you need to have `month` and `weekday`\n",
    "# in your runtime from previous exercises.\n",
    "\n",
    "def create_date_format(weekday_formatter=str, month_formatter=str):\n",
    "    '''\n",
    "    Creates a function that formats dates.\n",
    "\n",
    "    Input:\n",
    "    - weekday_formatter: a function that converts the day of the week (number) to a string\n",
    "    - month_formatter: a function that converts the month (number) to a string\n",
    "\n",
    "    If these functions are not supplied, the month and day are shown as-is.\n",
    "\n",
    "    Output: A function that takes integers for the year, month, day of the\n",
    "    month, and day of the week, and returns a string with the formatted date.\n",
    "    '''\n",
    "\n",
    "    def format_date(year, month, day_of_month, day_of_week):\n",
    "        '''\n",
    "        Format a date in a nice string.\n",
    "        '''\n",
    "\n",
    "        day_string = weekday_formatter(day_of_week)\n",
    "        month_string = month_formatter(month)\n",
    "\n",
    "        nice_string = day_string + ', ' + month_string + ' ' + str(day_of_month) + ', ' + str(year)\n",
    "        return nice_string\n",
    "\n",
    "    return format_date\n",
    "\n",
    "# Your definition of create_date_format here\n",
    "\n",
    "wordy_format = create_date_format(weekday, month)\n",
    "cryptic_format = create_date_format()\n",
    "\n",
    "assert wordy_format(2023, 4, 11, 2) == 'Tuesday, April 11, 2023'\n",
    "assert cryptic_format(2023, 4, 11, 2) == '2, 4 11, 2023'"
   ]
  },
  {
   "cell_type": "markdown",
   "id": "8811b3c1",
   "metadata": {
    "id": "b-p6Ct5_0I-x"
   },
   "source": [
    "## Exercise 12.3: ultimate FizzBuzz (more bonus)\n",
    "\n",
    "1. Write two functions `fizz(number)` and `buzz(number)`. If `number` is divisible by 3, `fizz` should return the string `'Fizz'`; otherwise, it should return the empty string `''`. `buzz` should work like `fizz`, but for divisibility by 5 and the string `'Buzz'`."
   ]
  },
  {
   "cell_type": "code",
   "execution_count": null,
   "id": "8d2c7a52",
   "metadata": {
    "id": "407dPPK966R9"
   },
   "outputs": [],
   "source": [
    "# Your solution here\n",
    "\n",
    "def fizz(number):\n",
    "    '''\n",
    "    Returns 'Fizz' if a number is divisible by 3, otherwise the empty string\n",
    "    '''\n",
    "\n",
    "    if number % 3 == 0:\n",
    "        return 'Fizz'\n",
    "    else:\n",
    "        return ''\n",
    "\n",
    "def buzz(number):\n",
    "    '''\n",
    "    Returns 'Buzz' if a number is divisible by 5, otherwise the empty string\n",
    "    '''\n",
    "\n",
    "    if number % 5 == 0:\n",
    "        return 'Buzz'\n",
    "    else:\n",
    "        return ''\n",
    "\n",
    "for number in [1, 2, 4, 5, 7, 8, 10, 11, 13, 14]:\n",
    "    assert fizz(number) == '', str(number) + ' is not divisible by 3'\n",
    "for number in [3, 6, 9, 12, 15, 18, 21, 24, 27]:\n",
    "    assert fizz(number) == 'Fizz', str(number) + ' is divisible by 3'\n",
    "for number in [1, 2, 3, 4, 6, 7, 8, 9, 11, 12, 13, 14]:\n",
    "    assert buzz(number) == '', str(number) + ' is not divisible by 5'\n",
    "for number in [5, 10, 15, 20, 25, 30, 35, 40]:\n",
    "    assert buzz(number) == 'Buzz', str(number) + ' is divisible by 5'"
   ]
  },
  {
   "cell_type": "markdown",
   "id": "0449d1e9",
   "metadata": {
    "id": "QCKc52-r9DrX"
   },
   "source": [
    "2. Using your functions `fizz` and `buzz` from step 1, write the function `fizzbuzz(number)`, which implements the well-known rules from before, but with a slight **twist**:\n",
    "    - If the number is divisible by 3 and 5, return `'FizzBuzz'`.\n",
    "    - If the number is divisible by 3 but not by 5, return `'Fizz'`.\n",
    "    - If the number is divisible by 5 but not by 3, return `'Buzz'`.\n",
    "    - In all other cases, return the number itself **as a string**."
   ]
  },
  {
   "cell_type": "code",
   "execution_count": null,
   "id": "a25a208a",
   "metadata": {
    "id": "NFADyIW3-7qt"
   },
   "outputs": [],
   "source": [
    "# Your solution here\n",
    "\n",
    "def fizzbuzz(number):\n",
    "    '''\n",
    "    Turns a number into a fizzbuzz string.\n",
    "\n",
    "    - If the number is divisible by 3 and 5, returns 'FizzBuzz'.\n",
    "    - If the number is divisible by 3 but not by 5, returns 'Fizz'.\n",
    "    - If the number is divisible by 5 but not by 3, returns 'Buzz'.\n",
    "    - In all other cases, returns the number itself as a string.\n",
    "    '''\n",
    "\n",
    "    fizzbuzzed = fizz(number) + buzz(number)\n",
    "\n",
    "    if fizzbuzzed:\n",
    "        return fizzbuzzed\n",
    "    else:\n",
    "        return str(number)\n",
    "\n",
    "for number in [1, 2, 4, 7, 8, 11, 13, 14]:\n",
    "    assert fizzbuzz(number) == str(number), str(number)\n",
    "for number in [3, 6, 9, 12, 18, 21, 24, 27]:\n",
    "    assert fizzbuzz(number) == 'Fizz', str(number)\n",
    "for number in [5, 10, 20, 25, 35, 40]:\n",
    "    assert fizzbuzz(number) == 'Buzz', str(number)\n",
    "for number in [15, 30, 45, 60, 75]:\n",
    "    assert fizzbuzz(number) == 'FizzBuzz', str(number)"
   ]
  },
  {
   "cell_type": "markdown",
   "id": "8cf044b5",
   "metadata": {
    "id": "o_3wq4agCCZH"
   },
   "source": [
    "3. Write a function `chunk10(sequence)` that takes an iterable `sequence` and returns a list of lists: the first sublist contains the first ten elements of `sequence`, the second sublist contains the next ten elements of `sequence`, and so on. You may assume that the number of values in `sequence` is an exact multiple of 10."
   ]
  },
  {
   "cell_type": "code",
   "execution_count": null,
   "id": "78c0364d",
   "metadata": {
    "id": "4c0A4kMfDdvt"
   },
   "outputs": [],
   "source": [
    "# Your solution here\n",
    "\n",
    "def chunk10(sequence):\n",
    "    '''\n",
    "    Splits a sequence into chunks of 10 elements\n",
    "    '''\n",
    "\n",
    "    items = list(sequence)\n",
    "    chunks = []\n",
    "\n",
    "    for position in range(0, len(sequence), 10):\n",
    "        chunk = items[position: position + 10]\n",
    "        chunks.append(chunk)\n",
    "\n",
    "    return chunks\n",
    "\n",
    "assert chunk10('Jelte!!!!!') == [list('Jelte!!!!!')]\n",
    "assert chunk10('Hey Julian, let us have lunch!') == [\n",
    "    list('Hey Julian'),\n",
    "    list(', let us h'),\n",
    "    list('ave lunch!'),\n",
    "]\n",
    "assert chunk10(range(20)) == [list(range(10)), list(range(10, 20))]"
   ]
  },
  {
   "cell_type": "markdown",
   "id": "c0efef45",
   "metadata": {
    "id": "HBA4z4yVIhsn"
   },
   "source": [
    "4. In step 1, you may have written definitions for `fizz` and `buzz` that look very similar to each other. Can you think of a way to avoid repeating the common elements?"
   ]
  },
  {
   "cell_type": "code",
   "execution_count": null,
   "id": "b725f75d",
   "metadata": {
    "id": "5g4BRdpLJLIc"
   },
   "outputs": [],
   "source": [
    "# Your solution here\n",
    "\n",
    "def fizz_or_buzz(number, message='Fizz', denominator=3):\n",
    "    '''\n",
    "    If number is divisible by denominator, return the message. Otherwise, return the empty string.\n",
    "    '''\n",
    "    if number % denominator == 0:\n",
    "        return message\n",
    "    else:\n",
    "        return ''\n",
    "\n",
    "def fizz(number):\n",
    "    return fizz_or_buzz(number)\n",
    "\n",
    "def buzz(number):\n",
    "    return fizz_or_buzz(number, 'Buzz', 5)\n",
    "\n",
    "for number in [1, 2, 4, 5, 7, 8, 10, 11, 13, 14]:\n",
    "    assert fizz(number) == '', str(number) + ' is not divisible by 3'\n",
    "for number in [3, 6, 9, 12, 15, 18, 21, 24, 27]:\n",
    "    assert fizz(number) == 'Fizz', str(number) + ' is divisible by 3'\n",
    "for number in [1, 2, 3, 4, 6, 7, 8, 9, 11, 12, 13, 14]:\n",
    "    assert buzz(number) == '', str(number) + ' is not divisible by 5'\n",
    "for number in [5, 10, 15, 20, 25, 30, 35, 40]:\n",
    "    assert buzz(number) == 'Buzz', str(number) + ' is divisible by 5'"
   ]
  },
  {
   "cell_type": "markdown",
   "id": "c5bc9889",
   "metadata": {
    "id": "BXzFYNGmPeO6"
   },
   "source": [
    "5. In *exercise 7.1.3*, you documented the function `join_commas`. We did not actually need to write that function, because it is built into Python, although it goes by the name `', '.join`. That notation also works with other strings, as we demonstrate below. We also remind you of `map`, which appeared in the lecture.<br><br>\n",
    "Using these functions, as well as your own `fizzbuzz` from step 2 and your own `chunk10` from step 3, try to recreate (roughly) the same `FizzBuzz` output for the numbers 1 through 100 as in *exercise 6.2.4*, in as little code as you can."
   ]
  },
  {
   "cell_type": "code",
   "execution_count": null,
   "id": "0346275e",
   "metadata": {
    "colab": {
     "base_uri": "https://localhost:8080/"
    },
    "executionInfo": {
     "elapsed": 597,
     "status": "ok",
     "timestamp": 1681913126765,
     "user": {
      "displayName": "Luka van der Plas",
      "userId": "16305747382115943293"
     },
     "user_tz": -120
    },
    "id": "nDGUS26IMApD",
    "outputId": "a78e10b9-f6d3-433f-f06c-d78ee65f65e4"
   },
   "outputs": [],
   "source": [
    "# The following code is just for illustration.\n",
    "# You do not need it in your solution.\n",
    "fruits = ['apricot', 'banana', 'cherry']\n",
    "print(', '.join(fruits))\n",
    "print('\\n'.join(fruits))\n",
    "numbers = list(range(10))\n",
    "print(numbers)\n",
    "strings = map(str, numbers)\n",
    "print(list(strings))"
   ]
  },
  {
   "cell_type": "code",
   "execution_count": null,
   "id": "5d1d6772",
   "metadata": {
    "colab": {
     "base_uri": "https://localhost:8080/"
    },
    "executionInfo": {
     "elapsed": 12,
     "status": "ok",
     "timestamp": 1681913265047,
     "user": {
      "displayName": "Luka van der Plas",
      "userId": "16305747382115943293"
     },
     "user_tz": -120
    },
    "id": "G87eCYM61P3a",
    "outputId": "23e8acb6-b66b-4871-e44a-8d37413bd1dc"
   },
   "outputs": [],
   "source": [
    "chunks = chunk10(range(100))\n",
    "\n",
    "for chunk in chunks:\n",
    "    fizzbuzzed = map(fizzbuzz, chunk)\n",
    "    print(', '.join(fizzbuzzed))"
   ]
  },
  {
   "cell_type": "markdown",
   "id": "d112bd5a",
   "metadata": {
    "id": "hSkvuphJ5Sw9"
   },
   "source": [
    "*There is no next module. This is the end of the course!*"
   ]
  }
 ],
 "metadata": {
  "jupytext": {
   "cell_metadata_filter": "-all",
   "main_language": "python"
  },
  "kernelspec": {
   "display_name": "Python 3",
   "name": "python3"
  }
 },
 "nbformat": 4,
 "nbformat_minor": 5
}
