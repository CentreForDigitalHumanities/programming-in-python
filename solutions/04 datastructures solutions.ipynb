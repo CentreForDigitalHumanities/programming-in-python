{
 "cells": [
  {
   "cell_type": "markdown",
   "id": "47047086",
   "metadata": {
    "id": "fqMJHzNk5yXQ"
   },
   "source": [
    "# Module 4: Datastructures\n",
    "\n",
    "### Exercise solutions\n",
    "\n",
    "[Module 4](https://colab.research.google.com/drive/15YpXew3euXvEtuAlGPX19QAU8MVmWBJI)\n",
    "\n",
    "### CDH course \"Programming in Python\"\n",
    "\n",
    "[index](https://colab.research.google.com/drive/1kFvnhumJ0tOTzDVJnIvvMDRRJ19yk9ZS)\n",
    "\n",
    "Previous module: [3. Conditionals](https://colab.research.google.com/drive/1Lpr5qBYk9bqtAbY6bzfYcbGzCJpWM-ox) - [solutions](https://colab.research.google.com/drive/1pJi95yhp50gPqgTnNaNvU5lO9WH5CZSs)"
   ]
  },
  {
   "cell_type": "markdown",
   "id": "68931acd",
   "metadata": {
    "id": "70aMsClGPRy9"
   },
   "source": [
    "## Exercise 4.1: Lists\n",
    "\n",
    "1. For each of the `print` statements below, what do you expect is printed? Run the lines to check predictions"
   ]
  },
  {
   "cell_type": "code",
   "execution_count": null,
   "id": "aa942648",
   "metadata": {
    "colab": {
     "base_uri": "https://localhost:8080/"
    },
    "executionInfo": {
     "elapsed": 8,
     "status": "ok",
     "timestamp": 1680783691341,
     "user": {
      "displayName": "Julian Gonggrijp",
      "userId": "06467962548183964912"
     },
     "user_tz": -120
    },
    "id": "KMUxwcSqPlU1",
    "outputId": "523705a3-8ae0-47ab-ace7-e48ed326a404"
   },
   "outputs": [],
   "source": [
    "countries = ['japan', 'hungary', 'maldives', 'gabon', 'bhutan']\n",
    "\n",
    "print(countries[0])\n",
    "# Index 0 is the FIRST element of the list, so 'japan'.\n",
    "\n",
    "print(countries[-3])\n",
    "# Third element from the end (where 'bhutan' is first),\n",
    "# so 'maldives'.\n",
    "\n",
    "print(countries[0:1] + countries[2:4])\n",
    "# In a slice, the first index is inclusive while the last\n",
    "# index is exclusive. Hence, we have two sublists:\n",
    "# 1. starting at the first element, up to but not including the second\n",
    "#    ['japan']\n",
    "# 2. starting at the third element, up to but not including the fifth\n",
    "#    ['maldives', 'gabon']\n",
    "# and then we concatenate those to ['japan', 'maldives', 'gabon'].\n",
    "\n",
    "more_countries = countries + ['mexico', 'haiti']\n",
    "print(more_countries)\n",
    "# By concatenating two lists, we create a new, longer list,\n",
    "# with all elements of the original lists at the same level.\n",
    "\n",
    "countries.append(['mexico', 'haiti'])\n",
    "print(countries)\n",
    "# Appending a list to another list makes the former\n",
    "# a nested single element of the latter."
   ]
  },
  {
   "cell_type": "markdown",
   "id": "6278b180",
   "metadata": {
    "id": "TyebsOIpU6hv"
   },
   "source": [
    "2. Transform the list below into `['jasmin', 'john', 'ravi']` in one line of code.\n",
    "\n"
   ]
  },
  {
   "cell_type": "code",
   "execution_count": null,
   "id": "99db5fcb",
   "metadata": {
    "id": "H8o6vsHKVKoq"
   },
   "outputs": [],
   "source": [
    "students = ['jasmin', 'ravi', 'john']\n",
    "\n",
    "# Option 1: modify students in place by\n",
    "# reassinging a slice of it.\n",
    "students[1:3] = [students[2], students[1]]\n",
    "\n",
    "# Option 2: create a new list based on students.\n",
    "new_students = students[:1] + students[2:] + students[1:2]\n",
    "\n",
    "# If you figured out stepped slices in the bonus exercise,\n",
    "# you have a few more interesting options:\n",
    "\n",
    "# Variant of option 1\n",
    "students[1:3] = students[:-3:-1]\n",
    "\n",
    "# Variant of option 2\n",
    "new_students = students[:1] + students[:-3:-1]"
   ]
  },
  {
   "cell_type": "markdown",
   "id": "90823585",
   "metadata": {
    "id": "HMU5X7XFWbCw"
   },
   "source": [
    "3. For each of the print statements below, what do you expect is printed? Run the lines to check predictions."
   ]
  },
  {
   "cell_type": "code",
   "execution_count": null,
   "id": "4e44e096",
   "metadata": {
    "id": "u_RWc8wBWgMT"
   },
   "outputs": [],
   "source": [
    "random_fruit = 'pineapple'\n",
    "fruits = ['apple', 'pear', random_fruit]\n",
    "print(fruits)\n",
    "# ['apple', 'pear', 'pineapple']\n",
    "\n",
    "random_fruit = 'blueberry'\n",
    "print(fruits)\n",
    "# Still the same. The value of random_fruit was\n",
    "# copied into fruits on line 2, but there is no\n",
    "# permanent tie between the variables.\n",
    "\n",
    "random_veggie = ['brussel sprouts']\n",
    "veggies = ['broccoli', 'green beans', random_veggie]\n",
    "print(veggies)\n",
    "# There is a subtle difference with lines 1-3 here:\n",
    "# the last element of veggies is not a string, but\n",
    "# a nested list with a single string as element.\n",
    "\n",
    "random_veggie.append('kale')\n",
    "print(veggies)\n",
    "# BOOM! Somehow, veggies changed along with the content\n",
    "# of the random_veggie list. How can that be?\n",
    "# The reason is that lists are values that can change\n",
    "# by themselves. If we had reassigned random_veggie with\n",
    "# a new value, similar to lines 6-7, we would not have\n",
    "# seen it in veggies:\n",
    "\n",
    "random_veggie = 'pumpkin'\n",
    "print(veggies)"
   ]
  },
  {
   "cell_type": "markdown",
   "id": "58ebdff4",
   "metadata": {
    "id": "3BfUO-jKS_u1"
   },
   "source": [
    "## Exercise 4.2: Bonus\n",
    "\n",
    "Below we introduce another parameter in the list slice. Try to explain what it does."
   ]
  },
  {
   "cell_type": "code",
   "execution_count": null,
   "id": "2efaac63",
   "metadata": {
    "id": "Y9oxyQb7TIPI"
   },
   "outputs": [],
   "source": [
    "countries = ['japan', 'hungary', 'maldives', 'gabon', 'bhutan']\n",
    "\n",
    "print(countries[0:5:1])\n",
    "# This does not behave differently from countries[0:5].\n",
    "# From this, you could deduce that the third parameter is 1\n",
    "# by default.\n",
    "\n",
    "print(countries[0:5:2])\n",
    "# This skips every second country.\n",
    "\n",
    "print(countries[-1::-1])\n",
    "# This prints countries in reverse.\n",
    "\n",
    "print(countries[-1::-2])\n",
    "# This prints countries in reverse, skipping every second element.\n",
    "\n",
    "# Conclusion: the third parameter sets the step distance, which\n",
    "# defaults to 1. If you give Python a slice [BEGIN:END:STEP], it\n",
    "# visits the indices as follows:\n",
    "# 1. Set the index to BEGIN.\n",
    "# 2. If (STEP < 0 and index not after END)\n",
    "#    or (STEP >= 0 and index not before END): stop.\n",
    "# 3. Visit the index in the given list or other iterable.\n",
    "# 4. Set the index to index + STEP.\n",
    "# 5. Repeat from step 2."
   ]
  },
  {
   "cell_type": "markdown",
   "id": "8824d83c",
   "metadata": {
    "id": "Mb6CvHt3CaA0"
   },
   "source": [
    "The piece of code below is supposed to recognize \"fancy\" words: words that are longer than 5 characters, contain at least one copy of the letter 'a' and start with an uppercase. However, the code is broken. It does not recognize any of our fancy example words.\n",
    "\n",
    "1. Change the value of `word` into each of the examples in the comments on the first two lines and then run the code. See for yourself that the code considers none of the example words fancy. Try some other words as well.\n",
    "3. Try to understand why the code is giving the wrong result. Can you come up with a word that the code does consider fancy?\n",
    "4. Repair the code so that it gives the right result for all examples, and any other words that you come up with."
   ]
  },
  {
   "cell_type": "markdown",
   "id": "8f2d4bff",
   "metadata": {
    "id": "n8q0tzvRpzWz"
   },
   "source": [
    "> In step 2, you should find two reasons for failure which we highlight in code comments below. Once you understand these reasons, you should be able to construct words that the code does consider fancy: they must have length greater than 5, an uppercase letter in the *second* position, and a *lowercase* `'a'`. For example `'aRthur'`.\n",
    "\n",
    "> This exercise holds an important lesson: you need to fully understand why code is broken, before you can fix it!"
   ]
  },
  {
   "cell_type": "code",
   "execution_count": null,
   "id": "27d66fc7",
   "metadata": {
    "id": "QQyGzsqCCe3o"
   },
   "outputs": [],
   "source": [
    "# fancy: Alhambra, Arthur, Jasmine, Turandot\n",
    "# not so fancy: Jeep, paper, Python, Ada\n",
    "word = 'Alhambra'\n",
    "\n",
    "# The first subcondition was entirely correct.\n",
    "lengthy = len(word) > 5\n",
    "\n",
    "# The second subcondition did not take into account\n",
    "# that the 'a' might be uppercase.\n",
    "has_a = 'a' in word\n",
    "# Fix for this subcondition:\n",
    "has_a = 'a' in word or 'A' in word\n",
    "\n",
    "# The third subcondition used the wrong index: 1 instead of 0.\n",
    "first_uppercase = 'A' <= word[1] <= 'Z'\n",
    "# Fix for this subcondition:\n",
    "first_uppercase = 'A' <= word[0] <= 'Z'\n",
    "\n",
    "# The condition as a whole was formulated correctly.\n",
    "if lengthy and has_a and first_uppercase:\n",
    "    print('The word is fancy')\n",
    "else:\n",
    "    print('The word is not so fancy')"
   ]
  },
  {
   "cell_type": "markdown",
   "id": "3524b9d9",
   "metadata": {
    "id": "HiEWGB1V1W4U"
   },
   "source": [
    "## Next module\n",
    "\n",
    "[5. Assertions](https://colab.research.google.com/drive/1OBdYVZCMXGzb3fCM_FPAqY_IfeDR1kub) - [solutions](https://colab.research.google.com/drive/17cNgIFtvZ9hckZOCjPSNW4g4-HryRXjg)"
   ]
  }
 ],
 "metadata": {
  "jupytext": {
   "main_language": "python"
  },
  "kernelspec": {
   "display_name": "Python 3",
   "name": "python3"
  }
 },
 "nbformat": 4,
 "nbformat_minor": 5
}
