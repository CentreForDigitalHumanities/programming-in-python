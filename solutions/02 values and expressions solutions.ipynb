{
 "cells": [
  {
   "cell_type": "markdown",
   "id": "282d104c",
   "metadata": {
    "id": "fqMJHzNk5yXQ"
   },
   "source": [
    "# Module 2: Values and expressions\n",
    "\n",
    "### Exercise solutions\n",
    "\n",
    "[Module 2](https://colab.research.google.com/github/CentreForDigitalHumanities/programming-in-python/blob/main/lessons/02%20values%20and%20expressions.ipynb)\n",
    "\n",
    "### CDH course \"Programming in Python\"\n",
    "\n",
    "[index](https://colab.research.google.com/github/CentreForDigitalHumanities/programming-in-python/blob/main/lessons/00%20index.ipynb)\n",
    "\n",
    "Previous module: [1. Introduction](https://colab.research.google.com/github/CentreForDigitalHumanities/programming-in-python/blob/main/lessons/01%20introduction.ipynb) - [solutions](https://colab.research.google.com/github/CentreForDigitalHumanities/programming-in-python/blob/main/solutions/01%20introduction%20solutions.ipynb)"
   ]
  },
  {
   "cell_type": "markdown",
   "id": "7b202dc8",
   "metadata": {
    "id": "pDU1uK2Igmki"
   },
   "source": [
    "## Exercise 2.1: Variables and state\n",
    "\n",
    "In each of the code blocks below, try to predict what will be printed, then run the code. If your guess was incorrect, try to figure out why the result is different. If your guess was correct, celebrate!"
   ]
  },
  {
   "cell_type": "code",
   "execution_count": null,
   "id": "21997ace",
   "metadata": {
    "colab": {
     "base_uri": "https://localhost:8080/"
    },
    "executionInfo": {
     "elapsed": 420,
     "status": "ok",
     "timestamp": 1680606359445,
     "user": {
      "displayName": "Julian Gonggrijp",
      "userId": "06467962548183964912"
     },
     "user_tz": -120
    },
    "id": "FydkKnx_hUPq",
    "outputId": "0cce4013-6c8a-44a9-ecc8-6720dcfcb047"
   },
   "outputs": [],
   "source": [
    "flavor = 'vanilla'\n",
    "print(flavor)"
   ]
  },
  {
   "cell_type": "code",
   "execution_count": null,
   "id": "849f4b1d",
   "metadata": {
    "colab": {
     "base_uri": "https://localhost:8080/"
    },
    "executionInfo": {
     "elapsed": 402,
     "status": "ok",
     "timestamp": 1680606363219,
     "user": {
      "displayName": "Julian Gonggrijp",
      "userId": "06467962548183964912"
     },
     "user_tz": -120
    },
    "id": "LTWods50h-Ij",
    "outputId": "41e65fc2-80ff-45ea-dfd1-8109e8d96b95"
   },
   "outputs": [],
   "source": [
    "temperature = 70\n",
    "print(flavor)"
   ]
  },
  {
   "cell_type": "markdown",
   "id": "a4328adc",
   "metadata": {
    "id": "pmnKAg7H95BW"
   },
   "source": [
    "The variable `flavor` was retained from the previous code block. The variable `temperature` is not used here."
   ]
  },
  {
   "cell_type": "code",
   "execution_count": null,
   "id": "3f92d4d4",
   "metadata": {
    "colab": {
     "base_uri": "https://localhost:8080/"
    },
    "executionInfo": {
     "elapsed": 450,
     "status": "ok",
     "timestamp": 1680606385469,
     "user": {
      "displayName": "Julian Gonggrijp",
      "userId": "06467962548183964912"
     },
     "user_tz": -120
    },
    "id": "l2vT4L7piGRf",
    "outputId": "472eeb4a-fe6e-4696-9817-0a481a153d5a"
   },
   "outputs": [],
   "source": [
    "print(temperature)\n",
    "temperature = 35\n",
    "print(temperature)"
   ]
  },
  {
   "cell_type": "markdown",
   "id": "912fd30d",
   "metadata": {
    "id": "ElhEcRIB-EsA"
   },
   "source": [
    "`temperature` is first printed as it was retained from the previous code block. Then, it is reassigned and printed again."
   ]
  },
  {
   "cell_type": "code",
   "execution_count": null,
   "id": "82e75193",
   "metadata": {
    "colab": {
     "base_uri": "https://localhost:8080/"
    },
    "executionInfo": {
     "elapsed": 230,
     "status": "ok",
     "timestamp": 1680606390493,
     "user": {
      "displayName": "Julian Gonggrijp",
      "userId": "06467962548183964912"
     },
     "user_tz": -120
    },
    "id": "k1Z_yWLXiWy7",
    "outputId": "41a6d3ad-c50e-4bd4-f347-07eae4f8fae9"
   },
   "outputs": [],
   "source": [
    "dog_name = 'Bobby'\n",
    "cat_name = 'Garfield'\n",
    "dog_name = cat_name\n",
    "cat_name = dog_name\n",
    "print(dog_name)\n",
    "print(cat_name)"
   ]
  },
  {
   "cell_type": "markdown",
   "id": "df7c7d6b",
   "metadata": {
    "id": "iFkF67zp-LJk"
   },
   "source": [
    "On line 3, it is important to realize that `dog_name` gets *the value of* `cat_name`. There is no permanent tie between the variables. After line 3, both variables have the same value. Hence, `cat_name` cannot change into anything else on line 4. The program has effectively forgotten the value `'Bobby'`."
   ]
  },
  {
   "cell_type": "markdown",
   "id": "2c461975",
   "metadata": {
    "id": "BZ50KykuAYPs"
   },
   "source": [
    "Before running the following code, try to explain why it does *not* output `chocolate`."
   ]
  },
  {
   "cell_type": "code",
   "execution_count": null,
   "id": "a2959820",
   "metadata": {
    "colab": {
     "base_uri": "https://localhost:8080/"
    },
    "executionInfo": {
     "elapsed": 202,
     "status": "ok",
     "timestamp": 1680606431330,
     "user": {
      "displayName": "Julian Gonggrijp",
      "userId": "06467962548183964912"
     },
     "user_tz": -120
    },
    "id": "X3xHg6K4Aicn",
    "outputId": "5a5e974b-cb7a-466b-f900-b8b586080212"
   },
   "outputs": [],
   "source": [
    "sweet = 'chocolate'\n",
    "savory = 'cheese'\n",
    "dessert = 'sweet'\n",
    "print(dessert)"
   ]
  },
  {
   "cell_type": "markdown",
   "id": "d7acb2b0",
   "metadata": {
    "id": "1qb27-Rf-wIH"
   },
   "source": [
    "On line 3, `'sweet'` is quoted, so Python considers it a string. It does not recognize it as a variable, even though we also defined a variable with that name on line 1."
   ]
  },
  {
   "cell_type": "markdown",
   "id": "6a4f0640",
   "metadata": {
    "id": "0az3tNK7WD3G"
   },
   "source": [
    "In each of the following lines of code, replace `None` by a value of your choice. Make it such that `my_int` is an integer, `my_float` is a float, `my_bool` is a boolean and `my_string` is a string."
   ]
  },
  {
   "cell_type": "code",
   "execution_count": null,
   "id": "8d268e54",
   "metadata": {
    "id": "lY-M8mfSXDfG"
   },
   "outputs": [],
   "source": [
    "my_int = 42\n",
    "my_float = .5\n",
    "my_bool = True\n",
    "my_string = \"I'm starving\""
   ]
  },
  {
   "cell_type": "markdown",
   "id": "6fde063d",
   "metadata": {
    "id": "dvNIQh7KYuJb"
   },
   "source": [
    "## Exercise 2.2: Bonus"
   ]
  },
  {
   "cell_type": "markdown",
   "id": "f09dbac6",
   "metadata": {
    "id": "GI9fyUO8XOcp"
   },
   "source": [
    "How could you verify in code whether the variables you wrote above have the correct type? Write this code below.\n",
    "\n",
    "Hint: scroll back to the section [Difference between types](https://colab.research.google.com/github/CentreForDigitalHumanities/programming-in-python/blob/main/lessons/02%20values%20and%20expressions.ipynb#scrollTo=Difference_between_types)."
   ]
  },
  {
   "cell_type": "code",
   "execution_count": null,
   "id": "152f25db",
   "metadata": {
    "colab": {
     "base_uri": "https://localhost:8080/"
    },
    "executionInfo": {
     "elapsed": 223,
     "status": "ok",
     "timestamp": 1680606693012,
     "user": {
      "displayName": "Julian Gonggrijp",
      "userId": "06467962548183964912"
     },
     "user_tz": -120
    },
    "id": "Om6z53RXYBoS",
    "outputId": "3f66fabe-bd2c-4046-d165-b6dc475ffcc2"
   },
   "outputs": [],
   "source": [
    "print(type(my_int))\n",
    "print(type(my_float))\n",
    "print(type(my_bool))\n",
    "print(type(my_string))"
   ]
  },
  {
   "cell_type": "markdown",
   "id": "6977ba5f",
   "metadata": {
    "id": "h6UKIMXCj3w9"
   },
   "source": [
    "In the code block below, replace the question mark `?` by a variable name. Make it such that the final output is `'Hooray!'`."
   ]
  },
  {
   "cell_type": "code",
   "execution_count": null,
   "id": "1fcac92b",
   "metadata": {
    "colab": {
     "base_uri": "https://localhost:8080/"
    },
    "executionInfo": {
     "elapsed": 247,
     "status": "ok",
     "timestamp": 1680606893191,
     "user": {
      "displayName": "Julian Gonggrijp",
      "userId": "06467962548183964912"
     },
     "user_tz": -120
    },
    "id": "3MI6_DY7ku30",
    "outputId": "6a605092-cca4-41c3-dfa3-0196c98be37b"
   },
   "outputs": [],
   "source": [
    "cheer = 'Hooray!'\n",
    "alarm = 'Oh no!'\n",
    "anthem = 'Wilhelmus van Nassauwe'\n",
    "alarm = anthem\n",
    "alarm = cheer  # alarm instead of ?\n",
    "cheer = anthem\n",
    "anthem = alarm\n",
    "print(anthem)"
   ]
  },
  {
   "cell_type": "markdown",
   "id": "b70f9248",
   "metadata": {
    "id": "z_bXvnya5J2_"
   },
   "source": [
    "## Exercise 2.3: Expressions\n",
    "\n"
   ]
  },
  {
   "cell_type": "markdown",
   "id": "e9b6c44f",
   "metadata": {
    "id": "j9xhznQlbCBf"
   },
   "source": [
    "1. Try to predict the value of each of the following code blocks. Can you explain any surprises?"
   ]
  },
  {
   "cell_type": "code",
   "execution_count": null,
   "id": "26fde1da",
   "metadata": {
    "colab": {
     "base_uri": "https://localhost:8080/"
    },
    "executionInfo": {
     "elapsed": 415,
     "status": "ok",
     "timestamp": 1680609962892,
     "user": {
      "displayName": "Julian Gonggrijp",
      "userId": "06467962548183964912"
     },
     "user_tz": -120
    },
    "id": "0QcMB4xwbSfL",
    "outputId": "609a5c45-cd77-4aaa-c33e-928263e14c41"
   },
   "outputs": [],
   "source": [
    "1 + 1"
   ]
  },
  {
   "cell_type": "code",
   "execution_count": null,
   "id": "9f55584e",
   "metadata": {
    "colab": {
     "base_uri": "https://localhost:8080/"
    },
    "executionInfo": {
     "elapsed": 10,
     "status": "ok",
     "timestamp": 1680609965892,
     "user": {
      "displayName": "Julian Gonggrijp",
      "userId": "06467962548183964912"
     },
     "user_tz": -120
    },
    "id": "eHKN9kP9bWkm",
    "outputId": "9b17e8cc-3a5a-4ac4-db2f-1454eae873af"
   },
   "outputs": [],
   "source": [
    "1 * 1"
   ]
  },
  {
   "cell_type": "code",
   "execution_count": null,
   "id": "37b981ea",
   "metadata": {
    "colab": {
     "base_uri": "https://localhost:8080/"
    },
    "executionInfo": {
     "elapsed": 323,
     "status": "ok",
     "timestamp": 1680609969742,
     "user": {
      "displayName": "Julian Gonggrijp",
      "userId": "06467962548183964912"
     },
     "user_tz": -120
    },
    "id": "uINoRNNbbXwJ",
    "outputId": "1b281881-5bbc-476e-e38c-bda84855665d"
   },
   "outputs": [],
   "source": [
    "a = 1\n",
    "b = 2\n",
    "a + b"
   ]
  },
  {
   "cell_type": "code",
   "execution_count": null,
   "id": "27406b54",
   "metadata": {
    "colab": {
     "base_uri": "https://localhost:8080/"
    },
    "executionInfo": {
     "elapsed": 15,
     "status": "ok",
     "timestamp": 1680609971809,
     "user": {
      "displayName": "Julian Gonggrijp",
      "userId": "06467962548183964912"
     },
     "user_tz": -120
    },
    "id": "4xyWkYlnbc_8",
    "outputId": "9b2dae89-2331-47de-83a5-4ac63e71a06d"
   },
   "outputs": [],
   "source": [
    "c = b\n",
    "a * b * c"
   ]
  },
  {
   "cell_type": "code",
   "execution_count": null,
   "id": "92a79884",
   "metadata": {
    "colab": {
     "base_uri": "https://localhost:8080/",
     "height": 38
    },
    "executionInfo": {
     "elapsed": 408,
     "status": "ok",
     "timestamp": 1680609976922,
     "user": {
      "displayName": "Julian Gonggrijp",
      "userId": "06467962548183964912"
     },
     "user_tz": -120
    },
    "id": "7tW2T4mebljv",
    "outputId": "404d4cac-d77d-40f8-c6bc-b6f4fcf0e125"
   },
   "outputs": [],
   "source": [
    "'hakuna' + 'matata'"
   ]
  },
  {
   "cell_type": "markdown",
   "id": "f186eb7a",
   "metadata": {
    "id": "wG4N61Jz_WJV"
   },
   "source": [
    "If we had done `print('hakuna', 'matata')`, it would have output `hakuna matata`, with a space between the words. When we concatenate strings using `+`, Python does not take that liberty, so if we actually want to separate words with spaces, we have to add them ourselves."
   ]
  },
  {
   "cell_type": "code",
   "execution_count": null,
   "id": "bfcf0e39",
   "metadata": {
    "colab": {
     "base_uri": "https://localhost:8080/",
     "height": 38
    },
    "executionInfo": {
     "elapsed": 332,
     "status": "ok",
     "timestamp": 1680609981027,
     "user": {
      "displayName": "Julian Gonggrijp",
      "userId": "06467962548183964912"
     },
     "user_tz": -120
    },
    "id": "uEdPHIhBb2Mw",
    "outputId": "fc706353-8980-4baa-fc4b-cca736f757e9"
   },
   "outputs": [],
   "source": [
    "liquid = 'water~'\n",
    "liquid * 3"
   ]
  },
  {
   "cell_type": "code",
   "execution_count": null,
   "id": "96b591a0",
   "metadata": {
    "colab": {
     "base_uri": "https://localhost:8080/"
    },
    "executionInfo": {
     "elapsed": 236,
     "status": "ok",
     "timestamp": 1680609983171,
     "user": {
      "displayName": "Julian Gonggrijp",
      "userId": "06467962548183964912"
     },
     "user_tz": -120
    },
    "id": "-D7BB50Qceo2",
    "outputId": "1169bc24-b2d3-41d5-b190-7e1135e3d93a"
   },
   "outputs": [],
   "source": [
    "5 - 2 - 1"
   ]
  },
  {
   "cell_type": "code",
   "execution_count": null,
   "id": "729710ea",
   "metadata": {
    "colab": {
     "base_uri": "https://localhost:8080/"
    },
    "executionInfo": {
     "elapsed": 237,
     "status": "ok",
     "timestamp": 1680609985039,
     "user": {
      "displayName": "Julian Gonggrijp",
      "userId": "06467962548183964912"
     },
     "user_tz": -120
    },
    "id": "OQUGr5rGck3m",
    "outputId": "95e07168-7633-4cc0-f961-d8beb34e5612"
   },
   "outputs": [],
   "source": [
    "5 - (2 - 1)"
   ]
  },
  {
   "cell_type": "markdown",
   "id": "dc192c07",
   "metadata": {
    "id": "btuLZMUG_xfJ"
   },
   "source": [
    "The above result is different from the previous, because Python evaluates minus operators (and most other operators) left-to-right by default."
   ]
  },
  {
   "cell_type": "code",
   "execution_count": null,
   "id": "c151f26d",
   "metadata": {
    "colab": {
     "base_uri": "https://localhost:8080/"
    },
    "executionInfo": {
     "elapsed": 212,
     "status": "ok",
     "timestamp": 1680609988715,
     "user": {
      "displayName": "Julian Gonggrijp",
      "userId": "06467962548183964912"
     },
     "user_tz": -120
    },
    "id": "Jc8fawaIdCD5",
    "outputId": "7d524d26-14c3-439a-e78f-914552814109"
   },
   "outputs": [],
   "source": [
    "income = 100\n",
    "tax = 20\n",
    "net_income = income - tax\n",
    "tax = 15\n",
    "net_income"
   ]
  },
  {
   "cell_type": "markdown",
   "id": "24789ed0",
   "metadata": {
    "id": "w08CSKAhADsd"
   },
   "source": [
    "On line 3, we set `net_income` to the outcome of *the value of* `income` minus *the value of* `tax`, which are respectively `100` and `20` at that point. `net_income` then keeps its value (`80`) until we change it directly. Hence, line 4 does not change anything about `net_income`. If we wanted to update `net_income`, we would have to run line 3 again."
   ]
  },
  {
   "cell_type": "markdown",
   "id": "bc4b8ffd",
   "metadata": {
    "id": "TlLkcRv-droI"
   },
   "source": [
    "2. In the code block below, change the values of `character` and `multiplier` so that the output becomes `'Goooood!'`."
   ]
  },
  {
   "cell_type": "code",
   "execution_count": null,
   "id": "816a5ac6",
   "metadata": {
    "colab": {
     "base_uri": "https://localhost:8080/",
     "height": 38
    },
    "executionInfo": {
     "elapsed": 406,
     "status": "ok",
     "timestamp": 1680610076844,
     "user": {
      "displayName": "Julian Gonggrijp",
      "userId": "06467962548183964912"
     },
     "user_tz": -120
    },
    "id": "pYZUkeDJenob",
    "outputId": "97c1b7a5-adf1-4112-b0b4-9a7a826855de"
   },
   "outputs": [],
   "source": [
    "character = 'o'\n",
    "multiplier = 5\n",
    "\n",
    "begin = 'G'\n",
    "middle = character * multiplier\n",
    "end = 'd!'\n",
    "\n",
    "begin + middle + end"
   ]
  },
  {
   "cell_type": "markdown",
   "id": "d97e597f",
   "metadata": {
    "id": "G8X4n_a8a5tl"
   },
   "source": [
    "3. Rewrite your Hello world-program:\n",
    "    - Build the \"hello, world!\" string using multiple variables.\n",
    "    - Make the program say \"hello, world!\" 3 times, each time on a new line"
   ]
  },
  {
   "cell_type": "code",
   "execution_count": null,
   "id": "a92507b0",
   "metadata": {
    "colab": {
     "base_uri": "https://localhost:8080/"
    },
    "executionInfo": {
     "elapsed": 8,
     "status": "ok",
     "timestamp": 1680708229954,
     "user": {
      "displayName": "Julian Gonggrijp",
      "userId": "06467962548183964912"
     },
     "user_tz": -120
    },
    "id": "nDUVvhDEfIVI",
    "outputId": "8be0c0dd-dc1e-48cc-bfae-5b3c2520efed"
   },
   "outputs": [],
   "source": [
    "# This works:\n",
    "hello = 'Hello, '\n",
    "world = 'world!\\n'\n",
    "variable = hello + world\n",
    "print(3 * variable)\n",
    "\n",
    "# This works, too:\n",
    "slogan = '''Hello, world!\n",
    "'''\n",
    "result = 3 * slogan\n",
    "print(result)\n",
    "\n",
    "# This would also work, but uses no variables:\n",
    "print('Hello, world!\\n' * 3)"
   ]
  },
  {
   "cell_type": "markdown",
   "id": "eba5f499",
   "metadata": {
    "id": "3HCqdTj2fVPK"
   },
   "source": [
    "## Exercise 2.4: Bonus"
   ]
  },
  {
   "cell_type": "markdown",
   "id": "9e2055c5",
   "metadata": {
    "id": "EKFdkLkWa8EY"
   },
   "source": [
    "1. Find out and describe what the following operators do:\n",
    "    - `%` (e.g. `10 % 2`)\n",
    "    - `//` (e.g. `10 // 2`)\n",
    "    - `**` (e.g. `10 ** 2`)\n",
    "    - Tip: write the expressions using variables. Change the variables and see how it affects the outcome."
   ]
  },
  {
   "cell_type": "code",
   "execution_count": null,
   "id": "7395577a",
   "metadata": {
    "id": "V59a7vpDfzO2"
   },
   "outputs": [],
   "source": [
    "# Regarding %, you will quickly see a pattern if you set\n",
    "# the right operand to 3 and try a series of consecutive\n",
    "# numbers as the left operand:\n",
    "\n",
    "10 % 3 == 1\n",
    "11 % 3 == 2\n",
    "12 % 3 == 0\n",
    "13 % 3 == 1\n",
    "14 % 3 == 2\n",
    "15 % 3 == 0\n",
    "16 % 3 == 1\n",
    "17 % 3 == 2\n",
    "18 % 3 == 0\n",
    "\n",
    "# Conclusion: % calculates the remainder of division.\n",
    "\n",
    "# // is like / (division), but rounded down to an integer.\n",
    "10 / 3 == 3.33333333333333333\n",
    "10 // 3 == 3\n",
    "5 / 4 == 1.25\n",
    "5 // 4 == 1\n",
    "\n",
    "# In general, the following equation is always true if\n",
    "# a and b are integers:\n",
    "(a // b) * b + a % b == a\n",
    "\n",
    "# a ** b raises a to the power of b.\n",
    "3 ** 2 == 3 * 3 == 9\n",
    "3 ** 3 == 3 * 3 * 3 == 27\n",
    "3 ** 4 == 3 * 3 * 3 * 3 == 81"
   ]
  },
  {
   "cell_type": "markdown",
   "id": "f8b93e76",
   "metadata": {
    "id": "o0WYIAUla-AX"
   },
   "source": [
    "2. Predict what will be printed on each line in the following code block, then run the code to check your answer. If you made any mistakes, try to figure out what is causing the difference."
   ]
  },
  {
   "cell_type": "code",
   "execution_count": null,
   "id": "f87b4a80",
   "metadata": {
    "colab": {
     "base_uri": "https://localhost:8080/"
    },
    "executionInfo": {
     "elapsed": 202,
     "status": "ok",
     "timestamp": 1680709009778,
     "user": {
      "displayName": "Julian Gonggrijp",
      "userId": "06467962548183964912"
     },
     "user_tz": -120
    },
    "id": "Z9Vd9pdIUzT5",
    "outputId": "1cde1422-5f7f-460f-c537-5393acf5bb2a"
   },
   "outputs": [],
   "source": [
    "word = 'stylometry'\n",
    "repeats = 3\n",
    "extra = 2\n",
    "\n",
    "print((word * repeats) + str(extra))\n",
    "# Evaluated in this order:\n",
    "word == 'stylometry'\n",
    "repeats == 3\n",
    "'stylometry' * 3 == 'stylometrystylometrystylometry'\n",
    "str(extra) == '2'\n",
    "'stylometrystylometrystylometry' + '2' == 'stylometrystylometrystylometry2'\n",
    "\n",
    "print(word * (repeats + extra))\n",
    "# Evaluated in this order:\n",
    "word == 'stylometry'\n",
    "repeats + extra == 5\n",
    "'stylometry' * 5 == 'stylometrystylometrystylometrystylometrystylometry'\n",
    "\n",
    "print(word * repeats + str(extra))\n",
    "# Evaluated in the same way as line 5, just without parentheses.\n",
    "# The * operator takes precedence over the + operator by default.\n",
    "\n",
    "print((word + str(extra)) * repeats)\n",
    "# Evaluated in this order:\n",
    "word == 'stylometry'\n",
    "str(extra) == '2'\n",
    "word + str(extra) == 'stylometry2'\n",
    "repeats == 3\n",
    "'stylometry2' * 3 == 'stylometry2stylometry2stylometry2'\n",
    "\n",
    "print(word + str(extra * repeats))\n",
    "# Evaluated in this order:\n",
    "word == 'stylometry'\n",
    "extra == 2\n",
    "repeats == 3\n",
    "2 * 3 == 6\n",
    "str(6) == '6'\n",
    "'stylometry' + '6' == 'stylometry6'\n",
    "\n",
    "print(word + str(extra) * repeats)\n",
    "# Evaluated in this order:\n",
    "word == 'stylometry'\n",
    "extra == 2\n",
    "str(2) == '2'\n",
    "repeats == 3\n",
    "# * operator takes precedence over +, so right subexpression first.\n",
    "'2' * 3 == '222'\n",
    "'stylometry' + '222' == 'stylometry222'"
   ]
  },
  {
   "cell_type": "markdown",
   "id": "55b02268",
   "metadata": {
    "id": "DRObBQZHgsIG"
   },
   "source": [
    "3. Using just the variables `word`, `repeats` and `extra` from the previous code block, write a single big expression that evaluates to `'stylometry555stylometry'`."
   ]
  },
  {
   "cell_type": "code",
   "execution_count": null,
   "id": "9eb66b56",
   "metadata": {
    "id": "uLuiUk10gqwM"
   },
   "outputs": [],
   "source": [
    "word + str(extra + repeats) * repeats + word\n",
    "# (you can add parentheses, as long as you evaluate the * before the +)"
   ]
  },
  {
   "cell_type": "markdown",
   "id": "910aa340",
   "metadata": {
    "id": "pvrcgKU18OrJ"
   },
   "source": [
    "## Exercise 2.5: boolean expressions"
   ]
  },
  {
   "cell_type": "markdown",
   "id": "db6dd30d",
   "metadata": {
    "id": "sWdnjezoil9j"
   },
   "source": [
    "1. Predict for each boolean expression below: `True` or `False`? If any of your predictions is incorrect, try to find the reason."
   ]
  },
  {
   "cell_type": "code",
   "execution_count": null,
   "id": "1faedeb5",
   "metadata": {
    "colab": {
     "base_uri": "https://localhost:8080/"
    },
    "executionInfo": {
     "elapsed": 394,
     "status": "ok",
     "timestamp": 1680614316115,
     "user": {
      "displayName": "Julian Gonggrijp",
      "userId": "06467962548183964912"
     },
     "user_tz": -120
    },
    "id": "RpSvrom3Z8fQ",
    "outputId": "d3c6bb57-e8c1-4891-c01d-850fd504e1f5"
   },
   "outputs": [],
   "source": [
    "name = 'Jelte'\n",
    "height = 2\n",
    "\n",
    "name * height == 'Jelte Jelte'\n",
    "# False because string repetition does not add spaces\n",
    "\n",
    "height < 2\n",
    "# a number can never be less than itself\n",
    "\n",
    "2 <= height\n",
    "# ... but a number is always less than or equal to itself\n",
    "\n",
    "1 < height <= 2\n",
    "# Python allows you to compare the same expression on two sides\n",
    "\n",
    "2 <= height < 1\n",
    "# Both comparison must be true for the whole expression to be True\n",
    "\n",
    "name <= 'Julian'\n",
    "# Lexicographical comparison: 'Julian' is greater because\n",
    "# 'u' comes after 'e'.\n",
    "\n",
    "height * 3 + 1 >= height\n",
    "# * and + take precedence over >=, so the evaluation goes in this order:\n",
    "height * 3 == 6\n",
    "6 + 1 == 7\n",
    "height == 2\n",
    "(7 >= 2) == True"
   ]
  },
  {
   "cell_type": "markdown",
   "id": "1b795f01",
   "metadata": {
    "id": "zJiaGIlZBN_P"
   },
   "source": [
    "2. Run the code block below. Did you expect this result? Can you explain it?"
   ]
  },
  {
   "cell_type": "code",
   "execution_count": null,
   "id": "82b30f22",
   "metadata": {
    "colab": {
     "base_uri": "https://localhost:8080/"
    },
    "executionInfo": {
     "elapsed": 208,
     "status": "ok",
     "timestamp": 1680614442403,
     "user": {
      "displayName": "Julian Gonggrijp",
      "userId": "06467962548183964912"
     },
     "user_tz": -120
    },
    "id": "_PrnFf2lioMB",
    "outputId": "9db936a2-9182-402b-bf50-207b3366496a"
   },
   "outputs": [],
   "source": [
    "1 == True\n",
    "\n",
    "# 1 and True are literally the same value.\n",
    "# More interesting equalities and inequalities:\n",
    "\n",
    "0 == False\n",
    "2 != True\n",
    "None != False"
   ]
  },
  {
   "cell_type": "markdown",
   "id": "d8102e1a",
   "metadata": {
    "id": "q8QviA70kdQE"
   },
   "source": [
    "3. Replace one value in each of the following expressions so the expression becomes `True`."
   ]
  },
  {
   "cell_type": "code",
   "execution_count": null,
   "id": "a42f2a25",
   "metadata": {
    "colab": {
     "base_uri": "https://localhost:8080/"
    },
    "executionInfo": {
     "elapsed": 320,
     "status": "ok",
     "timestamp": 1680614593732,
     "user": {
      "displayName": "Julian Gonggrijp",
      "userId": "06467962548183964912"
     },
     "user_tz": -120
    },
    "id": "qDQ9Ob5Zkrqm",
    "outputId": "af8cc847-7dbe-4ba7-fd7b-406e47d7b69d"
   },
   "outputs": [],
   "source": [
    "3 > height\n",
    "0 == 0\n",
    "'Julian' < 'Julian' * 2\n",
    "name < 2 * name"
   ]
  },
  {
   "cell_type": "markdown",
   "id": "3a20c920",
   "metadata": {
    "id": "YbdV7SQVmDVV"
   },
   "source": [
    "4. Replace one operator in each of the following expressions so the expression becomes `True`."
   ]
  },
  {
   "cell_type": "code",
   "execution_count": null,
   "id": "07124a88",
   "metadata": {
    "colab": {
     "base_uri": "https://localhost:8080/"
    },
    "executionInfo": {
     "elapsed": 254,
     "status": "ok",
     "timestamp": 1680614702559,
     "user": {
      "displayName": "Julian Gonggrijp",
      "userId": "06467962548183964912"
     },
     "user_tz": -120
    },
    "id": "hzjXIwkAmChv",
    "outputId": "a1592d3e-971f-4c75-b496-13e6875e1a55"
   },
   "outputs": [],
   "source": [
    "5 > 4\n",
    "2 - 1 == 1\n",
    "3 + 3 == 3 * 2"
   ]
  },
  {
   "cell_type": "markdown",
   "id": "1262a59b",
   "metadata": {
    "id": "SwyAMDzDn2_X"
   },
   "source": [
    "5. The *Groot woordenboek van de Nederlandse taal* by Van Dale publishers, colloquially known as \"De dikke Van Dale\", is a three-tome Dutch dictionary. The first tome contains words starting a–i, the second j–q and the third r–z. In the code block below, write an expression that will tell you whether `word` should be in the second tome. Try different values of `word` to verify that your solution is correct. You do not need to check whether the word is actually Dutch!"
   ]
  },
  {
   "cell_type": "code",
   "execution_count": null,
   "id": "979efb82",
   "metadata": {
    "colab": {
     "base_uri": "https://localhost:8080/"
    },
    "executionInfo": {
     "elapsed": 193,
     "status": "ok",
     "timestamp": 1680710351970,
     "user": {
      "displayName": "Julian Gonggrijp",
      "userId": "06467962548183964912"
     },
     "user_tz": -120
    },
    "id": "lmCGfx_DqMWe",
    "outputId": "77da4795-3001-4582-ce37-58d289b7a181"
   },
   "outputs": [],
   "source": [
    "word = 'archaïsch' # try also 'idee', 'j', 'quasi', 'r', 'ziezo'\n",
    "\n",
    "# is it in the FIRST tome?\n",
    "word < 'j'\n",
    "\n",
    "# is it in the THIRD tome?\n",
    "word >= 'r'\n",
    "\n",
    "# is it in the SECOND tome? (opposites of the previous expressions)\n",
    "word >= 'j'\n",
    "word < 'r'\n",
    "\n",
    "# combining both conditions in a single expression\n",
    "'j' <= word < 'r'"
   ]
  },
  {
   "cell_type": "markdown",
   "id": "10c0f7a2",
   "metadata": {
    "id": "jXSxbjf4q6q5"
   },
   "source": [
    "## Next module\n",
    "\n",
    "[3. Conditionals](https://colab.research.google.com/github/CentreForDigitalHumanities/programming-in-python/blob/main/lessons/03%20conditionals.ipynb) - [solutions](https://colab.research.google.com/github/CentreForDigitalHumanities/programming-in-python/blob/main/solutions/03%20conditionals%20solutions.ipynb)"
   ]
  }
 ],
 "metadata": {
  "jupytext": {
   "cell_metadata_filter": "-all",
   "main_language": "python"
  },
  "kernelspec": {
   "display_name": "Python 3",
   "name": "python3"
  }
 },
 "nbformat": 4,
 "nbformat_minor": 5
}
