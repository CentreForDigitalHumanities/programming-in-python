{
 "cells": [
  {
   "cell_type": "markdown",
   "id": "f07decdd",
   "metadata": {
    "id": "fqMJHzNk5yXQ"
   },
   "source": [
    "# Module 9: String manipulation\n",
    "\n",
    "### Exercise solutions\n",
    "\n",
    "[Module 9](https://colab.research.google.com/github/CentreForDigitalHumanities/programming-in-python/blob/main/lessons/09%20string%20manipulation.ipynb)\n",
    "\n",
    "### CDH course \"Programming in Python\"\n",
    "\n",
    "[index](https://colab.research.google.com/github/CentreForDigitalHumanities/programming-in-python/blob/main/lessons/00%20index.ipynb)\n",
    "\n",
    "Previous module: [8. Debugging](https://colab.research.google.com/github/CentreForDigitalHumanities/programming-in-python/blob/main/lessons/08%20debugging.ipynb)\n",
    "\n",
    "### This module\n",
    "\n",
    "- Storing code in a variable so you can reuse it.\n",
    "- Being explicit about the purpose of your code."
   ]
  },
  {
   "cell_type": "markdown",
   "id": "57c660fa",
   "metadata": {
    "id": "5hIj-tbVleEq"
   },
   "source": [
    "## Exercise 9.1: String Utilities\n",
    "\n",
    "1. In each of the code blocks below, try to predict what will be printed, then run the code. If your guess was incorrect, try to figure out why the result is different. If your guess was correct, celebrate!"
   ]
  },
  {
   "cell_type": "code",
   "execution_count": null,
   "id": "a5841a0a",
   "metadata": {
    "id": "02q-FgvVlxEj"
   },
   "outputs": [],
   "source": [
    "print(len('two'))"
   ]
  },
  {
   "cell_type": "markdown",
   "id": "8892971d",
   "metadata": {
    "id": "dZ8S2UialXke"
   },
   "source": [
    "A string is an iterable, the `len` is the amount of elements (characters)"
   ]
  },
  {
   "cell_type": "code",
   "execution_count": null,
   "id": "f601d684",
   "metadata": {
    "id": "cvCrnnn9l-oH"
   },
   "outputs": [],
   "source": [
    "print(len(''))"
   ]
  },
  {
   "cell_type": "markdown",
   "id": "6667e07b",
   "metadata": {
    "id": "6vDjjHzIlcEY"
   },
   "source": [
    "An empty string (just like an empty list) has length of 0."
   ]
  },
  {
   "cell_type": "code",
   "execution_count": null,
   "id": "c345bae8",
   "metadata": {
    "id": "UlWWF0k7mA62"
   },
   "outputs": [],
   "source": [
    "assert 'A' in 'Matilda'"
   ]
  },
  {
   "cell_type": "markdown",
   "id": "56759d2e",
   "metadata": {
    "id": "K_daSu19liik"
   },
   "source": [
    "Python is case sensitive. The capitalized `A` is not in the string."
   ]
  },
  {
   "cell_type": "code",
   "execution_count": null,
   "id": "a1b790db",
   "metadata": {
    "id": "Ui3gmvCNmHfB"
   },
   "outputs": [],
   "source": [
    "assert 'A' in 'Matilda'.upper()"
   ]
  },
  {
   "cell_type": "markdown",
   "id": "bea301e8",
   "metadata": {
    "id": "i2bI-L6glqzO"
   },
   "source": [
    "After capitalization of the whole string, `A` is in there."
   ]
  },
  {
   "cell_type": "code",
   "execution_count": null,
   "id": "3a77b262",
   "metadata": {
    "id": "1tDEnzrumNdO"
   },
   "outputs": [],
   "source": [
    "name = 'Matilda'\n",
    "assert name.upper() == 'MATILDA'"
   ]
  },
  {
   "cell_type": "markdown",
   "id": "a7090cdb",
   "metadata": {
    "id": "1pbJz3qElujM"
   },
   "source": [
    "This is the definition of `string.upper()`"
   ]
  },
  {
   "cell_type": "code",
   "execution_count": null,
   "id": "9d376eb7",
   "metadata": {
    "id": "BUpf6LglmZ4n"
   },
   "outputs": [],
   "source": [
    "name = 'Matilda'\n",
    "assert name.upper().lower() == 'Matilda'"
   ]
  },
  {
   "cell_type": "markdown",
   "id": "b7b5bbed",
   "metadata": {
    "id": "Rq3LXgkMlywN"
   },
   "source": [
    "This does not work. `Matilda.upper()` equals `'MATILDA'`.\n",
    "\n",
    "`'MATILDA'.lower()` equals `'matilda'`. The first captilal is lost in translation."
   ]
  },
  {
   "cell_type": "code",
   "execution_count": null,
   "id": "81f230f9",
   "metadata": {
    "id": "sgfEH2jImlwz"
   },
   "outputs": [],
   "source": [
    "print('Matilda'.replace('ilda', 'ild4'))"
   ]
  },
  {
   "cell_type": "markdown",
   "id": "d7cf4d19",
   "metadata": {
    "id": "GhUlBMfPmGb3"
   },
   "source": [
    "`string.replace()` is not limited to single characters"
   ]
  },
  {
   "cell_type": "code",
   "execution_count": null,
   "id": "f26e4b56",
   "metadata": {
    "id": "BEE94VVBmf7T"
   },
   "outputs": [],
   "source": [
    "print('Matilda'.replace('a', 4))"
   ]
  },
  {
   "cell_type": "markdown",
   "id": "b68c50ac",
   "metadata": {
    "id": "qsPQT5VGlNZ2"
   },
   "source": [
    "We can only replace strings with other strings. `'Matilda'.replace('a', '4')` would work"
   ]
  },
  {
   "cell_type": "code",
   "execution_count": null,
   "id": "d061d553",
   "metadata": {
    "id": "BVKc0bQAnGYq"
   },
   "outputs": [],
   "source": [
    "list_of_words = ['I', 'ate', 'a', 'banana']\n",
    "sentence = 'I ate a banana'\n",
    "\n",
    "assert sentence.split() == list_of_words"
   ]
  },
  {
   "cell_type": "markdown",
   "id": "1b745c37",
   "metadata": {
    "id": "xdueWI-yk_ME"
   },
   "source": [
    "`string.split()` splits on all whitespace characters by default"
   ]
  },
  {
   "cell_type": "code",
   "execution_count": null,
   "id": "0938968c",
   "metadata": {
    "id": "R4U_8kVtmpHE"
   },
   "outputs": [],
   "source": [
    "list_of_words = ['I', 'ate', 'a', 'banana']\n",
    "sentence = 'I ate a banana'\n",
    "\n",
    "assert ''.join(list_of_words) == sentence"
   ]
  },
  {
   "cell_type": "markdown",
   "id": "85c8c311",
   "metadata": {
    "id": "ZpepgX5Lk0Mk"
   },
   "source": [
    "We join the words on the empty string, and not on a space. Thus, the resulting sentence contains all the words concatenated."
   ]
  },
  {
   "cell_type": "markdown",
   "id": "adef5ae0",
   "metadata": {
    "id": "Y34UdLQVQY_B"
   },
   "source": [
    "2. In each of the code blocks below, replace each occurrence of `None` by an expression so that the assertions pass."
   ]
  },
  {
   "cell_type": "code",
   "execution_count": null,
   "id": "00702b68",
   "metadata": {
    "executionInfo": {
     "elapsed": 3,
     "status": "ok",
     "timestamp": 1715696821132,
     "user": {
      "displayName": "Julian Gonggrijp",
      "userId": "06467962548183964912"
     },
     "user_tz": -120
    },
    "id": "CMOb-BiRQkVd"
   },
   "outputs": [],
   "source": [
    "name = 'Julian'\n",
    "other_name = name.replace('Juli', 'Shee') # ANSWER: 'Shee'\n",
    "assert other_name == 'Sheean'"
   ]
  },
  {
   "cell_type": "code",
   "execution_count": null,
   "id": "f4bb31cd",
   "metadata": {
    "executionInfo": {
     "elapsed": 452,
     "status": "ok",
     "timestamp": 1715696871810,
     "user": {
      "displayName": "Julian Gonggrijp",
      "userId": "06467962548183964912"
     },
     "user_tz": -120
    },
    "id": "gmAD4po2RIAo"
   },
   "outputs": [],
   "source": [
    "sentence1 = 'Edo won an argument about function parameters.'\n",
    "sentence2 = 'To be or not to be, that is the question.'\n",
    "\n",
    "def sentence_length(sentence):\n",
    "    # First, we turn the string into a list of words.\n",
    "    # Then, we take the length of that list.\n",
    "    return len(sentence.split())\n",
    "\n",
    "assert sentence_length(sentence1) == 7\n",
    "assert sentence_length(sentence2) == 10"
   ]
  },
  {
   "cell_type": "code",
   "execution_count": null,
   "id": "3db7e70c",
   "metadata": {
    "executionInfo": {
     "elapsed": 409,
     "status": "ok",
     "timestamp": 1715697085419,
     "user": {
      "displayName": "Julian Gonggrijp",
      "userId": "06467962548183964912"
     },
     "user_tz": -120
    },
    "id": "VXHa1AIMSZW-"
   },
   "outputs": [],
   "source": [
    "book_title = 'iteration, or how I did the loop thing'\n",
    "\n",
    "words = []\n",
    "for title_word in book_title.split(): # split, again\n",
    "    # First character capitalized, plus remainder unmodified\n",
    "    capitalized_word = title_word[0].upper() + title_word[1:]\n",
    "    words.append(capitalized_word)\n",
    "\n",
    "capitalized_title = ' '.join(words) # after split comes join\n",
    "\n",
    "assert capitalized_title == 'Iteration, Or How I Did The Loop Thing'"
   ]
  },
  {
   "cell_type": "markdown",
   "id": "7a1a4e3e",
   "metadata": {
    "id": "4dXMIBAUUk5T"
   },
   "source": [
    "3. **BONUS** Write a function `bwian_speech`. Its parameter is any sentence. It should return the same sentence, but with selective replacements: the first occurrence of the character `r` after every comma should be replaced by `w`. If you succeed, challenge yourself to replace `R` by `W` as well."
   ]
  },
  {
   "cell_type": "code",
   "execution_count": null,
   "id": "d81ff4f0",
   "metadata": {
    "executionInfo": {
     "elapsed": 226,
     "status": "ok",
     "timestamp": 1715698315133,
     "user": {
      "displayName": "Julian Gonggrijp",
      "userId": "06467962548183964912"
     },
     "user_tz": -120
    },
    "id": "kT34vyPcVwNQ"
   },
   "outputs": [],
   "source": [
    "original = 'Do we have a prisoner by that name, \"Brian\"?'\n",
    "bwianized = 'Do we have a prisoner by that name, \"Bwian\"?'\n",
    "\n",
    "# One possible way to do it, does not convert R to W.\n",
    "# We explicitly visit every character.\n",
    "def bwian_speech(text):\n",
    "    \"\"\" Replace first occurrence of 'r' after every comma by 'w'. \"\"\"\n",
    "    # We keep track of whether we have seen a comma.\n",
    "    # Initially, this is not the case.\n",
    "    comma_seen = False\n",
    "    # The string that will contain our result, initially empty.\n",
    "    result = ''\n",
    "    # Let's roll!\n",
    "    for character in text:\n",
    "        # We first check whether we have an 'r', because in all\n",
    "        # other cases, we copy the character verbatim.\n",
    "        if character == 'r' and comma_seen:\n",
    "            # If you want to take uppercase R into account, you can add\n",
    "            # some calculations with ord() and chr() here.\n",
    "            result = result + 'w'\n",
    "            # We replace only the first occurrence of 'r' after each\n",
    "            # comma, so we now need to forget that we saw it.\n",
    "            comma_seen = False\n",
    "        else:\n",
    "            result = result + character\n",
    "            # Did you wonder when we would set comma_seen to True?\n",
    "            # It's here.\n",
    "            if character == ',':\n",
    "                comma_seen = True\n",
    "    return result\n",
    "\n",
    "assert bwian_speech(original) == bwianized"
   ]
  },
  {
   "cell_type": "code",
   "execution_count": null,
   "id": "5d7d9672",
   "metadata": {
    "executionInfo": {
     "elapsed": 355,
     "status": "ok",
     "timestamp": 1715699637307,
     "user": {
      "displayName": "Julian Gonggrijp",
      "userId": "06467962548183964912"
     },
     "user_tz": -120
    },
    "id": "Mbps1JIeh8cS"
   },
   "outputs": [],
   "source": [
    "original = 'Do we have a prisoner by that name, \"Brian\"?'\n",
    "bwianized = 'Do we have a prisoner by that name, \"Bwian\"?'\n",
    "original2 = 'Do we have a prisoner by that name, \"Robert\"?'\n",
    "bwianized2 = 'Do we have a prisoner by that name, \"Wobert\"?'\n",
    "\n",
    "# A quite different way to do it, based on string splitting.\n",
    "# This one does consider both 'r' and 'R', and correctly converts\n",
    "# only the first of those two that occurs.\n",
    "def bwian_speech(text):\n",
    "    \"\"\" Replace the first occurrence of 'r' after every comma by 'w'.\n",
    "\n",
    "    Recognizes uppercase 'R' as well, and replaces only the first\n",
    "    occurrence of either 'r' or 'R'. \"\"\"\n",
    "    # We first split the text in chunks between commas. The first chunk\n",
    "    # is at the start of the text, the other chunks follow a comma.\n",
    "    comma_chunks = text.split(',')\n",
    "    # We make a new list of chunks that we will rejoin with commas at the end.\n",
    "    # Since the first chunk is before any comma, we can already copy it.\n",
    "    output_chunks = comma_chunks[:1]\n",
    "    # Now, we loop over the remaining chunks in order to replace\n",
    "    # first occurrences of 'r' or 'R'.\n",
    "    for chunk in comma_chunks[1:]:\n",
    "        # We split the chunk into at most two parts:\n",
    "        # one before the first 'r' and maybe one after it.\n",
    "        r_chunks = chunk.split('r', 1)\n",
    "        # However, we do not know yet whether that 'r' should be replaced\n",
    "        # by a 'w', because there might be a 'R' before it. To find out,\n",
    "        # we simply try to replace such an 'R' and then compare.\n",
    "        R_replaced = r_chunks[0].replace('R', 'W', 1)\n",
    "        if R_replaced == r_chunks[0]:\n",
    "            # Nothing changed, so 'R' was not in the first chunk.\n",
    "            # We now know that we should be replacing the first 'r'.\n",
    "            output_chunks.append('w'.join(r_chunks))\n",
    "        else:\n",
    "            # We already replaced the first 'R' by 'W', so we should not\n",
    "            # replace any 'r' after it by 'w'.\n",
    "            r_chunks[0] = R_replaced\n",
    "            output_chunks.append('r'.join(r_chunks))\n",
    "    # At this point, we have a list of chunks that all have their first\n",
    "    # occurrence or 'r' or 'R' replaced. All that is left to do is to\n",
    "    # glue them back together with commas.\n",
    "    return ','.join(output_chunks)\n",
    "\n",
    "assert bwian_speech(original) == bwianized\n",
    "assert bwian_speech(original2) == bwianized2"
   ]
  },
  {
   "cell_type": "markdown",
   "id": "e8d27748",
   "metadata": {
    "id": "Xbi4ATS0mQzp"
   },
   "source": [
    "## Exercise 9.2: Additional utilities\n",
    "For each of the string functions below, find out what they do. If they take any parameters, describe what these do:\n",
    "- `string.startswith()`\n",
    "- `string.endswith()`\n",
    "- `string.strip()`\n",
    "- `string.lstrip()`\n",
    "- `string.rstrip()`\n",
    "- `string.title()`\n",
    "- `string.find()`\n",
    "- `string.split(',', x)` (describe what 'x' does. It should be a number)"
   ]
  },
  {
   "cell_type": "code",
   "execution_count": null,
   "id": "6788f341",
   "metadata": {
    "id": "ZYHALHE7mU4-"
   },
   "outputs": [],
   "source": [
    "# string.startswith(substring) checks if a string starts with a substring\n",
    "assert 'matilda'.startswith('mat')\n",
    "\n",
    "# string.endswith(substring) checks if a string ends with a substring\n",
    "assert 'matilda'.endswith('lda')\n",
    "\n",
    "# string.strip() removes whitespace from the start and end of a string\n",
    "# as an optional parameter, takes a string and removes only characters in that string\n",
    "assert '   matilda '.strip() == 'matilda'\n",
    "assert '..matilda?'.strip('.,') == 'matilda?'\n",
    "\n",
    "# string.lstrip() and string.rstrip() work like string.split()\n",
    "# but only for l(eft) and r(ight) part of the string\n",
    "assert '  matilda  '.rstrip() == '  matilda'\n",
    "assert '  matilda  '.lstrip() == 'matilda  '\n",
    "\n",
    "# string.title() converts a string to title case: each word starts with a capital\n",
    "assert 'MATILDA by roald DaHl'.title() == 'Matilda By Roald Dahl'\n",
    "\n",
    "# string.find(substring) returns the starting character of the substring\n",
    "# if the substring is not found, return -1\n",
    "assert 'matilda'.find('il') == 3\n",
    "\n",
    "# string.split(separator, x) splits a string x times\n",
    "# after x splits have been made, the rest of the string is left intact\n",
    "assert 'Matilda by Roald Dahl'.split(' ', 2) == ['Matilda', 'by', 'Roald Dahl']"
   ]
  },
  {
   "cell_type": "markdown",
   "id": "bf63a482",
   "metadata": {
    "id": "avcqgDAAoq-w"
   },
   "source": [
    "## Exercise 9.3: String formatting\n",
    "\n",
    "1. In each of the code blocks below, try to predict what will be printed, then run the code. If your guess was incorrect, try to figure out why the result is different. If your guess was correct, celebrate!"
   ]
  },
  {
   "cell_type": "code",
   "execution_count": null,
   "id": "ed60b421",
   "metadata": {
    "colab": {
     "base_uri": "https://localhost:8080/"
    },
    "executionInfo": {
     "elapsed": 7,
     "status": "ok",
     "timestamp": 1681825929769,
     "user": {
      "displayName": "Jelte van Boheemen",
      "userId": "01262930844892157638"
     },
     "user_tz": -120
    },
    "id": "BIa0VOX_owF4",
    "outputId": "ddc080fa-bf11-4064-c5f4-efcbef9b9a64"
   },
   "outputs": [],
   "source": [
    "print('hey {}')"
   ]
  },
  {
   "cell_type": "markdown",
   "id": "6aa23ddf",
   "metadata": {
    "id": "SDnzz_IYoqRP"
   },
   "source": [
    "Using `{}` in a string with `.format()` leaves the curly brackets untouched."
   ]
  },
  {
   "cell_type": "code",
   "execution_count": null,
   "id": "3ecec0d1",
   "metadata": {
    "colab": {
     "base_uri": "https://localhost:8080/"
    },
    "executionInfo": {
     "elapsed": 3,
     "status": "ok",
     "timestamp": 1681825932026,
     "user": {
      "displayName": "Jelte van Boheemen",
      "userId": "01262930844892157638"
     },
     "user_tz": -120
    },
    "id": "81GUitOZo0l2",
    "outputId": "6be221d0-52b7-47f9-8269-991811402ff7"
   },
   "outputs": [],
   "source": [
    "print('hey {Julian}')"
   ]
  },
  {
   "cell_type": "markdown",
   "id": "cc759a98",
   "metadata": {
    "id": "-HFk3OAAoyyy"
   },
   "source": [
    "Again, without `.format()`, the string is untouched"
   ]
  },
  {
   "cell_type": "code",
   "execution_count": null,
   "id": "b2caf401",
   "metadata": {
    "colab": {
     "base_uri": "https://localhost:8080/"
    },
    "executionInfo": {
     "elapsed": 267,
     "status": "ok",
     "timestamp": 1681825967240,
     "user": {
      "displayName": "Jelte van Boheemen",
      "userId": "01262930844892157638"
     },
     "user_tz": -120
    },
    "id": "96Dq4eSCpAji",
    "outputId": "7e3086d7-4e02-4b98-d96e-d91257f65fb5"
   },
   "outputs": [],
   "source": [
    "print('hey {}'.format('Julian'))"
   ]
  },
  {
   "cell_type": "markdown",
   "id": "aa1bfe4c",
   "metadata": {
    "id": "OFmrf_lto6_k"
   },
   "source": [
    "Calling `.format()` fills the placeholders"
   ]
  },
  {
   "cell_type": "code",
   "execution_count": null,
   "id": "18773873",
   "metadata": {
    "id": "h43fjzPco4V_"
   },
   "outputs": [],
   "source": [
    "print('hey {Julian}'.format('Julian'))"
   ]
  },
  {
   "cell_type": "markdown",
   "id": "11916fae",
   "metadata": {
    "id": "XP3dKwEXpAir"
   },
   "source": [
    "This doesn't work, the names placeholder expects a named parameter.\n",
    "\n",
    "`'hey {Julian}'.format(Julian='julian')` would work"
   ]
  },
  {
   "cell_type": "code",
   "execution_count": null,
   "id": "e458d141",
   "metadata": {
    "id": "wA18AIPKpFAH"
   },
   "outputs": [],
   "source": [
    "print('hey {name}'.format('Julian'))"
   ]
  },
  {
   "cell_type": "markdown",
   "id": "d227d78c",
   "metadata": {
    "id": "LI43JmY2pcIg"
   },
   "source": [
    "Same as above"
   ]
  },
  {
   "cell_type": "markdown",
   "id": "d834caa9",
   "metadata": {
    "id": "PkBMT-kYiIqd"
   },
   "source": [
    "2. Change each of the code blocks above so that it outputs `hey Edo`. You are **not** allowed to change the contents of the strings that start with `'hey`! *The solutions are contained in the copies **below**.*"
   ]
  },
  {
   "cell_type": "code",
   "execution_count": null,
   "id": "0cb6c58d",
   "metadata": {
    "id": "rHlCJXILrOfX"
   },
   "outputs": [],
   "source": [
    "# for the first one, just add .format\n",
    "print('hey {}'.format('Edo'))"
   ]
  },
  {
   "cell_type": "code",
   "execution_count": null,
   "id": "7e4a7254",
   "metadata": {
    "id": "zBrCVWsErOfZ"
   },
   "outputs": [],
   "source": [
    "# For this one, you need a named argument.\n",
    "print('hey {Julian}'.format(Julian='Edo'))"
   ]
  },
  {
   "cell_type": "code",
   "execution_count": null,
   "id": "5ffea24b",
   "metadata": {
    "id": "g8KtBFyirOfa"
   },
   "outputs": [],
   "source": [
    "# You are not allowed to change the string starting with 'hey',\n",
    "# but you are allowed to change the argument to .format!\n",
    "# This solution ends up being the same as the first.\n",
    "print('hey {}'.format('Edo'))"
   ]
  },
  {
   "cell_type": "code",
   "execution_count": null,
   "id": "7596a94f",
   "metadata": {
    "id": "FdoISOiWrOfb"
   },
   "outputs": [],
   "source": [
    "# This one is the same as the second solution.\n",
    "print('hey {Julian}'.format(Julian='Edo'))"
   ]
  },
  {
   "cell_type": "code",
   "execution_count": null,
   "id": "88fb4c84",
   "metadata": {
    "id": "EnizWx77rOfc"
   },
   "outputs": [],
   "source": [
    "# For this one, you need a named argument with the key \"name\",\n",
    "# AND you need to change the value of the argument.\n",
    "print('hey {name}'.format(name='Edo'))"
   ]
  },
  {
   "cell_type": "markdown",
   "id": "3c97a366",
   "metadata": {
    "id": "ArVJo3y0jJ8T"
   },
   "source": [
    "3. What do you think the following piece of code will do? Try it out. Can you explain the result?"
   ]
  },
  {
   "cell_type": "code",
   "execution_count": null,
   "id": "978394c5",
   "metadata": {
    "colab": {
     "base_uri": "https://localhost:8080/"
    },
    "executionInfo": {
     "elapsed": 294,
     "status": "ok",
     "timestamp": 1715700086149,
     "user": {
      "displayName": "Julian Gonggrijp",
      "userId": "06467962548183964912"
     },
     "user_tz": -120
    },
    "id": "iAkugK6wjqfl",
    "outputId": "bb998fe7-45dc-4ad0-9a2b-04bc2faff77a"
   },
   "outputs": [],
   "source": [
    "name = 'Jill'\n",
    "welcome = 'welcome, {}'.format\n",
    "goodbye = 'farewell, {}'.format\n",
    "connect = '; '.join\n",
    "\n",
    "print(connect((welcome(name), goodbye(name))))"
   ]
  },
  {
   "cell_type": "markdown",
   "id": "2b7d5e7d",
   "metadata": {
    "id": "OLzxrMb9svd_"
   },
   "source": [
    "This one is quite advanced. If you are surprised, it is probably because so far, we have only seen this notation:\n",
    "\n",
    "```py\n",
    "'welcome, {}'.format(name)\n",
    "```\n",
    "\n",
    "In the exercise, the last part with the parentheses `(name)` was left out. Instead, we assign the first part `'welcome, {}'.format` to a variable `welcome`. As it turns out, that variable contains a function, because we can later call it (`welcome(name)` on line 6). In a way, we did a sort of postponed function call.\n",
    "\n",
    "How does this work? In short, `'welcome, {}'.format` is an expression that returns a function. `format` by itself is a function that requires both a format string and any number of values to interpolate. The notation\n",
    "\n",
    "```py\n",
    "'welcome, {}'.format(name)\n",
    "```\n",
    "\n",
    "basically means the same as if we had a free-standing `format` function that we call like this:\n",
    "\n",
    "```py\n",
    "format('welcome, {}', name)\n",
    "```\n",
    "\n",
    "When we omit the `(name)` at the end, we basically tell Python to remember the first argument and wait for the rest. This is called *partial application*.\n",
    "\n",
    "Python supports this trick for all methods on all values. This is why we could repeat the trick on lines 3 and 4."
   ]
  },
  {
   "cell_type": "markdown",
   "id": "f6641b23",
   "metadata": {
    "id": "Dntbbioh29xm"
   },
   "source": [
    "## Next module\n",
    "\n",
    "[10. Dictionaries](https://colab.research.google.com/github/CentreForDigitalHumanities/programming-in-python/blob/main/lessons/10%20-%20Dictionaries.ipynb) - [solutions](https://colab.research.google.com/github/CentreForDigitalHumanities/programming-in-python/blob/main/solutions/10%20-%20Dictionaries%20solutions.ipynb)"
   ]
  }
 ],
 "metadata": {
  "jupytext": {
   "main_language": "python"
  },
  "kernelspec": {
   "display_name": "Python 3",
   "name": "python3"
  }
 },
 "nbformat": 4,
 "nbformat_minor": 5
}
