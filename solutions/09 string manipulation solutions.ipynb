{
 "cells": [
  {
   "cell_type": "markdown",
   "metadata": {
    "id": "5hIj-tbVleEq"
   },
   "source": [
    "## Exercise 9.1: String Utilities\n",
    "In each of the code blocks below, try to predict what will be printed, then run the code. If your guess was incorrect, try to figure out why the result is different. If your guess was correct, celebrate!"
   ]
  },
  {
   "cell_type": "code",
   "execution_count": null,
   "metadata": {
    "id": "02q-FgvVlxEj"
   },
   "outputs": [],
   "source": [
    "print(len('two'))"
   ]
  },
  {
   "cell_type": "markdown",
   "metadata": {
    "id": "dZ8S2UialXke"
   },
   "source": [
    "A string is an iterable, the `len` is the amount of elements (characters)"
   ]
  },
  {
   "cell_type": "code",
   "execution_count": null,
   "metadata": {
    "id": "cvCrnnn9l-oH"
   },
   "outputs": [],
   "source": [
    "print(len(''))"
   ]
  },
  {
   "cell_type": "markdown",
   "metadata": {
    "id": "6vDjjHzIlcEY"
   },
   "source": [
    "An empty string (just like an empty list) has length of 0."
   ]
  },
  {
   "cell_type": "code",
   "execution_count": null,
   "metadata": {
    "id": "UlWWF0k7mA62"
   },
   "outputs": [],
   "source": [
    "assert 'A' in 'Matilda'"
   ]
  },
  {
   "cell_type": "markdown",
   "metadata": {
    "id": "K_daSu19liik"
   },
   "source": [
    "Python is case sensitive. The capitalized `A` is not in the string."
   ]
  },
  {
   "cell_type": "code",
   "execution_count": 10,
   "metadata": {
    "executionInfo": {
     "elapsed": 356,
     "status": "ok",
     "timestamp": 1681825113419,
     "user": {
      "displayName": "Jelte van Boheemen",
      "userId": "01262930844892157638"
     },
     "user_tz": -120
    },
    "id": "Ui3gmvCNmHfB"
   },
   "outputs": [],
   "source": [
    "assert 'A' in 'Matilda'.upper()"
   ]
  },
  {
   "cell_type": "markdown",
   "metadata": {
    "id": "i2bI-L6glqzO"
   },
   "source": [
    "After capitalization of the whole string, `A` is in there."
   ]
  },
  {
   "cell_type": "code",
   "execution_count": 9,
   "metadata": {
    "executionInfo": {
     "elapsed": 244,
     "status": "ok",
     "timestamp": 1681825107244,
     "user": {
      "displayName": "Jelte van Boheemen",
      "userId": "01262930844892157638"
     },
     "user_tz": -120
    },
    "id": "1tDEnzrumNdO"
   },
   "outputs": [],
   "source": [
    "name = 'Matilda'\n",
    "assert name.upper() == 'MATILDA'"
   ]
  },
  {
   "cell_type": "markdown",
   "metadata": {
    "id": "1pbJz3qElujM"
   },
   "source": [
    "This is the definition of `string.upper()`"
   ]
  },
  {
   "cell_type": "code",
   "execution_count": null,
   "metadata": {
    "id": "BUpf6LglmZ4n"
   },
   "outputs": [],
   "source": [
    "name = 'Matilda'\n",
    "assert name.upper().lower() == 'Matilda'"
   ]
  },
  {
   "cell_type": "markdown",
   "metadata": {
    "id": "Rq3LXgkMlywN"
   },
   "source": [
    "This does not work. `Matilda.upper()` equals `'MATILDA'`. \n",
    "\n",
    "`'MATILDA'.lower()` equals `'matilda'`. The first captilal is lost in translation."
   ]
  },
  {
   "cell_type": "code",
   "execution_count": null,
   "metadata": {
    "id": "sgfEH2jImlwz"
   },
   "outputs": [],
   "source": [
    "print('Matilda'.replace('ilda', 'ild4'))"
   ]
  },
  {
   "cell_type": "markdown",
   "metadata": {
    "id": "GhUlBMfPmGb3"
   },
   "source": [
    "`string.replace()` is not limited to single characters"
   ]
  },
  {
   "cell_type": "code",
   "execution_count": null,
   "metadata": {
    "id": "BEE94VVBmf7T"
   },
   "outputs": [],
   "source": [
    "print('Matilda'.replace('a', 4))"
   ]
  },
  {
   "cell_type": "markdown",
   "metadata": {
    "id": "qsPQT5VGlNZ2"
   },
   "source": [
    "We can only replace strings with other strings. `'Matilda'.replace('a', '4')` would work"
   ]
  },
  {
   "cell_type": "code",
   "execution_count": 4,
   "metadata": {
    "executionInfo": {
     "elapsed": 5,
     "status": "ok",
     "timestamp": 1681824924342,
     "user": {
      "displayName": "Jelte van Boheemen",
      "userId": "01262930844892157638"
     },
     "user_tz": -120
    },
    "id": "BVKc0bQAnGYq"
   },
   "outputs": [],
   "source": [
    "list_of_words = ['I', 'ate', 'a', 'banana']\n",
    "sentence = 'I ate a banana'\n",
    "\n",
    "assert sentence.split() == list_of_words"
   ]
  },
  {
   "cell_type": "markdown",
   "metadata": {
    "id": "xdueWI-yk_ME"
   },
   "source": [
    "`string.split()` splits on all whitespace characters by default"
   ]
  },
  {
   "cell_type": "code",
   "execution_count": null,
   "metadata": {
    "id": "R4U_8kVtmpHE"
   },
   "outputs": [],
   "source": [
    "list_of_words = ['I', 'ate', 'a', 'banana']\n",
    "sentence = 'I ate a banana'\n",
    "\n",
    "assert ''.join(list_of_words) == sentence"
   ]
  },
  {
   "cell_type": "markdown",
   "metadata": {
    "id": "ZpepgX5Lk0Mk"
   },
   "source": [
    "We join the words on the empty string, and not on a space. Thus, the resulting sentence contains all the words concatenated. "
   ]
  },
  {
   "cell_type": "markdown",
   "metadata": {
    "id": "Xbi4ATS0mQzp"
   },
   "source": [
    "## Exercise 9.2: Additional utilities\n",
    "For each of the string functions below, find out what they do. If they take any parameters, describe what these do:\n",
    "- `string.startswith()`\n",
    "- `string.endswith()`\n",
    "- `string.strip()`\n",
    "- `string.lstrip()`\n",
    "- `string.rstrip()`\n",
    "- `string.title()`\n",
    "- `string.find()`\n",
    "- `string.split(',', x)` (describe what 'x' does. It should be a number)"
   ]
  },
  {
   "cell_type": "code",
   "execution_count": 22,
   "metadata": {
    "executionInfo": {
     "elapsed": 231,
     "status": "ok",
     "timestamp": 1681825855742,
     "user": {
      "displayName": "Jelte van Boheemen",
      "userId": "01262930844892157638"
     },
     "user_tz": -120
    },
    "id": "ZYHALHE7mU4-"
   },
   "outputs": [],
   "source": [
    "# string.startswith(substring) checks if a string starts with a substring\n",
    "assert 'matilda'.startswith('mat')\n",
    "\n",
    "# string.endswith(substring) checks if a string ends with a substring\n",
    "assert 'matilda'.endswith('lda')\n",
    "\n",
    "# string.strip() removes whitespace from the start and end of a string\n",
    "# as an optional parameter, takes a string and removes only characters in that string\n",
    "assert '   matilda '.strip() == 'matilda'\n",
    "assert '..matilda?'.strip('.,') == 'matilda?'\n",
    "\n",
    "# string.lstrip() and string.rstrip() work like string.split()\n",
    "# but only for l(eft) and r(ight) part of the string\n",
    "assert '  matilda  '.rstrip() == '  matilda'\n",
    "assert '  matilda  '.lstrip() == 'matilda  '\n",
    "\n",
    "# string.title() converts a string to title case: each word starts with a capital\n",
    "assert 'MATILDA by roald DaHl'.title() == 'Matilda By Roald Dahl'\n",
    "\n",
    "# string.find(substring) returns the starting character of the substring\n",
    "# if the substring is not found, return -1\n",
    "assert 'matilda'.find('il') == 3\n",
    "\n",
    "# string.split(separator, x) splits a string x times\n",
    "# after x splits have been made, the rest of the string is left intact\n",
    "assert 'Matilda by Roald Dahl'.split(' ', 2) == ['Matilda', 'by', 'Roald Dahl']"
   ]
  },
  {
   "cell_type": "markdown",
   "metadata": {
    "id": "avcqgDAAoq-w"
   },
   "source": [
    "## Exercise 9.3: String formatting\n",
    "In each of the code blocks below, try to predict what will be printed, then run the code. If your guess was incorrect, try to figure out why the result is different. If your guess was correct, celebrate!"
   ]
  },
  {
   "cell_type": "code",
   "execution_count": 23,
   "metadata": {
    "colab": {
     "base_uri": "https://localhost:8080/"
    },
    "executionInfo": {
     "elapsed": 7,
     "status": "ok",
     "timestamp": 1681825929769,
     "user": {
      "displayName": "Jelte van Boheemen",
      "userId": "01262930844892157638"
     },
     "user_tz": -120
    },
    "id": "BIa0VOX_owF4",
    "outputId": "ddc080fa-bf11-4064-c5f4-efcbef9b9a64"
   },
   "outputs": [
    {
     "name": "stdout",
     "output_type": "stream",
     "text": [
      "hey {}\n"
     ]
    }
   ],
   "source": [
    "print('hey {}')"
   ]
  },
  {
   "cell_type": "markdown",
   "metadata": {
    "id": "SDnzz_IYoqRP"
   },
   "source": [
    "Using `{}` in a string with `.format()` leaves the curly brackets untouched."
   ]
  },
  {
   "cell_type": "code",
   "execution_count": 24,
   "metadata": {
    "colab": {
     "base_uri": "https://localhost:8080/"
    },
    "executionInfo": {
     "elapsed": 3,
     "status": "ok",
     "timestamp": 1681825932026,
     "user": {
      "displayName": "Jelte van Boheemen",
      "userId": "01262930844892157638"
     },
     "user_tz": -120
    },
    "id": "81GUitOZo0l2",
    "outputId": "6be221d0-52b7-47f9-8269-991811402ff7"
   },
   "outputs": [
    {
     "name": "stdout",
     "output_type": "stream",
     "text": [
      "hey {Julian}\n"
     ]
    }
   ],
   "source": [
    "print('hey {Julian}')"
   ]
  },
  {
   "cell_type": "markdown",
   "metadata": {
    "id": "-HFk3OAAoyyy"
   },
   "source": [
    "Again, without `.format()`, the string is untouched"
   ]
  },
  {
   "cell_type": "code",
   "execution_count": 25,
   "metadata": {
    "colab": {
     "base_uri": "https://localhost:8080/"
    },
    "executionInfo": {
     "elapsed": 267,
     "status": "ok",
     "timestamp": 1681825967240,
     "user": {
      "displayName": "Jelte van Boheemen",
      "userId": "01262930844892157638"
     },
     "user_tz": -120
    },
    "id": "96Dq4eSCpAji",
    "outputId": "7e3086d7-4e02-4b98-d96e-d91257f65fb5"
   },
   "outputs": [
    {
     "name": "stdout",
     "output_type": "stream",
     "text": [
      "hey Julian\n"
     ]
    }
   ],
   "source": [
    "print('hey {}'.format('Julian'))"
   ]
  },
  {
   "cell_type": "markdown",
   "metadata": {
    "id": "OFmrf_lto6_k"
   },
   "source": [
    "Calling `.format()` fills the placeholders"
   ]
  },
  {
   "cell_type": "code",
   "execution_count": null,
   "metadata": {
    "id": "h43fjzPco4V_"
   },
   "outputs": [],
   "source": [
    "print('hey {Julian}'.format('Julian'))"
   ]
  },
  {
   "cell_type": "markdown",
   "metadata": {
    "id": "XP3dKwEXpAir"
   },
   "source": [
    "This doesn't work, the names placeholder expects a named parameter.\n",
    "\n",
    "`'hey {Julian}'.format(Julian='julian')` would work"
   ]
  },
  {
   "cell_type": "code",
   "execution_count": null,
   "metadata": {
    "id": "wA18AIPKpFAH"
   },
   "outputs": [],
   "source": [
    "print('hey {name}'.format('Julian'))"
   ]
  },
  {
   "cell_type": "markdown",
   "metadata": {
    "id": "LI43JmY2pcIg"
   },
   "source": [
    "Same as above"
   ]
  }
 ],
 "metadata": {
  "colab": {
   "authorship_tag": "ABX9TyMi0JBuu4ELq/AQbr5Ws5LZ",
   "provenance": []
  },
  "kernelspec": {
   "display_name": "Python 3",
   "name": "python3"
  },
  "language_info": {
   "name": "python"
  }
 },
 "nbformat": 4,
 "nbformat_minor": 0
}
