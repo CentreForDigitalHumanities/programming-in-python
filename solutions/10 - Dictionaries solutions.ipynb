{
 "cells": [
  {
   "cell_type": "markdown",
   "id": "de998243",
   "metadata": {
    "id": "kjdcNtg3k8Aa"
   },
   "source": [
    "# Dictionaries\n",
    "\n",
    "### Exercise solutions\n",
    "\n",
    "[Module 10](https://colab.research.google.com/github/CentreForDigitalHumanities/programming-in-python/blob/main/lessons/10%20-%20Dictionaries.ipynb)\n",
    "\n",
    "### CDH course \"Programming in Python\"\n",
    "\n",
    "[index](https://colab.research.google.com/github/CentreForDigitalHumanities/programming-in-python/blob/main/lessons/00%20index.ipynb)\n",
    "\n",
    "Previous module: [9. String manipulation](https://colab.research.google.com/github/CentreForDigitalHumanities/programming-in-python/blob/main/lessons/09%20string%20manipulation.ipynb) - [solutions](https://colab.research.google.com/github/CentreForDigitalHumanities/programming-in-python/blob/main/solutions/09%20string%20manipulation%20solutions.ipynb)\n",
    "\n",
    "### This module\n",
    "\n",
    "- Learn about _dictionaries_, a useful way of storing and looking up data"
   ]
  },
  {
   "cell_type": "markdown",
   "id": "6b117c73",
   "metadata": {
    "id": "1ezL-XhlvHBq"
   },
   "source": [
    "## Exercise 10.1: Dictionaries"
   ]
  },
  {
   "cell_type": "markdown",
   "id": "6d9809c2",
   "metadata": {
    "id": "xrw8tjm9WqEb"
   },
   "source": [
    "1. In each of the code blocks below, try to predict what will be printed, then run the code. If your guess was incorrect, try to figure out why the result is different. If your guess was correct, celebrate!"
   ]
  },
  {
   "cell_type": "code",
   "execution_count": null,
   "id": "355d7496",
   "metadata": {
    "colab": {
     "base_uri": "https://localhost:8080/"
    },
    "executionInfo": {
     "elapsed": 4,
     "status": "ok",
     "timestamp": 1715714039862,
     "user": {
      "displayName": "Julian Gonggrijp",
      "userId": "06467962548183964912"
     },
     "user_tz": -120
    },
    "id": "JpVUxXa8W-yN",
    "outputId": "bbde32c6-860c-4126-a172-244f175282e6"
   },
   "outputs": [],
   "source": [
    "{0: 0}"
   ]
  },
  {
   "cell_type": "markdown",
   "id": "11e25d97",
   "metadata": {
    "id": "sPpBbWE0gp0K"
   },
   "source": [
    "A dictionary with `0` as the only key and `0` its value. The dictionary as a whole is the last value in the cell, so the notebook echoes it to us."
   ]
  },
  {
   "cell_type": "code",
   "execution_count": null,
   "id": "f1732ad0",
   "metadata": {
    "colab": {
     "base_uri": "https://localhost:8080/"
    },
    "executionInfo": {
     "elapsed": 301,
     "status": "ok",
     "timestamp": 1715714042208,
     "user": {
      "displayName": "Julian Gonggrijp",
      "userId": "06467962548183964912"
     },
     "user_tz": -120
    },
    "id": "62bKQZhpXQOA",
    "outputId": "49b47fc4-4e67-4184-8e39-beff42412859"
   },
   "outputs": [],
   "source": [
    "{'0': 0}"
   ]
  },
  {
   "cell_type": "markdown",
   "id": "4e24653f",
   "metadata": {
    "id": "-G0bkOwpg2qT"
   },
   "source": [
    "Like the previous, but with the string `'0'` as key."
   ]
  },
  {
   "cell_type": "code",
   "execution_count": null,
   "id": "4f222d72",
   "metadata": {
    "colab": {
     "base_uri": "https://localhost:8080/"
    },
    "executionInfo": {
     "elapsed": 245,
     "status": "ok",
     "timestamp": 1715714044063,
     "user": {
      "displayName": "Julian Gonggrijp",
      "userId": "06467962548183964912"
     },
     "user_tz": -120
    },
    "id": "FW2sYBJdXXWl",
    "outputId": "a3bda353-9254-43d0-b86c-7ef63ad41026"
   },
   "outputs": [],
   "source": [
    "{1 + 2: 3 * 4}"
   ]
  },
  {
   "cell_type": "markdown",
   "id": "d3819007",
   "metadata": {
    "id": "x1YahUoBg8b-"
   },
   "source": [
    "Keys and values in a literal dictionary can be expressions. They are evaluated before being stored in the dictionary."
   ]
  },
  {
   "cell_type": "code",
   "execution_count": null,
   "id": "ef9c0ee1",
   "metadata": {
    "colab": {
     "base_uri": "https://localhost:8080/"
    },
    "executionInfo": {
     "elapsed": 216,
     "status": "ok",
     "timestamp": 1715714046544,
     "user": {
      "displayName": "Julian Gonggrijp",
      "userId": "06467962548183964912"
     },
     "user_tz": -120
    },
    "id": "KFOPs4O7Xf9a",
    "outputId": "74e94c76-17d7-4fee-848c-afe8dbce01bc"
   },
   "outputs": [],
   "source": [
    "{'1' + '2': {3: 'Hooray!'}}"
   ]
  },
  {
   "cell_type": "markdown",
   "id": "bb0efadb",
   "metadata": {
    "id": "0jUVKlMghTfe"
   },
   "source": [
    "Dictionaries can be used as values in other dictionaries (but not as keys)."
   ]
  },
  {
   "cell_type": "code",
   "execution_count": null,
   "id": "ce4ef218",
   "metadata": {
    "executionInfo": {
     "elapsed": 206,
     "status": "ok",
     "timestamp": 1715714053234,
     "user": {
      "displayName": "Julian Gonggrijp",
      "userId": "06467962548183964912"
     },
     "user_tz": -120
    },
    "id": "PkuZzIm1XngU"
   },
   "outputs": [],
   "source": [
    "programming_languages = {\n",
    "    'Fortran': 1957,\n",
    "    'Algol 60': 1960,\n",
    "    'C': 1972,\n",
    "    'Perl': 1987,\n",
    "    'Python': 1991,\n",
    "    'Julia': 2012,\n",
    "    'Mojo': 2023,\n",
    "}"
   ]
  },
  {
   "cell_type": "markdown",
   "id": "8d9e69da",
   "metadata": {
    "id": "9d3MvUFWhZcZ"
   },
   "source": [
    "Assignments cause the variable to obtain a value as a side effect. The assignment itself has no result value, so we see no output. But the notebook will remember the `programming_languages` dictionary for us, so we can use it in the following code blocks."
   ]
  },
  {
   "cell_type": "code",
   "execution_count": null,
   "id": "165d5464",
   "metadata": {
    "colab": {
     "base_uri": "https://localhost:8080/",
     "height": 141
    },
    "executionInfo": {
     "elapsed": 5,
     "status": "error",
     "timestamp": 1715714087276,
     "user": {
      "displayName": "Julian Gonggrijp",
      "userId": "06467962548183964912"
     },
     "user_tz": -120
    },
    "id": "j20ZYa6bbSpq",
    "outputId": "fc82c6f7-7d1a-4d11-85e1-dfef665fc924"
   },
   "outputs": [],
   "source": [
    "programming_languages[Perl]"
   ]
  },
  {
   "cell_type": "markdown",
   "id": "dcfe4e0f",
   "metadata": {
    "id": "ThPhZZ95h3k1"
   },
   "source": [
    "If you write a word without quotes, Python attempts to find a variable with that name. We did not define one, so we get a `NameError`."
   ]
  },
  {
   "cell_type": "code",
   "execution_count": null,
   "id": "3fa04a96",
   "metadata": {
    "colab": {
     "base_uri": "https://localhost:8080/",
     "height": 141
    },
    "executionInfo": {
     "elapsed": 211,
     "status": "error",
     "timestamp": 1715714511221,
     "user": {
      "displayName": "Julian Gonggrijp",
      "userId": "06467962548183964912"
     },
     "user_tz": -120
    },
    "id": "sZC-YucJaXCa",
    "outputId": "b02048c9-f8db-470a-848b-0c65f89cb47a"
   },
   "outputs": [],
   "source": [
    "programming_languages[1960]"
   ]
  },
  {
   "cell_type": "markdown",
   "id": "37594cf9",
   "metadata": {
    "id": "KF3rie9tjbhv"
   },
   "source": [
    "`1960` is a value that appears in the dictionary, but the `[]` notation only looks for keys."
   ]
  },
  {
   "cell_type": "code",
   "execution_count": null,
   "id": "a84cb154",
   "metadata": {
    "colab": {
     "base_uri": "https://localhost:8080/"
    },
    "executionInfo": {
     "elapsed": 342,
     "status": "ok",
     "timestamp": 1715714556065,
     "user": {
      "displayName": "Julian Gonggrijp",
      "userId": "06467962548183964912"
     },
     "user_tz": -120
    },
    "id": "jlTtefX6aKii",
    "outputId": "97e6ae05-afd0-43d7-ed1e-f47d2aa09de2"
   },
   "outputs": [],
   "source": [
    "programming_languages['Perl']"
   ]
  },
  {
   "cell_type": "markdown",
   "id": "4c62f354",
   "metadata": {
    "id": "filN8qTgjo-v"
   },
   "source": [
    "Third try is a blessing! `'Perl'` is, indeed, a key that appears in the dictionary, and its associated value is `1987`."
   ]
  },
  {
   "cell_type": "code",
   "execution_count": null,
   "id": "5fb21e80",
   "metadata": {
    "executionInfo": {
     "elapsed": 181,
     "status": "ok",
     "timestamp": 1715714649874,
     "user": {
      "displayName": "Julian Gonggrijp",
      "userId": "06467962548183964912"
     },
     "user_tz": -120
    },
    "id": "Y-7am56bacgD"
   },
   "outputs": [],
   "source": [
    "{None: None}[None]"
   ]
  },
  {
   "cell_type": "markdown",
   "id": "0a5e5c8b",
   "metadata": {
    "id": "ge0zVd8Gj_Z4"
   },
   "source": [
    "The notation is valid; `None` can be both a key and a value in a dictionary. The lookup is successful and returns `None`. Notebooks only echo the last value when it is **not** `None`, so we see no output.\n",
    "\n",
    "You can verify that there is a value by wrapping the entire expression in `print()`."
   ]
  },
  {
   "cell_type": "code",
   "execution_count": null,
   "id": "dc2a3341",
   "metadata": {
    "colab": {
     "base_uri": "https://localhost:8080/"
    },
    "executionInfo": {
     "elapsed": 247,
     "status": "ok",
     "timestamp": 1715714740486,
     "user": {
      "displayName": "Julian Gonggrijp",
      "userId": "06467962548183964912"
     },
     "user_tz": -120
    },
    "id": "SFgsCOnpapTp",
    "outputId": "7303d1bc-44a7-4212-f6a6-223c8fca22a8"
   },
   "outputs": [],
   "source": [
    "programming_languages.get('Per1', 2125)"
   ]
  },
  {
   "cell_type": "markdown",
   "id": "a9597da9",
   "metadata": {
    "id": "uMuzVoj4kV3f"
   },
   "source": [
    "Note that we wrote `'Per1'`, not `'Perl'`. See the difference? Because `'Per1'` is not in the dictionary, the default (fallback) value of `2125` is used."
   ]
  },
  {
   "cell_type": "code",
   "execution_count": null,
   "id": "ca9916ee",
   "metadata": {
    "executionInfo": {
     "elapsed": 408,
     "status": "ok",
     "timestamp": 1715718500018,
     "user": {
      "displayName": "Julian Gonggrijp",
      "userId": "06467962548183964912"
     },
     "user_tz": -120
    },
    "id": "bx0WNXq2a7K1"
   },
   "outputs": [],
   "source": [
    "programming_languages.get('Per1')"
   ]
  },
  {
   "cell_type": "markdown",
   "id": "a8b0d72f",
   "metadata": {
    "id": "_RKovP5OyqBE"
   },
   "source": [
    "`'Per1'` is still not in the dictionary. Since we don't supply a default in this case, we get `None`, which produces no output."
   ]
  },
  {
   "cell_type": "code",
   "execution_count": null,
   "id": "03f5621e",
   "metadata": {
    "colab": {
     "base_uri": "https://localhost:8080/"
    },
    "executionInfo": {
     "elapsed": 252,
     "status": "ok",
     "timestamp": 1715718563615,
     "user": {
      "displayName": "Julian Gonggrijp",
      "userId": "06467962548183964912"
     },
     "user_tz": -120
    },
    "id": "9dqApt0ObCuz",
    "outputId": "5258ae5f-a546-4e27-ae24-754155a5d0ce"
   },
   "outputs": [],
   "source": [
    "programming_languages.get('Python', None)"
   ]
  },
  {
   "cell_type": "markdown",
   "id": "564ff4d8",
   "metadata": {
    "id": "cFwD2Sioy7WR"
   },
   "source": [
    "`'Python'` is in the dictionary, so we get its associated value. The default of `None` is never used."
   ]
  },
  {
   "cell_type": "code",
   "execution_count": null,
   "id": "f03fe30b",
   "metadata": {
    "colab": {
     "base_uri": "https://localhost:8080/"
    },
    "executionInfo": {
     "elapsed": 311,
     "status": "ok",
     "timestamp": 1715718611228,
     "user": {
      "displayName": "Julian Gonggrijp",
      "userId": "06467962548183964912"
     },
     "user_tz": -120
    },
    "id": "msMNmeGWbKRS",
    "outputId": "76aa4504-1105-4e75-99cd-5b8358d737f4"
   },
   "outputs": [],
   "source": [
    "programming_languages.get('Python')"
   ]
  },
  {
   "cell_type": "markdown",
   "id": "202864bd",
   "metadata": {
    "id": "S-M746bSzHlB"
   },
   "source": [
    "The result is the same as in the previous code block, because the default value is irrelevant."
   ]
  },
  {
   "cell_type": "code",
   "execution_count": null,
   "id": "9f57f5cb",
   "metadata": {
    "colab": {
     "base_uri": "https://localhost:8080/"
    },
    "executionInfo": {
     "elapsed": 232,
     "status": "ok",
     "timestamp": 1715718640312,
     "user": {
      "displayName": "Julian Gonggrijp",
      "userId": "06467962548183964912"
     },
     "user_tz": -120
    },
    "id": "_tzsbkN5bbi0",
    "outputId": "e4ebbc4d-6dfa-4a9d-feb4-b4334b7fa9aa"
   },
   "outputs": [],
   "source": [
    "'Per1' in programming_languages"
   ]
  },
  {
   "cell_type": "markdown",
   "id": "2a0527d0",
   "metadata": {
    "id": "K7P57_iGzPeq"
   },
   "source": [
    "There's that `'Per1'` again, which is not in the dictionary."
   ]
  },
  {
   "cell_type": "code",
   "execution_count": null,
   "id": "d3f5a254",
   "metadata": {
    "colab": {
     "base_uri": "https://localhost:8080/"
    },
    "executionInfo": {
     "elapsed": 311,
     "status": "ok",
     "timestamp": 1715718682293,
     "user": {
      "displayName": "Julian Gonggrijp",
      "userId": "06467962548183964912"
     },
     "user_tz": -120
    },
    "id": "6JEZlfkPbhP9",
    "outputId": "a2bd1f8c-ba81-4340-bf01-bdd19766870e"
   },
   "outputs": [],
   "source": [
    "'Fortran' in programming_languages"
   ]
  },
  {
   "cell_type": "markdown",
   "id": "8d17db3d",
   "metadata": {
    "id": "sMGC6TJvzY5e"
   },
   "source": [
    "`'Fortran'`, on the other hand, is in the dictionary, hence `True`."
   ]
  },
  {
   "cell_type": "code",
   "execution_count": null,
   "id": "d9ad9482",
   "metadata": {
    "colab": {
     "base_uri": "https://localhost:8080/"
    },
    "executionInfo": {
     "elapsed": 271,
     "status": "ok",
     "timestamp": 1715718715370,
     "user": {
      "displayName": "Julian Gonggrijp",
      "userId": "06467962548183964912"
     },
     "user_tz": -120
    },
    "id": "dOIxLmPqbvDA",
    "outputId": "c88ef4c5-371e-4dec-cc42-b0f69648155f"
   },
   "outputs": [],
   "source": [
    "2012 in programming_languages"
   ]
  },
  {
   "cell_type": "markdown",
   "id": "e03ae180",
   "metadata": {
    "id": "_JVAdmUZzhGL"
   },
   "source": [
    "`2012` is in the dictionary as a value but not as a key. `in` only looks for keys."
   ]
  },
  {
   "cell_type": "code",
   "execution_count": null,
   "id": "a8c9d4bc",
   "metadata": {
    "executionInfo": {
     "elapsed": 254,
     "status": "ok",
     "timestamp": 1715718746520,
     "user": {
      "displayName": "Julian Gonggrijp",
      "userId": "06467962548183964912"
     },
     "user_tz": -120
    },
    "id": "bv1WFXRab0Bv"
   },
   "outputs": [],
   "source": [
    "programming_languages.update({'Per1': 2125, 'Raku': 2015})"
   ]
  },
  {
   "cell_type": "markdown",
   "id": "28dba6d9",
   "metadata": {
    "id": "y2Xb7qTPznzM"
   },
   "source": [
    "`update` changes `programming_languages` as a side effect. There is no return value, so we see no output."
   ]
  },
  {
   "cell_type": "code",
   "execution_count": null,
   "id": "88491241",
   "metadata": {
    "colab": {
     "base_uri": "https://localhost:8080/"
    },
    "executionInfo": {
     "elapsed": 229,
     "status": "ok",
     "timestamp": 1715718809806,
     "user": {
      "displayName": "Julian Gonggrijp",
      "userId": "06467962548183964912"
     },
     "user_tz": -120
    },
    "id": "idVFrA21cLc5",
    "outputId": "6349d80d-1a48-440e-ac83-e7c931dcafc6"
   },
   "outputs": [],
   "source": [
    "2012 in programming_languages.values()"
   ]
  },
  {
   "cell_type": "markdown",
   "id": "efdb74ab",
   "metadata": {
    "id": "O_m_ezBaz45C"
   },
   "source": [
    "Since we query the `.values()` of `programming_languages`, `2012` is now found."
   ]
  },
  {
   "cell_type": "code",
   "execution_count": null,
   "id": "d839b82d",
   "metadata": {
    "colab": {
     "base_uri": "https://localhost:8080/"
    },
    "executionInfo": {
     "elapsed": 313,
     "status": "ok",
     "timestamp": 1715718867227,
     "user": {
      "displayName": "Julian Gonggrijp",
      "userId": "06467962548183964912"
     },
     "user_tz": -120
    },
    "id": "i07oWzu5cScu",
    "outputId": "652cbcee-11a1-42c5-bf78-7760b0a9f5d1"
   },
   "outputs": [],
   "source": [
    "('Per1', 'Perl') in programming_languages.items()"
   ]
  },
  {
   "cell_type": "markdown",
   "id": "0a757552",
   "metadata": {
    "id": "1HSvnyW80No-"
   },
   "source": [
    "When we look `in` a dictionary's `.items()`, we query `(key, value)` pairs. `('Per1', 2125)` would return `True` and so would `('Perl', 1987)`, but not `('Per1', 1987)` or `('Perl', 2125)`."
   ]
  },
  {
   "cell_type": "code",
   "execution_count": null,
   "id": "453429a8",
   "metadata": {
    "colab": {
     "base_uri": "https://localhost:8080/",
     "height": 193
    },
    "executionInfo": {
     "elapsed": 244,
     "status": "error",
     "timestamp": 1715719046019,
     "user": {
      "displayName": "Julian Gonggrijp",
      "userId": "06467962548183964912"
     },
     "user_tz": -120
    },
    "id": "xatUSQBPcr4x",
    "outputId": "055b93fb-74cb-469d-8c12-8d7fe966cf66"
   },
   "outputs": [],
   "source": [
    "del programming_languages[2012]\n",
    "\n",
    "for language, year in programming_languages.items():\n",
    "    print(f'{language} first appeared in {year}')"
   ]
  },
  {
   "cell_type": "markdown",
   "id": "7847d5d4",
   "metadata": {
    "id": "h-4AFGKW0xpM"
   },
   "source": [
    "The first line attempts to remove the `2012` key from the dictionary, but there is none. Hence a `KeyError`. If you comment out the first line, you will find that the loop prints a nice line for each programming language."
   ]
  },
  {
   "cell_type": "markdown",
   "id": "4914cc06",
   "metadata": {
    "id": "gw7W_KMcdVqD"
   },
   "source": [
    "2. The code below attempts to count the frequencies of the individual characters in our party invitation from module 6. There is a bug which prevents it from working. Fix the bug."
   ]
  },
  {
   "cell_type": "code",
   "execution_count": null,
   "id": "096eacca",
   "metadata": {
    "colab": {
     "base_uri": "https://localhost:8080/"
    },
    "executionInfo": {
     "elapsed": 320,
     "status": "ok",
     "timestamp": 1715719220003,
     "user": {
      "displayName": "Julian Gonggrijp",
      "userId": "06467962548183964912"
     },
     "user_tz": -120
    },
    "id": "s_OeNugZfG4J",
    "outputId": "d9a4fa37-6a44-4898-f68b-89483d9c34ab"
   },
   "outputs": [],
   "source": [
    "invitation = '''\n",
    "    Dear Sheean,\n",
    "\n",
    "    I hereby invite you for my Python party on the 11th of April.\n",
    "    The bar will open at 2 PM. 🍸 Please bring pseudocode.\n",
    "\n",
    "    Yours sincerely,\n",
    "    Julian\n",
    "'''\n",
    "\n",
    "frequencies = {}\n",
    "for character in invitation:\n",
    "    count = frequencies.get(character, 0)\n",
    "    # Here is the bug: dictionaries have a .get method, but no .set.\n",
    "    #frequencies.set(character, count + 1)\n",
    "    # The fix is to use assignment with a square bracket lookup.\n",
    "    frequencies[character] = count + 1\n",
    "print(frequencies)"
   ]
  },
  {
   "cell_type": "markdown",
   "id": "4dc8a9a2",
   "metadata": {
    "id": "rxcz60KQximW"
   },
   "source": [
    "3 . Below are two dictionaries containing information about different types of fruit. Print a nice message about each fruit stating its colour and price. For example, _An apple is red and costs € 2.50_, etc."
   ]
  },
  {
   "cell_type": "code",
   "execution_count": null,
   "id": "707f797e",
   "metadata": {
    "colab": {
     "base_uri": "https://localhost:8080/"
    },
    "executionInfo": {
     "elapsed": 238,
     "status": "ok",
     "timestamp": 1681894457462,
     "user": {
      "displayName": "Luka van der Plas",
      "userId": "16305747382115943293"
     },
     "user_tz": -120
    },
    "id": "yn89oAAZu33C",
    "outputId": "d6b7d53c-d22c-4499-8b59-de508579836e"
   },
   "outputs": [],
   "source": [
    "fruit_colors = {'apple': 'red', 'banana': 'yellow', 'orange': 'orange'}\n",
    "fruit_prices = {'apple': 2.50, 'banana': 2.10, 'orange': 1.50}\n",
    "\n",
    "# The example sentence includes 'a'/'an' ('an apple' / 'a banana')\n",
    "# which was a bit of an oversight: the point of this exercise\n",
    "# was to loop through a dictionary and access values.\n",
    "# You could make a solution like this to avoid it.\n",
    "\n",
    "for fruit in fruit_colors:\n",
    "    color = fruit_colors[fruit]\n",
    "    price = fruit_prices[fruit]\n",
    "\n",
    "    print(fruit + 's', 'are', color, 'and cost €', price, sep=' ')\n",
    "\n",
    "# Bonus points if you DID implement a solution on when to use\n",
    "# 'a' or 'an'! Here is an example of your you can do that.\n",
    "\n",
    "print()\n",
    "\n",
    "def starts_with_vowel(word):\n",
    "    '''\n",
    "    Returns True if the word (a string) starts with a vowel.\n",
    "    '''\n",
    "    vowels = ['a', 'e', 'i', 'o', 'u']\n",
    "    if word[0] in vowels:\n",
    "        return True\n",
    "    return False\n",
    "\n",
    "\n",
    "for fruit in fruit_colors:\n",
    "    color = fruit_colors[fruit]\n",
    "    price = fruit_prices[fruit]\n",
    "\n",
    "    if starts_with_vowel(fruit):\n",
    "        article = 'An'\n",
    "    else:\n",
    "        article = 'A'\n",
    "\n",
    "    print(article, fruit, 'is', color, 'and costs €', price, sep=' ')"
   ]
  },
  {
   "cell_type": "markdown",
   "id": "8e8e4bf5",
   "metadata": {
    "id": "Gtp5V9dE0LxK"
   },
   "source": [
    "4 . Here is a longer lists of fruit colours. Write a function `count_fruits` which gets gets a colour as input and returns the number of fruits that have that colour (according to `lots_of_fruit`)."
   ]
  },
  {
   "cell_type": "code",
   "execution_count": null,
   "id": "34cdb242",
   "metadata": {
    "id": "S7gCNyLCxdrO"
   },
   "outputs": [],
   "source": [
    "lots_of_fruit = {'apple': 'red', 'banana': 'yellow', 'orange': 'orange',\n",
    "                 'cucumber': 'green', 'kiwi': 'green', 'strawberry': 'red',\n",
    "                 'pineapple': 'yellow','blackberry': 'black', 'cherry': 'red',\n",
    "                 'gooseberry': 'green', 'raspberry': 'red', 'mandarin': 'orange',\n",
    "                 'lemon': 'yellow', 'lime': 'green'}"
   ]
  },
  {
   "cell_type": "code",
   "execution_count": null,
   "id": "2af603e3",
   "metadata": {
    "id": "nScDQipK35qN"
   },
   "outputs": [],
   "source": [
    "def count_fruits(color):\n",
    "    '''Count the number of fruits in `lots_of_fruit` that match this colour.'''\n",
    "    count = 0\n",
    "    for value in lots_of_fruit.values():\n",
    "        if value == color:\n",
    "            count = count + 1\n",
    "    return count\n",
    "\n",
    "# let's see if it works!\n",
    "assert count_fruits('red') == 4\n",
    "assert count_fruits('lavender') == 0"
   ]
  },
  {
   "cell_type": "markdown",
   "id": "f176da3b",
   "metadata": {
    "id": "-Qp6R3Kp3GId"
   },
   "source": [
    "5 . The list `fruit_basket` contains a bunch of fruits. Can you make a dictionary `fruit_counts` which gives the amount for each fruit in `fruit_basket`? (Do not count the fruits by hand!)"
   ]
  },
  {
   "cell_type": "code",
   "execution_count": null,
   "id": "bb7f053f",
   "metadata": {
    "id": "awf-lLQO3N1U"
   },
   "outputs": [],
   "source": [
    "fruit_basket = ['apple', 'banana', 'banana', 'banana', 'apple', 'orange',\n",
    "                'orange', 'grape', 'grape', 'grape', 'grape', 'grape', 'grape',\n",
    "                'grape', 'grape', 'grape', 'pear', 'apple', 'strawberry',\n",
    "                'strawberry', 'strawberry', 'orange']"
   ]
  },
  {
   "cell_type": "code",
   "execution_count": null,
   "id": "70f92292",
   "metadata": {
    "id": "MDpIZpbm3-BG",
    "lines_to_next_cell": 2
   },
   "outputs": [],
   "source": [
    "def count_items(items):\n",
    "    '''\n",
    "    Count the items in a list.\n",
    "\n",
    "    Input: a list of items, such as strings\n",
    "    Output: a dictionary with the total of occurences for each item.\n",
    "    '''\n",
    "\n",
    "    counts = dict() # we will keep track of our counts in here!\n",
    "\n",
    "    for item in items:\n",
    "        # the current count: either the current value in the dictionary\n",
    "        # or 0 if we haven't seen this fruit yet\n",
    "        current_count = counts.get(item, 0)\n",
    "        new_count = current_count + 1\n",
    "        counts[item] = new_count\n",
    "\n",
    "    return counts\n",
    "\n",
    "fruit_counts = count_items(fruit_basket)\n",
    "\n",
    "# let's see if it works!\n",
    "assert fruit_counts['apple'] == 3"
   ]
  },
  {
   "cell_type": "markdown",
   "id": "e746fd8f",
   "metadata": {
    "id": "h-kJhTO951pc"
   },
   "source": [
    "6 . Here is a different list, which contains the words in a sentence. Can you use your code above to make a dictionary `word_counts` telling us how often each word occurs? (Tip: if you need to do very similar tasks, make a function!)\n",
    "\n",
    "Write a function that takes a dictionary like `word_counts` tells us the most commonly occuring item and the count. Note that there can be multiple items that occurred the most."
   ]
  },
  {
   "cell_type": "code",
   "execution_count": null,
   "id": "a2baacf0",
   "metadata": {
    "id": "mdNug4ct5645"
   },
   "outputs": [],
   "source": [
    "# the variable sent0 contains the first sentence of The Catcher in the Rye\n",
    "# split into single words\n",
    "sent0 = ['If', 'you', 'really', 'want', 'to', 'hear', 'about', 'it,', 'the',\n",
    "         'first', 'thing', 'you’ll', 'probably', 'want', 'to', 'know', 'is',\n",
    "         'where', 'I', 'was', 'born,', 'and', 'what', 'my', 'lousy', 'childhood',\n",
    "         'was', 'like,', 'and', 'how', 'my', 'parents', 'were', 'occupied',\n",
    "         'and', 'all', 'before', 'they', 'had', 'me,', 'and', 'all', 'that',\n",
    "         'David', 'Copperfield', 'kind', 'of', 'crap,', 'but', 'I', 'don’t',\n",
    "         'feel', 'like', 'going', 'into', 'it,', 'if', 'you', 'want',\n",
    "         'to', 'know', 'the', 'truth.']"
   ]
  },
  {
   "cell_type": "code",
   "execution_count": null,
   "id": "488502ad",
   "metadata": {
    "id": "XGY3qSEk6B9j"
   },
   "outputs": [],
   "source": [
    "word_counts = count_items(sent0) # we recycle our function from the last exercise"
   ]
  },
  {
   "cell_type": "code",
   "execution_count": null,
   "id": "8b7fadea",
   "metadata": {
    "colab": {
     "base_uri": "https://localhost:8080/"
    },
    "executionInfo": {
     "elapsed": 307,
     "status": "ok",
     "timestamp": 1681894948452,
     "user": {
      "displayName": "Luka van der Plas",
      "userId": "16305747382115943293"
     },
     "user_tz": -120
    },
    "id": "iS8rDbONnVDr",
    "outputId": "c1313777-a4ab-477d-e428-9ae285fc28da"
   },
   "outputs": [],
   "source": [
    "def most_frequent(counts):\n",
    "    '''\n",
    "    For a dictionary with totals, the most commonly occuring item(s) and the count.\n",
    "\n",
    "    Input should be a dictionary with the total number of occurences for each key in some collection.\n",
    "    Returns a tuple of two items. First is a list of the most frequent item(s). If the input\n",
    "    is an empty dict, the list if empty. Second is the number of occurences for that item.\n",
    "    '''\n",
    "\n",
    "    if not len(counts):\n",
    "        return [], 0\n",
    "\n",
    "    max_count = max(counts.values())\n",
    "\n",
    "    top_items = []\n",
    "    for item, count in counts.items():\n",
    "        if count == max_count:\n",
    "            top_items.append(item)\n",
    "\n",
    "    return top_items, max_count\n",
    "\n",
    "words, total = most_frequent(word_counts)\n",
    "print(words, total)\n",
    "\n",
    "# here are some assert statements you could use to check your own function\n",
    "# feel free to adapt them if your function gives a different output format\n",
    "assert most_frequent(fruit_counts) == (['grape'], 9)\n",
    "assert most_frequent(word_counts) == (['and'], 4)\n",
    "assert most_frequent({}) == ([], 0)"
   ]
  },
  {
   "cell_type": "markdown",
   "id": "0b3190cb",
   "metadata": {
    "id": "y5FcFvgypMfE"
   },
   "source": [
    "## Next module\n",
    "\n",
    "[11 - Working with files](https://colab.research.google.com/github/CentreForDigitalHumanities/programming-in-python/blob/main/lessons/11%20working%20with%20files.ipynb) - [solutions](https://colab.research.google.com/github/CentreForDigitalHumanities/programming-in-python/blob/main/solutions/11%20working%20with%20files%20solutions.ipynb)"
   ]
  }
 ],
 "metadata": {
  "jupytext": {
   "main_language": "python"
  },
  "kernelspec": {
   "display_name": "Python 3",
   "name": "python3"
  }
 },
 "nbformat": 4,
 "nbformat_minor": 5
}
