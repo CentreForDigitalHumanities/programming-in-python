{
 "cells": [
  {
   "cell_type": "markdown",
   "id": "45ce6362",
   "metadata": {
    "id": "aBR46fQqgyGt"
   },
   "source": [
    "# Module 11: Working with files\n",
    "\n",
    "### Exercise solutions\n",
    "\n",
    "[Module 11](https://colab.research.google.com/github/CentreForDigitalHumanities/programming-in-python/blob/main/lessons/11%20working%20with%20files.ipynb)\n",
    "\n",
    "### CDH course \"Programming in Python\"\n",
    "\n",
    "[index](https://colab.research.google.com/github/CentreForDigitalHumanities/programming-in-python/blob/main/lessons/00%20index.ipynb)\n",
    "\n",
    "Previous module: [10. Dictionaries](https://colab.research.google.com/github/CentreForDigitalHumanities/programming-in-python/blob/main/lessons/10%20-%20Dictionaries.ipynb) - [solutions](https://colab.research.google.com/github/CentreForDigitalHumanities/programming-in-python/blob/main/solutions/10%20-%20Dictionaries%20solutions.ipynb)\n",
    "\n",
    "### This module\n",
    "\n",
    "- Reading files\n",
    "- Writing files\n",
    "- Use existing code"
   ]
  },
  {
   "cell_type": "markdown",
   "id": "eccf3ab4",
   "metadata": {
    "id": "YC0q3Z4HiM5Z"
   },
   "source": [
    "## Exercise 11.1 - Files\n",
    "In the code block below, try to predict what will be printed, then run the code."
   ]
  },
  {
   "cell_type": "code",
   "execution_count": null,
   "id": "1830eeca",
   "metadata": {
    "id": "vZtR4360i7kh"
   },
   "outputs": [],
   "source": [
    "PATH = 'sample_data/california_housing_test.csv'\n",
    "file = open(PATH)\n",
    "print(file)\n",
    "print(file.read())\n",
    "print(file.readlines())\n",
    "file.close()\n",
    "print(file)"
   ]
  },
  {
   "cell_type": "markdown",
   "id": "7326315a",
   "metadata": {
    "id": "F9f99yil6tQQ"
   },
   "source": [
    "`print(file)` prints the File Object. There is no way to determine by printing if this is still open, or has been closed."
   ]
  },
  {
   "cell_type": "markdown",
   "id": "b60e475b",
   "metadata": {
    "id": "BXOkW2J7ldYK"
   },
   "source": [
    "Read the file `sampledata/california_housing_test.csv'`, and print the first row containing data as a list.\n",
    "\n",
    "Are the data in the correct format? Try to fix it if not."
   ]
  },
  {
   "cell_type": "code",
   "execution_count": null,
   "id": "ec6bd818",
   "metadata": {
    "colab": {
     "base_uri": "https://localhost:8080/"
    },
    "executionInfo": {
     "elapsed": 202,
     "status": "ok",
     "timestamp": 1681914737357,
     "user": {
      "displayName": "Jelte van Boheemen",
      "userId": "01262930844892157638"
     },
     "user_tz": -120
    },
    "id": "eP_TfHcmlsce",
    "outputId": "b58e166d-1764-4e0f-91e2-7ea872519052"
   },
   "outputs": [],
   "source": [
    "PATH = 'sample_data/california_housing_test.csv'\n",
    "file = open(PATH)\n",
    "lines = file.readlines()\n",
    "\n",
    "# Read the first row\n",
    "first_row = lines[0]\n",
    "print(first_row)"
   ]
  },
  {
   "cell_type": "markdown",
   "id": "a4ec9bd7",
   "metadata": {
    "id": "9Bobwjk07Ssq"
   },
   "source": [
    "Note that this prints the header row, as one big string. Not really what we are looking for!"
   ]
  },
  {
   "cell_type": "code",
   "execution_count": null,
   "id": "c1ad1144",
   "metadata": {
    "id": "bwxxok8a7Wyy"
   },
   "outputs": [],
   "source": [
    "# Split the file into header row and data rows\n",
    "header, *data = lines\n",
    "first_row = data[0]\n",
    "print(first_row)\n",
    "print(type(first_row))"
   ]
  },
  {
   "cell_type": "markdown",
   "id": "e0730eb5",
   "metadata": {
    "id": "JZeGlr5p7nlV"
   },
   "source": [
    "This is the first actual row of data, but still as a big string."
   ]
  },
  {
   "cell_type": "code",
   "execution_count": null,
   "id": "6813b729",
   "metadata": {
    "colab": {
     "base_uri": "https://localhost:8080/"
    },
    "executionInfo": {
     "elapsed": 2,
     "status": "ok",
     "timestamp": 1681914801091,
     "user": {
      "displayName": "Jelte van Boheemen",
      "userId": "01262930844892157638"
     },
     "user_tz": -120
    },
    "id": "g4XFr9pG7qor",
    "outputId": "ee3cb701-edf8-44f2-c28b-593f1d33acef"
   },
   "outputs": [],
   "source": [
    "columns = first_row.split(',')\n",
    "print(columns)\n",
    "print(type(columns[0]))"
   ]
  },
  {
   "cell_type": "markdown",
   "id": "4fcc40d8",
   "metadata": {
    "id": "EuCKWl9z7zUf"
   },
   "source": [
    "The row is split into columns. They still contain strings, not numbers. And the last value includes the newline character `\\n`"
   ]
  },
  {
   "cell_type": "code",
   "execution_count": null,
   "id": "b7e758f1",
   "metadata": {
    "id": "BnpSq28I766w"
   },
   "outputs": [],
   "source": [
    "def clean_value(value):\n",
    "    '''\n",
    "    Clean a single value. Assumes value is a string representation\n",
    "    of a number.\n",
    "    - remove any whitespace characters\n",
    "    - convert the value into a float\n",
    "    - check if it is an integer, if so, convert to an actual int\n",
    "    - return the result\n",
    "    '''\n",
    "    clean_value = value.strip()\n",
    "    float_value = float(clean_value)\n",
    "    if float_value.is_integer():\n",
    "        return int(float_value)\n",
    "    return float_value\n",
    "\n",
    "\n",
    "def clean_values(values):\n",
    "    '''\n",
    "    Cleans an entire row or column using clean_column.\n",
    "    Assumes values is a list of string representations\n",
    "    of numbers.\n",
    "    '''\n",
    "    cleaned_row = []\n",
    "    for value in values:\n",
    "        cleaned_row.append(clean_value(value))\n",
    "    return cleaned_row\n",
    "\n",
    "\n",
    "assert clean_values(columns) == [-122.05, 37.37, 27, 3885, 661, 1537, 606, 6.6085, 344700]"
   ]
  },
  {
   "cell_type": "markdown",
   "id": "3bb07f50",
   "metadata": {
    "id": "h-mOS3pwoc1O"
   },
   "source": [
    "## Exercise 11.2: Bonus - working with csv datasets\n",
    "> 💡 If you wish to perform an analysis on your own dataset in the upcoming sessions, make sure you complete this exercise. The code you write here can be reused in your own analysis.\n",
    "\n",
    "1. Upload your own dataset, or use `sample_data/california_housing_test.csv`\n",
    "    1. Read the data from the CSV file\n",
    "    2. Write functions that take the data as a parameter, and return the following items:\n",
    "        - The last row\n",
    "        - The last column\n",
    "        - The first row. If this is a header row, try if you can come up with a way to separate it from the data rows.\n",
    "        - Calculate the *harmonic mean* of a column containing numbers. Search the [standard library](https://docs.python.org/3.7/library/index.html) for a a relevant module containing the code to do so.\n",
    "    3. Add an extra column to the data (think of something that makes sense). Write the whole dataset to a new csv file."
   ]
  },
  {
   "cell_type": "markdown",
   "id": "4a6d9c93",
   "metadata": {
    "id": "nqZZLHi4-HyR"
   },
   "source": [
    "#### 11.2.1"
   ]
  },
  {
   "cell_type": "code",
   "execution_count": null,
   "id": "e745ee85",
   "metadata": {
    "id": "3UI9XbgN-Ffb"
   },
   "outputs": [],
   "source": [
    "import csv\n",
    "PATH = 'sample_data/california_housing_test.csv'\n",
    "\n",
    "def read_data():\n",
    "    with open(PATH) as csv_file:\n",
    "        reader = csv.reader(csv_file, delimiter=',')\n",
    "        return list(reader)\n",
    "\n",
    "assert len(read_data()) == 3001"
   ]
  },
  {
   "cell_type": "markdown",
   "id": "7f157916",
   "metadata": {
    "id": "6PUt-Fni-3g0"
   },
   "source": [
    "#### 11.2.2\n",
    "This may seem like a whole load of code just to calculate some stuff.\n",
    "\n",
    "But notice that by definding general functions, we create a toolkit that we can apply to any future problems! Think ahead!"
   ]
  },
  {
   "cell_type": "code",
   "execution_count": null,
   "id": "f954644c",
   "metadata": {
    "id": "wOEhjWRq-6QL",
    "lines_to_next_cell": 2
   },
   "outputs": [],
   "source": [
    "def get_row(data, row_index):\n",
    "    '''\n",
    "    Returns the row at row_index\n",
    "    '''\n",
    "    return data[row_index]\n",
    "\n",
    "\n",
    "def get_column(data, column_index):\n",
    "    '''\n",
    "    Returns the column at column_index\n",
    "    '''\n",
    "    column = []\n",
    "    for row in data:\n",
    "        column.append(row[column_index])\n",
    "    return column\n",
    "\n",
    "\n",
    "def separate_headers(data):\n",
    "    '''\n",
    "    Separates tabular data into a header row and data rows\n",
    "    '''\n",
    "    header_row, *data_rows = data\n",
    "    return header_row, data_rows\n",
    "\n",
    "\n",
    "def multiply(num1, num2):\n",
    "    return num1 * num2\n",
    "\n",
    "\n",
    "def combine_columns(column_1, column_2, how):\n",
    "    '''\n",
    "    created a new column based on two existing columns\n",
    "    how should be a function that accepts two numbers and returns a number\n",
    "    column_1 and column_2 should contain numerical data\n",
    "    '''\n",
    "    new_column = []\n",
    "    for index, value_1 in enumerate(column_1):\n",
    "        value_2 = column_2[index]\n",
    "        new_column.append(how(value_1, value_2))\n",
    "    return new_column\n",
    "\n",
    "\n",
    "\n",
    "def add_column(data, column_name, column_data):\n",
    "    '''\n",
    "    Adds an extra column to the end of the data\n",
    "    Assumes data containts tabular data WITH headers\n",
    "    colum_data size should match existing table\n",
    "    '''\n",
    "    headers, data_rows = separate_headers(data)\n",
    "    headers = [headers + [column_name]]\n",
    "\n",
    "    new_rows = []\n",
    "    for index, row in enumerate(data_rows):\n",
    "        new_row = row + [column_data[index]]\n",
    "        new_rows.append(new_row)\n",
    "    return headers + new_rows\n",
    "\n",
    "def write_table_to_csv(data, filepath):\n",
    "    with open(filepath, mode='w') as f:\n",
    "        writer = csv.writer(f)\n",
    "\n",
    "        for row in data:\n",
    "            writer.writerow(row)\n",
    "\n",
    "\n",
    "# read the data and get the last row\n",
    "data = read_data()\n",
    "last_row = get_row(data, -1)\n",
    "print(last_row)\n",
    "\n",
    "# determine the number of columns, and use this to get the last column\n",
    "number_of_columns = len(last_row) - 1 # remember that list indices start at 0!\n",
    "last_column = get_column(data, number_of_columns)\n",
    "print(last_column)\n",
    "\n",
    "# get the first data row\n",
    "headers, data_rows = separate_headers(data)\n",
    "first_row = data_rows[0]\n",
    "print(first_row)\n",
    "\n",
    "# get the index of the 'median_income' column\n",
    "income_index = header.index('median_income')\n",
    "# get the column data\n",
    "income = get_column(data_rows, income_index)\n",
    "# convert the data to numbers\n",
    "income_numerical = clean_values(income)\n",
    "# finally, calculate the harmonic mean\n",
    "import statistics\n",
    "harmonic_mean = statistics.harmonic_mean(income_numerical)\n",
    "print(harmonic_mean)\n",
    "\n",
    "# add a new column\n",
    "# get households the same way we did income, this time on one line\n",
    "households_numerical = clean_values(get_column(data_rows, header.index('households')))\n",
    "# combine households and income by multiplying them\n",
    "total_income = combine_columns(income_numerical, households_numerical, multiply)\n",
    "new_data = add_column(data, 'total_income', total_income)\n",
    "# finally, write to a new file\n",
    "write_table_to_csv(new_data, 'sample_data/california_housing_test_expanded.csv')"
   ]
  },
  {
   "cell_type": "markdown",
   "id": "3e50022b",
   "metadata": {
    "id": "y5FcFvgypMfE"
   },
   "source": [
    "## Next module\n",
    "\n",
    "[12 - Functions, bis](https://colab.research.google.com/github/CentreForDigitalHumanities/programming-in-python/blob/main/lessons/12%20functions%2C%20bis.ipynb) - [solutions](https://colab.research.google.com/github/CentreForDigitalHumanities/programming-in-python/blob/main/solutions/12%20Functions%2C%20bis.ipynb)"
   ]
  }
 ],
 "metadata": {
  "jupytext": {
   "cell_metadata_filter": "-all",
   "main_language": "python"
  },
  "kernelspec": {
   "display_name": "Python 3",
   "name": "python3"
  }
 },
 "nbformat": 4,
 "nbformat_minor": 5
}
