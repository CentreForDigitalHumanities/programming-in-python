{
 "cells": [
  {
   "cell_type": "markdown",
   "id": "bff84cda",
   "metadata": {
    "id": "fqMJHzNk5yXQ"
   },
   "source": [
    "# Module 7: Functions\n",
    "\n",
    "### Exercise solutions\n",
    "\n",
    "[Module 7]([7. Functions](https://colab.research.google.com/github/CentreForDigitalHumanities/programming-in-python/blob/main/lessons/07%20Functions.ipynb))\n",
    "\n",
    "### CDH course \"Programming in Python\"\n",
    "\n",
    "[index](https://colab.research.google.com/github/CentreForDigitalHumanities/programming-in-python/blob/main/lessons/00%20index.ipynb)\n",
    "\n",
    "Previous module: [6. Loops](https://colab.research.google.com/github/CentreForDigitalHumanities/programming-in-python/blob/main/lessons/06%20Loops.ipynb) - [solutions](https://colab.research.google.com/github/CentreForDigitalHumanities/programming-in-python/blob/main/solutions/06%20Loops%20-%20Solutions.ipynb)\n",
    "\n",
    "### This module\n",
    "\n",
    "- Storing code in a variable so you can reuse it.\n",
    "- Being explicit about the purpose of your code."
   ]
  },
  {
   "cell_type": "markdown",
   "id": "cfe192c3",
   "metadata": {
    "id": "aPFGhEVz40JP"
   },
   "source": [
    "## Exercise 7.1: functions"
   ]
  },
  {
   "cell_type": "markdown",
   "id": "02c83e11",
   "metadata": {
    "id": "hfcz-cSEKZWW"
   },
   "source": [
    "1. We have seen several standard functions during the course, such as `ord` and `len`. List as many as you can from memory. Try to list the types of the parameters and return values of each function as well. Do any of these functions have side effects?"
   ]
  },
  {
   "cell_type": "markdown",
   "id": "cd2c275e",
   "metadata": {
    "id": "ZG0lv6MhVP8L"
   },
   "source": [
    "Some examples:\n",
    "- `ord`: Has 1 parameter: a string of 1 character. The return value is an integer. No side effects.\n",
    "- `len`: Has 1 parameter: a list, tuple or other iterable. The return value is an integer. No side effects.\n",
    "- `input`: Has 1 optional parameter `prompt`, which should be a string. The function has a side effect, which is to wait for the user to type something. Its return value is a string (namely the text that you have entered)."
   ]
  },
  {
   "cell_type": "markdown",
   "id": "aa01cc00",
   "metadata": {
    "id": "BUnMsiUzKbws"
   },
   "source": [
    "2. For exercise purposes, code in the following blocks may call `print` inside a function and omit a docstring. Predict the output, then run the code to see whether your prediction was right. Try to explain any discrepancies."
   ]
  },
  {
   "cell_type": "code",
   "execution_count": null,
   "id": "31ef20a4",
   "metadata": {
    "colab": {
     "base_uri": "https://localhost:8080/"
    },
    "executionInfo": {
     "elapsed": 366,
     "status": "ok",
     "timestamp": 1681904959646,
     "user": {
      "displayName": "Luka van der Plas",
      "userId": "16305747382115943293"
     },
     "user_tz": -120
    },
    "id": "_3va9jT5O0H7",
    "outputId": "0187c43c-58c4-45c6-935f-a22d2bf5c864"
   },
   "outputs": [],
   "source": [
    "def greet(name):\n",
    "    return 'Hello, ' + name + '!'\n",
    "\n",
    "print(greet('Berit'))"
   ]
  },
  {
   "cell_type": "code",
   "execution_count": null,
   "id": "c97dd284",
   "metadata": {
    "id": "vdTIwoGxM_JV"
   },
   "outputs": [],
   "source": [
    "name = 'Luka'\n",
    "\n",
    "def exclaim(name):\n",
    "    print(name + '!')\n",
    "\n",
    "# nothing happens: we have created a function but we haven't called it!"
   ]
  },
  {
   "cell_type": "code",
   "execution_count": null,
   "id": "fb887813",
   "metadata": {
    "colab": {
     "base_uri": "https://localhost:8080/"
    },
    "executionInfo": {
     "elapsed": 5,
     "status": "ok",
     "timestamp": 1681905065618,
     "user": {
      "displayName": "Luka van der Plas",
      "userId": "16305747382115943293"
     },
     "user_tz": -120
    },
    "id": "30fv8SAMOblV",
    "outputId": "99fd2054-9609-4646-c321-2f4513b6cc5f"
   },
   "outputs": [],
   "source": [
    "def false():\n",
    "    return True\n",
    "\n",
    "print(False)\n",
    "\n",
    "# we are printing the literal value `False`, which is not the same as our function `false` (all lower case)\n",
    "# Capitalisation matters in python!"
   ]
  },
  {
   "cell_type": "code",
   "execution_count": null,
   "id": "e5873981",
   "metadata": {
    "colab": {
     "base_uri": "https://localhost:8080/"
    },
    "executionInfo": {
     "elapsed": 13,
     "status": "ok",
     "timestamp": 1681905150776,
     "user": {
      "displayName": "Luka van der Plas",
      "userId": "16305747382115943293"
     },
     "user_tz": -120
    },
    "id": "ongrNaZFNNmV",
    "outputId": "45d7e513-7157-4c54-ab92-c4380fb59f02"
   },
   "outputs": [],
   "source": [
    "length = 5\n",
    "width = 2\n",
    "\n",
    "def calculate_area():\n",
    "    area = length * width\n",
    "\n",
    "print(calculate_area())\n",
    "\n",
    "# calculate_area calculates something, but it does not make a return statement.\n",
    "# So the returned value of `calculate_area()` is None"
   ]
  },
  {
   "cell_type": "code",
   "execution_count": null,
   "id": "0c664d35",
   "metadata": {
    "colab": {
     "base_uri": "https://localhost:8080/",
     "height": 35
    },
    "executionInfo": {
     "elapsed": 378,
     "status": "ok",
     "timestamp": 1681905166543,
     "user": {
      "displayName": "Luka van der Plas",
      "userId": "16305747382115943293"
     },
     "user_tz": -120
    },
    "id": "MSkOCMMyNoUO",
    "outputId": "a9fca128-9415-4ef7-97cb-1546e36f67db"
   },
   "outputs": [],
   "source": [
    "def question(name):\n",
    "    return 'Who is ' + name + '?'\n",
    "\n",
    "question('Jelte')"
   ]
  },
  {
   "cell_type": "code",
   "execution_count": null,
   "id": "76c2dd9b",
   "metadata": {
    "colab": {
     "base_uri": "https://localhost:8080/"
    },
    "executionInfo": {
     "elapsed": 6,
     "status": "ok",
     "timestamp": 1681905320174,
     "user": {
      "displayName": "Luka van der Plas",
      "userId": "16305747382115943293"
     },
     "user_tz": -120
    },
    "id": "72DDRhD5OQ0g",
    "outputId": "3cd844dd-d4ca-4418-db9e-8c3065a9d3b7"
   },
   "outputs": [],
   "source": [
    "def add(left, right):\n",
    "    return left + right\n",
    "\n",
    "print(add('sweet', 'addition') * add(1, 1))\n",
    "\n",
    "# add('sweet', 'addition') will return 'sweet' + addition', which concatenates\n",
    "# the strings to 'sweetaddition'\n",
    "\n",
    "# add(1, 1) becomes 1 + 1, so 2\n",
    "\n",
    "# then 'sweetaddition' * 2 means \"repeat 'sweetaddition' twice\"\n",
    "# hence 'sweetadditionsweetaddition'"
   ]
  },
  {
   "cell_type": "code",
   "execution_count": null,
   "id": "ff79cbad",
   "metadata": {
    "colab": {
     "base_uri": "https://localhost:8080/"
    },
    "executionInfo": {
     "elapsed": 360,
     "status": "ok",
     "timestamp": 1681906368916,
     "user": {
      "displayName": "Luka van der Plas",
      "userId": "16305747382115943293"
     },
     "user_tz": -120
    },
    "id": "L0GlJecf8ntf",
    "outputId": "893d9d77-378d-4d5c-8a17-fa14fdbd0322"
   },
   "outputs": [],
   "source": [
    "# I've added some comments to each print statement, to explain what's happening and in what order.\n",
    "\n",
    "name = 'Julian'\n",
    "age = 36\n",
    "\n",
    "print(name) # 1st print\n",
    "\n",
    "# make a function. the code in the body will not be executed until we call the function below.\n",
    "def example(name):\n",
    "    print(name) # 5th print: we are printing the *parameter* `name` that we\n",
    "    # passed on to the function when we called it, which is 'Jelte'. There is a\n",
    "    # global parameter which is also called `name` (with value 'Julian'), but\n",
    "    # the parameter takes precedence.\n",
    "\n",
    "    name = 'Berit' # update the value of the *parameter*\n",
    "\n",
    "    print(name) # 6th print: print the new value of the parameter\n",
    "\n",
    "    print(age) # 7th print: print age. There is no `age` variable specific\n",
    "    # to the function, so we refer to the global variable (36)\n",
    "\n",
    "print(name) # 2nd print: name is unchanged. `name = 'Berit'` was part of the\n",
    "# function body, it's not yet executed\n",
    "\n",
    "print(example) # 3rd print: we are printing the function itself, not the\n",
    "# returned value!\n",
    "\n",
    "print(name) # 4th print: name is still unchanged.\n",
    "\n",
    "example('Jelte') # we are running the function here, and now we will execute the\n",
    "# print statements within its body\n",
    "\n",
    "print(name) # 8th print: the function `example` did some stuff with its\n",
    "# parameter called name, but did not do anything with the global variable name.\n",
    "# So `name` is still 'Julian'\n",
    "\n",
    "print(age) # 9th print\n",
    "\n"
   ]
  },
  {
   "cell_type": "markdown",
   "id": "df50bcfc",
   "metadata": {
    "id": "Rwvwlpp0-Hrt"
   },
   "source": [
    "3. In each of the following code blocks, write a docstring for the function, then add assertions and run the block to check that your documentation is correct."
   ]
  },
  {
   "cell_type": "code",
   "execution_count": null,
   "id": "8056cd2f",
   "metadata": {
    "id": "ajcRnvzQQ9c5"
   },
   "outputs": [],
   "source": [
    "def odd(number):\n",
    "    '''\n",
    "    Checks whether a number is odd\n",
    "\n",
    "    Input should be an integer. Output is a boolean, True if the number is not\n",
    "    divisible by two.\n",
    "    '''\n",
    "    return number % 2 == 1\n",
    "\n",
    "assert odd(1) == True\n",
    "assert odd(6) == False\n",
    "assert odd(0) == False"
   ]
  },
  {
   "cell_type": "code",
   "execution_count": null,
   "id": "d49d62cf",
   "metadata": {
    "id": "giU_bIKrRME4"
   },
   "outputs": [],
   "source": [
    "def magic(word):\n",
    "    '''\n",
    "    Checks that the input is a nonempty string and starts with a capital letter.\n",
    "\n",
    "    Input can be of any type: anything other than a string will return False.\n",
    "    For strings, checks that the string is not empty and the first character\n",
    "    is an uppercase latin character.\n",
    "    '''\n",
    "    if not word or type(word) != str:\n",
    "        return False\n",
    "    if 'A' <= word[0] <= 'Z':\n",
    "        return True\n",
    "    return False\n",
    "\n",
    "assert magic(123) == False\n",
    "assert magic('Hello python programmers!') == True\n",
    "assert magic('python python python') == False\n",
    "assert magic('🤔') == False\n",
    "assert magic('') == False"
   ]
  },
  {
   "cell_type": "code",
   "execution_count": null,
   "id": "c081df4b",
   "metadata": {
    "id": "pAChbRWn-SKS"
   },
   "outputs": [],
   "source": [
    "def join_commas(words):\n",
    "    '''\n",
    "    Joins a iterable of strings into a single string, with ', ' between each item.\n",
    "\n",
    "    Input should be an iterable of strings with at least 1 item.\n",
    "    '''\n",
    "    first, *rest = list(words)\n",
    "    text = first\n",
    "    for word in rest:\n",
    "        text = text + ', ' + word\n",
    "    return text\n",
    "\n",
    "assert join_commas(['a', 'b', 'c']) == 'a, b, c'\n",
    "assert join_commas(['a']) == 'a'\n",
    "assert join_commas(('a', 'b', 'c')) == 'a, b, c'"
   ]
  },
  {
   "cell_type": "markdown",
   "id": "21ac72c1",
   "metadata": {
    "id": "mc9RtAeATiHw"
   },
   "source": [
    "4. Write a function `is_number` that takes one argument. If the argument is a number, it should return `True`; otherwise, it should return `False`. Make sure to include a docstring!"
   ]
  },
  {
   "cell_type": "code",
   "execution_count": null,
   "id": "14748736",
   "metadata": {
    "id": "Ap33-rF-UbsB"
   },
   "outputs": [],
   "source": [
    "# Your definition of is_number here\n",
    "\n",
    "def is_number(value):\n",
    "    '''\n",
    "    Checks if the input is a number (int or float)\n",
    "    '''\n",
    "\n",
    "    number_types = [int, float]\n",
    "    return type(value) in number_types\n",
    "\n",
    "# The following lines will check your solution (no output is good)\n",
    "assert is_number(0)\n",
    "assert is_number(10)\n",
    "assert is_number(0.5)\n",
    "assert is_number(8 / 5)\n",
    "assert not is_number(None)\n",
    "assert not is_number('dear')\n",
    "assert not is_number('123')"
   ]
  },
  {
   "cell_type": "markdown",
   "id": "d70cdd7b",
   "metadata": {
    "id": "apA7o120TYRl"
   },
   "source": [
    "## Exercise 7.2: bonus"
   ]
  },
  {
   "cell_type": "markdown",
   "id": "1be2725d",
   "metadata": {
    "id": "nM43w3VlB3-O"
   },
   "source": [
    "1. Write a function `last_a_index` that, given a string, returns the **last** index of the letter `'a'` in the string. If there is no `'a'` in the string, the function should return `None`."
   ]
  },
  {
   "cell_type": "code",
   "execution_count": null,
   "id": "d308af01",
   "metadata": {
    "id": "I5s4_a53ENJC"
   },
   "outputs": [],
   "source": [
    "# Define last_a_index here\n",
    "\n",
    "def last_a_index(text):\n",
    "    '''\n",
    "    Gives the index of the last 'a' in the string.\n",
    "\n",
    "    If there is no 'a' in the string, returns None\n",
    "    '''\n",
    "\n",
    "    a_index = None\n",
    "\n",
    "    for (index, character) in enumerate(text):\n",
    "        if character == 'a':\n",
    "            a_index = index\n",
    "\n",
    "    return a_index\n",
    "\n",
    "assert last_a_index('banana') == 5\n",
    "assert last_a_index('cherry') == None\n",
    "assert last_a_index('Once upon a time, there was a dragon') == 32"
   ]
  },
  {
   "cell_type": "markdown",
   "id": "ac11ae8c",
   "metadata": {
    "id": "z4z3-dOaVROx"
   },
   "source": [
    "2. Write a function `replace` with three string arguments: `text`, `query` and `replacement`. It should return a copy of `text` in which all occurrences of `query` are replaced by `replacement`. For example, `replace('small', 'a', 'e')` should return `'smell'`. You may assume that `query` is always a single character. For an additional challenge, you can try to also handle multi-character query strings. For ultimate challenge, try to think of a way to handle the empty string!"
   ]
  },
  {
   "cell_type": "code",
   "execution_count": null,
   "id": "c813c40e",
   "metadata": {
    "id": "kyQwfz-mYvfW"
   },
   "outputs": [],
   "source": [
    "# Define replace here\n",
    "\n",
    "# solution one: does not work with multi-character strings\n",
    "def replace(text, query, replacement):\n",
    "    '''\n",
    "    Replace each occurence of a character in a string\n",
    "\n",
    "    Input:\n",
    "    - text: a string in which you want to replace something\n",
    "    - query: the character you wish to replace\n",
    "    - replacement: the string that should replace `query`\n",
    "    '''\n",
    "\n",
    "    replaced = ''\n",
    "\n",
    "    for character in text:\n",
    "        if character == query:\n",
    "            replaced = replaced + replacement\n",
    "        else:\n",
    "            replaced = replaced + character\n",
    "\n",
    "    return replaced\n",
    "\n",
    "assert replace('small', 'a', 'e') == 'smell'\n",
    "assert replace('banana', 'a', 'o') == 'bonono'\n",
    "assert replace('cherry', 'a', 'x') == 'cherry'"
   ]
  },
  {
   "cell_type": "code",
   "execution_count": null,
   "id": "6cf54883",
   "metadata": {
    "id": "2ajcWTx1gi2r"
   },
   "outputs": [],
   "source": [
    "# solution 2: handle multi-character strings and empty strings\n",
    "\n",
    "# There no clear answer for what should happen in the case of empty strings!\n",
    "# It's a question that does not really make sense: replace every insstance of\n",
    "# nothing?\n",
    "\n",
    "# Here we just return `None` when query is empty. You could also return the\n",
    "# original string.\n",
    "\n",
    "def replace(text, query, replacement):\n",
    "    '''\n",
    "    Replace each occurence of a substring in a string\n",
    "\n",
    "    Input:\n",
    "    - text: a string in which you want to replace something\n",
    "    - query: the string you wish to replace\n",
    "    - replacement: the string that should replace `query`\n",
    "\n",
    "    If the query is empty, returns None.\n",
    "    '''\n",
    "\n",
    "    if not query:\n",
    "        return None\n",
    "\n",
    "    size = len(query)\n",
    "    new_text = '' # where we build our new text\n",
    "    position = 0 # our position as we move through the text\n",
    "\n",
    "    while position < len(text):\n",
    "        possible_match = text[position:position+size] # slice of text from here, the same size as the query\n",
    "        if possible_match == query: #if this matches...\n",
    "            new_text += replacement # put the replacement in our new string\n",
    "            position += size # and skip ahead until after this slice\n",
    "        else:\n",
    "            # if it doesn't match, move ahead by one character\n",
    "            new_text += text[position]\n",
    "            position += 1\n",
    "\n",
    "    return new_text\n",
    "\n",
    "\n",
    "assert replace('small', 'a', 'e') == 'smell'\n",
    "assert replace('banana', 'a', 'o') == 'bonono'\n",
    "assert replace('cherry', 'a', 'x') == 'cherry'\n",
    "assert replace('small', '', '?') == None\n",
    "assert replace('banana', 'an', 'ab') == 'bababa'\n",
    "assert replace('banana', 'banana', 'apple') == 'apple'\n",
    "assert replace('banana', 'e', 'o') == 'banana'"
   ]
  },
  {
   "cell_type": "markdown",
   "id": "6a05054f",
   "metadata": {
    "id": "Dntbbioh29xm"
   },
   "source": [
    "## Next module\n",
    "<!-- This has already been updated: Edo, 02-05-24\n",
    "[8. Debugging](https://colab.research.google.com/github/CentreForDigitalHumanities/programming-in-python/blob/main/lessons/08%20debugging.ipynb)\n",
    "-->"
   ]
  }
 ],
 "metadata": {
  "jupytext": {
   "cell_metadata_filter": "-all",
   "main_language": "python"
  },
  "kernelspec": {
   "display_name": "Python 3",
   "name": "python3"
  }
 },
 "nbformat": 4,
 "nbformat_minor": 5
}
