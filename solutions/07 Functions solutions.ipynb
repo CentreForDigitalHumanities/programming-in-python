{
 "cells": [
  {
   "cell_type": "markdown",
   "metadata": {
    "id": "fqMJHzNk5yXQ"
   },
   "source": [
    "# Module 7: Functions\n",
    "\n",
    "### CDH course \"Programming in Python\"\n",
    "\n",
    "[index](https://colab.research.google.com/drive/1s05aR4wn2dU1C3se1oXfqKz2EY5ilrno)\n",
    "\n",
    "Previous module: [6. Loops](https://colab.research.google.com/drive/1AZY4ESmsKKMvbalBDLlMrezAM5NzXXxV)\n",
    "\n",
    "### This module\n",
    "\n",
    "- Storing code in a variable so you can reuse it.\n",
    "- Being explicit about the purpose of your code."
   ]
  },
  {
   "cell_type": "markdown",
   "metadata": {
    "id": "aPFGhEVz40JP"
   },
   "source": [
    "## Exercise 7.1: functions"
   ]
  },
  {
   "cell_type": "markdown",
   "metadata": {
    "id": "hfcz-cSEKZWW"
   },
   "source": [
    "1. We have seen several standard functions during the course, such as `ord` and `len`. List as many as you can from memory. Try to list the types of the parameters and return values of each function as well. Do any of these functions have side effects?"
   ]
  },
  {
   "cell_type": "markdown",
   "metadata": {
    "id": "ZG0lv6MhVP8L"
   },
   "source": [
    "Some examples:\n",
    "- `ord`: Has 1 parameter: a string of 1 character. The return value is an integer. No side effects.\n",
    "- `len`: Has 1 parameter: a list, tuple or other iterable. The return value is an integer. No side effects.\n",
    "- `input`: Has 1 optional parameter `prompt`, which should be a string. The function has a side effect, which is to wait for the user to type something. Its return value is a string (namely the text that you have entered)."
   ]
  },
  {
   "cell_type": "markdown",
   "metadata": {
    "id": "BUnMsiUzKbws"
   },
   "source": [
    "2. For exercise purposes, code in the following blocks may call `print` inside a function and omit a docstring. Predict the output, then run the code to see whether your prediction was right. Try to explain any discrepancies."
   ]
  },
  {
   "cell_type": "code",
   "execution_count": 2,
   "metadata": {
    "colab": {
     "base_uri": "https://localhost:8080/"
    },
    "executionInfo": {
     "elapsed": 366,
     "status": "ok",
     "timestamp": 1681904959646,
     "user": {
      "displayName": "Luka van der Plas",
      "userId": "16305747382115943293"
     },
     "user_tz": -120
    },
    "id": "_3va9jT5O0H7",
    "outputId": "0187c43c-58c4-45c6-935f-a22d2bf5c864"
   },
   "outputs": [
    {
     "name": "stdout",
     "output_type": "stream",
     "text": [
      "Hello, Berit!\n"
     ]
    }
   ],
   "source": [
    "def greet(name):\n",
    "    return 'Hello, ' + name + '!'\n",
    "\n",
    "print(greet('Berit'))"
   ]
  },
  {
   "cell_type": "code",
   "execution_count": 4,
   "metadata": {
    "executionInfo": {
     "elapsed": 5,
     "status": "ok",
     "timestamp": 1681905000500,
     "user": {
      "displayName": "Luka van der Plas",
      "userId": "16305747382115943293"
     },
     "user_tz": -120
    },
    "id": "vdTIwoGxM_JV"
   },
   "outputs": [],
   "source": [
    "name = 'Luka'\n",
    "\n",
    "def exclaim(name):\n",
    "    print(name + '!')\n",
    "\n",
    "# nothing happens: we have created a function but we haven't called it!"
   ]
  },
  {
   "cell_type": "code",
   "execution_count": 5,
   "metadata": {
    "colab": {
     "base_uri": "https://localhost:8080/"
    },
    "executionInfo": {
     "elapsed": 5,
     "status": "ok",
     "timestamp": 1681905065618,
     "user": {
      "displayName": "Luka van der Plas",
      "userId": "16305747382115943293"
     },
     "user_tz": -120
    },
    "id": "30fv8SAMOblV",
    "outputId": "99fd2054-9609-4646-c321-2f4513b6cc5f"
   },
   "outputs": [
    {
     "name": "stdout",
     "output_type": "stream",
     "text": [
      "False\n"
     ]
    }
   ],
   "source": [
    "def false():\n",
    "    return True\n",
    "\n",
    "print(False)\n",
    "\n",
    "# we are printing the literal value `False`, which is not the same as our function `false` (all lower case)\n",
    "# Capitalisation matters in python!"
   ]
  },
  {
   "cell_type": "code",
   "execution_count": 8,
   "metadata": {
    "colab": {
     "base_uri": "https://localhost:8080/"
    },
    "executionInfo": {
     "elapsed": 13,
     "status": "ok",
     "timestamp": 1681905150776,
     "user": {
      "displayName": "Luka van der Plas",
      "userId": "16305747382115943293"
     },
     "user_tz": -120
    },
    "id": "ongrNaZFNNmV",
    "outputId": "45d7e513-7157-4c54-ab92-c4380fb59f02"
   },
   "outputs": [
    {
     "name": "stdout",
     "output_type": "stream",
     "text": [
      "None\n"
     ]
    }
   ],
   "source": [
    "length = 5\n",
    "width = 2\n",
    "\n",
    "def calculate_area():\n",
    "    area = length * width\n",
    "\n",
    "print(calculate_area())\n",
    "\n",
    "# calculate_area calculates something, but it does not make a return statement.\n",
    "# So the returned value of `calculate_area()` is None"
   ]
  },
  {
   "cell_type": "code",
   "execution_count": 9,
   "metadata": {
    "colab": {
     "base_uri": "https://localhost:8080/",
     "height": 35
    },
    "executionInfo": {
     "elapsed": 378,
     "status": "ok",
     "timestamp": 1681905166543,
     "user": {
      "displayName": "Luka van der Plas",
      "userId": "16305747382115943293"
     },
     "user_tz": -120
    },
    "id": "MSkOCMMyNoUO",
    "outputId": "a9fca128-9415-4ef7-97cb-1546e36f67db"
   },
   "outputs": [
    {
     "data": {
      "application/vnd.google.colaboratory.intrinsic+json": {
       "type": "string"
      },
      "text/plain": [
       "'Who is Jelte?'"
      ]
     },
     "execution_count": 9,
     "metadata": {},
     "output_type": "execute_result"
    }
   ],
   "source": [
    "def question(name):\n",
    "    return 'Who is ' + name + '?'\n",
    "\n",
    "question('Jelte')"
   ]
  },
  {
   "cell_type": "code",
   "execution_count": 11,
   "metadata": {
    "colab": {
     "base_uri": "https://localhost:8080/"
    },
    "executionInfo": {
     "elapsed": 6,
     "status": "ok",
     "timestamp": 1681905320174,
     "user": {
      "displayName": "Luka van der Plas",
      "userId": "16305747382115943293"
     },
     "user_tz": -120
    },
    "id": "72DDRhD5OQ0g",
    "outputId": "3cd844dd-d4ca-4418-db9e-8c3065a9d3b7"
   },
   "outputs": [
    {
     "name": "stdout",
     "output_type": "stream",
     "text": [
      "sweetadditionsweetaddition\n"
     ]
    }
   ],
   "source": [
    "def add(left, right):\n",
    "    return left + right\n",
    "\n",
    "print(add('sweet', 'addition') * add(1, 1))\n",
    "\n",
    "# add('sweet', 'addition') will return 'sweet' + addition', which concatenates\n",
    "# the strings to 'sweetaddition'\n",
    "\n",
    "# add(1, 1) becomes 1 + 1, so 2\n",
    "\n",
    "# then 'sweetaddition' * 2 means \"repeat 'sweetaddition' twice\"\n",
    "# hence 'sweetadditionsweetaddition'"
   ]
  },
  {
   "cell_type": "code",
   "execution_count": 15,
   "metadata": {
    "colab": {
     "base_uri": "https://localhost:8080/"
    },
    "executionInfo": {
     "elapsed": 360,
     "status": "ok",
     "timestamp": 1681906368916,
     "user": {
      "displayName": "Luka van der Plas",
      "userId": "16305747382115943293"
     },
     "user_tz": -120
    },
    "id": "L0GlJecf8ntf",
    "outputId": "893d9d77-378d-4d5c-8a17-fa14fdbd0322"
   },
   "outputs": [
    {
     "name": "stdout",
     "output_type": "stream",
     "text": [
      "Julian\n",
      "Julian\n",
      "<function example at 0x7f776c390820>\n",
      "Julian\n",
      "Jelte\n",
      "Berit\n",
      "36\n",
      "Julian\n",
      "36\n"
     ]
    }
   ],
   "source": [
    "# I've added some comments to each print statement, to explain what's happening and in what order.\n",
    "\n",
    "name = 'Julian'\n",
    "age = 36\n",
    "\n",
    "print(name) # 1st print\n",
    "\n",
    "# make a function. the code in the body will not be executed until we call the function below.\n",
    "def example(name):\n",
    "    print(name) # 5th print: we are printing the *parameter* `name` that we\n",
    "    # passed on to the function when we called it, which is 'Jelte'. There is a \n",
    "    # global parameter which is also called `name` (with value 'Julian'), but\n",
    "    # the parameter takes precedence.\n",
    " \n",
    "    name = 'Berit' # update the value of the *parameter*\n",
    "\n",
    "    print(name) # 6th print: print the new value of the parameter\n",
    "\n",
    "    print(age) # 7th print: print age. There is no `age` variable specific\n",
    "    # to the function, so we refer to the global variable (36)\n",
    "\n",
    "print(name) # 2nd print: name is unchanged. `name = 'Berit'` was part of the\n",
    "# function body, it's not yet executed\n",
    "\n",
    "print(example) # 3rd print: we are printing the function itself, not the\n",
    "# returned value!\n",
    "\n",
    "print(name) # 4th print: name is still unchanged.\n",
    "\n",
    "example('Jelte') # we are running the function here, and now we will execute the\n",
    "# print statements within its body\n",
    "\n",
    "print(name) # 8th print: the function `example` did some stuff with its\n",
    "# parameter called name, but did not do anything with the global variable name.\n",
    "# So `name` is still 'Julian'\n",
    "\n",
    "print(age) # 9th print\n",
    "\n"
   ]
  },
  {
   "cell_type": "markdown",
   "metadata": {
    "id": "Rwvwlpp0-Hrt"
   },
   "source": [
    "3. In each of the following code blocks, write a docstring for the function, then add assertions and run the block to check that your documentation is correct."
   ]
  },
  {
   "cell_type": "code",
   "execution_count": 19,
   "metadata": {
    "executionInfo": {
     "elapsed": 366,
     "status": "ok",
     "timestamp": 1681906464925,
     "user": {
      "displayName": "Luka van der Plas",
      "userId": "16305747382115943293"
     },
     "user_tz": -120
    },
    "id": "ajcRnvzQQ9c5"
   },
   "outputs": [],
   "source": [
    "def odd(number):\n",
    "    '''\n",
    "    Checks whether a number is odd\n",
    "\n",
    "    Input should be an integer. Output is a boolean, True if the number is not\n",
    "    divisible by two.\n",
    "    '''\n",
    "    return number % 2 == 1\n",
    "\n",
    "assert odd(1) == True\n",
    "assert odd(6) == False\n",
    "assert odd(0) == False"
   ]
  },
  {
   "cell_type": "code",
   "execution_count": 23,
   "metadata": {
    "executionInfo": {
     "elapsed": 393,
     "status": "ok",
     "timestamp": 1681906766119,
     "user": {
      "displayName": "Luka van der Plas",
      "userId": "16305747382115943293"
     },
     "user_tz": -120
    },
    "id": "giU_bIKrRME4"
   },
   "outputs": [],
   "source": [
    "def magic(word):\n",
    "    '''\n",
    "    Checks that the input is a nonempty string and starts with a capital letter.\n",
    "\n",
    "    Input can be of any type: anything other than a string will return False.\n",
    "    For strings, checks that the string is not empty and the first character\n",
    "    is an uppercase latin character.    \n",
    "    '''\n",
    "    if not word or type(word) != str:\n",
    "        return False\n",
    "    if 'A' <= word[0] <= 'Z':\n",
    "        return True\n",
    "    return False\n",
    "\n",
    "assert magic(123) == False\n",
    "assert magic('Hello python programmers!') == True\n",
    "assert magic('python python python') == False\n",
    "assert magic('🤔') == False\n",
    "assert magic('') == False"
   ]
  },
  {
   "cell_type": "code",
   "execution_count": 28,
   "metadata": {
    "executionInfo": {
     "elapsed": 8,
     "status": "ok",
     "timestamp": 1681907208099,
     "user": {
      "displayName": "Luka van der Plas",
      "userId": "16305747382115943293"
     },
     "user_tz": -120
    },
    "id": "pAChbRWn-SKS"
   },
   "outputs": [],
   "source": [
    "def join_commas(words):\n",
    "    '''\n",
    "    Joins a iterable of strings into a single string, with ', ' between each item.\n",
    "\n",
    "    Input should be an iterable of strings with at least 1 item.\n",
    "    '''\n",
    "    first, *rest = list(words)\n",
    "    text = first\n",
    "    for word in rest:\n",
    "        text = text + ', ' + word\n",
    "    return text\n",
    "\n",
    "assert join_commas(['a', 'b', 'c']) == 'a, b, c'\n",
    "assert join_commas(['a']) == 'a'\n",
    "assert join_commas(('a', 'b', 'c')) == 'a, b, c'"
   ]
  },
  {
   "cell_type": "markdown",
   "metadata": {
    "id": "mc9RtAeATiHw"
   },
   "source": [
    "4. Write a function `is_number` that takes one argument. If the argument is a number, it should return `True`; otherwise, it should return `False`. Make sure to include a docstring!"
   ]
  },
  {
   "cell_type": "code",
   "execution_count": 29,
   "metadata": {
    "executionInfo": {
     "elapsed": 399,
     "status": "ok",
     "timestamp": 1681907269669,
     "user": {
      "displayName": "Luka van der Plas",
      "userId": "16305747382115943293"
     },
     "user_tz": -120
    },
    "id": "Ap33-rF-UbsB"
   },
   "outputs": [],
   "source": [
    "# Your definition of is_number here\n",
    "\n",
    "def is_number(value):\n",
    "    '''\n",
    "    Checks if the input is a number (int or float)\n",
    "    '''\n",
    "\n",
    "    number_types = [int, float]\n",
    "    return type(value) in number_types\n",
    "\n",
    "# The following lines will check your solution (no output is good)\n",
    "assert is_number(0)\n",
    "assert is_number(10)\n",
    "assert is_number(0.5)\n",
    "assert is_number(8 / 5)\n",
    "assert not is_number(None)\n",
    "assert not is_number('dear')\n",
    "assert not is_number('123')"
   ]
  },
  {
   "cell_type": "markdown",
   "metadata": {
    "id": "apA7o120TYRl"
   },
   "source": [
    "## Exercise 7.2: bonus"
   ]
  },
  {
   "cell_type": "markdown",
   "metadata": {
    "id": "nM43w3VlB3-O"
   },
   "source": [
    "1. Write a function `last_a_index` that, given a string, returns the **last** index of the letter `'a'` in the string. If there is no `'a'` in the string, the function should return `None`."
   ]
  },
  {
   "cell_type": "code",
   "execution_count": 32,
   "metadata": {
    "executionInfo": {
     "elapsed": 10,
     "status": "ok",
     "timestamp": 1681907469796,
     "user": {
      "displayName": "Luka van der Plas",
      "userId": "16305747382115943293"
     },
     "user_tz": -120
    },
    "id": "I5s4_a53ENJC"
   },
   "outputs": [],
   "source": [
    "# Define last_a_index here\n",
    "\n",
    "def last_a_index(text):\n",
    "    '''\n",
    "    Gives the index of the last 'a' in the string.\n",
    "\n",
    "    If there is no 'a' in the string, returns None\n",
    "    '''\n",
    "\n",
    "    a_index = None\n",
    "\n",
    "    for (index, character) in enumerate(text):\n",
    "        if character == 'a':\n",
    "            a_index = index\n",
    "    \n",
    "    return a_index\n",
    "\n",
    "assert last_a_index('banana') == 5\n",
    "assert last_a_index('cherry') == None\n",
    "assert last_a_index('Once upon a time, there was a dragon') == 32"
   ]
  },
  {
   "cell_type": "markdown",
   "metadata": {
    "id": "z4z3-dOaVROx"
   },
   "source": [
    "2. Write a function `replace` with three string arguments: `text`, `query` and `replacement`. It should return a copy of `text` in which all occurrences of `query` are replaced by `replacement`. For example, `replace('small', 'a', 'e')` should return `'smell'`. You may assume that `query` is always a single character. For an additional challenge, you can try to also handle multi-character query strings. For ultimate challenge, try to think of a way to handle the empty string!"
   ]
  },
  {
   "cell_type": "code",
   "execution_count": 34,
   "metadata": {
    "executionInfo": {
     "elapsed": 2,
     "status": "ok",
     "timestamp": 1681907653952,
     "user": {
      "displayName": "Luka van der Plas",
      "userId": "16305747382115943293"
     },
     "user_tz": -120
    },
    "id": "kyQwfz-mYvfW"
   },
   "outputs": [],
   "source": [
    "# Define replace here\n",
    "\n",
    "# solution one: does not work with multi-character strings\n",
    "def replace(text, query, replacement):\n",
    "    '''\n",
    "    Replace each occurence of a character in a string\n",
    "    \n",
    "    Input:\n",
    "    - text: a string in which you want to replace something\n",
    "    - query: the character you wish to replace\n",
    "    - replacement: the string that should replace `query`\n",
    "    '''\n",
    "\n",
    "    replaced = ''\n",
    "\n",
    "    for character in text:\n",
    "        if character == query:\n",
    "            replaced = replaced + replacement\n",
    "        else:\n",
    "            replaced = replaced + character\n",
    "    \n",
    "    return replaced\n",
    "\n",
    "assert replace('small', 'a', 'e') == 'smell'\n",
    "assert replace('banana', 'a', 'o') == 'bonono'\n",
    "assert replace('cherry', 'a', 'x') == 'cherry'"
   ]
  },
  {
   "cell_type": "code",
   "execution_count": 41,
   "metadata": {
    "executionInfo": {
     "elapsed": 350,
     "status": "ok",
     "timestamp": 1681908669621,
     "user": {
      "displayName": "Luka van der Plas",
      "userId": "16305747382115943293"
     },
     "user_tz": -120
    },
    "id": "2ajcWTx1gi2r"
   },
   "outputs": [],
   "source": [
    "# solution 2: handle multi-character strings and empty strings\n",
    "\n",
    "# There no clear answer for what should happen in the case of empty strings!\n",
    "# It's a question that does not really make sense: replace every insstance of\n",
    "# nothing?\n",
    "\n",
    "# Here we just return `None` when query is empty. You could also return the\n",
    "# original string.\n",
    "\n",
    "def replace(text, query, replacement):\n",
    "    '''\n",
    "    Replace each occurence of a substring in a string\n",
    "    \n",
    "    Input:\n",
    "    - text: a string in which you want to replace something\n",
    "    - query: the string you wish to replace\n",
    "    - replacement: the string that should replace `query`\n",
    "\n",
    "    If the query is empty, returns None.\n",
    "    '''\n",
    "\n",
    "    if not query:\n",
    "        return None\n",
    "    \n",
    "    size = len(query)\n",
    "    new_text = '' # where we build our new text\n",
    "    position = 0 # our position as we move through the text\n",
    "\n",
    "    while position < len(text):\n",
    "        possible_match = text[position:position+size] # slice of text from here, the same size as the query\n",
    "        if possible_match == query: #if this matches...\n",
    "            new_text += replacement # put the replacement in our new string\n",
    "            position += size # and skip ahead until after this slice\n",
    "        else:\n",
    "            # if it doesn't match, move ahead by one character\n",
    "            new_text += text[position]\n",
    "            position += 1\n",
    "    \n",
    "    return new_text\n",
    "    \n",
    "\n",
    "assert replace('small', 'a', 'e') == 'smell'\n",
    "assert replace('banana', 'a', 'o') == 'bonono'\n",
    "assert replace('cherry', 'a', 'x') == 'cherry'\n",
    "assert replace('small', '', '?') == None\n",
    "assert replace('banana', 'an', 'ab') == 'bababa'\n",
    "assert replace('banana', 'banana', 'apple') == 'apple'  \n",
    "assert replace('banana', 'e', 'o') == 'banana'"
   ]
  },
  {
   "cell_type": "markdown",
   "metadata": {
    "id": "1xUD2ZNjcqEZ"
   },
   "source": [
    "## Exercise 7.3: function tricks"
   ]
  },
  {
   "cell_type": "markdown",
   "metadata": {
    "id": "hxRC5Nx-cyM4"
   },
   "source": [
    "1. In each of the code blocks below, predict the output, check your prediction by running the code, and try to explain any surprises."
   ]
  },
  {
   "cell_type": "code",
   "execution_count": 1,
   "metadata": {
    "colab": {
     "base_uri": "https://localhost:8080/"
    },
    "executionInfo": {
     "elapsed": 392,
     "status": "ok",
     "timestamp": 1681908707519,
     "user": {
      "displayName": "Luka van der Plas",
      "userId": "16305747382115943293"
     },
     "user_tz": -120
    },
    "id": "HPxio0q6c-M9",
    "outputId": "8542c5de-15ae-4841-b438-1211d999241f"
   },
   "outputs": [
    {
     "name": "stdout",
     "output_type": "stream",
     "text": [
      "Welcome to my office. How can I help you?\n",
      "Please make yourself at home, Sheean!\n"
     ]
    }
   ],
   "source": [
    "def welcome(name=None):\n",
    "    if name is None:\n",
    "        return 'Welcome to my office. How can I help you?'\n",
    "    return 'Please make yourself at home, ' + name + '!'\n",
    "\n",
    "print(welcome()) # default option\n",
    "print(welcome('Sheean'))"
   ]
  },
  {
   "cell_type": "code",
   "execution_count": 45,
   "metadata": {
    "colab": {
     "base_uri": "https://localhost:8080/"
    },
    "executionInfo": {
     "elapsed": 6,
     "status": "ok",
     "timestamp": 1681908774383,
     "user": {
      "displayName": "Luka van der Plas",
      "userId": "16305747382115943293"
     },
     "user_tz": -120
    },
    "id": "NxXqK4ROdxva",
    "outputId": "08744e41-cbe2-4c45-9566-9174466aaf88"
   },
   "outputs": [
    {
     "name": "stdout",
     "output_type": "stream",
     "text": [
      "15\n"
     ]
    }
   ],
   "source": [
    "def table(number):\n",
    "    return number, number * 2, number * 3 #return three numbers\n",
    "\n",
    "first, second, third = table(5) # table(5) is (5, 10, 15) ; unpack these into three variables\n",
    "\n",
    "print(third) #print the third"
   ]
  },
  {
   "cell_type": "code",
   "execution_count": 48,
   "metadata": {
    "colab": {
     "base_uri": "https://localhost:8080/"
    },
    "executionInfo": {
     "elapsed": 14,
     "status": "ok",
     "timestamp": 1681908875617,
     "user": {
      "displayName": "Luka van der Plas",
      "userId": "16305747382115943293"
     },
     "user_tz": -120
    },
    "id": "EVCf3w9qfBCU",
    "outputId": "8883c815-c80f-4f0a-f185-4d6d935e54cb"
   },
   "outputs": [
    {
     "name": "stdout",
     "output_type": "stream",
     "text": [
      "For naming, contact Job.\n"
     ]
    }
   ],
   "source": [
    "def contact(name, job):\n",
    "    return 'For ' + job + ', contact ' + name + '.'\n",
    "\n",
    "contact_line = contact(job='naming', name='Job') # we use named arguments, so we can supply `name` and `job` in any order\n",
    "print(contact_line)"
   ]
  },
  {
   "cell_type": "code",
   "execution_count": 50,
   "metadata": {
    "colab": {
     "base_uri": "https://localhost:8080/"
    },
    "executionInfo": {
     "elapsed": 4,
     "status": "ok",
     "timestamp": 1681909054548,
     "user": {
      "displayName": "Luka van der Plas",
      "userId": "16305747382115943293"
     },
     "user_tz": -120
    },
    "id": "OUSpe-hPl6-G",
    "outputId": "fa03386e-6570-43ce-a65b-424d5cbfb193"
   },
   "outputs": [
    {
     "name": "stdout",
     "output_type": "stream",
     "text": [
      "As my mother would say: Julian?\n"
     ]
    }
   ],
   "source": [
    "def exclaim(name):\n",
    "    return name + '!'\n",
    "\n",
    "def request(name):\n",
    "    return name + '?'\n",
    "\n",
    "def tell(how):\n",
    "    return 'As my mother would say: ' + how('Julian')\n",
    "\n",
    "print(tell(request))\n",
    "\n",
    "# tell(request) will return `'As my mother would say: ' + how('Julian')`\n",
    "# `how` is whatever we pass on as the argument to `tell`, in this case the function `request`\n",
    "# so we can fill in `how('Julian')` as `request('Julian')`\n",
    "# now we can look at the body of `request` to see what it does (it puts a\n",
    "# question mark behind the name)"
   ]
  },
  {
   "cell_type": "code",
   "execution_count": 52,
   "metadata": {
    "colab": {
     "base_uri": "https://localhost:8080/"
    },
    "executionInfo": {
     "elapsed": 9,
     "status": "ok",
     "timestamp": 1681909174217,
     "user": {
      "displayName": "Luka van der Plas",
      "userId": "16305747382115943293"
     },
     "user_tz": -120
    },
    "id": "uSN17qnvmoWv",
    "outputId": "f36d7049-e723-4036-e0b3-4b48a9b2103f"
   },
   "outputs": [
    {
     "name": "stdout",
     "output_type": "stream",
     "text": [
      "apricot; banana; cherry\n"
     ]
    }
   ],
   "source": [
    "def make_enumerate(separator):\n",
    "    def enumerate(items):\n",
    "        if not len(items):\n",
    "            return ''\n",
    "        result = items[0]\n",
    "        for item in items[1:]:\n",
    "            result = result + separator + item\n",
    "        return result\n",
    "    return enumerate\n",
    "\n",
    "with_semicolon = make_enumerate('; ')\n",
    "fruits = with_semicolon(['apricot', 'banana', 'cherry'])\n",
    "print(fruits)\n",
    "\n",
    "# with_semicolon is the output of make_enumerate: another function.\n",
    "# This function takes a list of strings as input and joins them with a semicolon\n",
    "# between them. we can then call `with_semicolon` on the list of fruits."
   ]
  },
  {
   "cell_type": "markdown",
   "metadata": {
    "id": "CKma4p6Egkwb"
   },
   "source": [
    "2. In each of the following code blocks, something is missing in the function definition. Add the missing element."
   ]
  },
  {
   "cell_type": "code",
   "execution_count": 53,
   "metadata": {
    "executionInfo": {
     "elapsed": 6,
     "status": "ok",
     "timestamp": 1681909191045,
     "user": {
      "displayName": "Luka van der Plas",
      "userId": "16305747382115943293"
     },
     "user_tz": -120
    },
    "id": "SaygnjMygwNF"
   },
   "outputs": [],
   "source": [
    "def combine(left, right):\n",
    "    \"\"\" Compute the sum and the product of the arguments. \"\"\"\n",
    "    sum = left + right\n",
    "    product = left * right\n",
    "    return sum, product #return both the sum and the product\n",
    "\n",
    "assert combine(2, 3) == (5, 6)"
   ]
  },
  {
   "cell_type": "code",
   "execution_count": 55,
   "metadata": {
    "executionInfo": {
     "elapsed": 6,
     "status": "ok",
     "timestamp": 1681909211878,
     "user": {
      "displayName": "Luka van der Plas",
      "userId": "16305747382115943293"
     },
     "user_tz": -120
    },
    "id": "GqIgTcG6hMuG"
   },
   "outputs": [],
   "source": [
    "def announce_time(hour, minute=0): # minute should be optional, so we add a default value.\n",
    "    \"\"\" Announce the time in a speaking clock manner. \"\"\"\n",
    "    if minute < 10:\n",
    "        minute = '0' + str(minute)\n",
    "    time = str(hour) + ':' + str(minute)\n",
    "    return 'At the next beep, the time will be ' + time + '. BEEP!'\n",
    "\n",
    "assert announce_time(12) == 'At the next beep, the time will be 12:00. BEEP!'"
   ]
  },
  {
   "cell_type": "code",
   "execution_count": 56,
   "metadata": {
    "colab": {
     "base_uri": "https://localhost:8080/"
    },
    "executionInfo": {
     "elapsed": 395,
     "status": "ok",
     "timestamp": 1681909264360,
     "user": {
      "displayName": "Luka van der Plas",
      "userId": "16305747382115943293"
     },
     "user_tz": -120
    },
    "id": "nH77gJdOkS5b",
    "outputId": "f70a5f41-1916-4deb-da38-248ea056a749"
   },
   "outputs": [
    {
     "name": "stdout",
     "output_type": "stream",
     "text": [
      "holiday\n"
     ]
    }
   ],
   "source": [
    "def echo(value):\n",
    "    print(value)\n",
    "    return value\n",
    "\n",
    "assert echo('holiday') == 'holiday'"
   ]
  },
  {
   "cell_type": "markdown",
   "metadata": {
    "id": "YG5XrO1PoIJx"
   },
   "source": [
    "3. In the following code block, write a function `month`, which returns a string name for given numeric month. Month `1` is `'January'` and month `12` is `December`. When no argument is passed, it should default to the current month. **Tip:** you can avoid writing a big `if`/`elif`/`else` tree by using a list of month names and using the month number as a list index."
   ]
  },
  {
   "cell_type": "code",
   "execution_count": 73,
   "metadata": {
    "executionInfo": {
     "elapsed": 662,
     "status": "ok",
     "timestamp": 1681911393494,
     "user": {
      "displayName": "Luka van der Plas",
      "userId": "16305747382115943293"
     },
     "user_tz": -120
    },
    "id": "TnuU_I0Tq9wQ"
   },
   "outputs": [],
   "source": [
    "# You may pretend that it is forever April\n",
    "current_month = 4\n",
    "\n",
    "months = ['January', 'February', 'March', 'April', 'May', 'June', 'July', 'August', 'September', 'October', 'November', 'December']\n",
    "\n",
    "def month(number=current_month):\n",
    "    '''\n",
    "    Return the name of a month based on an number.\n",
    "\n",
    "    Input should be an integer between 1 and 12. Returns None if this is not the case.\n",
    "    If no month number is given, defaults to April.\n",
    "\n",
    "    Returns a string with the name of the Month.\n",
    "    '''\n",
    "\n",
    "    if type(number) is not int or number < 1 or number > 12:\n",
    "        return None\n",
    "\n",
    "    index = number - 1\n",
    "    return months[index]\n",
    "\n",
    "# Your definition of month here\n",
    "\n",
    "assert month(3) == 'March'\n",
    "assert month(4) == 'April'\n",
    "assert month(11) == 'November'\n",
    "assert month() == 'April'"
   ]
  },
  {
   "cell_type": "markdown",
   "metadata": {
    "id": "WuRrElhUsD40"
   },
   "source": [
    "4. In the following code block, write a function `weekday`, which is analogous to `month` in the previous exercise. Day `1` is `'Monday'` while day `0` and day `7` are both `'Sunday'`. Can you avoid writing the string `'Sunday'` twice in your code?"
   ]
  },
  {
   "cell_type": "code",
   "execution_count": 74,
   "metadata": {
    "executionInfo": {
     "elapsed": 8,
     "status": "ok",
     "timestamp": 1681911394923,
     "user": {
      "displayName": "Luka van der Plas",
      "userId": "16305747382115943293"
     },
     "user_tz": -120
    },
    "id": "WUGQqmJysrqS"
   },
   "outputs": [],
   "source": [
    "# You may pretend it is forever Tuesday\n",
    "current_weekday = 2\n",
    "\n",
    "weekdays = ['Monday', 'Tuesday', 'Wednesday', 'Thursday', 'Friday', 'Saturday', 'Sunday']\n",
    "\n",
    "def weekday(number=current_weekday):\n",
    "    '''\n",
    "    Return the name of a weekday based on an number.\n",
    "\n",
    "    Input should be an integer between 0 and 7. Returns None if this is not the case.\n",
    "    If no weekday number is given, defaults to Tuesday.\n",
    "\n",
    "    Returns a string with the name of the weekday. Day 1 is 'Monday' while day 0\n",
    "    and day 7 are both 'Sunday'.\n",
    "    '''\n",
    "    if type(number) is not int or number < 0 or number > 7:\n",
    "        return None\n",
    " \n",
    "    index = (number - 1) % 7\n",
    "    return weekdays[index]\n",
    "\n",
    "# Your definition of weekday here\n",
    "\n",
    "assert weekday() == 'Tuesday'\n",
    "assert weekday(0) == 'Sunday'\n",
    "assert weekday(7) == 'Sunday'\n",
    "assert weekday(4) == 'Thursday'"
   ]
  },
  {
   "cell_type": "markdown",
   "metadata": {
    "id": "ZvfEq3NctoOo"
   },
   "source": [
    "## Exercise 7.4: bonus"
   ]
  },
  {
   "cell_type": "markdown",
   "metadata": {
    "id": "8au2fNRutw8i"
   },
   "source": [
    "1. In exercises 7.3.4 and 7.3.5, where you just implemented `month` and `weekday`, your code was likely very similar. How could you implement both functions without repeating yourself? Check your solution with assertions."
   ]
  },
  {
   "cell_type": "code",
   "execution_count": 78,
   "metadata": {
    "executionInfo": {
     "elapsed": 444,
     "status": "ok",
     "timestamp": 1681911460720,
     "user": {
      "displayName": "Luka van der Plas",
      "userId": "16305747382115943293"
     },
     "user_tz": -120
    },
    "id": "JFhOX_Z5uVfC"
   },
   "outputs": [],
   "source": [
    "def make_namer(names, default):\n",
    "    '''\n",
    "    Make a function to give names (months, weekdays, etc) based on a number.\n",
    "\n",
    "    Input:\n",
    "    - A list of names (strings)\n",
    "    - A default input value for the function\n",
    "\n",
    "    Returns a function that takes a number and returns the corresponding name.\n",
    "    1 is the first list in the name, etc.\n",
    "    '''\n",
    "    size = len(names)\n",
    "\n",
    "    def name(number=default):\n",
    "        '''\n",
    "        Gives the name corresponding to a number\n",
    "        '''\n",
    "        if type(number) is not int or number < 0 or number > size:\n",
    "            return None\n",
    "    \n",
    "        index = (number - 1) % size\n",
    "        return names[index]\n",
    "    \n",
    "    return name\n",
    "\n",
    "# now we can make our month and weekday functions based on make_namer\n",
    "\n",
    "current_month = 4\n",
    "months = ['January', 'February', 'March', 'April', 'May', 'June', 'July', 'August', 'September', 'October', 'November', 'December']\n",
    "\n",
    "current_weekday = 2\n",
    "weekdays = ['Monday', 'Tuesday', 'Wednesday', 'Thursday', 'Friday', 'Saturday', 'Sunday']\n",
    "\n",
    "month = make_namer(months, current_month)\n",
    "weekday = make_namer(weekdays, current_weekday)\n",
    "\n",
    "# repeat the assert statements above to show everything still works\n",
    "\n",
    "assert month(3) == 'March'\n",
    "assert month(4) == 'April'\n",
    "assert month(11) == 'November'\n",
    "assert month() == 'April'\n",
    "\n",
    "assert weekday() == 'Tuesday'\n",
    "assert weekday(0) == 'Sunday'\n",
    "assert weekday(7) == 'Sunday'\n",
    "assert weekday(4) == 'Thursday'"
   ]
  },
  {
   "cell_type": "markdown",
   "metadata": {
    "id": "Gx54DrgJuWKg"
   },
   "source": [
    "2. Write a function `create_date_format`, which takes two arguments that determine how a date should be displayed. The first argument is function that transforms a weekday number to a string suitable for display, the second argument is a function that transforms a month number. Both arguments default to just displaying the number as-is. `create_date_format` returns a new function. The latter function takes any date defined by a year, month, day and weekday, and returns a string suitable for displaying that date as a whole."
   ]
  },
  {
   "cell_type": "code",
   "execution_count": 80,
   "metadata": {
    "executionInfo": {
     "elapsed": 9,
     "status": "ok",
     "timestamp": 1681912144802,
     "user": {
      "displayName": "Luka van der Plas",
      "userId": "16305747382115943293"
     },
     "user_tz": -120
    },
    "id": "0KyXFHEWwZ45"
   },
   "outputs": [],
   "source": [
    "# For this code block, you need to have `month` and `weekday`\n",
    "# in your runtime from previous exercises.\n",
    "\n",
    "def create_date_format(weekday_formatter=str, month_formatter=str):\n",
    "    '''\n",
    "    Creates a function that formats dates.\n",
    "\n",
    "    Input:\n",
    "    - weekday_formatter: a function that converts the day of the week (number) to a string\n",
    "    - month_formatter: a function that converts the month (number) to a string\n",
    "\n",
    "    If these functions are not supplied, the month and day are shown as-is.\n",
    "\n",
    "    Output: A function that takes integers for the year, month, day of the\n",
    "    month, and day of the week, and returns a string with the formatted date.\n",
    "    '''\n",
    "\n",
    "    def format_date(year, month, day_of_month, day_of_week):\n",
    "        '''\n",
    "        Format a date in a nice string.\n",
    "        '''\n",
    "\n",
    "        day_string = weekday_formatter(day_of_week)\n",
    "        month_string = month_formatter(month)\n",
    "\n",
    "        nice_string = day_string + ', ' + month_string + ' ' + str(day_of_month) + ', ' + str(year)\n",
    "        return nice_string\n",
    "    \n",
    "    return format_date\n",
    "\n",
    "# Your definition of create_date_format here\n",
    "\n",
    "wordy_format = create_date_format(weekday, month)\n",
    "cryptic_format = create_date_format()\n",
    "\n",
    "assert wordy_format(2023, 4, 11, 2) == 'Tuesday, April 11, 2023'\n",
    "assert cryptic_format(2023, 4, 11, 2) == '2, 4 11, 2023'"
   ]
  },
  {
   "cell_type": "markdown",
   "metadata": {
    "id": "b-p6Ct5_0I-x"
   },
   "source": [
    "## Exercise 7.5: ultimate FizzBuzz (more bonus)\n",
    "\n",
    "1. Write two functions `fizz(number)` and `buzz(number)`. If `number` is divisible by 3, `fizz` should return the string `'Fizz'`; otherwise, it should return the empty string `''`. `buzz` should work like `fizz`, but for divisibility by 5 and the string `'Buzz'`."
   ]
  },
  {
   "cell_type": "code",
   "execution_count": 81,
   "metadata": {
    "executionInfo": {
     "elapsed": 11,
     "status": "ok",
     "timestamp": 1681912282529,
     "user": {
      "displayName": "Luka van der Plas",
      "userId": "16305747382115943293"
     },
     "user_tz": -120
    },
    "id": "407dPPK966R9"
   },
   "outputs": [],
   "source": [
    "# Your solution here\n",
    "\n",
    "def fizz(number):\n",
    "    '''\n",
    "    Returns 'Fizz' if a number is divisible by 3, otherwise the empty string\n",
    "    '''\n",
    "\n",
    "    if number % 3 == 0:\n",
    "        return 'Fizz'\n",
    "    else:\n",
    "        return ''\n",
    "\n",
    "def buzz(number):\n",
    "    '''\n",
    "    Returns 'Buzz' if a number is divisible by 5, otherwise the empty string\n",
    "    '''\n",
    "\n",
    "    if number % 5 == 0:\n",
    "        return 'Buzz'\n",
    "    else:\n",
    "        return ''\n",
    "\n",
    "for number in [1, 2, 4, 5, 7, 8, 10, 11, 13, 14]:\n",
    "    assert fizz(number) == '', str(number) + ' is not divisible by 3'\n",
    "for number in [3, 6, 9, 12, 15, 18, 21, 24, 27]:\n",
    "    assert fizz(number) == 'Fizz', str(number) + ' is divisible by 3'\n",
    "for number in [1, 2, 3, 4, 6, 7, 8, 9, 11, 12, 13, 14]:\n",
    "    assert buzz(number) == '', str(number) + ' is not divisible by 5'\n",
    "for number in [5, 10, 15, 20, 25, 30, 35, 40]:\n",
    "    assert buzz(number) == 'Buzz', str(number) + ' is divisible by 5'"
   ]
  },
  {
   "cell_type": "markdown",
   "metadata": {
    "id": "QCKc52-r9DrX"
   },
   "source": [
    "2. Using your functions `fizz` and `buzz` from step 1, write the function `fizzbuzz(number)`, which implements the well-known rules from before, but with a slight **twist**:\n",
    "    - If the number is divisible by 3 and 5, return `'FizzBuzz'`.\n",
    "    - If the number is divisible by 3 but not by 5, return `'Fizz'`.\n",
    "    - If the number is divisible by 5 but not by 3, return `'Buzz'`.\n",
    "    - In all other cases, return the number itself **as a string**."
   ]
  },
  {
   "cell_type": "code",
   "execution_count": 83,
   "metadata": {
    "executionInfo": {
     "elapsed": 3,
     "status": "ok",
     "timestamp": 1681912437888,
     "user": {
      "displayName": "Luka van der Plas",
      "userId": "16305747382115943293"
     },
     "user_tz": -120
    },
    "id": "NFADyIW3-7qt"
   },
   "outputs": [],
   "source": [
    "# Your solution here\n",
    "\n",
    "def fizzbuzz(number):\n",
    "    '''\n",
    "    Turns a number into a fizzbuzz string.\n",
    "\n",
    "    - If the number is divisible by 3 and 5, returns 'FizzBuzz'.\n",
    "    - If the number is divisible by 3 but not by 5, returns 'Fizz'.\n",
    "    - If the number is divisible by 5 but not by 3, returns 'Buzz'.\n",
    "    - In all other cases, returns the number itself as a string.\n",
    "    '''\n",
    "\n",
    "    fizzbuzzed = fizz(number) + buzz(number)\n",
    "\n",
    "    if fizzbuzzed:\n",
    "        return fizzbuzzed\n",
    "    else:\n",
    "        return str(number)\n",
    "\n",
    "for number in [1, 2, 4, 7, 8, 11, 13, 14]:\n",
    "    assert fizzbuzz(number) == str(number), str(number)\n",
    "for number in [3, 6, 9, 12, 18, 21, 24, 27]:\n",
    "    assert fizzbuzz(number) == 'Fizz', str(number)\n",
    "for number in [5, 10, 20, 25, 35, 40]:\n",
    "    assert fizzbuzz(number) == 'Buzz', str(number)\n",
    "for number in [15, 30, 45, 60, 75]:\n",
    "    assert fizzbuzz(number) == 'FizzBuzz', str(number)"
   ]
  },
  {
   "cell_type": "markdown",
   "metadata": {
    "id": "o_3wq4agCCZH"
   },
   "source": [
    "3. Write a function `chunk10(sequence)` that takes an iterable `sequence` and returns a list of lists: the first sublist contains the first ten elements of `sequence`, the second sublist contains the next ten elements of `sequence`, and so on. You may assume that the number of values in `sequence` is an exact multiple of 10."
   ]
  },
  {
   "cell_type": "code",
   "execution_count": 88,
   "metadata": {
    "executionInfo": {
     "elapsed": 8,
     "status": "ok",
     "timestamp": 1681912825413,
     "user": {
      "displayName": "Luka van der Plas",
      "userId": "16305747382115943293"
     },
     "user_tz": -120
    },
    "id": "4c0A4kMfDdvt"
   },
   "outputs": [],
   "source": [
    "# Your solution here\n",
    "\n",
    "def chunk10(sequence):\n",
    "    '''\n",
    "    Splits a sequence into chunks of 10 elements\n",
    "    '''\n",
    "\n",
    "    items = list(sequence)\n",
    "    chunks = []\n",
    "\n",
    "    for position in range(0, len(sequence), 10):\n",
    "        chunk = items[position: position + 10]\n",
    "        chunks.append(chunk)\n",
    "    \n",
    "    return chunks\n",
    "\n",
    "assert chunk10('Jelte!!!!!') == [list('Jelte!!!!!')]\n",
    "assert chunk10('Hey Julian, let us have lunch!') == [\n",
    "    list('Hey Julian'),\n",
    "    list(', let us h'),\n",
    "    list('ave lunch!'),\n",
    "]\n",
    "assert chunk10(range(20)) == [list(range(10)), list(range(10, 20))]"
   ]
  },
  {
   "cell_type": "markdown",
   "metadata": {
    "id": "HBA4z4yVIhsn"
   },
   "source": [
    "4. In step 1, you may have written definitions for `fizz` and `buzz` that look very similar to each other. Can you think of a way to avoid repeating the common elements?"
   ]
  },
  {
   "cell_type": "code",
   "execution_count": 91,
   "metadata": {
    "executionInfo": {
     "elapsed": 9,
     "status": "ok",
     "timestamp": 1681913046725,
     "user": {
      "displayName": "Luka van der Plas",
      "userId": "16305747382115943293"
     },
     "user_tz": -120
    },
    "id": "5g4BRdpLJLIc"
   },
   "outputs": [],
   "source": [
    "# Your solution here\n",
    "\n",
    "def fizz_or_buzz(number, message='Fizz', denominator=3):\n",
    "    '''\n",
    "    If number is divisible by denominator, return the message. Otherwise, return the empty string.\n",
    "    '''\n",
    "    if number % denominator == 0:\n",
    "        return message\n",
    "    else:\n",
    "        return ''\n",
    "\n",
    "def fizz(number):\n",
    "    return fizz_or_buzz(number)\n",
    "\n",
    "def buzz(number):\n",
    "    return fizz_or_buzz(number, 'Buzz', 5)\n",
    "\n",
    "for number in [1, 2, 4, 5, 7, 8, 10, 11, 13, 14]:\n",
    "    assert fizz(number) == '', str(number) + ' is not divisible by 3'\n",
    "for number in [3, 6, 9, 12, 15, 18, 21, 24, 27]:\n",
    "    assert fizz(number) == 'Fizz', str(number) + ' is divisible by 3'\n",
    "for number in [1, 2, 3, 4, 6, 7, 8, 9, 11, 12, 13, 14]:\n",
    "    assert buzz(number) == '', str(number) + ' is not divisible by 5'\n",
    "for number in [5, 10, 15, 20, 25, 30, 35, 40]:\n",
    "    assert buzz(number) == 'Buzz', str(number) + ' is divisible by 5'"
   ]
  },
  {
   "cell_type": "markdown",
   "metadata": {
    "id": "BXzFYNGmPeO6"
   },
   "source": [
    "5. In exercise 7.1.3, you documented the function `join_commas`. We did not actually need to write that function, because it is built into Python, although it goes by the name `', '.join`. That notation also works with other strings, as we demonstrate below. We also remind you of `map`, which appeared in the lecture.<br><br>\n",
    "Using these functions, as well as your own `fizzbuzz` from step 2 and your own `chunk10` from step 3, try to recreate (roughly) the same `FizzBuzz` output for the numbers 1 through 100 as in [exercise 6.2.4](https://colab.research.google.com/drive/1AZY4ESmsKKMvbalBDLlMrezAM5NzXXxV#scrollTo=uyqbuhKsUlhG), in as little code as you can."
   ]
  },
  {
   "cell_type": "code",
   "execution_count": 92,
   "metadata": {
    "colab": {
     "base_uri": "https://localhost:8080/"
    },
    "executionInfo": {
     "elapsed": 597,
     "status": "ok",
     "timestamp": 1681913126765,
     "user": {
      "displayName": "Luka van der Plas",
      "userId": "16305747382115943293"
     },
     "user_tz": -120
    },
    "id": "nDGUS26IMApD",
    "outputId": "a78e10b9-f6d3-433f-f06c-d78ee65f65e4"
   },
   "outputs": [
    {
     "name": "stdout",
     "output_type": "stream",
     "text": [
      "apricot, banana, cherry\n",
      "apricot\n",
      "banana\n",
      "cherry\n",
      "[0, 1, 2, 3, 4, 5, 6, 7, 8, 9]\n",
      "['0', '1', '2', '3', '4', '5', '6', '7', '8', '9']\n"
     ]
    }
   ],
   "source": [
    "# The following code is just for illustration.\n",
    "# You do not need it in your solution.\n",
    "fruits = ['apricot', 'banana', 'cherry']\n",
    "print(', '.join(fruits))\n",
    "print('\\n'.join(fruits))\n",
    "numbers = list(range(10))\n",
    "print(numbers)\n",
    "strings = map(str, numbers)\n",
    "print(list(strings))"
   ]
  },
  {
   "cell_type": "code",
   "execution_count": 97,
   "metadata": {
    "colab": {
     "base_uri": "https://localhost:8080/"
    },
    "executionInfo": {
     "elapsed": 12,
     "status": "ok",
     "timestamp": 1681913265047,
     "user": {
      "displayName": "Luka van der Plas",
      "userId": "16305747382115943293"
     },
     "user_tz": -120
    },
    "id": "G87eCYM61P3a",
    "outputId": "23e8acb6-b66b-4871-e44a-8d37413bd1dc"
   },
   "outputs": [
    {
     "name": "stdout",
     "output_type": "stream",
     "text": [
      "FizzBuzz, 1, 2, Fizz, 4, Buzz, Fizz, 7, 8, Fizz\n",
      "Buzz, 11, Fizz, 13, 14, FizzBuzz, 16, 17, Fizz, 19\n",
      "Buzz, Fizz, 22, 23, Fizz, Buzz, 26, Fizz, 28, 29\n",
      "FizzBuzz, 31, 32, Fizz, 34, Buzz, Fizz, 37, 38, Fizz\n",
      "Buzz, 41, Fizz, 43, 44, FizzBuzz, 46, 47, Fizz, 49\n",
      "Buzz, Fizz, 52, 53, Fizz, Buzz, 56, Fizz, 58, 59\n",
      "FizzBuzz, 61, 62, Fizz, 64, Buzz, Fizz, 67, 68, Fizz\n",
      "Buzz, 71, Fizz, 73, 74, FizzBuzz, 76, 77, Fizz, 79\n",
      "Buzz, Fizz, 82, 83, Fizz, Buzz, 86, Fizz, 88, 89\n",
      "FizzBuzz, 91, 92, Fizz, 94, Buzz, Fizz, 97, 98, Fizz\n"
     ]
    }
   ],
   "source": [
    "chunks = chunk10(range(100))\n",
    "\n",
    "for chunk in chunks:\n",
    "    fizzbuzzed = map(fizzbuzz, chunk)\n",
    "    print(', '.join(fizzbuzzed))"
   ]
  },
  {
   "cell_type": "markdown",
   "metadata": {
    "id": "Dntbbioh29xm"
   },
   "source": [
    "## Next module\n",
    "\n",
    "[8. Debugging](https://colab.research.google.com/drive/1yQskT6SyKvXtXewx5kCla2NOmasgP8Vi)"
   ]
  }
 ],
 "metadata": {
  "colab": {
   "provenance": [
    {
     "file_id": "1APhegD_KpLRFn5bC6Ater2wFpT8_Opfr",
     "timestamp": 1681904575537
    }
   ],
   "toc_visible": true
  },
  "kernelspec": {
   "display_name": "Python 3",
   "name": "python3"
  },
  "language_info": {
   "codemirror_mode": {
    "name": "ipython",
    "version": 3
   },
   "file_extension": ".py",
   "mimetype": "text/x-python",
   "name": "python",
   "nbconvert_exporter": "python",
   "pygments_lexer": "ipython3",
   "version": "3.10.12"
  }
 },
 "nbformat": 4,
 "nbformat_minor": 0
}
