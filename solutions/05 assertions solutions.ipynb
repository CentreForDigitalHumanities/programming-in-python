{
 "cells": [
  {
   "cell_type": "markdown",
   "metadata": {
    "id": "fqMJHzNk5yXQ"
   },
   "source": [
    "# Module 5: Assertions\n",
    "\n",
    "### Exercise solutions\n",
    "\n",
    "[5. Assertions](https://colab.research.google.com/drive/1ixrL5RCpNhtQN_MtCbpy4E5PYEG1N-qH)\n",
    "\n",
    "### CDH course \"Programming in Python\"\n",
    "\n",
    "[index](https://colab.research.google.com/drive/1YgmnpA7tRylvGBpp2PTFGvSV2P8tw5jl)\n",
    "\n",
    "Previous module: [4. Datastructures](https://colab.research.google.com/drive/1CS9CxET2V1j0FQzy82AWBZZCbc8M_qWt) - [solutions](https://colab.research.google.com/drive/1mf_sQpAVxz8oRbsZnA548cC3TtVaQxmU)"
   ]
  },
  {
   "cell_type": "markdown",
   "metadata": {
    "id": "m_FYfvXbbZXe"
   },
   "source": [
    "## Exercise 5.1: Assertions\n",
    "In each of the code blocks below, try to predict what will be the output, then run the code. If your guess was incorrect, try to figure out why the result is different. If your guess was correct, celebrate!"
   ]
  },
  {
   "cell_type": "code",
   "execution_count": null,
   "metadata": {
    "id": "ztDylwg9biL5"
   },
   "outputs": [],
   "source": [
    "assert True\n",
    "# The assertion passes, so no output!"
   ]
  },
  {
   "cell_type": "code",
   "execution_count": null,
   "metadata": {
    "colab": {
     "base_uri": "https://localhost:8080/",
     "height": 164
    },
    "executionInfo": {
     "elapsed": 45,
     "status": "error",
     "timestamp": 1681309645640,
     "user": {
      "displayName": "Julian Gonggrijp",
      "userId": "06467962548183964912"
     },
     "user_tz": -120
    },
    "id": "0Uk4w2DBbxfD",
    "outputId": "fd5ed9ba-c7ea-488a-b537-a6641517d2c0"
   },
   "outputs": [
    {
     "ename": "AssertionError",
     "evalue": "ignored",
     "output_type": "error",
     "traceback": [
      "\u001b[0;31m---------------------------------------------------------------------------\u001b[0m",
      "\u001b[0;31mAssertionError\u001b[0m                            Traceback (most recent call last)",
      "\u001b[0;32m<ipython-input-1-6343372c267b>\u001b[0m in \u001b[0;36m<cell line: 1>\u001b[0;34m()\u001b[0m\n\u001b[0;32m----> 1\u001b[0;31m \u001b[0;32massert\u001b[0m \u001b[0;32mFalse\u001b[0m\u001b[0;34m,\u001b[0m \u001b[0;34m\"The assertion fails because the value is False\"\u001b[0m\u001b[0;34m\u001b[0m\u001b[0;34m\u001b[0m\u001b[0m\n\u001b[0m",
      "\u001b[0;31mAssertionError\u001b[0m: The assertion fails because the value is False"
     ]
    }
   ],
   "source": [
    "assert False, \"The assertion fails because the value is False\""
   ]
  },
  {
   "cell_type": "code",
   "execution_count": null,
   "metadata": {
    "id": "orOWCpWVbzKf"
   },
   "outputs": [],
   "source": [
    "assert \"True\"\n",
    "\n",
    "# You can think of assert as implicitly wrapping its argument in bool():\n",
    "assert bool(\"True\")\n",
    "# bool() converts anything that looks like \"empty\" or \"nothing\",\n",
    "# such as the integer 0 (zero), None, the empty string and the empty list,\n",
    "# to False, and everything else to True.\n",
    "# Hence, the string \"True\" is converted to the boolean True, the assertion\n",
    "# passes and there is no output."
   ]
  },
  {
   "cell_type": "code",
   "execution_count": null,
   "metadata": {
    "id": "F6NjZ7gOb05u"
   },
   "outputs": [],
   "source": [
    "assert \"False\", \"The assertion fails because the value is False\"\n",
    "# The string \"False\" is nonempty, so bool() converts it to True\n",
    "# (which, yes, is very confusing!). Hence, the assertion passes\n",
    "# and we see no output.\n",
    "\n",
    "# For comparison, the empty string results in a failing assertion:\n",
    "assert bool(\"\"), \"The assertion fails because the value is False\"\n",
    "# while a string with just a space passes:\n",
    "assert bool(\" \"), \"The assertion fails because the value is False\""
   ]
  },
  {
   "cell_type": "code",
   "execution_count": null,
   "metadata": {
    "id": "KB_YkNSIb2KT"
   },
   "outputs": [],
   "source": [
    "assert 1\n",
    "# bool(1) is True, so pass, so no output"
   ]
  },
  {
   "cell_type": "code",
   "execution_count": null,
   "metadata": {
    "id": "1iUK81Nvb3Ri"
   },
   "outputs": [],
   "source": [
    "assert 1 == True, \"The number 1 is not True\"\n",
    "# As we saw in module 2, 1 is indeed the same value as True"
   ]
  },
  {
   "cell_type": "code",
   "execution_count": null,
   "metadata": {
    "colab": {
     "base_uri": "https://localhost:8080/",
     "height": 164
    },
    "executionInfo": {
     "elapsed": 10,
     "status": "error",
     "timestamp": 1681310102072,
     "user": {
      "displayName": "Julian Gonggrijp",
      "userId": "06467962548183964912"
     },
     "user_tz": -120
    },
    "id": "Tje6e-Jgb4rn",
    "outputId": "2ffb1ccc-c2ce-4625-baea-c02403cdf947"
   },
   "outputs": [
    {
     "ename": "AssertionError",
     "evalue": "ignored",
     "output_type": "error",
     "traceback": [
      "\u001b[0;31m---------------------------------------------------------------------------\u001b[0m",
      "\u001b[0;31mAssertionError\u001b[0m                            Traceback (most recent call last)",
      "\u001b[0;32m<ipython-input-8-29403cf677e6>\u001b[0m in \u001b[0;36m<cell line: 1>\u001b[0;34m()\u001b[0m\n\u001b[0;32m----> 1\u001b[0;31m \u001b[0;32massert\u001b[0m \u001b[0;36m0\u001b[0m\u001b[0;34m\u001b[0m\u001b[0;34m\u001b[0m\u001b[0m\n\u001b[0m",
      "\u001b[0;31mAssertionError\u001b[0m: "
     ]
    }
   ],
   "source": [
    "assert 0\n",
    "# bool(0) is False, so fail, so we see an AssertionError.\n",
    "# The AssertionError lacks a description because we did not\n",
    "# provide one."
   ]
  },
  {
   "cell_type": "markdown",
   "metadata": {
    "id": "xgqh3r7Bcj_F"
   },
   "source": [
    "## Exercise 5.2: Bonus - Test-driven development"
   ]
  },
  {
   "cell_type": "markdown",
   "metadata": {
    "id": "TMWSMWg7dQqB"
   },
   "source": [
    "In the code block below, change the value for `b`, and create an expression for `c` using `a` and `b` so that the assert statements succeed.\n"
   ]
  },
  {
   "cell_type": "code",
   "execution_count": null,
   "metadata": {
    "id": "Q_yIUKSRdVjF"
   },
   "outputs": [],
   "source": [
    "# One possible solution\n",
    "a = 12\n",
    "\n",
    "b = 30\n",
    "\n",
    "c = b - a\n",
    "\n",
    "# Another possible solution\n",
    "a = 12\n",
    "\n",
    "b = 24\n",
    "\n",
    "c = (a + b) / 2\n",
    "\n",
    "assert a < b, 'a should be less than b'\n",
    "assert a != b, 'a and b should not be equal'\n",
    "assert c == 18, 'c should be 18'"
   ]
  },
  {
   "cell_type": "markdown",
   "metadata": {
    "id": "1u_bBUpSfQr5"
   },
   "source": [
    "In the code block below, change `students` so that it satisfies the `assert` statements. Also, add messages to the assert statements that explain what they test (in human language)."
   ]
  },
  {
   "cell_type": "code",
   "execution_count": null,
   "metadata": {
    "id": "UOp8NFVOfR6Z"
   },
   "outputs": [],
   "source": [
    "students = ['bert', 'ernie', 'pino']\n",
    "\n",
    "\n",
    "assert len(students) == 3, 'We need three student names'\n",
    "assert students[0] < students[1] < students[2], 'The students must be sorted'"
   ]
  },
  {
   "cell_type": "markdown",
   "metadata": {
    "id": "JaaguG-D3k_i"
   },
   "source": [
    "## Next module\n",
    "\n",
    "[6. Loops](https://colab.research.google.com/drive/14qxBVO9t3w-pFFnMuS_yhggUmM5S0BnZ) - [solutions](https://colab.research.google.com/drive/19mQnQILY7oRREvwUsAD2SmqQHiOffgx_)"
   ]
  }
 ],
 "metadata": {
  "colab": {
   "provenance": [
    {
     "file_id": "1Nv6vgkH2zjJes7LXUCVhsDwFOGCtTbHM",
     "timestamp": 1681202721640
    }
   ],
   "toc_visible": true
  },
  "kernelspec": {
   "display_name": "Python 3",
   "name": "python3"
  },
  "language_info": {
   "name": "python"
  }
 },
 "nbformat": 4,
 "nbformat_minor": 0
}
